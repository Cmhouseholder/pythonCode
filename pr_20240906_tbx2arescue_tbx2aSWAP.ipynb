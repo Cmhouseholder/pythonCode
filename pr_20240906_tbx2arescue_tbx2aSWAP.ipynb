{
 "cells": [
  {
   "cell_type": "markdown",
   "metadata": {},
   "source": [
    "# Photoreceptor segmentation using [napari](https://napari.org/) and [cellpose](https://cellpose-napari.readthedocs.io/en/latest/index.html)"
   ]
  },
  {
   "cell_type": "markdown",
   "metadata": {},
   "source": [
    "### Basic usage:\n",
    "```python\n",
    "viewer = napari.Viewer()\n",
    "nbscreenshot(viewer)\n",
    "viewer.close()\n",
    "```\n",
    "\n",
    "example notebooks [here](https://github.com/sofroniewn/napari-training-course/blob/master/lessons/)"
   ]
  },
  {
   "cell_type": "code",
   "execution_count": 2,
   "metadata": {
    "tags": []
   },
   "outputs": [
    {
     "ename": "ModuleNotFoundError",
     "evalue": "No module named 'cellpose'",
     "output_type": "error",
     "traceback": [
      "\u001b[1;31m---------------------------------------------------------------------------\u001b[0m",
      "\u001b[1;31mModuleNotFoundError\u001b[0m                       Traceback (most recent call last)",
      "Cell \u001b[1;32mIn[2], line 4\u001b[0m\n\u001b[0;32m      1\u001b[0m \u001b[38;5;66;03m# !mamba install -c conda-forge devbio-napari --yes\u001b[39;00m\n\u001b[0;32m      2\u001b[0m \u001b[38;5;66;03m# !jupyter labextension list\u001b[39;00m\n\u001b[0;32m      3\u001b[0m \u001b[38;5;66;03m# !mamba install -c conda-forge cellpose-napari --yes\u001b[39;00m\n\u001b[1;32m----> 4\u001b[0m \u001b[38;5;28;01mfrom\u001b[39;00m \u001b[38;5;21;01mcellpose\u001b[39;00m \u001b[38;5;28;01mimport\u001b[39;00m models\n",
      "\u001b[1;31mModuleNotFoundError\u001b[0m: No module named 'cellpose'"
     ]
    }
   ],
   "source": [
    "# !mamba install -c conda-forge devbio-napari --yes\n",
    "# !jupyter labextension list\n",
    "# !mamba install -c conda-forge cellpose-napari --yes\n",
    "# from cellpose import models"
   ]
  },
  {
   "cell_type": "code",
   "execution_count": 1,
   "metadata": {
    "tags": []
   },
   "outputs": [
    {
     "data": {
      "application/vnd.jupyter.widget-view+json": {
       "model_id": "ac96def78071458a83e611cda603534b",
       "version_major": 2,
       "version_minor": 0
      },
      "text/plain": [
       "VBox(children=(Label(value='Select plotting style', layout=Layout(height='30px', width='20%')), Dropdown(index…"
      ]
     },
     "execution_count": 1,
     "metadata": {},
     "output_type": "execute_result"
    }
   ],
   "source": [
    "# image analysis\n",
    "import napari\n",
    "from magicgui import magicgui\n",
    "from enum import Enum\n",
    "import cellpose_napari\n",
    "import cellpose\n",
    "from cellpose import models\n",
    "from tifffile import imread\n",
    "import napari_nikon_nd2\n",
    "from skimage.io import imread\n",
    "from magicgui import magicgui\n",
    "# python basics and plotting\n",
    "import numpy as np\n",
    "import pandas as pd\n",
    "import math\n",
    "from scipy import ndimage\n",
    "from scipy.stats import kruskal\n",
    "from scipy.stats import zscore\n",
    "from scipy.stats import sem\n",
    "import scikit_posthocs\n",
    "import scipy.spatial\n",
    "import matplotlib\n",
    "import matplotlib.pyplot as plt\n",
    "import matplotlib.font_manager as font_manager\n",
    "import svgutils\n",
    "from svgutils.compose import *\n",
    "# system interaction\n",
    "import os.path\n",
    "import time, sys, warnings, re\n",
    "from tqdm.notebook import tqdm, trange\n",
    "import importlib\n",
    "import ipywidgets\n",
    "from IPython.display import display\n",
    "# lab brews\n",
    "from plotParams import *\n",
    "from lloyd import *\n",
    "\n",
    "\n",
    "def getFileList(dirData,gene,fileNameMatch,addDetails=''):\n",
    "   fileList = sorted([f for f in os.listdir(dirData) if not f.startswith('.')]) # get all the files in the data directory (excluding system files) and sort them alphabatically\n",
    "   fileList = ([f for f in fileList if gene in f]) # select files that match the gene of interest\n",
    "   fileList = ([f for f in fileList if any([s in f for s in fileNameMatch])]) # only keep relevant files\n",
    "   if (addDetails=='path'):\n",
    "      fileList = (['# filePath = \\'' + f for f in fileList]) # add text before each file\n",
    "      fileList = list(map(lambda st: str.replace(st, '.nd2', '\\'; gene = \\'' + gene + '\\'; '), fileList)) #remove file extension (.nd2) and add text after each file\n",
    "   elif (addDetails=='list'):\n",
    "      fileList = (['\\'' + f for f in fileList]) # add text before each file\n",
    "      fileList = list(map(lambda st: str.replace(st, '.nd2', '\\','), fileList)) #remove file extension (.nd2) and add text after each file\n",
    "   else:\n",
    "      fileList = list(map(lambda st: str.replace(st, '.nd2', ''), fileList)) #remove file extension (.nd2) and add text after each file\n",
    "   return fileList\n",
    "\n",
    "\n",
    "pBGMenu = ipywidgets.Dropdown(options=['Light', 'Dark'],value='Dark',disabled=False, layout=ipywidgets.Layout(width='20%', height='40px'))\n",
    "pBGLabel = ipywidgets.widgets.Label('Select plotting style', layout=ipywidgets.Layout(width='20%', height='30px'))\n",
    "pBG = ipywidgets.widgets.VBox([pBGLabel,pBGMenu])\n",
    "pBG"
   ]
  },
  {
   "cell_type": "code",
   "execution_count": 2,
   "metadata": {
    "tags": []
   },
   "outputs": [
    {
     "name": "stdout",
     "output_type": "stream",
     "text": [
      "Plotting style is Dark\n"
     ]
    },
    {
     "name": "stderr",
     "output_type": "stream",
     "text": [
      "WARNING: QWindowsWindow::setGeometry: Unable to set geometry 1920x1108+0+34 (frame: 1942x1164-11-11) on QWidgetWindow/\"_QtMainWindowClassWindow\" on \"\\\\.\\DISPLAY1\". Resulting geometry: 1920x1102+0+34 (frame: 1942x1158-11-11) margins: 11, 45, 11, 11 minimum size: 374x551 MINMAXINFO maxSize=0,0 maxpos=0,0 mintrack=770,1158 maxtrack=0,0)\n"
     ]
    }
   ],
   "source": [
    "applyPlotStyle(pBGMenu.value)\n",
    "viewer = napari.Viewer()"
   ]
  },
  {
   "cell_type": "code",
   "execution_count": 32,
   "metadata": {
    "tags": []
   },
   "outputs": [],
   "source": [
    "viewer = napari.Viewer()"
   ]
  },
  {
   "cell_type": "code",
   "execution_count": 138,
   "metadata": {
    "tags": []
   },
   "outputs": [],
   "source": [
    "viewer.close()"
   ]
  },
  {
   "cell_type": "markdown",
   "metadata": {},
   "source": [
    "***\n",
    "# Index <a id='Index'></a>\n",
    "***\n",
    "- [define directories](#dirDef)\n",
    "- [Extraction of z planes for analysis](#zExtract)\n",
    "- [Segmentation with cellpose](#cellSeg)\n",
    "- [Manual correction of segmentation](#manualCuration)\n",
    "- [Create thumbnails _WIP_](#thumbnails)\n",
    "- [Quantification](#quantification)"
   ]
  },
  {
   "cell_type": "markdown",
   "metadata": {
    "tags": []
   },
   "source": [
    "***\n",
    "## Define directories<a id='dirDefdirDef'>∮</a>\n",
    "***\n",
    "[Back to Index](#Index)"
   ]
  },
  {
   "cell_type": "code",
   "execution_count": 3,
   "metadata": {
    "tags": []
   },
   "outputs": [],
   "source": [
    "# define where all the imaging data is stored\n",
    "dirData = 'E:/Imaging/AXR/20240906_tbx2arescue_tbx2aSWAP/'\n",
    "# define where all the analysis files should be stored\n",
    "# subdirectories for each gene and transgenic lines need to be manually made first\n",
    "dirAnalysis = 'E:/Analysis/F0tbx2arescue_F0tbx2aSWAP_20240906/xOGs1C/'"
   ]
  },
  {
   "cell_type": "code",
   "execution_count": 4,
   "metadata": {
    "tags": []
   },
   "outputs": [
    {
     "name": "stdout",
     "output_type": "stream",
     "text": [
      "# filePath = '20240906_Tbx2aHETinx_5dpf_s1c_xOG_inj2Arescue_falou_L01_004'; gene = 'inj2Arescue'; \n",
      "# filePath = '20240906_Tbx2aHETinx_5dpf_s1c_xOG_inj2Arescue_falou_L02_002'; gene = 'inj2Arescue'; \n",
      "# filePath = '20240906_Tbx2aHETinx_5dpf_s1c_xOG_inj2Arescue_falou_L02_004'; gene = 'inj2Arescue'; \n",
      "# filePath = '20240906_Tbx2aHETinx_5dpf_s1c_xOG_inj2Arescue_falou_L03_002'; gene = 'inj2Arescue'; \n",
      "# filePath = '20240906_Tbx2aHETinx_5dpf_s1c_xOG_inj2Arescue_falou_L04_002'; gene = 'inj2Arescue'; \n",
      "# filePath = '20240906_Tbx2aHETinx_5dpf_s1c_xOG_inj2Arescue_falou_L04_004'; gene = 'inj2Arescue'; \n",
      "# filePath = '20240906_Tbx2aHETinx_5dpf_s1c_xOG_inj2Arescue_falou_L05_002'; gene = 'inj2Arescue'; \n",
      "# filePath = '20240906_Tbx2aHETinx_5dpf_s1c_xOG_inj2Arescue_falou_L05_004'; gene = 'inj2Arescue'; \n",
      "# filePath = '20240906_Tbx2aHETinx_5dpf_s1c_xOG_inj2Arescue_falou_L06_002'; gene = 'inj2Arescue'; \n",
      "# filePath = '20240906_Tbx2aHETinx_5dpf_s1c_xOG_inj2Arescue_falou_L06_004'; gene = 'inj2Arescue'; \n",
      "# filePath = '20240906_Tbx2aHETinx_5dpf_s1c_xOG_inj2Arescue_nalou_L01_002'; gene = 'inj2Arescue'; \n",
      "# filePath = '20240906_Tbx2aHETinx_5dpf_s1c_xOG_inj2Arescue_nalou_L02_002'; gene = 'inj2Arescue'; \n",
      "# filePath = '20240906_Tbx2aHETinx_5dpf_s1c_xOG_inj2Arescue_nalou_L03_002'; gene = 'inj2Arescue'; \n",
      "# filePath = '20240906_Tbx2aHETinx_5dpf_s1c_xOG_inj2Arescue_nalou_L04_002'; gene = 'inj2Arescue'; \n",
      "# filePath = '20240906_Tbx2aHETinx_5dpf_s1c_xOG_inj2Arescue_nalou_L05_002'; gene = 'inj2Arescue'; \n",
      "# filePath = '20240906_Tbx2aHETinx_5dpf_s1c_xOG_inj2Arescue_nalou_L05_004'; gene = 'inj2Arescue'; \n",
      "# filePath = '20240906_Tbx2aHETinx_5dpf_s1c_xOG_inj2Arescue_nalou_L06_004'; gene = 'inj2Arescue'; \n",
      "# filePath = '20240906_Tbx2aHETinx_5dpf_s1c_xOG_inj2Arescue_nalou_L06_004_mip'; gene = 'inj2Arescue'; \n",
      "# filePath = '20240906_Tbx2aHETinx_5dpf_s1c_xOG_inj2Arescue_nalou_L07_002'; gene = 'inj2Arescue'; \n",
      "# filePath = '20240906_Tbx2aHETinx_5dpf_s1c_xOG_inj2Arescue_nalou_L07_004'; gene = 'inj2Arescue'; \n"
     ]
    }
   ],
   "source": [
    "gene = 'inj2Arescue' # usually 'wt' or gene of interest (e.g. 'tbx2a', 'lhx1a')\n",
    "# gene = 'lhx1a' # usually 'wt' or gene of interest (e.g. 'tbx2a', 'lhx1a')\n",
    "fileNameMatch = ['002','004'] # characters in filenames that define zoom-in files\n",
    "\n",
    "# get a list with all the relevant files\n",
    "print(*getFileList(dirData,gene,fileNameMatch,addDetails='path'), sep = \"\\n\") #display the file list for copy and paste below"
   ]
  },
  {
   "cell_type": "markdown",
   "metadata": {
    "tags": []
   },
   "source": [
    "***\n",
    "## Extract layers from z-stacks<a id='zExtract'>∮</a>\n",
    "> Open z-stack &rarr; Pick limits in z for Maximum-Intensity Projection (_MIP_) &rarr; save MIPs &rarr; Ensure image was located in central retina\n",
    "***\n",
    "[Back to Index](#Index)"
   ]
  },
  {
   "cell_type": "code",
   "execution_count": 14,
   "metadata": {
    "tags": []
   },
   "outputs": [],
   "source": [
    "# clear viewer if needed\n",
    "viewer.layers.select_all()\n",
    "viewer.layers.remove_selected()"
   ]
  },
  {
   "cell_type": "code",
   "execution_count": 5,
   "metadata": {
    "tags": []
   },
   "outputs": [
    {
     "name": "stdout",
     "output_type": "stream",
     "text": [
      "Canvas cleared. Loading data...\n",
      "\n",
      "\n",
      "Images loaded!\n"
     ]
    },
    {
     "name": "stderr",
     "output_type": "stream",
     "text": [
      "WARNING: QWindowsWindow::setGeometry: Unable to set geometry 1920x1112-1920+44 (frame: 1942x1168-1931-1) on QWidgetWindow/\"_QtMainWindowClassWindow\" on \"\\\\.\\DISPLAY1\". Resulting geometry: 1920x1046-1920+44 (frame: 1942x1102-1931-1) margins: 11, 45, 11, 11 minimum size: 426x556 MINMAXINFO maxSize=0,0 maxpos=0,0 mintrack=874,1168 maxtrack=0,0)\n"
     ]
    }
   ],
   "source": [
    "# clear viewer before any loading\n",
    "viewer.layers.select_all()\n",
    "viewer.layers.remove_selected()\n",
    "\n",
    "# open files one by one (by commenting and uncommenting each one)\n",
    "\n",
    "#Uninjected\n",
    "filePath = '20240906_Tbx2aHETinx_5dpf_s1c_xOG_Uninj_WT_ActualL02_002'; gene = 'Uninj'; zlims = [27,29];\n",
    "# filePath = '20240906_Tbx2aHETinx_5dpf_s1c_xOG_Uninj_WT_L01_002'; gene = 'Uninj'; #omit?\n",
    "# filePath = '20240906_Tbx2aHETinx_5dpf_s1c_xOG_Uninj_WT_L02_002'; gene = 'Uninj'; zlims = [10,22]; #eyemarks not saved - looks like mutant\n",
    "# filePath = '20240906_Tbx2aHETinx_5dpf_s1c_xOG_Uninj_WT_L04_002'; gene = 'Uninj'; zlims = [27,29]; #eye marks not saved. \n",
    "# filePath = '20240906_Tbx2aHETinx_5dpf_s1c_xOG_Uninj_WT_L05_002'; gene = 'Uninj'; zlims = [18,20]; #no rods\n",
    "# filePath = '20240906_Tbx2aHETinx_5dpf_s1c_xOG_Uninj_WT_L06_002'; gene = 'Uninj'; zlims = [16,19]; #looks mutant\n",
    "# filePath = '20240906_Tbx2aHETinx_5dpf_s1c_xOG_Uninj_WT_L06_004'; gene = 'Uninj'; zlims = [27,30];\n",
    "# filePath = '20240906_Tbx2aHETinx_5dpf_s1c_xOG_Uninj_nalou_L02_002'; gene = 'Uninj'; zlims = [12,20];\n",
    "# filePath = '20240906_Tbx2aHETinx_5dpf_s1c_xOG_Uninj_nalou_L03_004'; gene = 'Uninj'; zlims = [19,24];\n",
    "# filePath = '20240906_Tbx2aHETinx_5dpf_s1c_xOG_Uninj_nalou_L04_002'; gene = 'Uninj'; zlims = [11,17];\n",
    "# filePath = '20240906_Tbx2aHETinx_5dpf_s1c_xOG_Uninj_nalou_L05_002'; gene = 'Uninj'; zlims = [24,32];\n",
    "# filePath = '20240906_Tbx2aHETinx_5dpf_s1c_xOG_Uninj_nalou_L05_004'; gene = 'Uninj'; zlims = [6,21];\n",
    "# filePath = '20240906_Tbx2aHETinx_5dpf_s1c_xOG_Uninj_nalou_L06_002'; gene = 'Uninj'; zlims = [21,28];\n",
    "# filePath = '20240906_Tbx2aHETinx_5dpf_s1c_xOG_Uninj_nalou_L06_004'; gene = 'Uninj'; zlims = [5,15];\n",
    "# filePath = '20240906_Tbx2aHETinx_5dpf_s1c_xOG_Uninj_nalou_L07_002'; gene = 'Uninj'; zlims = [16,25];\n",
    "# filePath = '20240906_Tbx2aHETinx_5dpf_s1c_xOG_Uninj_nalou_L07_004'; gene = 'Uninj'; #OMIT TOO CURVED \n",
    "# filePath = '20240906_Tbx2aHETinx_5dpf_s1c_xOG_Uninj_nalou_L08_002'; gene = 'Uninj'; zlims = [42,45];\n",
    "\n",
    "\n",
    "#Injected RESCUE\n",
    "# filePath = '20240906_Tbx2aHETinx_5dpf_s1c_xOG_inj2Arescue_falou_L01_004'; gene = 'inj2Arescue'; zlims = [15,35];\n",
    "# filePath = '20240906_Tbx2aHETinx_5dpf_s1c_xOG_inj2Arescue_falou_L02_002'; gene = 'inj2Arescue'; zlims = [22,29];\n",
    "# filePath = '20240906_Tbx2aHETinx_5dpf_s1c_xOG_inj2Arescue_falou_L02_004'; gene = 'inj2Arescue'; zlims = [28,33];\n",
    "# filePath = '20240906_Tbx2aHETinx_5dpf_s1c_xOG_inj2Arescue_falou_L03_002'; gene = 'inj2Arescue'; zlims = [24,30];\n",
    "# filePath = '20240906_Tbx2aHETinx_5dpf_s1c_xOG_inj2Arescue_falou_L04_002'; gene = 'inj2Arescue'; zlims = [22,27];\n",
    "# filePath = '20240906_Tbx2aHETinx_5dpf_s1c_xOG_inj2Arescue_falou_L04_004'; gene = 'inj2Arescue'; zlims = [16,29];\n",
    "# filePath = '20240906_Tbx2aHETinx_5dpf_s1c_xOG_inj2Arescue_falou_L05_002'; gene = 'inj2Arescue'; zlims = [17,19];\n",
    "# filePath = '20240906_Tbx2aHETinx_5dpf_s1c_xOG_inj2Arescue_falou_L05_004'; gene = 'inj2Arescue'; zlims = [14,30];\n",
    "# filePath = '20240906_Tbx2aHETinx_5dpf_s1c_xOG_inj2Arescue_falou_L06_002'; gene = 'inj2Arescue'; zlims = [18,29]; #did not define eye marks\n",
    "# filePath = '20240906_Tbx2aHETinx_5dpf_s1c_xOG_inj2Arescue_falou_L06_004'; gene = 'inj2Arescue'; zlims = [16,25]; #no eye mips\n",
    "# filePath = '20240906_Tbx2aHETinx_5dpf_s1c_xOG_inj2Arescue_nalou_L01_002'; gene = 'inj2Arescue'; zlims = [4,12];\n",
    "# filePath = '20240906_Tbx2aHETinx_5dpf_s1c_xOG_inj2Arescue_nalou_L02_002'; gene = 'inj2Arescue'; zlims = [14,24];\n",
    "# filePath = '20240906_Tbx2aHETinx_5dpf_s1c_xOG_inj2Arescue_nalou_L03_002'; gene = 'inj2Arescue'; zlims = [14,29];\n",
    "# filePath = '20240906_Tbx2aHETinx_5dpf_s1c_xOG_inj2Arescue_nalou_L04_002'; gene = 'inj2Arescue'; zlims = [15,17]; #no rods\n",
    "# filePath = '20240906_Tbx2aHETinx_5dpf_s1c_xOG_inj2Arescue_nalou_L05_002'; gene = 'inj2Arescue'; zlims = [28,34];\n",
    "# filePath = '20240906_Tbx2aHETinx_5dpf_s1c_xOG_inj2Arescue_nalou_L05_004'; gene = 'inj2Arescue'; zlims = [25,27];\n",
    "# filePath = '20240906_Tbx2aHETinx_5dpf_s1c_xOG_inj2Arescue_nalou_L06_004'; gene = 'inj2Arescue'; #not a zoom in SKIP\n",
    "# filePath = '20240906_Tbx2aHETinx_5dpf_s1c_xOG_inj2Arescue_nalou_L06_004_mip'; gene = 'inj2Arescue'; #NOT ZOOM IN OMIT\n",
    "# filePath = '20240906_Tbx2aHETinx_5dpf_s1c_xOG_inj2Arescue_nalou_L07_002'; gene = 'inj2Arescue'; zlims = [20,24];\n",
    "# filePath = '20240906_Tbx2aHETinx_5dpf_s1c_xOG_inj2Arescue_nalou_L07_004'; gene = 'inj2Arescue'; vzlims = [18,40]; # CURVED\n",
    "\n",
    "#Injected SWAP\n",
    "# filePath = '20240906_Tbx2aHETinx_5dpf_s1c_xOG_inj2ASWAP_falou_L02_002'; gene = 'inj2ASWAP'; zlims = [18,20];\n",
    "# filePath = '20240906_Tbx2aHETinx_5dpf_s1c_xOG_inj2ASWAP_falou_L03_002'; gene = 'inj2ASWAP'; zlims = [18,20];\n",
    "# filePath = '20240906_Tbx2aHETinx_5dpf_s1c_xOG_inj2ASWAP_falou_L03_004'; gene = 'inj2ASWAP'; zlims = [21,24];\n",
    "# filePath = '20240906_Tbx2aHETinx_5dpf_s1c_xOG_inj2ASWAP_falou_L05_004'; gene = 'inj2ASWAP'; zlims = [13,20];\n",
    "# filePath = '20240906_Tbx2aHETinx_5dpf_s1c_xOG_inj2ASWAP_falou_L06_002'; gene = 'inj2ASWAP'; zlims = [17,20];\n",
    "# filePath = '20240906_Tbx2aHETinx_5dpf_s1c_xOG_inj2ASWAP_falou_L06_004'; gene = 'inj2ASWAP'; zlims = [23,25];\n",
    "# filePath = '20240906_Tbx2aHETinx_5dpf_s1c_xOG_inj2ASWAP_falou_L07_002'; gene = 'inj2ASWAP'; zlims = [7,19];\n",
    "# filePath = '20240906_Tbx2aHETinx_5dpf_s1c_xOG_inj2ASWAP_falou_L07_004'; gene = 'inj2ASWAP'; zlims = [20,22];\n",
    "# filePath = '20240906_Tbx2aHETinx_5dpf_s1c_xOG_inj2ASWAP_nalou_L01_002'; gene = 'inj2ASWAP'; #NOT A ZOOM IN EXCLUDE \n",
    "# filePath = '20240906_Tbx2aHETinx_5dpf_s1c_xOG_inj2ASWAP_nalou_L01_002_mip'; gene = 'inj2ASWAP'; #NOT ZOOM IN EXCLUDE\n",
    "# filePath = '20240906_Tbx2aHETinx_5dpf_s1c_xOG_inj2ASWAP_nalou_L01_004'; gene = 'inj2ASWAP';# EXCLUDE SAME HERE\n",
    "# filePath = '20240906_Tbx2aHETinx_5dpf_s1c_xOG_inj2ASWAP_nalou_L02_002'; gene = 'inj2ASWAP'; zlims = [18,20];\n",
    "# filePath = '20240906_Tbx2aHETinx_5dpf_s1c_xOG_inj2ASWAP_nalou_L02_004'; gene = 'inj2ASWAP'; zlims = [5,12];\n",
    "# filePath = '20240906_Tbx2aHETinx_5dpf_s1c_xOG_inj2ASWAP_nalou_L03_002'; gene = 'inj2ASWAP'; zlims = [15,18];\n",
    "# filePath = '20240906_Tbx2aHETinx_5dpf_s1c_xOG_inj2ASWAP_nalou_L03_004'; gene = 'inj2ASWAP'; zlims = [23,28];\n",
    "# filePath = '20240906_Tbx2aHETinx_5dpf_s1c_xOG_inj2ASWAP_nalou_L04_004'; gene = 'inj2ASWAP'; zlims = [5,6];\n",
    "# filePath = '20240906_Tbx2aHETinx_5dpf_s1c_xOG_inj2ASWAP_nalou_L05_002'; gene = 'inj2ASWAP'; zlims = [19,21];\n",
    "# filePath = '20240906_Tbx2aHETinx_5dpf_s1c_xOG_inj2ASWAP_nalou_L05_004'; gene = 'inj2ASWAP'; zlims = [18,24];\n",
    "\n",
    "layerNames = ['R', 'U', 'N']\n",
    "# layerNames = ['N', 'U']\n",
    "\n",
    "# create subdirectory for analysis output\n",
    "dirOut = dirAnalysis + gene + '/' + filePath + '/'\n",
    "if (os.path.isdir(dirOut)==False):\n",
    "   os.mkdir(dirOut)\n",
    "   print('Created output directory')\n",
    "\n",
    "print('Canvas cleared. Loading data...\\n\\n')\n",
    "\n",
    "# load whole stack to figure out best z-planes for cellpose\n",
    "viewer.open((dirData+filePath + '.nd2'), plugin='napari-nikon-nd2')\n",
    "viewer.layers.remove(viewer.layers[len(viewer.layers)-1]) # remove transmitted detector image\n",
    "viewer.layers.select_next();\n",
    "if len(viewer.layers)==2: #no DAPI\n",
    "   nChannels = 2\n",
    "   viewer.layers[0].colormap = 'green'\n",
    "   viewer.layers[0].name = layerNames[0]\n",
    "   viewer.layers[1].colormap = 'magenta'\n",
    "   viewer.layers[1].name = layerNames[1]\n",
    "elif len(viewer.layers)==3: #DAPI\n",
    "   nChannels = 3\n",
    "   viewer.layers[0].colormap = 'gray'\n",
    "   viewer.layers[0].name = 'N'\n",
    "   viewer.layers[0].opacity = 0.99\n",
    "   viewer.layers[1].colormap = 'green'\n",
    "   viewer.layers[1].name = layerNames[0]\n",
    "   viewer.layers[2].colormap = 'magenta'\n",
    "   viewer.layers[2].name = layerNames[1]\n",
    "   layerNames.append('N')\n",
    "elif len(viewer.layers)==4: #DAPI\n",
    "   nChannels = 4\n",
    "   viewer.layers[0].colormap = 'gray'\n",
    "   viewer.layers[0].name = 'N'\n",
    "   viewer.layers[0].opacity = 0.99\n",
    "   viewer.layers[1].colormap = 'green'\n",
    "   viewer.layers[1].name = layerNames[0]\n",
    "   viewer.layers[2].colormap = 'magenta'\n",
    "   viewer.layers[2].name = layerNames[1]\n",
    "   viewer.layers[3].colormap = 'bop orange'\n",
    "   viewer.layers[3].name = layerNames[2]\n",
    "   layerNames.append('N')\n",
    "\n",
    "print('Images loaded!')"
   ]
  },
  {
   "cell_type": "code",
   "execution_count": 157,
   "metadata": {
    "tags": []
   },
   "outputs": [],
   "source": [
    "# make mips (and remove any previous ones) by defining the z-limits to use\n",
    "zlims = [18,24];\n",
    "if len(viewer.layers)>nChannels:\n",
    "    for l in viewer.layers[nChannels:]:\n",
    "      viewer.layers.remove(l)\n",
    "\n",
    "for l in viewer.layers[0:nChannels]:\n",
    "    l.visible = False\n",
    "    # viewer.layers.remove(l.name + '_mip')\n",
    "    viewer.add_image(l.data[zlims[0]:zlims[1]].max(axis=0), blending='additive', colormap = l.colormap, name = l.name + \"_mip\")"
   ]
  },
  {
   "cell_type": "code",
   "execution_count": 158,
   "metadata": {
    "tags": []
   },
   "outputs": [
    {
     "name": "stdout",
     "output_type": "stream",
     "text": [
      "MIP layers saved for 20240906_Tbx2aHETinx_5dpf_s1c_xOG_inj2ASWAP_nalou_L05_004\n"
     ]
    }
   ],
   "source": [
    "# SAVE in folder for batch cellpose analysis (when mips look good)\n",
    "for name in layerNames:\n",
    "   l = viewer.layers[name + '_mip']; l.save(dirOut + l.name + '.tiff')\n",
    "print('MIP layers saved for ' + filePath)"
   ]
  },
  {
   "cell_type": "markdown",
   "metadata": {},
   "source": [
    "### Establish landmarks in whole-eye MIP\n",
    "- Use eyeMarks layer to mark:\n",
    "    - [ ] Landmark #1: Center of FOV (where zoom in is centered)\n",
    "    - [ ] Landmark #2: Center of Optic Nerve Head \n",
    "    - [ ] Landmark #3: Dorsal edge of eye\n",
    "    - [ ] Landmark #4: Ventral edge of eye\n",
    "    - [ ] Landmark #5: Temporal edge of eye (strike zone side)\n",
    "    - [ ] Landmark #6: Nasal edge of eye\n",
    "- Decide if stack should be excluded (and stop analysis here and make note in csv summary file)"
   ]
  },
  {
   "cell_type": "code",
   "execution_count": 159,
   "metadata": {
    "tags": []
   },
   "outputs": [
    {
     "name": "stdout",
     "output_type": "stream",
     "text": [
      "Loading eye mip...\n",
      "2\n",
      "Loaded: 20240906_Tbx2aHETinx_5dpf_s1c_xOG_inj2ASWAP_nalou_L05_004\n",
      "Make 6 landmark points then click button to save\n"
     ]
    },
    {
     "data": {
      "application/vnd.jupyter.widget-view+json": {
       "model_id": "239d53fe5e754021817a32a802846a27",
       "version_major": 2,
       "version_minor": 0
      },
      "text/plain": [
       "VBox(children=(Button(description='Save eyeMarks', layout=Layout(height='100px', width='200px'), style=ButtonS…"
      ]
     },
     "execution_count": 159,
     "metadata": {},
     "output_type": "execute_result"
    }
   ],
   "source": [
    "nMIP = len(layerNames)\n",
    "for name in layerNames:\n",
    "   lName = name + \"_mip\"\n",
    "   viewer.layers[lName].scale = [1.5/8,1.5/8];\n",
    "   viewer.layers[lName].translate = [0,+(512-1024*1.5/(8*2))]\n",
    "\n",
    "# Load whole-eye MIP to establish landmarks\n",
    "print('Loading eye mip...')\n",
    "if str.endswith(filePath,'002'):\n",
    "    mipPath = filePath[:-1] + '1_mip';\n",
    "elif str.endswith(filePath,'004'):\n",
    "    mipPath = filePath[:-1] + '3_mip';\n",
    "elif str.endswith(filePath,'b'):\n",
    "    mipPath = filePath[:-1] + 'a_mip';\n",
    "elif str.endswith(filePath,'d'):\n",
    "    mipPath = filePath[:-1] + 'c_mip';\n",
    "viewer.open((dirData+mipPath + '.nd2'), plugin='napari-nikon-nd2', blending='additive')\n",
    "\n",
    "viewer.layers.remove(viewer.layers[len(viewer.layers)-1]) # remove transmitted detector image\n",
    "viewer.layers.select_next();\n",
    "eyeChannels = 0\n",
    "if len(viewer.layers)==2+nMIP+nChannels: # no DAPI, GFP and RFP\n",
    "   eyeChannels = 2\n",
    "   viewer.layers[nMIP+nChannels].colormap = 'green'\n",
    "   viewer.layers[nMIP+nChannels].name = 'eyeGreen'\n",
    "   viewer.layers[nMIP+nChannels+1].colormap = 'magenta'\n",
    "   viewer.layers[nMIP+nChannels+1].name = 'eyeRed'\n",
    "elif len(viewer.layers)==3+nMIP+nChannels: # leave DIC\n",
    "   eyeChannels = 3\n",
    "   viewer.layers[nMIP+nChannels+0].colormap = 'green'\n",
    "   viewer.layers[nMIP+nChannels+0].name = 'eyeGreen'\n",
    "   viewer.layers[nMIP+nChannels+1].colormap = 'magenta'\n",
    "   viewer.layers[nMIP+nChannels+1].name = 'eyeRed'\n",
    "   viewer.layers[nMIP+nChannels+2].colormap = 'gray'\n",
    "   viewer.layers[nMIP+nChannels+2].name = 'eyeBlue'\n",
    "   viewer.layers[nMIP+nChannels+2].opacity = 0.33\n",
    "elif len(viewer.layers)==4+nMIP+nChannels: #DIC + DAPI\n",
    "   eyeChannels = 4\n",
    "   viewer.layers[nMIP+nChannels+0].colormap = 'gray'\n",
    "   viewer.layers[nMIP+nChannels+0].name = 'eyeBlue'\n",
    "   viewer.layers[nMIP+nChannels+1].colormap = 'green'\n",
    "   viewer.layers[nMIP+nChannels+1].name = 'eyeGreen'\n",
    "   viewer.layers[nMIP+nChannels+2].colormap = 'magenta'\n",
    "   viewer.layers[nMIP+nChannels+2].name = 'eyeRed'\n",
    "   viewer.layers[nMIP+nChannels+3].colormap = 'bop orange'\n",
    "   viewer.layers[nMIP+nChannels+3].name = 'eyePNA'\n",
    "   viewer.layers[nMIP+nChannels+3].opacity = 0.33\n",
    "print(eyeChannels)\n",
    "print('Loaded: ' + filePath)\n",
    "eyeMarks = viewer.add_points(size=20, name = 'eyeMarks', symbol='cross', face_color='#ffffff80')\n",
    "viewer.layers.select_next();\n",
    "\n",
    "# Save eye landmarks\n",
    "eyeMarksButton = ipywidgets.Button(description='Save eyeMarks', layout=ipywidgets.Layout(width='200px', height='100px'))\n",
    "out = ipywidgets.Output()\n",
    "def eyeMClick(_):\n",
    "   with out:\n",
    "      l = viewer.layers['eyeMarks']; l.save(dirOut + l.name + '.csv');\n",
    "      print('eyeMarks layers saved for ' + filePath)\n",
    "   # clear viewer\n",
    "   viewer.layers.select_all()\n",
    "   viewer.layers.remove_selected()\n",
    "   eyeMarksButton.disabled = True # to prevent double clicking warnings. All sales are final!\n",
    "\n",
    "eyeMarksButton.on_click(eyeMClick)\n",
    "\n",
    "print('Make 6 landmark points then click button to save')\n",
    "\n",
    "ipywidgets.VBox([eyeMarksButton,out])"
   ]
  },
  {
   "cell_type": "markdown",
   "metadata": {},
   "source": [
    "### [Go back and run next one &uarr;](#zExtract)"
   ]
  },
  {
   "cell_type": "markdown",
   "metadata": {},
   "source": [
    "***\n",
    "## Segmentation using cellpose<a id='cellSeg'>∮</a>\n",
    "> Define list of files to segment &rarr; Define cellpose parameters &rarr; Run cellpose in each image\n",
    "***\n",
    "[Back to Index](#Index)"
   ]
  },
  {
   "cell_type": "markdown",
   "metadata": {},
   "source": [
    "### Running cellpose as batch analysis\n",
    "Usually for:\n",
    "- Rods: diameter = 20; flow_threshold = 0.5 and mask_threshold = 0.0\n",
    "- Cones: diameter = 40; flow_threshold = 0.5 and mask_threshold = 0.0\n",
    "- Horizontal cells: diameter = 100; flow_threshold = 0.6 and mask_threshold = 0.0\n",
    "\n",
    "> Using a higher _flow_threshold_ (i.e. 0.6 instead of 0.4) will provide more ROIs"
   ]
  },
  {
   "cell_type": "code",
   "execution_count": 163,
   "metadata": {
    "tags": []
   },
   "outputs": [
    {
     "name": "stdout",
     "output_type": "stream",
     "text": [
      "'20240906_Tbx2aHETinx_5dpf_s1c_xOG_inj2Arescue_falou_L01_004',\n",
      "'20240906_Tbx2aHETinx_5dpf_s1c_xOG_inj2Arescue_falou_L02_002',\n",
      "'20240906_Tbx2aHETinx_5dpf_s1c_xOG_inj2Arescue_falou_L02_004',\n",
      "'20240906_Tbx2aHETinx_5dpf_s1c_xOG_inj2Arescue_falou_L03_002',\n",
      "'20240906_Tbx2aHETinx_5dpf_s1c_xOG_inj2Arescue_falou_L04_002',\n",
      "'20240906_Tbx2aHETinx_5dpf_s1c_xOG_inj2Arescue_falou_L04_004',\n",
      "'20240906_Tbx2aHETinx_5dpf_s1c_xOG_inj2Arescue_falou_L05_002',\n",
      "'20240906_Tbx2aHETinx_5dpf_s1c_xOG_inj2Arescue_falou_L05_004',\n",
      "'20240906_Tbx2aHETinx_5dpf_s1c_xOG_inj2Arescue_falou_L06_002',\n",
      "'20240906_Tbx2aHETinx_5dpf_s1c_xOG_inj2Arescue_falou_L06_004',\n",
      "'20240906_Tbx2aHETinx_5dpf_s1c_xOG_inj2Arescue_nalou_L01_002',\n",
      "'20240906_Tbx2aHETinx_5dpf_s1c_xOG_inj2Arescue_nalou_L02_002',\n",
      "'20240906_Tbx2aHETinx_5dpf_s1c_xOG_inj2Arescue_nalou_L03_002',\n",
      "'20240906_Tbx2aHETinx_5dpf_s1c_xOG_inj2Arescue_nalou_L04_002',\n",
      "'20240906_Tbx2aHETinx_5dpf_s1c_xOG_inj2Arescue_nalou_L05_002',\n",
      "'20240906_Tbx2aHETinx_5dpf_s1c_xOG_inj2Arescue_nalou_L05_004',\n",
      "'20240906_Tbx2aHETinx_5dpf_s1c_xOG_inj2Arescue_nalou_L06_004',\n",
      "'20240906_Tbx2aHETinx_5dpf_s1c_xOG_inj2Arescue_nalou_L06_004_mip',\n",
      "'20240906_Tbx2aHETinx_5dpf_s1c_xOG_inj2Arescue_nalou_L07_002',\n",
      "'20240906_Tbx2aHETinx_5dpf_s1c_xOG_inj2Arescue_nalou_L07_004',\n"
     ]
    }
   ],
   "source": [
    "# get file list again\n",
    "gene = 'inj2Arescue'\n",
    "print(*getFileList(dirData,gene,fileNameMatch,addDetails='list'), sep = \"\\n\") #display the file list for copy and paste below"
   ]
  },
  {
   "cell_type": "code",
   "execution_count": 17,
   "metadata": {
    "tags": []
   },
   "outputs": [],
   "source": [
    "# clear viewer\n",
    "viewer.layers.select_all(); viewer.layers.remove_selected()\n",
    "\n",
    "# # collect file paths for wild-type\n",
    "# gene_wt = 'uninj'\n",
    "# filePaths_wt = [\n",
    "# #'20240906_Tbx2aHETinx_5dpf_s1c_xOG_Uninj_WT_ActualL02_002',\n",
    "# #'20240906_Tbx2aHETinx_5dpf_s1c_xOG_Uninj_WT_L01_002',\n",
    "# # '20240906_Tbx2aHETinx_5dpf_s1c_xOG_Uninj_WT_L02_002',\n",
    "# #'20240906_Tbx2aHETinx_5dpf_s1c_xOG_Uninj_WT_L04_002',\n",
    "# # '20240906_Tbx2aHETinx_5dpf_s1c_xOG_Uninj_WT_L05_002',\n",
    "# # '20240906_Tbx2aHETinx_5dpf_s1c_xOG_Uninj_WT_L06_002',\n",
    "# # '20240906_Tbx2aHETinx_5dpf_s1c_xOG_Uninj_WT_L06_004',\n",
    "# # '20240906_Tbx2aHETinx_5dpf_s1c_xOG_Uninj_nalou_L02_002',\n",
    "# #'20240906_Tbx2aHETinx_5dpf_s1c_xOG_Uninj_nalou_L03_004',\n",
    "# #'20240906_Tbx2aHETinx_5dpf_s1c_xOG_Uninj_nalou_L04_002',\n",
    "# #'20240906_Tbx2aHETinx_5dpf_s1c_xOG_Uninj_nalou_L05_002',\n",
    "# #'20240906_Tbx2aHETinx_5dpf_s1c_xOG_Uninj_nalou_L05_004',\n",
    "# #'20240906_Tbx2aHETinx_5dpf_s1c_xOG_Uninj_nalou_L06_002',\n",
    "# #'20240906_Tbx2aHETinx_5dpf_s1c_xOG_Uninj_nalou_L06_004',\n",
    "# #'20240906_Tbx2aHETinx_5dpf_s1c_xOG_Uninj_nalou_L07_002',\n",
    "# # '20240906_Tbx2aHETinx_5dpf_s1c_xOG_Uninj_nalou_L07_004',\n",
    "# #'20240906_Tbx2aHETinx_5dpf_s1c_xOG_Uninj_nalou_L08_002',\n",
    "#  ]\n",
    "\n",
    "\n",
    "# collect file paths for mutants\n",
    "gene_F0res = 'inj2ARescue'\n",
    "filePaths_F0res = [\n",
    "'20240906_Tbx2aHETinx_5dpf_s1c_xOG_inj2Arescue_falou_L01_004',\n",
    "'20240906_Tbx2aHETinx_5dpf_s1c_xOG_inj2Arescue_falou_L02_002',\n",
    "'20240906_Tbx2aHETinx_5dpf_s1c_xOG_inj2Arescue_falou_L02_004',\n",
    "'20240906_Tbx2aHETinx_5dpf_s1c_xOG_inj2Arescue_falou_L03_002',\n",
    "'20240906_Tbx2aHETinx_5dpf_s1c_xOG_inj2Arescue_falou_L04_002',\n",
    "'20240906_Tbx2aHETinx_5dpf_s1c_xOG_inj2Arescue_falou_L04_004',\n",
    "'20240906_Tbx2aHETinx_5dpf_s1c_xOG_inj2Arescue_falou_L05_002',\n",
    "'20240906_Tbx2aHETinx_5dpf_s1c_xOG_inj2Arescue_falou_L05_004',\n",
    "'20240906_Tbx2aHETinx_5dpf_s1c_xOG_inj2Arescue_falou_L06_002',\n",
    "'20240906_Tbx2aHETinx_5dpf_s1c_xOG_inj2Arescue_falou_L06_004',\n",
    "'20240906_Tbx2aHETinx_5dpf_s1c_xOG_inj2Arescue_nalou_L01_002',\n",
    "'20240906_Tbx2aHETinx_5dpf_s1c_xOG_inj2Arescue_nalou_L02_002',\n",
    "'20240906_Tbx2aHETinx_5dpf_s1c_xOG_inj2Arescue_nalou_L03_002',\n",
    "'20240906_Tbx2aHETinx_5dpf_s1c_xOG_inj2Arescue_nalou_L04_002',\n",
    "'20240906_Tbx2aHETinx_5dpf_s1c_xOG_inj2Arescue_nalou_L05_002',\n",
    "'20240906_Tbx2aHETinx_5dpf_s1c_xOG_inj2Arescue_nalou_L05_004',\n",
    "# '20240906_Tbx2aHETinx_5dpf_s1c_xOG_inj2Arescue_nalou_L06_004',\n",
    "# '20240906_Tbx2aHETinx_5dpf_s1c_xOG_inj2Arescue_nalou_L06_004_mip',\n",
    "'20240906_Tbx2aHETinx_5dpf_s1c_xOG_inj2Arescue_nalou_L07_002',\n",
    "'20240906_Tbx2aHETinx_5dpf_s1c_xOG_inj2Arescue_nalou_L07_004',\n",
    "]\n",
    "\n",
    "\n",
    "\n",
    "# collect file paths for mutants\n",
    "gene_F0SWAP = 'inj2ASWAP'\n",
    "filePaths_F0SWAP = [\n",
    "'20240906_Tbx2aHETinx_5dpf_s1c_xOG_inj2ASWAP_falou_L02_002',\n",
    "'20240906_Tbx2aHETinx_5dpf_s1c_xOG_inj2ASWAP_falou_L03_002',\n",
    "'20240906_Tbx2aHETinx_5dpf_s1c_xOG_inj2ASWAP_falou_L03_004',\n",
    "'20240906_Tbx2aHETinx_5dpf_s1c_xOG_inj2ASWAP_falou_L05_004',\n",
    "'20240906_Tbx2aHETinx_5dpf_s1c_xOG_inj2ASWAP_falou_L06_002',\n",
    "'20240906_Tbx2aHETinx_5dpf_s1c_xOG_inj2ASWAP_falou_L06_004',\n",
    "'20240906_Tbx2aHETinx_5dpf_s1c_xOG_inj2ASWAP_falou_L07_002',\n",
    "'20240906_Tbx2aHETinx_5dpf_s1c_xOG_inj2ASWAP_falou_L07_004',\n",
    "# '20240906_Tbx2aHETinx_5dpf_s1c_xOG_inj2ASWAP_nalou_L01_002',\n",
    "# '20240906_Tbx2aHETinx_5dpf_s1c_xOG_inj2ASWAP_nalou_L01_002_mip',\n",
    "# '20240906_Tbx2aHETinx_5dpf_s1c_xOG_inj2ASWAP_nalou_L01_004',\n",
    "'20240906_Tbx2aHETinx_5dpf_s1c_xOG_inj2ASWAP_nalou_L02_002',\n",
    "'20240906_Tbx2aHETinx_5dpf_s1c_xOG_inj2ASWAP_nalou_L02_004',\n",
    "'20240906_Tbx2aHETinx_5dpf_s1c_xOG_inj2ASWAP_nalou_L03_002',\n",
    "'20240906_Tbx2aHETinx_5dpf_s1c_xOG_inj2ASWAP_nalou_L03_004',\n",
    "'20240906_Tbx2aHETinx_5dpf_s1c_xOG_inj2ASWAP_nalou_L04_004',\n",
    "'20240906_Tbx2aHETinx_5dpf_s1c_xOG_inj2ASWAP_nalou_L05_002',\n",
    "'20240906_Tbx2aHETinx_5dpf_s1c_xOG_inj2ASWAP_nalou_L05_004'\n",
    "]\n",
    "\n",
    "\n",
    "# define cellpose parameters\n",
    "cpParams = {\n",
    "    'model' : 'cyto2', # default is 'cyto' or 'cyto2'\n",
    "    'net_avg' : True,\n",
    "    'channels' : [0,0], #single channel without nucleus info\n",
    "    'diameterR' : 25,\n",
    "    'diameterC' : 40,\n",
    "    'diameterH' : 100,\n",
    "    'flow_threshold' : 0.5,\n",
    "    'cellprob_threshold' : 0.0\n",
    "}\n",
    "\n",
    "\n",
    "# define model to use (e.g. 'cyto2')\n",
    "model = models.Cellpose(gpu=False, model_type=cpParams['model'])"
   ]
  },
  {
   "cell_type": "markdown",
   "metadata": {},
   "source": [
    "#### Run in loop to track progress and automatically save results\n",
    "> In Jan 2022: ~4 minutes per 1024 x 1024 image (4 nets). "
   ]
  },
  {
   "cell_type": "code",
   "execution_count": 18,
   "metadata": {
    "tags": []
   },
   "outputs": [
    {
     "name": "stdout",
     "output_type": "stream",
     "text": [
      "Starting analysis for inj2ARescue:\n"
     ]
    },
    {
     "data": {
      "application/vnd.jupyter.widget-view+json": {
       "model_id": "6a27e6d2283b453391a4b04b107dd1f0",
       "version_major": 2,
       "version_minor": 0
      },
      "text/plain": [
       "  0%|          | 0/72 [00:00<?, ?it/s]"
      ]
     },
     "metadata": {},
     "output_type": "display_data"
    },
    {
     "name": "stdout",
     "output_type": "stream",
     "text": [
      "\t20240906_Tbx2aHETinx_5dpf_s1c_xOG_inj2Arescue_falou_L01_004\n",
      "\t\t R\n",
      "\t\t\t Time elapsed: 73 s\n",
      "\t\t U\n",
      "\t\t\t Time elapsed: 33 s\n",
      "\t\t N\n",
      "\t\t\t Time elapsed: 34 s\n",
      "\t\t N\n",
      "\t\t\t Time elapsed: 35 s\n",
      "\t20240906_Tbx2aHETinx_5dpf_s1c_xOG_inj2Arescue_falou_L02_002\n",
      "\t\t R\n",
      "\t\t\t Time elapsed: 71 s\n",
      "\t\t U\n",
      "\t\t\t Time elapsed: 33 s\n",
      "\t\t N\n",
      "\t\t\t Time elapsed: 53 s\n",
      "\t\t N\n",
      "\t\t\t Time elapsed: 58 s\n",
      "\t20240906_Tbx2aHETinx_5dpf_s1c_xOG_inj2Arescue_falou_L02_004\n",
      "\t\t R\n",
      "\t\t\t Time elapsed: 86 s\n",
      "\t\t U\n",
      "\t\t\t Time elapsed: 43 s\n",
      "\t\t N\n",
      "\t\t\t Time elapsed: 71 s\n",
      "\t\t N\n",
      "\t\t\t Time elapsed: 66 s\n",
      "\t20240906_Tbx2aHETinx_5dpf_s1c_xOG_inj2Arescue_falou_L03_002\n",
      "\t\t R\n",
      "\t\t\t Time elapsed: 84 s\n",
      "\t\t U\n",
      "\t\t\t Time elapsed: 52 s\n",
      "\t\t N\n",
      "\t\t\t Time elapsed: 50 s\n",
      "\t\t N\n",
      "\t\t\t Time elapsed: 48 s\n",
      "\t20240906_Tbx2aHETinx_5dpf_s1c_xOG_inj2Arescue_falou_L04_002\n",
      "\t\t R\n",
      "\t\t\t Time elapsed: 81 s\n",
      "\t\t U\n",
      "\t\t\t Time elapsed: 52 s\n",
      "\t\t N\n",
      "\t\t\t Time elapsed: 40 s\n",
      "\t\t N\n",
      "\t\t\t Time elapsed: 41 s\n",
      "\t20240906_Tbx2aHETinx_5dpf_s1c_xOG_inj2Arescue_falou_L04_004\n",
      "\t\t R\n",
      "\t\t\t Time elapsed: 83 s\n",
      "\t\t U\n",
      "\t\t\t Time elapsed: 55 s\n",
      "\t\t N\n",
      "\t\t\t Time elapsed: 51 s\n",
      "\t\t N\n",
      "\t\t\t Time elapsed: 53 s\n",
      "\t20240906_Tbx2aHETinx_5dpf_s1c_xOG_inj2Arescue_falou_L05_002\n",
      "\t\t R\n",
      "\t\t\t Time elapsed: 83 s\n",
      "\t\t U\n",
      "\t\t\t Time elapsed: 57 s\n",
      "\t\t N\n",
      "\t\t\t Time elapsed: 49 s\n",
      "\t\t N\n",
      "\t\t\t Time elapsed: 49 s\n",
      "\t20240906_Tbx2aHETinx_5dpf_s1c_xOG_inj2Arescue_falou_L05_004\n",
      "\t\t R\n",
      "\t\t\t Time elapsed: 83 s\n",
      "\t\t U\n",
      "\t\t\t Time elapsed: 50 s\n",
      "\t\t N\n",
      "\t\t\t Time elapsed: 42 s\n",
      "\t\t N\n",
      "\t\t\t Time elapsed: 42 s\n",
      "\t20240906_Tbx2aHETinx_5dpf_s1c_xOG_inj2Arescue_falou_L06_002\n",
      "\t\t R\n",
      "\t\t\t Time elapsed: 84 s\n",
      "\t\t U\n",
      "\t\t\t Time elapsed: 54 s\n",
      "\t\t N\n",
      "\t\t\t Time elapsed: 39 s\n",
      "\t\t N\n",
      "\t\t\t Time elapsed: 40 s\n",
      "\t20240906_Tbx2aHETinx_5dpf_s1c_xOG_inj2Arescue_falou_L06_004\n",
      "\t\t R\n",
      "\t\t\t Time elapsed: 80 s\n",
      "\t\t U\n",
      "\t\t\t Time elapsed: 56 s\n",
      "\t\t N\n",
      "\t\t\t Time elapsed: 56 s\n",
      "\t\t N\n",
      "\t\t\t Time elapsed: 56 s\n",
      "\t20240906_Tbx2aHETinx_5dpf_s1c_xOG_inj2Arescue_nalou_L01_002\n",
      "\t\t R\n",
      "\t\t\t Time elapsed: 84 s\n",
      "\t\t U\n",
      "\t\t\t Time elapsed: 39 s\n",
      "\t\t N\n",
      "\t\t\t Time elapsed: 42 s\n",
      "\t\t N\n",
      "\t\t\t Time elapsed: 41 s\n",
      "\t20240906_Tbx2aHETinx_5dpf_s1c_xOG_inj2Arescue_nalou_L02_002\n",
      "\t\t R\n",
      "\t\t\t Time elapsed: 81 s\n",
      "\t\t U\n",
      "\t\t\t Time elapsed: 39 s\n",
      "\t\t N\n",
      "\t\t\t Time elapsed: 39 s\n",
      "\t\t N\n",
      "\t\t\t Time elapsed: 40 s\n",
      "\t20240906_Tbx2aHETinx_5dpf_s1c_xOG_inj2Arescue_nalou_L03_002\n",
      "\t\t R\n",
      "\t\t\t Time elapsed: 83 s\n",
      "\t\t U\n",
      "\t\t\t Time elapsed: 39 s\n",
      "\t\t N\n",
      "\t\t\t Time elapsed: 57 s\n",
      "\t\t N\n",
      "\t\t\t Time elapsed: 55 s\n",
      "\t20240906_Tbx2aHETinx_5dpf_s1c_xOG_inj2Arescue_nalou_L04_002\n",
      "\t\t R\n",
      "\t\t\t Time elapsed: 82 s\n",
      "\t\t U\n",
      "\t\t\t Time elapsed: 37 s\n",
      "\t\t N\n",
      "\t\t\t Time elapsed: 39 s\n",
      "\t\t N\n",
      "\t\t\t Time elapsed: 39 s\n",
      "\t20240906_Tbx2aHETinx_5dpf_s1c_xOG_inj2Arescue_nalou_L05_002\n",
      "\t\t R\n",
      "\t\t\t Time elapsed: 82 s\n",
      "\t\t U\n",
      "\t\t\t Time elapsed: 39 s\n",
      "\t\t N\n",
      "\t\t\t Time elapsed: 71 s\n",
      "\t\t N\n",
      "\t\t\t Time elapsed: 71 s\n",
      "\t20240906_Tbx2aHETinx_5dpf_s1c_xOG_inj2Arescue_nalou_L05_004\n",
      "\t\t R\n",
      "\t\t\t Time elapsed: 82 s\n",
      "\t\t U\n",
      "\t\t\t Time elapsed: 39 s\n",
      "\t\t N\n",
      "\t\t\t Time elapsed: 74 s\n",
      "\t\t N\n",
      "\t\t\t Time elapsed: 74 s\n",
      "\t20240906_Tbx2aHETinx_5dpf_s1c_xOG_inj2Arescue_nalou_L07_002\n",
      "\t\t R\n",
      "\t\t\t Time elapsed: 80 s\n",
      "\t\t U\n",
      "\t\t\t Time elapsed: 48 s\n",
      "\t\t N\n",
      "\t\t\t Time elapsed: 49 s\n",
      "\t\t N\n",
      "\t\t\t Time elapsed: 49 s\n",
      "\t20240906_Tbx2aHETinx_5dpf_s1c_xOG_inj2Arescue_nalou_L07_004\n",
      "\t\t R\n",
      "\t\t\t Time elapsed: 82 s\n",
      "\t\t U\n",
      "\t\t\t Time elapsed: 37 s\n",
      "\t\t N\n",
      "\t\t\t Time elapsed: 38 s\n",
      "\t\t N\n",
      "\t\t\t Time elapsed: 38 s\n",
      "Finished cellpose batch analysis for inj2ARescue\n",
      "Starting analysis for inj2ASWAP:\n"
     ]
    },
    {
     "data": {
      "application/vnd.jupyter.widget-view+json": {
       "model_id": "201f911fc71a4ac586654905fedf86be",
       "version_major": 2,
       "version_minor": 0
      },
      "text/plain": [
       "  0%|          | 0/60 [00:00<?, ?it/s]"
      ]
     },
     "metadata": {},
     "output_type": "display_data"
    },
    {
     "name": "stdout",
     "output_type": "stream",
     "text": [
      "\t20240906_Tbx2aHETinx_5dpf_s1c_xOG_inj2ASWAP_falou_L02_002\n",
      "\t\t R\n",
      "\t\t\t Time elapsed: 81 s\n",
      "\t\t U\n",
      "\t\t\t Time elapsed: 39 s\n",
      "\t\t N\n",
      "\t\t\t Time elapsed: 38 s\n",
      "\t\t N\n",
      "\t\t\t Time elapsed: 39 s\n",
      "\t20240906_Tbx2aHETinx_5dpf_s1c_xOG_inj2ASWAP_falou_L03_002\n",
      "\t\t R\n",
      "\t\t\t Time elapsed: 81 s\n",
      "\t\t U\n",
      "\t\t\t Time elapsed: 41 s\n",
      "\t\t N\n",
      "\t\t\t Time elapsed: 39 s\n",
      "\t\t N\n",
      "\t\t\t Time elapsed: 40 s\n",
      "\t20240906_Tbx2aHETinx_5dpf_s1c_xOG_inj2ASWAP_falou_L03_004\n",
      "\t\t R\n",
      "\t\t\t Time elapsed: 82 s\n",
      "\t\t U\n",
      "\t\t\t Time elapsed: 40 s\n",
      "\t\t N\n",
      "\t\t\t Time elapsed: 39 s\n",
      "\t\t N\n",
      "\t\t\t Time elapsed: 40 s\n",
      "\t20240906_Tbx2aHETinx_5dpf_s1c_xOG_inj2ASWAP_falou_L05_004\n",
      "\t\t R\n",
      "\t\t\t Time elapsed: 81 s\n",
      "\t\t U\n",
      "\t\t\t Time elapsed: 42 s\n",
      "\t\t N\n",
      "\t\t\t Time elapsed: 40 s\n",
      "\t\t N\n",
      "\t\t\t Time elapsed: 39 s\n",
      "\t20240906_Tbx2aHETinx_5dpf_s1c_xOG_inj2ASWAP_falou_L06_002\n",
      "\t\t R\n",
      "\t\t\t Time elapsed: 81 s\n",
      "\t\t U\n",
      "\t\t\t Time elapsed: 39 s\n",
      "\t\t N\n",
      "\t\t\t Time elapsed: 38 s\n",
      "\t\t N\n",
      "\t\t\t Time elapsed: 37 s\n",
      "\t20240906_Tbx2aHETinx_5dpf_s1c_xOG_inj2ASWAP_falou_L06_004\n",
      "\t\t R\n",
      "\t\t\t Time elapsed: 82 s\n",
      "\t\t U\n",
      "\t\t\t Time elapsed: 39 s\n",
      "\t\t N\n",
      "\t\t\t Time elapsed: 40 s\n",
      "\t\t N\n",
      "\t\t\t Time elapsed: 39 s\n",
      "\t20240906_Tbx2aHETinx_5dpf_s1c_xOG_inj2ASWAP_falou_L07_002\n",
      "\t\t R\n",
      "\t\t\t Time elapsed: 81 s\n",
      "\t\t U\n",
      "\t\t\t Time elapsed: 41 s\n",
      "\t\t N\n",
      "\t\t\t Time elapsed: 39 s\n",
      "\t\t N\n",
      "\t\t\t Time elapsed: 39 s\n",
      "\t20240906_Tbx2aHETinx_5dpf_s1c_xOG_inj2ASWAP_falou_L07_004\n",
      "\t\t R\n",
      "\t\t\t Time elapsed: 81 s\n",
      "\t\t U\n",
      "\t\t\t Time elapsed: 39 s\n",
      "\t\t N\n",
      "\t\t\t Time elapsed: 41 s\n",
      "\t\t N\n",
      "\t\t\t Time elapsed: 38 s\n",
      "\t20240906_Tbx2aHETinx_5dpf_s1c_xOG_inj2ASWAP_nalou_L02_002\n",
      "\t\t R\n",
      "\t\t\t Time elapsed: 82 s\n",
      "\t\t U\n",
      "\t\t\t Time elapsed: 38 s\n",
      "\t\t N\n",
      "\t\t\t Time elapsed: 48 s\n",
      "\t\t N\n",
      "\t\t\t Time elapsed: 48 s\n",
      "\t20240906_Tbx2aHETinx_5dpf_s1c_xOG_inj2ASWAP_nalou_L02_004\n",
      "\t\t R\n",
      "\t\t\t Time elapsed: 80 s\n",
      "\t\t U\n",
      "\t\t\t Time elapsed: 37 s\n",
      "\t\t N\n",
      "\t\t\t Time elapsed: 40 s\n",
      "\t\t N\n",
      "\t\t\t Time elapsed: 39 s\n",
      "\t20240906_Tbx2aHETinx_5dpf_s1c_xOG_inj2ASWAP_nalou_L03_002\n",
      "\t\t R\n",
      "\t\t\t Time elapsed: 95 s\n",
      "\t\t U\n",
      "\t\t\t Time elapsed: 429 s\n",
      "\t\t N\n",
      "\t\t\t Time elapsed: 40 s\n",
      "\t\t N\n",
      "\t\t\t Time elapsed: 39 s\n",
      "\t20240906_Tbx2aHETinx_5dpf_s1c_xOG_inj2ASWAP_nalou_L03_004\n",
      "\t\t R\n",
      "\t\t\t Time elapsed: 82 s\n",
      "\t\t U\n",
      "\t\t\t Time elapsed: 43 s\n",
      "\t\t N\n",
      "\t\t\t Time elapsed: 44 s\n",
      "\t\t N\n",
      "\t\t\t Time elapsed: 48 s\n",
      "\t20240906_Tbx2aHETinx_5dpf_s1c_xOG_inj2ASWAP_nalou_L04_004\n",
      "\t\t R\n",
      "\t\t\t Time elapsed: 83 s\n",
      "\t\t U\n",
      "\t\t\t Time elapsed: 48 s\n",
      "\t\t N\n",
      "\t\t\t Time elapsed: 52 s\n",
      "\t\t N\n",
      "\t\t\t Time elapsed: 52 s\n",
      "\t20240906_Tbx2aHETinx_5dpf_s1c_xOG_inj2ASWAP_nalou_L05_002\n",
      "\t\t R\n",
      "\t\t\t Time elapsed: 95 s\n",
      "\t\t U\n",
      "\t\t\t Time elapsed: 45 s\n",
      "\t\t N\n",
      "\t\t\t Time elapsed: 50 s\n",
      "\t\t N\n",
      "\t\t\t Time elapsed: 51 s\n",
      "\t20240906_Tbx2aHETinx_5dpf_s1c_xOG_inj2ASWAP_nalou_L05_004\n",
      "\t\t R\n",
      "\t\t\t Time elapsed: 92 s\n",
      "\t\t U\n",
      "\t\t\t Time elapsed: 48 s\n",
      "\t\t N\n",
      "\t\t\t Time elapsed: 45 s\n",
      "\t\t N\n",
      "\t\t\t Time elapsed: 45 s\n",
      "Finished cellpose batch analysis for inj2ASWAP\n"
     ]
    }
   ],
   "source": [
    "# print('Starting analysis for '+ gene_wt + ':')\n",
    "# with tqdm(total=len(filePaths_wt)*len(layerNames), file=sys.stdout) as progBar:\n",
    "#    for fp in filePaths_wt:\n",
    "#       print('\\t' + fp)\n",
    "#       for l in layerNames:\n",
    "#          print('\\t\\t ' + l)\n",
    "#          startTime = time.time()\n",
    "#          imgPath = dirAnalysis + gene_wt + '/' + fp + '/' + l + '_mip.tiff'\n",
    "#          img = cellpose.io.imread(imgPath)\n",
    "#          if l=='R':\n",
    "#             diameterCell = cpParams['diameterR']\n",
    "#          else:\n",
    "#             diameterCell = cpParams['diameterC']\n",
    "#          masks, flows, styles, diams = model.eval(img, \n",
    "#                                                 diameter=diameterCell, channels=cpParams['channels'],\n",
    "#                                                 do_3D=False, net_avg = cpParams['net_avg'], interp = True,\n",
    "#                                                 flow_threshold = cpParams['flow_threshold'], cellprob_threshold = cpParams['cellprob_threshold'])\n",
    "#          cellpose.io.masks_flows_to_seg(img, masks, flows, diams, imgPath, cpParams['channels']) # save results\n",
    "#          endTime = time.time()\n",
    "#          print ('\\t Time elapsed: {elapsedTime} s\\n'.format(elapsedTime = int(endTime - startTime)))\n",
    "#          progBar.update(1)\n",
    "\n",
    "# print('Finished cellpose batch analysis for '+ gene_wt)\n",
    "\n",
    "#RESCUE\n",
    "print('Starting analysis for '+ gene_F0res + ':')\n",
    "with tqdm(total=len(filePaths_F0res)*len(layerNames), file=sys.stdout) as progBar:\n",
    "   for fp in filePaths_F0res:\n",
    "      print('\\t' + fp)\n",
    "      for l in layerNames:\n",
    "         print('\\t\\t ' + l)\n",
    "         startTime = time.time()\n",
    "         imgPath = dirAnalysis + gene_F0res + '/' + fp + '/' + l + '_mip.tiff'\n",
    "         img = cellpose.io.imread(imgPath)\n",
    "         if l=='R':\n",
    "            diameterCell = cpParams['diameterR']\n",
    "         else:\n",
    "            diameterCell = cpParams['diameterC']\n",
    "         masks, flows, styles, diams = model.eval(img, \n",
    "                                                diameter=diameterCell, channels=cpParams['channels'],\n",
    "                                                do_3D=False, net_avg = cpParams['net_avg'], interp = True,\n",
    "                                                flow_threshold = cpParams['flow_threshold'], cellprob_threshold = cpParams['cellprob_threshold'])\n",
    "         cellpose.io.masks_flows_to_seg(img, masks, flows, diams, imgPath, cpParams['channels']) # save results\n",
    "         endTime = time.time()\n",
    "         print ('\\t\\t\\t Time elapsed: {elapsedTime} s'.format(elapsedTime = int(endTime - startTime)))\n",
    "         progBar.update(1)\n",
    "\n",
    "print('Finished cellpose batch analysis for '+ gene_F0res)\n",
    "\n",
    "#SWAP\n",
    "print('Starting analysis for '+ gene_F0SWAP + ':')\n",
    "with tqdm(total=len(filePaths_F0SWAP)*len(layerNames), file=sys.stdout) as progBar:\n",
    "   for fp in filePaths_F0SWAP:\n",
    "      print('\\t' + fp)\n",
    "      for l in layerNames:\n",
    "         print('\\t\\t ' + l)\n",
    "         startTime = time.time()\n",
    "         imgPath = dirAnalysis + gene_F0SWAP + '/' + fp + '/' + l + '_mip.tiff'\n",
    "         img = cellpose.io.imread(imgPath)\n",
    "         if l=='R':\n",
    "            diameterCell = cpParams['diameterR']\n",
    "         else:\n",
    "            diameterCell = cpParams['diameterC']\n",
    "         masks, flows, styles, diams = model.eval(img, \n",
    "                                                diameter=diameterCell, channels=cpParams['channels'],\n",
    "                                                do_3D=False, net_avg = cpParams['net_avg'], interp = True,\n",
    "                                                flow_threshold = cpParams['flow_threshold'], cellprob_threshold = cpParams['cellprob_threshold'])\n",
    "         cellpose.io.masks_flows_to_seg(img, masks, flows, diams, imgPath, cpParams['channels']) # save results\n",
    "         endTime = time.time()\n",
    "         print ('\\t\\t\\t Time elapsed: {elapsedTime} s'.format(elapsedTime = int(endTime - startTime)))\n",
    "         progBar.update(1)\n",
    "\n",
    "print('Finished cellpose batch analysis for '+ gene_F0SWAP)"
   ]
  },
  {
   "cell_type": "markdown",
   "metadata": {},
   "source": [
    "***\n",
    "## Manual correction of cellpose segmentation<a id='manualCuration'>∮</a>\n",
    "> Copy file list from \"Extract Layers\" &rarr; Open a single file and manually fix (\"_curate_\") cellpose segmentation\n",
    "\n",
    "WARNINGS:\n",
    "- In tg[_mws2_:GFP], a subset of S cones are GFP+. If available, use tg[_sws2_:mCherry] to delete those labels from the M-cone segmentation\n",
    "***\n",
    "[Back to Index](#Index)"
   ]
  },
  {
   "cell_type": "code",
   "execution_count": 137,
   "metadata": {
    "tags": []
   },
   "outputs": [
    {
     "name": "stdout",
     "output_type": "stream",
     "text": [
      "Viewer cleared...\n",
      "Loaded  20240906_Tbx2aHETinx_5dpf_s1c_xOG_inj2ASWAP_nalou_L05_004 !\n",
      " Now fix it and save it!\n",
      "removeLabel on U_seg (\"Shift-X\")\n",
      "toggle U_seg preserve_labels (\"k\")\n",
      "toggle U_mip visibility (\"B\")\n",
      "toggle R_mip visibility (\"N\")\n",
      "Add new label in U_seg visibility (\"+\"|\"M\")\n"
     ]
    }
   ],
   "source": [
    "# clear viewer\n",
    "viewer.layers.select_all(); viewer.layers.remove_selected()\n",
    "\n",
    "\n",
    "#Uninjected\n",
    "# filePath = '20240906_Tbx2aHETinx_5dpf_s1c_xOG_Uninj_WT_ActualL02_002'; gene = 'Uninj'; zlims = [27,29];\n",
    "# filePath = '20240906_Tbx2aHETinx_5dpf_s1c_xOG_Uninj_WT_L01_002'; gene = 'Uninj'; #omit?\n",
    "# filePath = '20240906_Tbx2aHETinx_5dpf_s1c_xOG_Uninj_WT_L02_002'; gene = 'Uninj'; zlims = [10,22]; #eyemarks not saved - looks like mutant\n",
    "# filePath = '20240906_Tbx2aHETinx_5dpf_s1c_xOG_Uninj_WT_L04_002'; gene = 'Uninj'; zlims = [27,29]; #eye marks not saved. \n",
    "# filePath = '20240906_Tbx2aHETinx_5dpf_s1c_xOG_Uninj_WT_L05_002'; gene = 'Uninj'; zlims = [18,20]; #no rods\n",
    "# filePath = '20240906_Tbx2aHETinx_5dpf_s1c_xOG_Uninj_WT_L06_002'; gene = 'Uninj'; zlims = [16,19]; #looks mutant\n",
    "# filePath = '20240906_Tbx2aHETinx_5dpf_s1c_xOG_Uninj_WT_L06_004'; gene = 'Uninj'; zlims = [27,30];\n",
    "# filePath = '20240906_Tbx2aHETinx_5dpf_s1c_xOG_Uninj_nalou_L02_002'; gene = 'Uninj'; zlims = [12,20]; #BAD SEGMENTATION\n",
    "# filePath = '20240906_Tbx2aHETinx_5dpf_s1c_xOG_Uninj_nalou_L03_004'; gene = 'Uninj'; zlims = [19,24];\n",
    "# filePath = '20240906_Tbx2aHETinx_5dpf_s1c_xOG_Uninj_nalou_L04_002'; gene = 'Uninj'; zlims = [11,17];\n",
    "# filePath = '20240906_Tbx2aHETinx_5dpf_s1c_xOG_Uninj_nalou_L05_002'; gene = 'Uninj'; zlims = [24,32];\n",
    "# filePath = '20240906_Tbx2aHETinx_5dpf_s1c_xOG_Uninj_nalou_L05_004'; gene = 'Uninj'; zlims = [6,21];\n",
    "# filePath = '20240906_Tbx2aHETinx_5dpf_s1c_xOG_Uninj_nalou_L06_002'; gene = 'Uninj'; zlims = [21,28];\n",
    "# filePath = '20240906_Tbx2aHETinx_5dpf_s1c_xOG_Uninj_nalou_L06_004'; gene = 'Uninj'; zlims = [5,15];\n",
    "# filePath = '20240906_Tbx2aHETinx_5dpf_s1c_xOG_Uninj_nalou_L07_002'; gene = 'Uninj'; zlims = [16,25];\n",
    "# filePath = '20240906_Tbx2aHETinx_5dpf_s1c_xOG_Uninj_nalou_L07_004'; gene = 'Uninj'; #OMIT TOO CURVED \n",
    "# filePath = '20240906_Tbx2aHETinx_5dpf_s1c_xOG_Uninj_nalou_L08_002'; gene = 'Uninj'; zlims = [42,45];   \n",
    "\n",
    "\n",
    "#Injected RESCUE\n",
    "# filePath = '20240906_Tbx2aHETinx_5dpf_s1c_xOG_inj2Arescue_falou_L01_004'; gene = 'inj2Arescue'; zlims = [15,35];\n",
    "# filePath = '20240906_Tbx2aHETinx_5dpf_s1c_xOG_inj2Arescue_falou_L02_002'; gene = 'inj2Arescue'; zlims = [22,29];\n",
    "# filePath = '20240906_Tbx2aHETinx_5dpf_s1c_xOG_inj2Arescue_falou_L02_004'; gene = 'inj2Arescue'; zlims = [28,33];\n",
    "# filePath = '20240906_Tbx2aHETinx_5dpf_s1c_xOG_inj2Arescue_falou_L03_002'; gene = 'inj2Arescue'; zlims = [24,30];\n",
    "# filePath = '20240906_Tbx2aHETinx_5dpf_s1c_xOG_inj2Arescue_falou_L04_002'; gene = 'inj2Arescue'; zlims = [22,27];\n",
    "# filePath = '20240906_Tbx2aHETinx_5dpf_s1c_xOG_inj2Arescue_falou_L04_004'; gene = 'inj2Arescue'; zlims = [16,29];\n",
    "# filePath = '20240906_Tbx2aHETinx_5dpf_s1c_xOG_inj2Arescue_falou_L05_002'; gene = 'inj2Arescue'; zlims = [17,19];\n",
    "# filePath = '20240906_Tbx2aHETinx_5dpf_s1c_xOG_inj2Arescue_falou_L05_004'; gene = 'inj2Arescue'; zlims = [14,30];\n",
    "# filePath = '20240906_Tbx2aHETinx_5dpf_s1c_xOG_inj2Arescue_falou_L06_002'; gene = 'inj2Arescue'; zlims = [18,29]; #did not define eye marks\n",
    "# filePath = '20240906_Tbx2aHETinx_5dpf_s1c_xOG_inj2Arescue_falou_L06_004'; gene = 'inj2Arescue'; zlims = [16,25]; #no eye mips\n",
    "# filePath = '20240906_Tbx2aHETinx_5dpf_s1c_xOG_inj2Arescue_nalou_L01_002'; gene = 'inj2Arescue'; zlims = [4,12];\n",
    "# filePath = '20240906_Tbx2aHETinx_5dpf_s1c_xOG_inj2Arescue_nalou_L02_002'; gene = 'inj2Arescue'; zlims = [14,24];\n",
    "# filePath = '20240906_Tbx2aHETinx_5dpf_s1c_xOG_inj2Arescue_nalou_L03_002'; gene = 'inj2Arescue'; zlims = [14,29];\n",
    "# filePath = '20240906_Tbx2aHETinx_5dpf_s1c_xOG_inj2Arescue_nalou_L04_002'; gene = 'inj2Arescue'; zlims = [15,17]; #no rods\n",
    "# filePath = '20240906_Tbx2aHETinx_5dpf_s1c_xOG_inj2Arescue_nalou_L05_002'; gene = 'inj2Arescue'; zlims = [28,34];\n",
    "# filePath = '20240906_Tbx2aHETinx_5dpf_s1c_xOG_inj2Arescue_nalou_L05_004'; gene = 'inj2Arescue'; zlims = [25,27];\n",
    "# filePath = '20240906_Tbx2aHETinx_5dpf_s1c_xOG_inj2Arescue_nalou_L06_004'; gene = 'inj2Arescue'; #not a zoom in SKIP\n",
    "# filePath = '20240906_Tbx2aHETinx_5dpf_s1c_xOG_inj2Arescue_nalou_L06_004_mip'; gene = 'inj2Arescue'; #NOT ZOOM IN OMIT\n",
    "# filePath = '20240906_Tbx2aHETinx_5dpf_s1c_xOG_inj2Arescue_nalou_L07_002'; gene = 'inj2Arescue'; zlims = [20,24];\n",
    "# filePath = '20240906_Tbx2aHETinx_5dpf_s1c_xOG_inj2Arescue_nalou_L07_004'; gene = 'inj2Arescue'; vzlims = [18,40]; # CURVED\n",
    "\n",
    "#Injected SWAP\n",
    "# filePath = '20240906_Tbx2aHETinx_5dpf_s1c_xOG_inj2ASWAP_falou_L02_002'; gene = 'inj2ASWAP'; zlims = [18,20];\n",
    "# filePath = '20240906_Tbx2aHETinx_5dpf_s1c_xOG_inj2ASWAP_falou_L03_002'; gene = 'inj2ASWAP'; zlims = [18,20];\n",
    "# filePath = '20240906_Tbx2aHETinx_5dpf_s1c_xOG_inj2ASWAP_falou_L03_004'; gene = 'inj2ASWAP'; zlims = [21,24];\n",
    "# filePath = '20240906_Tbx2aHETinx_5dpf_s1c_xOG_inj2ASWAP_falou_L05_004'; gene = 'inj2ASWAP'; zlims = [13,20];\n",
    "# filePath = '20240906_Tbx2aHETinx_5dpf_s1c_xOG_inj2ASWAP_falou_L06_002'; gene = 'inj2ASWAP'; zlims = [17,20];\n",
    "# filePath = '20240906_Tbx2aHETinx_5dpf_s1c_xOG_inj2ASWAP_falou_L06_004'; gene = 'inj2ASWAP'; zlims = [23,25];\n",
    "# filePath = '20240906_Tbx2aHETinx_5dpf_s1c_xOG_inj2ASWAP_falou_L07_002'; gene = 'inj2ASWAP'; zlims = [7,19];\n",
    "# filePath = '20240906_Tbx2aHETinx_5dpf_s1c_xOG_inj2ASWAP_falou_L07_004'; gene = 'inj2ASWAP'; zlims = [20,22];\n",
    "# filePath = '20240906_Tbx2aHETinx_5dpf_s1c_xOG_inj2ASWAP_nalou_L01_002'; gene = 'inj2ASWAP'; #NOT A ZOOM IN EXCLUDE \n",
    "# filePath = '20240906_Tbx2aHETinx_5dpf_s1c_xOG_inj2ASWAP_nalou_L01_002_mip'; gene = 'inj2ASWAP'; #NOT ZOOM IN EXCLUDE\n",
    "# filePath = '20240906_Tbx2aHETinx_5dpf_s1c_xOG_inj2ASWAP_nalou_L01_004'; gene = 'inj2ASWAP';# EXCLUDE SAME HERE\n",
    "# filePath = '20240906_Tbx2aHETinx_5dpf_s1c_xOG_inj2ASWAP_nalou_L02_002'; gene = 'inj2ASWAP'; zlims = [18,20];\n",
    "# filePath = '20240906_Tbx2aHETinx_5dpf_s1c_xOG_inj2ASWAP_nalou_L02_004'; gene = 'inj2ASWAP'; zlims = [5,12];\n",
    "# filePath = '20240906_Tbx2aHETinx_5dpf_s1c_xOG_inj2ASWAP_nalou_L03_002'; gene = 'inj2ASWAP'; zlims = [15,18];\n",
    "# filePath = '20240906_Tbx2aHETinx_5dpf_s1c_xOG_inj2ASWAP_nalou_L03_004'; gene = 'inj2ASWAP'; zlims = [23,28];\n",
    "# filePath = '20240906_Tbx2aHETinx_5dpf_s1c_xOG_inj2ASWAP_nalou_L04_004'; gene = 'inj2ASWAP'; zlims = [5,6];\n",
    "# filePath = '20240906_Tbx2aHETinx_5dpf_s1c_xOG_inj2ASWAP_nalou_L05_002'; gene = 'inj2ASWAP'; zlims = [19,21];\n",
    "filePath = '20240906_Tbx2aHETinx_5dpf_s1c_xOG_inj2ASWAP_nalou_L05_004'; gene = 'inj2ASWAP'; zlims = [18,24];\n",
    "\n",
    "\n",
    "# define subdirectory for analysis\n",
    "dirOut = dirAnalysis + gene + '/' + filePath + '/'\n",
    "print('Viewer cleared...')\n",
    "\n",
    "# clear key binds\n",
    "@viewer.bind_key('k', overwrite=True)\n",
    "def toggle_sel(viewer):\n",
    "    ...\n",
    "@viewer.bind_key('b', overwrite=True)\n",
    "def toggle_sel(viewer):\n",
    "    ...\n",
    "@viewer.bind_key('Shift-x', overwrite=True)\n",
    "def removeLabel(viewer):\n",
    "    ...\n",
    "\n",
    "# load mips\n",
    "mipO = 0.65\n",
    "viewer.open(dirOut + layerNames[0] + \"_mip.tiff\", plugin='napari', colormap = 'green', blending='additive', opacity=mipO);\n",
    "viewer.open(dirOut + layerNames[1] + \"_mip.tiff\", plugin='napari', colormap = 'magenta', blending='additive', opacity=mipO);\n",
    "# viewer.open(dirOut + layerNames[3] + \"_mip.tiff\", plugin='napari', colormap = 'gray', blending='additive', opacity=mipO);\n",
    "\n",
    "# load segmentation\n",
    "if (os.path.isfile(dirOut + layerNames[0] + \"_seg_curated.tiff\")):\n",
    "    print('Loaded previously curated segmentation for {0}'.format(layerNames[0]))\n",
    "    viewer.open(dirOut + layerNames[0] + \"_seg_curated.tiff\", name=layerNames[0] + '_seg', plugin='napari',blending='additive');\n",
    "else:\n",
    "    segData = np.load(dirOut + layerNames[0] + \"_mip\" + \"_seg.npy\", allow_pickle=True).item()\n",
    "    viewer.add_labels(segData['masks'], name= layerNames[0] + '_seg',blending='additive');\n",
    "viewer.layers[layerNames[0] + '_seg'].preserve_labels = True;\n",
    "\n",
    "if (os.path.isfile(dirOut + layerNames[1] + \"_seg_curated.tiff\")):\n",
    "    print('Loaded previously curated segmentation for {0}'.format(layerNames[1]))\n",
    "    viewer.open(dirOut + layerNames[1] + \"_seg_curated.tiff\", name=layerNames[1] + '_seg', plugin='napari',blending='additive');\n",
    "else:\n",
    "    segData = np.load(dirOut + layerNames[1] + \"_mip\" + \"_seg.npy\", allow_pickle=True).item()\n",
    "    viewer.add_labels(segData['masks'], name= layerNames[1] + '_seg',blending='additive');\n",
    "viewer.layers[layerNames[1] + '_seg'].preserve_labels = True;\n",
    "\n",
    "\n",
    "viewer.layers[layerNames[0] + '_mip'].visible = False\n",
    "# viewer.layers[layerNames[3] + '_mip'].visible = False\n",
    "viewer.layers[layerNames[0] + '_seg'].visible = False\n",
    "\n",
    "print('Loaded  ' + filePath + ' !\\n Now fix it and save it!')\n",
    "\n",
    "#define useful keyboard shortcuts\n",
    "\n",
    "@viewer.bind_key('Shift-x', overwrite=True)\n",
    "def removeLabel(viewer):\n",
    "   lname = layerNames[1] + '_seg'\n",
    "   tempd = viewer.layers[lname].data\n",
    "   tempd[tempd == viewer.layers[lname].selected_label]=0\n",
    "   viewer.layers[lname].data = tempd\n",
    "   print('Cut!')\n",
    "print('removeLabel on {0}_seg (\"Shift-X\")'.format(layerNames[1]))\n",
    "\n",
    "@viewer.bind_key('k', overwrite=True)\n",
    "def toggle_sel(viewer):\n",
    "   lname = layerNames[1] + '_seg'\n",
    "   if (viewer.layers[lname].preserve_labels == True):\n",
    "      viewer.layers[lname].preserve_labels = False\n",
    "   elif (viewer.layers[lname].preserve_labels == False):\n",
    "      viewer.layers[lname].preserve_labels = True\n",
    "print('toggle {0}_seg preserve_labels (\"k\")'.format(layerNames[1]))\n",
    "        \n",
    "@viewer.bind_key('b', overwrite=True)\n",
    "def toggle_sel(viewer):\n",
    "   lname = layerNames[1] + '_mip'\n",
    "   if (viewer.layers[lname].visible == True):\n",
    "      viewer.layers[lname].visible = False\n",
    "   elif (viewer.layers[lname].visible == False):\n",
    "      viewer.layers[lname].visible = True\n",
    "print('toggle {0}_mip visibility (\"B\")'.format(layerNames[1]))\n",
    "\n",
    "@viewer.bind_key('n', overwrite=True)\n",
    "def toggle_sel(viewer):\n",
    "   lname = layerNames[0] + '_mip'\n",
    "   if (viewer.layers[lname].visible == True):\n",
    "      viewer.layers[lname].visible = False\n",
    "   elif (viewer.layers[lname].visible == False):\n",
    "      viewer.layers[lname].visible = True\n",
    "print('toggle {0}_mip visibility (\"N\")'.format(layerNames[0]))\n",
    "\n",
    "@viewer.bind_key('+', overwrite=True)\n",
    "def new_label(viewer):\n",
    "   \"\"\"Set the currently selected label to the largest used label plus one.\"\"\"\n",
    "   lname = layerNames[1] + '_seg'\n",
    "   viewer.layers[lname].selected_label = viewer.layers[lname].data.max() + 1\n",
    "print('Add new label in {0}_seg visibility (\"+\"|\"M\")'.format(layerNames[1]))"
   ]
  },
  {
   "cell_type": "markdown",
   "metadata": {
    "jupyter": {
     "outputs_hidden": true,
     "source_hidden": true
    },
    "tags": []
   },
   "source": [
    "### if needed, run this cell to reload whole z-stack\n",
    "print('Loading data...')\n",
    "nMIP = len(viewer.layers)\n",
    "viewer.open((dirData+filePath + '.nd2'), plugin='napari-nikon-nd2')\n",
    "viewer.layers.remove(viewer.layers[len(viewer.layers)-1]) # remove transmitted detector image\n",
    "viewer.layers.select_next();\n",
    "if len(viewer.layers)==2+nMIP: #no DAPI\n",
    "   viewer.layers[nMIP+0].colormap = 'green'\n",
    "   viewer.layers[nMIP+0].name = layerNames[0]\n",
    "   viewer.layers[nMIP+1].colormap = 'magenta'\n",
    "   viewer.layers[nMIP+1].name = layerNames[1]\n",
    "elif len(viewer.layers)==3+nMIP: #DAPI\n",
    "   viewer.layers[nMIP+0].colormap = 'gray'\n",
    "   viewer.layers[nMIP+0].name = 'N'\n",
    "   viewer.layers[nMIP+0].opacity = 0.99\n",
    "   viewer.layers[nMIP+1].colormap = 'green'\n",
    "   viewer.layers[nMIP+1].name = layerNames[0]\n",
    "   viewer.layers[nMIP+2].colormap = 'magenta'\n",
    "   viewer.layers[nMIP+2].name = layerNames[1]\n",
    "elif len(viewer.layers)==4+nMIP: #DAPI\n",
    "   viewer.layers[nMIP+0].colormap = 'gray'\n",
    "   viewer.layers[nMIP+0].name = 'N'\n",
    "   viewer.layers[nMIP+0].opacity = 0.99\n",
    "   viewer.layers[nMIP+1].colormap = 'green'\n",
    "   viewer.layers[nMIP+1].name = layerNames[0]\n",
    "   viewer.layers[nMIP+2].colormap = 'magenta'\n",
    "   viewer.layers[nMIP+2].name = layerNames[1]\n",
    "   viewer.layers[nMIP+3].colormap = 'bop orange'\n",
    "   viewer.layers[nMIP+3].name = layerNames[2]\n",
    "\n",
    "print('Images loaded!')"
   ]
  },
  {
   "cell_type": "markdown",
   "metadata": {},
   "source": [
    "#### resave first curated segmentation after napari-ing around"
   ]
  },
  {
   "cell_type": "code",
   "execution_count": 134,
   "metadata": {
    "tags": []
   },
   "outputs": [
    {
     "name": "stdout",
     "output_type": "stream",
     "text": [
      "Done with U_seg for 20240906_Tbx2aHETinx_5dpf_s1c_xOG_inj2ASWAP_nalou_L05_002\n",
      "removeLabel on R_seg (\"Shift-X\")\n",
      "toggle U_mip visibility (\"B\")\n",
      "toggle R_mip visibility (\"N\")\n",
      "toggle R_seg preserve_labels (\"k\")\n",
      "Add new label in R_seg visibility (\"+\"|\"M\")\n"
     ]
    }
   ],
   "source": [
    "lname = layerNames[1] + '_seg'\n",
    "l = viewer.layers[lname]; l.save(dirOut + l.name + '_curated.tiff')\n",
    "print('Done with ' + lname + ' for ' + filePath)\n",
    "\n",
    "\n",
    "viewer.layers[layerNames[0] + '_mip'].visible = True\n",
    "viewer.layers[layerNames[0] + '_seg'].visible = True\n",
    "# viewer.layers[layerNames[0] + '_seg'].contour = 0\n",
    "viewer.layers[layerNames[1] + '_mip'].visible = False\n",
    "viewer.layers[layerNames[1] + '_seg'].visible = False\n",
    "\n",
    "@viewer.bind_key('Shift-x', overwrite=True)\n",
    "def removeLabel(viewer):\n",
    "   lname = layerNames[0] + '_seg'\n",
    "   tempd = viewer.layers[lname].data\n",
    "   tempd[tempd == viewer.layers[lname].selected_label]=0\n",
    "   viewer.layers[lname].data = tempd\n",
    "   print('Cut!')\n",
    "print('removeLabel on {0}_seg (\"Shift-X\")'.format(layerNames[0]))\n",
    "\n",
    "@viewer.bind_key('b', overwrite=True)\n",
    "def toggle_sel(viewer):\n",
    "   lname = layerNames[1] + '_mip'\n",
    "   if (viewer.layers[lname].visible == True):\n",
    "      viewer.layers[lname].visible = False\n",
    "   elif (viewer.layers[lname].visible == False):\n",
    "      viewer.layers[lname].visible = True\n",
    "print('toggle {0}_mip visibility (\"B\")'.format(layerNames[1]))\n",
    "\n",
    "@viewer.bind_key('n', overwrite=True)\n",
    "def toggle_sel(viewer):\n",
    "   lname = layerNames[0] + '_mip'\n",
    "   if (viewer.layers[lname].visible == True):\n",
    "      viewer.layers[lname].visible = False\n",
    "   elif (viewer.layers[lname].visible == False):\n",
    "      viewer.layers[lname].visible = True\n",
    "print('toggle {0}_mip visibility (\"N\")'.format(layerNames[0]))\n",
    "\n",
    "\n",
    "@viewer.bind_key('k', overwrite=True)\n",
    "def toggle_sel(viewer):\n",
    "   lname = layerNames[0] + '_seg'\n",
    "   if (viewer.layers[lname].preserve_labels == True):\n",
    "      viewer.layers[lname].preserve_labels = False\n",
    "   elif (viewer.layers[lname].preserve_labels == False):\n",
    "      viewer.layers[lname].preserve_labels = True\n",
    "print('toggle {0}_seg preserve_labels (\"k\")'.format(layerNames[0]))\n",
    "\n",
    "@viewer.bind_key('+', overwrite=True)\n",
    "def new_label(viewer):\n",
    "   \"\"\"Set the currently selected label to the largest used label plus one.\"\"\"\n",
    "   lname = layerNames[0] + '_seg'\n",
    "   viewer.layers[lname].selected_label = viewer.layers[lname].data.max() + 1\n",
    "print('Add new label in {0}_seg visibility (\"+\"|\"M\")'.format(layerNames[0]))"
   ]
  },
  {
   "cell_type": "markdown",
   "metadata": {},
   "source": [
    "#### resave second curated segmentation after napari-ing around"
   ]
  },
  {
   "cell_type": "code",
   "execution_count": 135,
   "metadata": {
    "tags": []
   },
   "outputs": [
    {
     "name": "stdout",
     "output_type": "stream",
     "text": [
      "Done with R_seg for 20240906_Tbx2aHETinx_5dpf_s1c_xOG_inj2ASWAP_nalou_L05_002\n"
     ]
    }
   ],
   "source": [
    "lname = layerNames[0] + '_seg'\n",
    "l = viewer.layers[lname]; l.save(dirOut +\n",
    "                                 l.name + '_curated.tiff')\n",
    "print('Done with ' + lname + ' for ' + filePath)"
   ]
  },
  {
   "cell_type": "markdown",
   "metadata": {},
   "source": [
    "### Reload curated segmentations after saving for final review"
   ]
  },
  {
   "cell_type": "code",
   "execution_count": 136,
   "metadata": {
    "tags": []
   },
   "outputs": [
    {
     "name": "stdout",
     "output_type": "stream",
     "text": [
      "20240906_Tbx2aHETinx_5dpf_s1c_xOG_inj2ASWAP_nalou_L05_002\n",
      "Image has 102 U\n",
      "Image has 32 R\n"
     ]
    }
   ],
   "source": [
    "# remove all except mips\n",
    "viewer.layers.remove(viewer.layers[layerNames[1] + '_seg'])\n",
    "viewer.layers.remove(viewer.layers[layerNames[0] + '_seg'])\n",
    "\n",
    "viewer.open(dirOut + layerNames[1] + \"_seg_curated.tiff\", name=layerNames[1] + '_seg', plugin='napari',blending='additive');\n",
    "# viewer.layers['U_seg'].contour = 5\n",
    "viewer.layers[layerNames[1] + '_mip'].visible = True\n",
    "viewer.open(dirOut + layerNames[0] + '_seg_curated.tiff', name=layerNames[0] + '_seg', plugin='napari',blending='additive');\n",
    "\n",
    "print(filePath)\n",
    "n0 = len(np.unique(viewer.layers[layerNames[1] + '_seg'].data))-1\n",
    "print(\"Image has {0} {1}\".format(n0, layerNames[1]))\n",
    "n1 = len(np.unique(viewer.layers[layerNames[0] + '_seg'].data))-1\n",
    "print(\"Image has {0} {1}\".format(n1,layerNames[0]))"
   ]
  },
  {
   "cell_type": "markdown",
   "metadata": {},
   "source": [
    "### [Go back and run next one &uarr;](#manualCuration)\n"
   ]
  },
  {
   "cell_type": "code",
   "execution_count": 55,
   "metadata": {
    "tags": []
   },
   "outputs": [
    {
     "data": {
      "text/plain": [
       "'U'"
      ]
     },
     "execution_count": 55,
     "metadata": {},
     "output_type": "execute_result"
    }
   ],
   "source": [
    "layerNames[1]"
   ]
  },
  {
   "cell_type": "code",
   "execution_count": 55,
   "metadata": {
    "tags": []
   },
   "outputs": [
    {
     "data": {
      "text/plain": [
       "'U'"
      ]
     },
     "execution_count": 55,
     "metadata": {},
     "output_type": "execute_result"
    }
   ],
   "source": [
    "layerNames[1]"
   ]
  }
 ],
 "metadata": {
  "kernelspec": {
   "display_name": "Python 3 (ipykernel)",
   "language": "python",
   "name": "python3"
  },
  "language_info": {
   "codemirror_mode": {
    "name": "ipython",
    "version": 3
   },
   "file_extension": ".py",
   "mimetype": "text/x-python",
   "name": "python",
   "nbconvert_exporter": "python",
   "pygments_lexer": "ipython3",
   "version": "3.9.16"
  },
  "toc-autonumbering": false,
  "toc-showcode": false,
  "toc-showmarkdowntxt": false
 },
 "nbformat": 4,
 "nbformat_minor": 4
}
