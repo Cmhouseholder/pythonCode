{
 "cells": [
  {
   "cell_type": "code",
   "execution_count": 28,
   "id": "4afa4279-b28b-4fc6-b6d2-da8761ec2be4",
   "metadata": {
    "collapsed": true,
    "jupyter": {
     "outputs_hidden": true
    },
    "tags": []
   },
   "outputs": [
    {
     "name": "stdout",
     "output_type": "stream",
     "text": [
      " Volume in drive C is Windows-SSD\n",
      " Volume Serial Number is 662C-0CC4\n",
      "\n",
      " Directory of C:\\Users\\Carin\\pythonCode\n",
      "\n",
      "03/18/2024  03:28 PM    <DIR>          .\n",
      "02/06/2024  02:01 PM    <DIR>          ..\n",
      "03/18/2024  03:05 PM    <DIR>          .ipynb_checkpoints\n",
      "06/12/2023  03:44 PM         1,586,556 Avenir.ttc\n",
      "03/08/2023  12:03 PM            52,695 HCexploration.ipynb\n",
      "03/08/2023  12:03 PM             1,186 juanNapariFx.py\n",
      "03/08/2023  12:03 PM            34,213 jupyterUserPrefs.json\n",
      "03/08/2023  12:23 PM            36,316 lloyd.py\n",
      "03/18/2024  03:28 PM             8,090 MergingPDF.ipynb\n",
      "03/08/2023  12:23 PM            41,814 oldSegmentationTemplate.ipynb\n",
      "10/23/2023  05:14 PM            19,926 PCRsetup.ipynb\n",
      "03/08/2023  12:23 PM         2,823,318 photoArraysModels.ipynb\n",
      "12/08/2023  03:18 PM           183,953 plotFragAnalysis.ipynb\n",
      "06/12/2023  03:47 PM             9,879 plotParams.py\n",
      "11/22/2023  10:04 PM           485,546 Plot_photoreceptorCounts.ipynb\n",
      "03/08/2023  12:23 PM             8,410 polygonClipper.py\n",
      "07/20/2023  11:46 AM            81,058 pr_tbx2aF3analysis_RU.ipynb\n",
      "05/25/2023  04:51 PM            69,836 pr_tbx2aF3_nr2e3F0_analysis_20220128.ipynb\n",
      "07/06/2023  03:48 PM           101,401 pr_tbx2aF3_nr2e3F0_immunosanalysis_20220128.ipynb\n",
      "06/05/2023  01:02 PM            46,647 pr_tbx2aF4analysis_RU.ipynb\n",
      "05/31/2023  02:47 PM            52,113 pr_tbx2bF3analysis_20211201.ipynb\n",
      "06/04/2023  11:09 AM            64,396 pr_tbx2bF3analysis_20220107.ipynb\n",
      "06/30/2023  01:18 PM            63,033 pr_tbx2bF3_nr2e3F0_analysis_20220128.ipynb\n",
      "07/07/2023  04:25 PM           111,908 pr_tbx2bF3_nr2e3F0_immunosanalysis_20220128.ipynb\n",
      "06/07/2023  01:37 PM           247,625 PythonPlotTutorial.ipynb\n",
      "06/12/2023  12:23 PM            50,735 segmentationTemplate.ipynb\n",
      "06/05/2023  03:47 PM               617 Untitled.ipynb\n",
      "02/20/2024  04:29 PM            18,934 VSDPlotting_20240220.ipynb\n",
      "06/12/2023  03:47 PM    <DIR>          __pycache__\n",
      "              25 File(s)      6,200,205 bytes\n",
      "               4 Dir(s)  761,037,008,896 bytes free\n"
     ]
    }
   ],
   "source": [
    "!pip install pypdf\n",
    "!dir"
   ]
  },
  {
   "cell_type": "code",
   "execution_count": 33,
   "id": "951d0854-abfe-4033-8f43-98eb051c26d6",
   "metadata": {
    "tags": []
   },
   "outputs": [],
   "source": [
    "# Merging PDF Files\n",
    "\n",
    "from pypdf import PdfWriter\n",
    "\n",
    "merger = PdfWriter()\n",
    "\n",
    "dPath = \"G:/Shared drives/labNotebook/Householder/Grants/2024_Travel/\"\n",
    "\n",
    "for pdf in [\"CMHgoldhaberapplication2024.pdf\", \"CMH_GoldhaberTravelRequest.pdf\", \"GRCInvitation.pdf\", \"2024GRCAbstract.pdf\"]:\n",
    "    merger.append(dPath + pdf)\n",
    "\n",
    "merger.write(dPath + \"CMHGoldhaber-merged.pdf\")\n",
    "merger.close()"
   ]
  },
  {
   "cell_type": "code",
   "execution_count": 21,
   "id": "f19a33ca-7e0a-4adc-a29f-684ae6a19985",
   "metadata": {
    "tags": []
   },
   "outputs": [],
   "source": []
  },
  {
   "cell_type": "code",
   "execution_count": 31,
   "id": "b7448653-8e36-43eb-a2fc-d9e1714c2685",
   "metadata": {
    "tags": []
   },
   "outputs": [
    {
     "name": "stderr",
     "output_type": "stream",
     "text": [
      "Invalid switch - \"G:\".\n"
     ]
    }
   ],
   "source": [
    "!dir $dPath\n"
   ]
  },
  {
   "cell_type": "code",
   "execution_count": null,
   "id": "7c8473f9-61d9-4d29-b03a-43105cc09cb3",
   "metadata": {},
   "outputs": [],
   "source": []
  },
  {
   "cell_type": "code",
   "execution_count": null,
   "id": "423e9992-5986-4ee1-b019-e055e38b918d",
   "metadata": {},
   "outputs": [],
   "source": []
  }
 ],
 "metadata": {
  "kernelspec": {
   "display_name": "Python 3 (ipykernel)",
   "language": "python",
   "name": "python3"
  },
  "language_info": {
   "codemirror_mode": {
    "name": "ipython",
    "version": 3
   },
   "file_extension": ".py",
   "mimetype": "text/x-python",
   "name": "python",
   "nbconvert_exporter": "python",
   "pygments_lexer": "ipython3",
   "version": "3.9.16"
  }
 },
 "nbformat": 4,
 "nbformat_minor": 5
}
