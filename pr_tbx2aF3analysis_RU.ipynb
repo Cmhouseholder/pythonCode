{
 "cells": [
  {
   "cell_type": "markdown",
   "metadata": {},
   "source": [
    "# Photoreceptor segmentation using [napari](https://napari.org/) and [cellpose](https://cellpose-napari.readthedocs.io/en/latest/index.html)"
   ]
  },
  {
   "cell_type": "markdown",
   "metadata": {},
   "source": [
    "### Basic usage:\n",
    "```python\n",
    "viewer = napari.Viewer()\n",
    "nbscreenshot(viewer)\n",
    "viewer.close()\n",
    "```\n",
    "\n",
    "example notebooks [here](https://github.com/sofroniewn/napari-training-course/blob/master/lessons/)"
   ]
  },
  {
   "cell_type": "code",
   "execution_count": 2,
   "metadata": {
    "tags": []
   },
   "outputs": [
    {
     "ename": "ModuleNotFoundError",
     "evalue": "No module named 'cellpose'",
     "output_type": "error",
     "traceback": [
      "\u001b[1;31m---------------------------------------------------------------------------\u001b[0m",
      "\u001b[1;31mModuleNotFoundError\u001b[0m                       Traceback (most recent call last)",
      "Cell \u001b[1;32mIn[2], line 4\u001b[0m\n\u001b[0;32m      1\u001b[0m \u001b[38;5;66;03m# !mamba install -c conda-forge devbio-napari --yes\u001b[39;00m\n\u001b[0;32m      2\u001b[0m \u001b[38;5;66;03m# !jupyter labextension list\u001b[39;00m\n\u001b[0;32m      3\u001b[0m \u001b[38;5;66;03m# !mamba install -c conda-forge cellpose-napari --yes\u001b[39;00m\n\u001b[1;32m----> 4\u001b[0m \u001b[38;5;28;01mfrom\u001b[39;00m \u001b[38;5;21;01mcellpose\u001b[39;00m \u001b[38;5;28;01mimport\u001b[39;00m models\n",
      "\u001b[1;31mModuleNotFoundError\u001b[0m: No module named 'cellpose'"
     ]
    }
   ],
   "source": [
    "# !mamba install -c conda-forge devbio-napari --yes\n",
    "# !jupyter labextension list\n",
    "# !mamba install -c conda-forge cellpose-napari --yes\n",
    "# from cellpose import models"
   ]
  },
  {
   "cell_type": "code",
   "execution_count": 1,
   "metadata": {
    "tags": []
   },
   "outputs": [
    {
     "data": {
      "application/vnd.jupyter.widget-view+json": {
       "model_id": "7d12e3de478e485d92c65af2aee0e2da",
       "version_major": 2,
       "version_minor": 0
      },
      "text/plain": [
       "VBox(children=(Label(value='Select plotting style', layout=Layout(height='30px', width='20%')), Dropdown(index…"
      ]
     },
     "execution_count": 1,
     "metadata": {},
     "output_type": "execute_result"
    }
   ],
   "source": [
    "# image analysis\n",
    "import napari\n",
    "from magicgui import magicgui\n",
    "from enum import Enum\n",
    "import cellpose_napari\n",
    "import cellpose\n",
    "from cellpose import models\n",
    "from tifffile import imread\n",
    "import napari_nikon_nd2\n",
    "from skimage.io import imread\n",
    "from magicgui import magicgui\n",
    "# python basics and plotting\n",
    "import numpy as np\n",
    "import pandas as pd\n",
    "import math\n",
    "from scipy import ndimage\n",
    "from scipy.stats import kruskal\n",
    "from scipy.stats import zscore\n",
    "from scipy.stats import sem\n",
    "import scikit_posthocs\n",
    "import scipy.spatial\n",
    "import matplotlib\n",
    "import matplotlib.pyplot as plt\n",
    "import matplotlib.font_manager as font_manager\n",
    "import svgutils\n",
    "from svgutils.compose import *\n",
    "# system interaction\n",
    "import os.path\n",
    "import time, sys, warnings, re\n",
    "from tqdm.notebook import tqdm, trange\n",
    "import importlib\n",
    "import ipywidgets\n",
    "from IPython.display import display\n",
    "# lab brews\n",
    "from plotParams import *\n",
    "from lloyd import *\n",
    "\n",
    "\n",
    "def getFileList(dirData,gene,fileNameMatch,addDetails=''):\n",
    "   fileList = sorted([f for f in os.listdir(dirData) if not f.startswith('.')]) # get all the files in the data directory (excluding system files) and sort them alphabatically\n",
    "   fileList = ([f for f in fileList if gene in f]) # select files that match the gene of interest\n",
    "   fileList = ([f for f in fileList if any([s in f for s in fileNameMatch])]) # only keep relevant files\n",
    "   if (addDetails=='path'):\n",
    "      fileList = (['# filePath = \\'' + f for f in fileList]) # add text before each file\n",
    "      fileList = list(map(lambda st: str.replace(st, '.nd2', '\\'; gene = \\'' + gene + '\\'; '), fileList)) #remove file extension (.nd2) and add text after each file\n",
    "   elif (addDetails=='list'):\n",
    "      fileList = (['\\'' + f for f in fileList]) # add text before each file\n",
    "      fileList = list(map(lambda st: str.replace(st, '.nd2', '\\','), fileList)) #remove file extension (.nd2) and add text after each file\n",
    "   else:\n",
    "      fileList = list(map(lambda st: str.replace(st, '.nd2', ''), fileList)) #remove file extension (.nd2) and add text after each file\n",
    "   return fileList\n",
    "\n",
    "\n",
    "pBGMenu = ipywidgets.Dropdown(options=['Light', 'Dark'],value='Dark',disabled=False, layout=ipywidgets.Layout(width='20%', height='40px'))\n",
    "pBGLabel = ipywidgets.widgets.Label('Select plotting style', layout=ipywidgets.Layout(width='20%', height='30px'))\n",
    "pBG = ipywidgets.widgets.VBox([pBGLabel,pBGMenu])\n",
    "pBG"
   ]
  },
  {
   "cell_type": "code",
   "execution_count": 2,
   "metadata": {
    "tags": []
   },
   "outputs": [
    {
     "name": "stdout",
     "output_type": "stream",
     "text": [
      "Plotting style is Dark\n"
     ]
    }
   ],
   "source": [
    "applyPlotStyle(pBGMenu.value)\n",
    "viewer = napari.Viewer()"
   ]
  },
  {
   "cell_type": "code",
   "execution_count": 22,
   "metadata": {
    "tags": []
   },
   "outputs": [
    {
     "name": "stderr",
     "output_type": "stream",
     "text": [
      "WARNING: DirectWrite: CreateFontFaceFromHDC() failed (Indicates an error in an input file such as a font file.) for QFontDef(Family=\"\", pointsize=12, pixelsize=16, styleHint=5, weight=50, stretch=100, hintingPreference=0) LOGFONT(\"MS Sans Serif\", lfWidth=0, lfHeight=-16) dpi=144\n",
      "WARNING: QWindowsWindow::setGeometry: Unable to set geometry 3840x2018-3840+46 (frame: 3862x2074-3851+1) on QWidgetWindow/\"_QtMainWindowClassWindow\" on \"\\\\.\\DISPLAY1\". Resulting geometry: 1924x1096-3840+46 (frame: 1946x1152-3851+1) margins: 11, 45, 11, 11 minimum size: 374x548 MINMAXINFO maxSize=0,0 maxpos=0,0 mintrack=770,1152 maxtrack=0,0)\n"
     ]
    }
   ],
   "source": [
    "# viewer = napari.Viewer()"
   ]
  },
  {
   "cell_type": "code",
   "execution_count": 78,
   "metadata": {
    "tags": []
   },
   "outputs": [],
   "source": [
    "# viewer.close()"
   ]
  },
  {
   "cell_type": "markdown",
   "metadata": {},
   "source": [
    "***\n",
    "# Index <a id='Index'></a>\n",
    "***\n",
    "- [define directories](#dirDef)\n",
    "- [Extraction of z planes for analysis](#zExtract)\n",
    "- [Segmentation with cellpose](#cellSeg)\n",
    "- [Manual correction of segmentation](#manualCuration)\n",
    "- [Create thumbnails _WIP_](#thumbnails)\n",
    "- [Quantification](#quantification)"
   ]
  },
  {
   "cell_type": "markdown",
   "metadata": {
    "tags": []
   },
   "source": [
    "***\n",
    "## Define directories<a id='dirDefdirDef'>∮</a>\n",
    "***\n",
    "[Back to Index](#Index)"
   ]
  },
  {
   "cell_type": "code",
   "execution_count": 3,
   "metadata": {
    "tags": []
   },
   "outputs": [],
   "source": [
    "# define where all the imaging data is stored\n",
    "dirData = 'D:/Imaging/A1R/20220408_tbx2aF3/'\n",
    "# define where all the analysis files should be stored\n",
    "# subdirectories for each gene and transgenic lines need to be manually made first\n",
    "dirAnalysis = \"G:/Shared drives/vldImaging/Analysis/F3tbx2a/xOGs1C/\""
   ]
  },
  {
   "cell_type": "code",
   "execution_count": 4,
   "metadata": {
    "tags": []
   },
   "outputs": [
    {
     "name": "stdout",
     "output_type": "stream",
     "text": [
      "# filePath = '20220408_5dpf_tbx2aF1xF3_xOG_s1C_L01_002'; gene = 'tbx2aF1xF3'; \n",
      "# filePath = '20220408_5dpf_tbx2aF1xF3_xOG_s1C_L01_004'; gene = 'tbx2aF1xF3'; \n",
      "# filePath = '20220408_5dpf_tbx2aF1xF3_xOG_s1C_L02_002'; gene = 'tbx2aF1xF3'; \n",
      "# filePath = '20220408_5dpf_tbx2aF1xF3_xOG_s1C_L02_004'; gene = 'tbx2aF1xF3'; \n",
      "# filePath = '20220408_5dpf_tbx2aF1xF3_xOG_s1C_L03_002'; gene = 'tbx2aF1xF3'; \n",
      "# filePath = '20220408_5dpf_tbx2aF1xF3_xOG_s1C_L03_004'; gene = 'tbx2aF1xF3'; \n",
      "# filePath = '20220408_5dpf_tbx2aF1xF3_xOG_s1C_L04_002'; gene = 'tbx2aF1xF3'; \n",
      "# filePath = '20220408_5dpf_tbx2aF1xF3_xOG_s1C_L04_004'; gene = 'tbx2aF1xF3'; \n",
      "# filePath = '20220408_5dpf_tbx2aF1xF3_xOG_s1C_L05_002'; gene = 'tbx2aF1xF3'; \n",
      "# filePath = '20220408_5dpf_tbx2aF1xF3_xOG_s1C_L05_004'; gene = 'tbx2aF1xF3'; \n",
      "# filePath = '20220408_5dpf_tbx2aF1xF3_xOG_s1C_L06_002'; gene = 'tbx2aF1xF3'; \n",
      "# filePath = '20220408_5dpf_tbx2aF1xF3_xOG_s1C_L06_004'; gene = 'tbx2aF1xF3'; \n",
      "# filePath = '20220408_5dpf_tbx2aF1xF3_xOG_s1C_L07_002'; gene = 'tbx2aF1xF3'; \n",
      "# filePath = '20220408_5dpf_tbx2aF1xF3_xOG_s1C_L07_004'; gene = 'tbx2aF1xF3'; \n",
      "# filePath = '20220408_5dpf_tbx2aF1xF3_xOG_s1C_L08_002'; gene = 'tbx2aF1xF3'; \n",
      "# filePath = '20220408_5dpf_tbx2aF1xF3_xOG_s1C_L09_002'; gene = 'tbx2aF1xF3'; \n",
      "# filePath = '20220408_5dpf_tbx2aF1xF3_xOG_s1C_L10_002'; gene = 'tbx2aF1xF3'; \n",
      "# filePath = '20220408_5dpf_tbx2aF1xF3_xOG_s1C_L10_004'; gene = 'tbx2aF1xF3'; \n",
      "# filePath = '20220408_5dpf_tbx2aF1xF3_xOG_s1C_L12_002'; gene = 'tbx2aF1xF3'; \n",
      "# filePath = '20220408_5dpf_tbx2aF1xF3_xOG_s1C_L13_002'; gene = 'tbx2aF1xF3'; \n",
      "# filePath = '20220408_5dpf_tbx2aF1xF3_xOG_s1C_L13_004'; gene = 'tbx2aF1xF3'; \n",
      "# filePath = '20220408_5dpf_tbx2aF1xF3_xOG_s1C_L14_002'; gene = 'tbx2aF1xF3'; \n",
      "# filePath = '20220408_5dpf_tbx2aF1xF3_xOG_s1C_L14_004'; gene = 'tbx2aF1xF3'; \n",
      "# filePath = '20220408_5dpf_tbx2aF1xF3_xOG_s1C_L15_002'; gene = 'tbx2aF1xF3'; \n",
      "# filePath = '20220408_5dpf_tbx2aF1xF3_xOG_s1C_L15_004'; gene = 'tbx2aF1xF3'; \n",
      "# filePath = '20220408_5dpf_tbx2aF1xF3_xOG_s1C_L16_002'; gene = 'tbx2aF1xF3'; \n",
      "# filePath = '20220408_5dpf_tbx2aF1xF3_xOG_s1C_L16_004'; gene = 'tbx2aF1xF3'; \n"
     ]
    }
   ],
   "source": [
    "gene = 'tbx2aF1xF3' # usually 'wt' or gene of interest (e.g. 'tbx2a', 'lhx1a')\n",
    "# gene = 'lhx1a' # usually 'wt' or gene of interest (e.g. 'tbx2a', 'lhx1a')\n",
    "fileNameMatch = ['002','004'] # characters in filenames that define zoom-in files\n",
    "\n",
    "# get a list with all the relevant files\n",
    "print(*getFileList(dirData,gene,fileNameMatch,addDetails='path'), sep = \"\\n\") #display the file list for copy and paste below"
   ]
  },
  {
   "cell_type": "markdown",
   "metadata": {
    "tags": []
   },
   "source": [
    "***\n",
    "## Extract layers from z-stacks<a id='zExtract'>∮</a>\n",
    "> Open z-stack &rarr; Pick limits in z for Maximum-Intensity Projection (_MIP_) &rarr; save MIPs &rarr; Ensure image was located in central retina\n",
    "***\n",
    "[Back to Index](#Index)"
   ]
  },
  {
   "cell_type": "code",
   "execution_count": 72,
   "metadata": {
    "tags": []
   },
   "outputs": [
    {
     "name": "stderr",
     "output_type": "stream",
     "text": [
      "WARNING: DirectWrite: CreateFontFaceFromHDC() failed (Indicates an error in an input file such as a font file.) for QFontDef(Family=\"\", pointsize=12, pixelsize=16, styleHint=5, weight=50, stretch=100, hintingPreference=0) LOGFONT(\"MS Sans Serif\", lfWidth=0, lfHeight=-16) dpi=144\n"
     ]
    }
   ],
   "source": [
    "# clear viewer if needed\n",
    "viewer.layers.select_all()\n",
    "viewer.layers.remove_selected()"
   ]
  },
  {
   "cell_type": "code",
   "execution_count": 5,
   "metadata": {
    "tags": []
   },
   "outputs": [
    {
     "ename": "NameError",
     "evalue": "name 'filePath' is not defined",
     "output_type": "error",
     "traceback": [
      "\u001b[1;31m---------------------------------------------------------------------------\u001b[0m",
      "\u001b[1;31mNameError\u001b[0m                                 Traceback (most recent call last)",
      "Cell \u001b[1;32mIn[5], line 70\u001b[0m\n\u001b[0;32m     67\u001b[0m layerNames \u001b[38;5;241m=\u001b[39m [\u001b[38;5;124m'\u001b[39m\u001b[38;5;124mR\u001b[39m\u001b[38;5;124m'\u001b[39m,\u001b[38;5;124m'\u001b[39m\u001b[38;5;124mU\u001b[39m\u001b[38;5;124m'\u001b[39m]\n\u001b[0;32m     69\u001b[0m \u001b[38;5;66;03m# create subdirectory for analysis output\u001b[39;00m\n\u001b[1;32m---> 70\u001b[0m dirOut \u001b[38;5;241m=\u001b[39m dirAnalysis \u001b[38;5;241m+\u001b[39m gene \u001b[38;5;241m+\u001b[39m \u001b[38;5;124m'\u001b[39m\u001b[38;5;124m/\u001b[39m\u001b[38;5;124m'\u001b[39m \u001b[38;5;241m+\u001b[39m \u001b[43mfilePath\u001b[49m \u001b[38;5;241m+\u001b[39m \u001b[38;5;124m'\u001b[39m\u001b[38;5;124m/\u001b[39m\u001b[38;5;124m'\u001b[39m\n\u001b[0;32m     71\u001b[0m \u001b[38;5;28;01mif\u001b[39;00m (os\u001b[38;5;241m.\u001b[39mpath\u001b[38;5;241m.\u001b[39misdir(dirOut)\u001b[38;5;241m==\u001b[39m\u001b[38;5;28;01mFalse\u001b[39;00m):\n\u001b[0;32m     72\u001b[0m    os\u001b[38;5;241m.\u001b[39mmkdir(dirOut)\n",
      "\u001b[1;31mNameError\u001b[0m: name 'filePath' is not defined"
     ]
    }
   ],
   "source": [
    "# clear viewer before any loading\n",
    "viewer.layers.select_all()\n",
    "viewer.layers.remove_selected()\n",
    "\n",
    "# open files one by one (by commenting and uncommenting each one)\n",
    "\n",
    "#tbx2aF1xF3\n",
    "# filePath = '20220408_5dpf_tbx2aF1xF3_xOG_s1C_L01_002'; gene = 'tbx2aF1xF3'; zlims=[29,31]; #nalou, no rods\n",
    "# filePath = '20220408_5dpf_tbx2aF1xF3_xOG_s1C_L01_004'; gene = 'tbx2aF1xF3tbx2aF1xF3'; zlims = [21,23]; #nalou, no rods\n",
    "# filePath = '20220408_5dpf_tbx2aF1xF3_xOG_s1C_L02_002'; gene = 'tbx2aF1xF3'; zlims = [22,24]; #nalou, no rods\n",
    "# filePath = '20220408_5dpf_tbx2aF1xF3_xOG_s1C_L02_004'; gene = 'tbx2aF1xF3'; zlims = [19,21]; #no rods\n",
    "# filePath = '20220408_5dpf_tbx2aF1xF3_xOG_s1C_L03_002'; gene = 'tbx2aF1xF3'; zlims = [28,30]; #nalou, no rods\n",
    "# filePath = '20220408_5dpf_tbx2aF1xF3_xOG_s1C_L03_004'; gene = 'tbx2aF1xF3'; zlims = [27,29]; #no rods\n",
    "# filePath = '20220408_5dpf_tbx2aF1xF3_xOG_s1C_L04_002'; gene = 'tbx2aF1xF3'; zlims = [24,26]; #no rods\n",
    "# filePath = '20220408_5dpf_tbx2aF1xF3_xOG_s1C_L04_004'; gene = 'tbx2aF1xF3'; zlims = [25,27]; #no rods\n",
    "# filePath = '20220408_5dpf_tbx2aF1xF3_xOG_s1C_L05_002'; gene = 'tbx2aF1xF3'; zlims = [26,28]; #some rods looks wt to me\n",
    "# filePath = '20220408_5dpf_tbx2aF1xF3_xOG_s1C_L05_004'; gene = 'tbx2aF1xF3'; zlims = [39,41]; #some rods\n",
    "# filePath = '20220408_5dpf_tbx2aF1xF3_xOG_s1C_L06_002'; gene = 'tbx2aF1xF3'; zlims = [19,21]; #no rods\n",
    "# filePath = '20220408_5dpf_tbx2aF1xF3_xOG_s1C_L06_004'; gene = 'tbx2aF1xF3'; zlims = [21,23];\n",
    "# filePath = '20220408_5dpf_tbx2aF1xF3_xOG_s1C_L07_002'; gene = 'tbx2aF1xF3'; zlims = [31,33]; #some rods\n",
    "# filePath = '20220408_5dpf_tbx2aF1xF3_xOG_s1C_L07_004'; gene = 'tbx2aF1xF3'; zlims = [33,35]; #some rods\n",
    "# filePath = '20220408_5dpf_tbx2aF1xF3_xOG_s1C_L08_002'; gene = 'tbx2aF1xF3'; zlims = [19,21]; #no rods\n",
    "# filePath = '20220408_5dpf_tbx2aF1xF3_xOG_s1C_L09_002'; gene = 'tbx2aF1xF3'; zlims = [28,30]; #lots of UV, some rods. \n",
    "# filePath = '20220408_5dpf_tbx2aF1xF3_xOG_s1C_L10_002'; gene = 'tbx2aF1xF3'; zlims = [26,28]; #lots of UV, some rods. \n",
    "# filePath = '20220408_5dpf_tbx2aF1xF3_xOG_s1C_L10_004'; gene = 'tbx2aF1xF3'; zlims = [28,30]; #lots of UV, some rods.\n",
    "# filePath = '20220408_5dpf_tbx2aF1xF3_xOG_s1C_L12_002'; gene = 'tbx2aF1xF3'; zlims = [37,39]; #Less UV, some rods\n",
    "# filePath = '20220408_5dpf_tbx2aF1xF3_xOG_s1C_L13_002'; gene = 'tbx2aF1xF3'; zlims = [43,45]; #lots UV, some rods\n",
    "# filePath = '20220408_5dpf_tbx2aF1xF3_xOG_s1C_L13_004'; gene = 'tbx2aF1xF3'; zlims = [33,35]; #less rods, lots UV\n",
    "# filePath = '20220408_5dpf_tbx2aF1xF3_xOG_s1C_L14_002'; gene = 'tbx2aF1xF3'; zlims = [27,29];\n",
    "# filePath = '20220408_5dpf_tbx2aF1xF3_xOG_s1C_L14_004'; gene = 'tbx2aF1xF3'; zlims = [37,39];\n",
    "# filePath = '20220408_5dpf_tbx2aF1xF3_xOG_s1C_L15_002'; gene = 'tbx2aF1xF3'; zlims = [31,33];\n",
    "# filePath = '20220408_5dpf_tbx2aF1xF3_xOG_s1C_L15_004'; gene = 'tbx2aF1xF3'; zlims = [35,37];\n",
    "# filePath = '20220408_5dpf_tbx2aF1xF3_xOG_s1C_L16_002'; gene = 'tbx2aF1xF3'; zlims = [29,31];\n",
    "# filePath = '20220408_5dpf_tbx2aF1xF3_xOG_s1C_L16_004'; gene = 'tbx2aF1xF3'; zlims = [33,35];\n",
    "\n",
    "#tbx2aF3\n",
    "# filePath = '20220408_5dpf_tbx2aF3_xOG_s1C_L01_002'; gene = 'tbx2aF3'; zlims = [34,36];\n",
    "# filePath = '20220408_5dpf_tbx2aF3_xOG_s1C_L01_004'; gene = 'tbx2aF3'; zlims = [30,32];\n",
    "# filePath = '20220408_5dpf_tbx2aF3_xOG_s1C_L02_002'; gene = 'tbx2aF3'; zlims = [39,41];\n",
    "# filePath = '20220408_5dpf_tbx2aF3_xOG_s1C_L02_004'; gene = 'tbx2aF3'; zlims = [26,28];\n",
    "# filePath = '20220408_5dpf_tbx2aF3_xOG_s1C_L03_002'; gene = 'tbx2aF3'; zlims = [41,43];\n",
    "# filePath = '20220408_5dpf_tbx2aF3_xOG_s1C_L03_004'; gene = 'tbx2aF3'; zlims = [33,35];\n",
    "# filePath = '20220408_5dpf_tbx2aF3_xOG_s1C_L04_002'; gene = 'tbx2aF3'; zlims = [23,25];\n",
    "# filePath = '20220408_5dpf_tbx2aF3_xOG_s1C_L04_004'; gene = 'tbx2aF3'; zlims = [43,45];\n",
    "# filePath = '20220408_5dpf_tbx2aF3_xOG_s1C_L05_002'; gene = 'tbx2aF3'; zlims = [29,31];\n",
    "# filePath = '20220408_5dpf_tbx2aF3_xOG_s1C_L06_002'; gene = 'tbx2aF3'; zlims = [25,27];\n",
    "# filePath = '20220408_5dpf_tbx2aF3_xOG_s1C_L06_004'; gene = 'tbx2aF3'; zlims = [22,24];\n",
    "# filePath = '20220408_5dpf_tbx2aF3_xOG_s1C_L07_002'; gene = 'tbx2aF3'; zlims = [28,30];\n",
    "# filePath = '20220408_5dpf_tbx2aF3_xOG_s1C_L07_004'; gene = 'tbx2aF3'; zlims = [23,25];\n",
    "# filePath = '20220408_5dpf_tbx2aF3_xOG_s1C_L08_002'; gene = 'tbx2aF3'; zlims = [23,25];\n",
    "# filePath = '20220408_5dpf_tbx2aF3_xOG_s1C_L09_002'; gene = 'tbx2aF3'; zlims = [21,23];\n",
    "# filePath = '20220408_5dpf_tbx2aF3_xOG_s1C_L09_004'; gene = 'tbx2aF3'; zlims = [27,29];\n",
    "# filePath = '20220408_tbx2aF3_xOG_s1C_L11_002'; gene = 'tbx2aF3'; zlims = [30,32];\n",
    "# filePath = '20220408_tbx2aF3_xOG_s1C_L11_004'; gene = 'tbx2aF3'; zlims = [29,31];\n",
    "# filePath = '20220408_tbx2aF3_xOG_s1C_L12_002'; gene = 'tbx2aF3'; zlims = [29,31];\n",
    "# filePath = '20220408_tbx2aF3_xOG_s1C_L12_004'; gene = 'tbx2aF3'; zlims = [37,39];\n",
    "# filePath = '20220408_tbx2aF3_xOG_s1C_L13_002'; gene = 'tbx2aF3'; zlims = [23,25];\n",
    "# filePath = '20220408_tbx2aF3_xOG_s1C_L13_004'; gene = 'tbx2aF3'; zlims = [32,34];\n",
    "# filePath = '20220408_tbx2aF3_xOG_s1C_L14_002'; gene = 'tbx2aF3'; zlims = [38,40];\n",
    "# filePath = '20220408_tbx2aF3_xOG_s1C_L14_004'; gene = 'tbx2aF3'; zlims = [42,44];\n",
    "# filePath = '20220408_tbx2aF3_xOG_s1C_L15_002'; gene = 'tbx2aF3'; zlims = [41,43];\n",
    "# filePath = '20220408_tbx2aF3_xOG_s1C_L15_004'; gene = 'tbx2aF3'; zlims = [37,39];\n",
    "# filePath = '20220408_tbx2aF3_xOG_s1C_L16_002'; gene = 'tbx2aF3'; zlims = [41,43];\n",
    "# filePath = '20220408_tbx2aF3_xOG_s1C_L16_004'; gene = 'tbx2aF3';zlims = [45,47];\n",
    "\n",
    "\n",
    "layerNames = ['R','U']\n",
    "\n",
    "# create subdirectory for analysis output\n",
    "dirOut = dirAnalysis + gene + '/' + filePath + '/'\n",
    "if (os.path.isdir(dirOut)==False):\n",
    "   os.mkdir(dirOut)\n",
    "   print('Created output directory')\n",
    "\n",
    "print('Canvas cleared. Loading data...\\n\\n')\n",
    "\n",
    "# load whole stack to figure out best z-planes for cellpose\n",
    "viewer.open((dirData+filePath + '.nd2'), plugin='napari-nikon-nd2')\n",
    "viewer.layers.remove(viewer.layers[len(viewer.layers)-1]) # remove transmitted detector image\n",
    "viewer.layers.select_next();\n",
    "if len(viewer.layers)==2: #no DAPI\n",
    "   nChannels = 2\n",
    "   viewer.layers[0].colormap = 'green'\n",
    "   viewer.layers[0].name = layerNames[0]\n",
    "   viewer.layers[1].colormap = 'magenta'\n",
    "   viewer.layers[1].name = layerNames[1]\n",
    "elif len(viewer.layers)==3: #DAPI\n",
    "   nChannels = 3\n",
    "   viewer.layers[0].colormap = 'gray'\n",
    "   viewer.layers[0].name = 'N'\n",
    "   viewer.layers[0].opacity = 0.99\n",
    "   viewer.layers[1].colormap = 'green'\n",
    "   viewer.layers[1].name = layerNames[0]\n",
    "   viewer.layers[2].colormap = 'magenta'\n",
    "   viewer.layers[2].name = layerNames[1]\n",
    "   layerNames.append('N')\n",
    "elif len(viewer.layers)==4: #DAPI\n",
    "   nChannels = 4\n",
    "   viewer.layers[0].colormap = 'gray'\n",
    "   viewer.layers[0].name = 'N'\n",
    "   viewer.layers[0].opacity = 0.99\n",
    "   viewer.layers[1].colormap = 'green'\n",
    "   viewer.layers[1].name = layerNames[0]\n",
    "   viewer.layers[2].colormap = 'magenta'\n",
    "   viewer.layers[2].name = layerNames[1]\n",
    "   viewer.layers[3].colormap = 'bop orange'\n",
    "   viewer.layers[3].name = layerNames[2]\n",
    "   layerNames.append('N')\n",
    "\n",
    "print('Images loaded!')"
   ]
  },
  {
   "cell_type": "code",
   "execution_count": 233,
   "metadata": {
    "tags": []
   },
   "outputs": [],
   "source": [
    "# make mips (and remove any previous ones) by defining the z-limits to use\n",
    "zlims = [45,47];\n",
    "if len(viewer.layers)>nChannels:\n",
    "    for l in viewer.layers[nChannels:]:\n",
    "      viewer.layers.remove(l)\n",
    "\n",
    "for l in viewer.layers[0:nChannels]:\n",
    "    l.visible = False\n",
    "#     viewer.layers.remove(l.name + '_mip')\n",
    "    viewer.add_image(l.data[zlims[0]:zlims[1]].max(axis=0), blending='additive', colormap = l.colormap, name = l.name + \"_mip\")"
   ]
  },
  {
   "cell_type": "code",
   "execution_count": 234,
   "metadata": {
    "tags": []
   },
   "outputs": [
    {
     "name": "stdout",
     "output_type": "stream",
     "text": [
      "MIP layers saved for 20220408_tbx2aF3_xOG_s1C_L16_004\n"
     ]
    }
   ],
   "source": [
    "# SAVE in folder for batch cellpose analysis (when mips look good)\n",
    "for name in layerNames:\n",
    "   l = viewer.layers[name + '_mip']; l.save(dirOut + l.name + '.tiff')\n",
    "print('MIP layers saved for ' + filePath)"
   ]
  },
  {
   "cell_type": "markdown",
   "metadata": {},
   "source": [
    "### Establish landmarks in whole-eye MIP\n",
    "- Use eyeMarks layer to mark:\n",
    "    - [ ] Landmark #1: Center of FOV (where zoom in is centered)\n",
    "    - [ ] Landmark #2: Center of Optic Nerve Head \n",
    "    - [ ] Landmark #3: Dorsal edge of eye\n",
    "    - [ ] Landmark #4: Ventral edge of eye\n",
    "    - [ ] Landmark #5: Temporal edge of eye (strike zone side)\n",
    "    - [ ] Landmark #6: Nasal edge of eye\n",
    "- Decide if stack should be excluded (and stop analysis here and make note in csv summary file)"
   ]
  },
  {
   "cell_type": "code",
   "execution_count": 235,
   "metadata": {
    "tags": []
   },
   "outputs": [
    {
     "name": "stdout",
     "output_type": "stream",
     "text": [
      "Loading eye mip...\n",
      "2\n",
      "Loaded: 20220408_tbx2aF3_xOG_s1C_L16_004\n",
      "Make 6 landmark points then click button to save\n"
     ]
    },
    {
     "data": {
      "application/vnd.jupyter.widget-view+json": {
       "model_id": "9b1025941baf42db8dc16bdf5f7b375b",
       "version_major": 2,
       "version_minor": 0
      },
      "text/plain": [
       "VBox(children=(Button(description='Save eyeMarks', layout=Layout(height='100px', width='200px'), style=ButtonS…"
      ]
     },
     "execution_count": 235,
     "metadata": {},
     "output_type": "execute_result"
    }
   ],
   "source": [
    "nMIP = len(layerNames)\n",
    "for name in layerNames:\n",
    "   lName = name + \"_mip\"\n",
    "   viewer.layers[lName].scale = [1.5/8,1.5/8];\n",
    "   viewer.layers[lName].translate = [0,+(512-1024*1.5/(8*2))]\n",
    "\n",
    "# Load whole-eye MIP to establish landmarks\n",
    "print('Loading eye mip...')\n",
    "if str.endswith(filePath,'002'):\n",
    "    mipPath = filePath[:-1] + '1_mip';\n",
    "elif str.endswith(filePath,'004'):\n",
    "    mipPath = filePath[:-1] + '3_mip';\n",
    "elif str.endswith(filePath,'b'):\n",
    "    mipPath = filePath[:-1] + 'a_mip';\n",
    "elif str.endswith(filePath,'d'):\n",
    "    mipPath = filePath[:-1] + 'c_mip';\n",
    "viewer.open((dirData+mipPath + '.nd2'), plugin='napari-nikon-nd2', blending='additive')\n",
    "\n",
    "viewer.layers.remove(viewer.layers[len(viewer.layers)-1]) # remove transmitted detector image\n",
    "viewer.layers.select_next();\n",
    "eyeChannels = 0\n",
    "if len(viewer.layers)==2+nMIP+nChannels: # no DAPI, GFP and RFP\n",
    "   eyeChannels = 2\n",
    "   viewer.layers[nMIP+nChannels].colormap = 'green'\n",
    "   viewer.layers[nMIP+nChannels].name = 'eyeGreen'\n",
    "   viewer.layers[nMIP+nChannels+1].colormap = 'magenta'\n",
    "   viewer.layers[nMIP+nChannels+1].name = 'eyeRed'\n",
    "elif len(viewer.layers)==3+nMIP+nChannels: # leave DIC\n",
    "   eyeChannels = 3\n",
    "   viewer.layers[nMIP+nChannels+0].colormap = 'green'\n",
    "   viewer.layers[nMIP+nChannels+0].name = 'eyeGreen'\n",
    "   viewer.layers[nMIP+nChannels+1].colormap = 'magenta'\n",
    "   viewer.layers[nMIP+nChannels+1].name = 'eyeRed'\n",
    "   viewer.layers[nMIP+nChannels+2].colormap = 'gray'\n",
    "   viewer.layers[nMIP+nChannels+2].name = 'eyeBlue'\n",
    "   viewer.layers[nMIP+nChannels+2].opacity = 0.33\n",
    "elif len(viewer.layers)==4+nMIP+nChannels: #DIC + DAPI\n",
    "   eyeChannels = 4\n",
    "   viewer.layers[nMIP+nChannels+0].colormap = 'gray'\n",
    "   viewer.layers[nMIP+nChannels+0].name = 'eyeBlue'\n",
    "   viewer.layers[nMIP+nChannels+1].colormap = 'green'\n",
    "   viewer.layers[nMIP+nChannels+1].name = 'eyeGreen'\n",
    "   viewer.layers[nMIP+nChannels+2].colormap = 'magenta'\n",
    "   viewer.layers[nMIP+nChannels+2].name = 'eyeRed'\n",
    "   viewer.layers[nMIP+nChannels+3].colormap = 'bop orange'\n",
    "   viewer.layers[nMIP+nChannels+3].name = 'eyePNA'\n",
    "   viewer.layers[nMIP+nChannels+3].opacity = 0.33\n",
    "print(eyeChannels)\n",
    "print('Loaded: ' + filePath)\n",
    "eyeMarks = viewer.add_points(size=20, name = 'eyeMarks', symbol='cross', face_color='#ffffff80')\n",
    "viewer.layers.select_next();\n",
    "\n",
    "# Save eye landmarks\n",
    "eyeMarksButton = ipywidgets.Button(description='Save eyeMarks', layout=ipywidgets.Layout(width='200px', height='100px'))\n",
    "out = ipywidgets.Output()\n",
    "def eyeMClick(_):\n",
    "   with out:\n",
    "      l = viewer.layers['eyeMarks']; l.save(dirOut + l.name + '.csv');\n",
    "      print('eyeMarks layers saved for ' + filePath)\n",
    "   # clear viewer\n",
    "   viewer.layers.select_all()\n",
    "   viewer.layers.remove_selected()\n",
    "   eyeMarksButton.disabled = True # to prevent double clicking warnings. All sales are final!\n",
    "\n",
    "eyeMarksButton.on_click(eyeMClick)\n",
    "\n",
    "print('Make 6 landmark points then click button to save')\n",
    "\n",
    "ipywidgets.VBox([eyeMarksButton,out])"
   ]
  },
  {
   "cell_type": "markdown",
   "metadata": {},
   "source": [
    "### [Go back and run next one &uarr;](#zExtract)"
   ]
  },
  {
   "cell_type": "markdown",
   "metadata": {},
   "source": [
    "***\n",
    "## Segmentation using cellpose<a id='cellSeg'>∮</a>\n",
    "> Define list of files to segment &rarr; Define cellpose parameters &rarr; Run cellpose in each image\n",
    "***\n",
    "[Back to Index](#Index)"
   ]
  },
  {
   "cell_type": "markdown",
   "metadata": {},
   "source": [
    "### Running cellpose as batch analysis\n",
    "Usually for:\n",
    "- Rods: diameter = 20; flow_threshold = 0.5 and mask_threshold = 0.0\n",
    "- Cones: diameter = 40; flow_threshold = 0.5 and mask_threshold = 0.0\n",
    "- Horizontal cells: diameter = 100; flow_threshold = 0.6 and mask_threshold = 0.0\n",
    "\n",
    "> Using a higher _flow_threshold_ (i.e. 0.6 instead of 0.4) will provide more ROIs"
   ]
  },
  {
   "cell_type": "code",
   "execution_count": 7,
   "metadata": {
    "tags": []
   },
   "outputs": [
    {
     "name": "stdout",
     "output_type": "stream",
     "text": [
      "'20220408_5dpf_tbx2aF3_xOG_s1C_L01_002',\n",
      "'20220408_5dpf_tbx2aF3_xOG_s1C_L01_004',\n",
      "'20220408_5dpf_tbx2aF3_xOG_s1C_L02_002',\n",
      "'20220408_5dpf_tbx2aF3_xOG_s1C_L02_004',\n",
      "'20220408_5dpf_tbx2aF3_xOG_s1C_L03_002',\n",
      "'20220408_5dpf_tbx2aF3_xOG_s1C_L03_004',\n",
      "'20220408_5dpf_tbx2aF3_xOG_s1C_L04_002',\n",
      "'20220408_5dpf_tbx2aF3_xOG_s1C_L04_004',\n",
      "'20220408_5dpf_tbx2aF3_xOG_s1C_L05_002',\n",
      "'20220408_5dpf_tbx2aF3_xOG_s1C_L06_002',\n",
      "'20220408_5dpf_tbx2aF3_xOG_s1C_L06_004',\n",
      "'20220408_5dpf_tbx2aF3_xOG_s1C_L07_002',\n",
      "'20220408_5dpf_tbx2aF3_xOG_s1C_L07_004',\n",
      "'20220408_5dpf_tbx2aF3_xOG_s1C_L08_002',\n",
      "'20220408_5dpf_tbx2aF3_xOG_s1C_L09_002',\n",
      "'20220408_5dpf_tbx2aF3_xOG_s1C_L09_004',\n",
      "'20220408_tbx2aF3_xOG_s1C_L11_002',\n",
      "'20220408_tbx2aF3_xOG_s1C_L11_004',\n",
      "'20220408_tbx2aF3_xOG_s1C_L12_002',\n",
      "'20220408_tbx2aF3_xOG_s1C_L12_004',\n",
      "'20220408_tbx2aF3_xOG_s1C_L13_002',\n",
      "'20220408_tbx2aF3_xOG_s1C_L13_004',\n",
      "'20220408_tbx2aF3_xOG_s1C_L14_002',\n",
      "'20220408_tbx2aF3_xOG_s1C_L14_004',\n",
      "'20220408_tbx2aF3_xOG_s1C_L15_002',\n",
      "'20220408_tbx2aF3_xOG_s1C_L15_004',\n",
      "'20220408_tbx2aF3_xOG_s1C_L16_002',\n",
      "'20220408_tbx2aF3_xOG_s1C_L16_004',\n"
     ]
    }
   ],
   "source": [
    "# get file list again\n",
    "gene = 'tbx2aF3'\n",
    "print(*getFileList(dirData,gene,fileNameMatch,addDetails='list'), sep = \"\\n\") #display the file list for copy and paste below"
   ]
  },
  {
   "cell_type": "code",
   "execution_count": 10,
   "metadata": {
    "tags": []
   },
   "outputs": [],
   "source": [
    "# clear viewer\n",
    "viewer.layers.select_all(); viewer.layers.remove_selected()\n",
    "\n",
    "# collect file paths for wild-type\n",
    "gene_wt = 'tbx2aF1xF3'\n",
    "filePaths_wt = [\n",
    "'20220408_5dpf_tbx2aF1xF3_xOG_s1C_L01_002',\n",
    "'20220408_5dpf_tbx2aF1xF3_xOG_s1C_L01_004',\n",
    "'20220408_5dpf_tbx2aF1xF3_xOG_s1C_L02_002',\n",
    "'20220408_5dpf_tbx2aF1xF3_xOG_s1C_L02_004',\n",
    "'20220408_5dpf_tbx2aF1xF3_xOG_s1C_L03_002',\n",
    "'20220408_5dpf_tbx2aF1xF3_xOG_s1C_L03_004',\n",
    "'20220408_5dpf_tbx2aF1xF3_xOG_s1C_L04_002',\n",
    "'20220408_5dpf_tbx2aF1xF3_xOG_s1C_L04_004',\n",
    "'20220408_5dpf_tbx2aF1xF3_xOG_s1C_L05_002',\n",
    "'20220408_5dpf_tbx2aF1xF3_xOG_s1C_L05_004',\n",
    "'20220408_5dpf_tbx2aF1xF3_xOG_s1C_L06_002',\n",
    "'20220408_5dpf_tbx2aF1xF3_xOG_s1C_L06_004',\n",
    "'20220408_5dpf_tbx2aF1xF3_xOG_s1C_L07_002',\n",
    "'20220408_5dpf_tbx2aF1xF3_xOG_s1C_L07_004',\n",
    "'20220408_5dpf_tbx2aF1xF3_xOG_s1C_L08_002',\n",
    "'20220408_5dpf_tbx2aF1xF3_xOG_s1C_L09_002',\n",
    "'20220408_5dpf_tbx2aF1xF3_xOG_s1C_L10_002',\n",
    "'20220408_5dpf_tbx2aF1xF3_xOG_s1C_L10_004',\n",
    "'20220408_5dpf_tbx2aF1xF3_xOG_s1C_L12_002',\n",
    "'20220408_5dpf_tbx2aF1xF3_xOG_s1C_L13_002',\n",
    "'20220408_5dpf_tbx2aF1xF3_xOG_s1C_L13_004',\n",
    "'20220408_5dpf_tbx2aF1xF3_xOG_s1C_L14_002',\n",
    "'20220408_5dpf_tbx2aF1xF3_xOG_s1C_L14_004',\n",
    "'20220408_5dpf_tbx2aF1xF3_xOG_s1C_L15_002',\n",
    "'20220408_5dpf_tbx2aF1xF3_xOG_s1C_L15_004',\n",
    "'20220408_5dpf_tbx2aF1xF3_xOG_s1C_L16_002',\n",
    "'20220408_5dpf_tbx2aF1xF3_xOG_s1C_L16_004',\n",
    "         ]\n",
    "# collect file paths for mutants\n",
    "gene_F0 = 'tbx2aF3'\n",
    "filePaths_F0 = [\n",
    "'20220408_5dpf_tbx2aF3_xOG_s1C_L01_002',\n",
    "'20220408_5dpf_tbx2aF3_xOG_s1C_L01_004',\n",
    "'20220408_5dpf_tbx2aF3_xOG_s1C_L02_002',\n",
    "'20220408_5dpf_tbx2aF3_xOG_s1C_L02_004',\n",
    "'20220408_5dpf_tbx2aF3_xOG_s1C_L03_002',\n",
    "'20220408_5dpf_tbx2aF3_xOG_s1C_L03_004',\n",
    "'20220408_5dpf_tbx2aF3_xOG_s1C_L04_002',\n",
    "'20220408_5dpf_tbx2aF3_xOG_s1C_L04_004',\n",
    "'20220408_5dpf_tbx2aF3_xOG_s1C_L05_002',\n",
    "'20220408_5dpf_tbx2aF3_xOG_s1C_L06_002',\n",
    "'20220408_5dpf_tbx2aF3_xOG_s1C_L06_004',\n",
    "'20220408_5dpf_tbx2aF3_xOG_s1C_L07_002',\n",
    "'20220408_5dpf_tbx2aF3_xOG_s1C_L07_004',\n",
    "'20220408_5dpf_tbx2aF3_xOG_s1C_L08_002',\n",
    "'20220408_5dpf_tbx2aF3_xOG_s1C_L09_002',\n",
    "'20220408_5dpf_tbx2aF3_xOG_s1C_L09_004',\n",
    "'20220408_tbx2aF3_xOG_s1C_L11_002',\n",
    "'20220408_tbx2aF3_xOG_s1C_L11_004',\n",
    "'20220408_tbx2aF3_xOG_s1C_L12_002',\n",
    "'20220408_tbx2aF3_xOG_s1C_L12_004',\n",
    "'20220408_tbx2aF3_xOG_s1C_L13_002',\n",
    "'20220408_tbx2aF3_xOG_s1C_L13_004',\n",
    "'20220408_tbx2aF3_xOG_s1C_L14_002',\n",
    "'20220408_tbx2aF3_xOG_s1C_L14_004',\n",
    "'20220408_tbx2aF3_xOG_s1C_L15_002',\n",
    "'20220408_tbx2aF3_xOG_s1C_L15_004',\n",
    "'20220408_tbx2aF3_xOG_s1C_L16_002',\n",
    "'20220408_tbx2aF3_xOG_s1C_L16_004',\n",
    "         ]\n",
    "\n",
    "\n",
    "# define cellpose parameters\n",
    "cpParams = {\n",
    "    'model' : 'cyto2', # default is 'cyto' or 'cyto2'\n",
    "    'net_avg' : True,\n",
    "    'channels' : [0,0], #single channel without nucleus info\n",
    "    'diameterR' : 25,\n",
    "    'diameterC' : 40,\n",
    "    'diameterH' : 100,\n",
    "    'flow_threshold' : 0.5,\n",
    "    'cellprob_threshold' : 0.0\n",
    "}\n",
    "\n",
    "\n",
    "# define model to use (e.g. 'cyto2')\n",
    "model = models.Cellpose(gpu=False, model_type=cpParams['model'])"
   ]
  },
  {
   "cell_type": "markdown",
   "metadata": {},
   "source": [
    "#### Run in loop to track progress and automatically save results\n",
    "> In Jan 2022: ~4 minutes per 1024 x 1024 image (4 nets). "
   ]
  },
  {
   "cell_type": "code",
   "execution_count": 11,
   "metadata": {
    "tags": []
   },
   "outputs": [
    {
     "name": "stdout",
     "output_type": "stream",
     "text": [
      "Starting analysis for tbx2aF1xF3:\n"
     ]
    },
    {
     "data": {
      "application/vnd.jupyter.widget-view+json": {
       "model_id": "4bf88b21ab924c0683eb9278afcfd9ef",
       "version_major": 2,
       "version_minor": 0
      },
      "text/plain": [
       "  0%|          | 0/54 [00:00<?, ?it/s]"
      ]
     },
     "metadata": {},
     "output_type": "display_data"
    },
    {
     "name": "stdout",
     "output_type": "stream",
     "text": [
      "\t20220408_5dpf_tbx2aF1xF3_xOG_s1C_L01_002\n",
      "\t\t R\n",
      "\t Time elapsed: 27 s\n",
      "\n",
      "\t\t U\n",
      "\t Time elapsed: 16 s\n",
      "\n",
      "\t20220408_5dpf_tbx2aF1xF3_xOG_s1C_L01_004\n",
      "\t\t R\n",
      "\t Time elapsed: 24 s\n",
      "\n",
      "\t\t U\n",
      "\t Time elapsed: 18 s\n",
      "\n",
      "\t20220408_5dpf_tbx2aF1xF3_xOG_s1C_L02_002\n",
      "\t\t R\n"
     ]
    },
    {
     "name": "stderr",
     "output_type": "stream",
     "text": [
      "WARNING: no mask pixels found\n"
     ]
    },
    {
     "name": "stdout",
     "output_type": "stream",
     "text": [
      "\t Time elapsed: 23 s\n",
      "\n",
      "\t\t U\n",
      "\t Time elapsed: 17 s\n",
      "\n",
      "\t20220408_5dpf_tbx2aF1xF3_xOG_s1C_L02_004\n",
      "\t\t R\n",
      "\t Time elapsed: 24 s\n",
      "\n",
      "\t\t U\n",
      "\t Time elapsed: 16 s\n",
      "\n",
      "\t20220408_5dpf_tbx2aF1xF3_xOG_s1C_L03_002\n",
      "\t\t R\n",
      "\t Time elapsed: 25 s\n",
      "\n",
      "\t\t U\n",
      "\t Time elapsed: 20 s\n",
      "\n",
      "\t20220408_5dpf_tbx2aF1xF3_xOG_s1C_L03_004\n",
      "\t\t R\n",
      "\t Time elapsed: 26 s\n",
      "\n",
      "\t\t U\n",
      "\t Time elapsed: 18 s\n",
      "\n",
      "\t20220408_5dpf_tbx2aF1xF3_xOG_s1C_L04_002\n",
      "\t\t R\n",
      "\t Time elapsed: 28 s\n",
      "\n",
      "\t\t U\n",
      "\t Time elapsed: 27 s\n",
      "\n",
      "\t20220408_5dpf_tbx2aF1xF3_xOG_s1C_L04_004\n",
      "\t\t R\n",
      "\t Time elapsed: 29 s\n",
      "\n",
      "\t\t U\n",
      "\t Time elapsed: 21 s\n",
      "\n",
      "\t20220408_5dpf_tbx2aF1xF3_xOG_s1C_L05_002\n",
      "\t\t R\n",
      "\t Time elapsed: 28 s\n",
      "\n",
      "\t\t U\n",
      "\t Time elapsed: 21 s\n",
      "\n",
      "\t20220408_5dpf_tbx2aF1xF3_xOG_s1C_L05_004\n",
      "\t\t R\n",
      "\t Time elapsed: 26 s\n",
      "\n",
      "\t\t U\n",
      "\t Time elapsed: 26 s\n",
      "\n",
      "\t20220408_5dpf_tbx2aF1xF3_xOG_s1C_L06_002\n",
      "\t\t R\n",
      "\t Time elapsed: 30 s\n",
      "\n",
      "\t\t U\n",
      "\t Time elapsed: 19 s\n",
      "\n",
      "\t20220408_5dpf_tbx2aF1xF3_xOG_s1C_L06_004\n",
      "\t\t R\n",
      "\t Time elapsed: 29 s\n",
      "\n",
      "\t\t U\n",
      "\t Time elapsed: 19 s\n",
      "\n",
      "\t20220408_5dpf_tbx2aF1xF3_xOG_s1C_L07_002\n",
      "\t\t R\n",
      "\t Time elapsed: 27 s\n",
      "\n",
      "\t\t U\n",
      "\t Time elapsed: 21 s\n",
      "\n",
      "\t20220408_5dpf_tbx2aF1xF3_xOG_s1C_L07_004\n",
      "\t\t R\n",
      "\t Time elapsed: 27 s\n",
      "\n",
      "\t\t U\n",
      "\t Time elapsed: 19 s\n",
      "\n",
      "\t20220408_5dpf_tbx2aF1xF3_xOG_s1C_L08_002\n",
      "\t\t R\n",
      "\t Time elapsed: 25 s\n",
      "\n",
      "\t\t U\n",
      "\t Time elapsed: 17 s\n",
      "\n",
      "\t20220408_5dpf_tbx2aF1xF3_xOG_s1C_L09_002\n",
      "\t\t R\n",
      "\t Time elapsed: 26 s\n",
      "\n",
      "\t\t U\n",
      "\t Time elapsed: 25 s\n",
      "\n",
      "\t20220408_5dpf_tbx2aF1xF3_xOG_s1C_L10_002\n",
      "\t\t R\n",
      "\t Time elapsed: 29 s\n",
      "\n",
      "\t\t U\n",
      "\t Time elapsed: 25 s\n",
      "\n",
      "\t20220408_5dpf_tbx2aF1xF3_xOG_s1C_L10_004\n",
      "\t\t R\n",
      "\t Time elapsed: 32 s\n",
      "\n",
      "\t\t U\n",
      "\t Time elapsed: 24 s\n",
      "\n",
      "\t20220408_5dpf_tbx2aF1xF3_xOG_s1C_L12_002\n",
      "\t\t R\n",
      "\t Time elapsed: 27 s\n",
      "\n",
      "\t\t U\n",
      "\t Time elapsed: 21 s\n",
      "\n",
      "\t20220408_5dpf_tbx2aF1xF3_xOG_s1C_L13_002\n",
      "\t\t R\n",
      "\t Time elapsed: 28 s\n",
      "\n",
      "\t\t U\n",
      "\t Time elapsed: 25 s\n",
      "\n",
      "\t20220408_5dpf_tbx2aF1xF3_xOG_s1C_L13_004\n",
      "\t\t R\n",
      "\t Time elapsed: 26 s\n",
      "\n",
      "\t\t U\n",
      "\t Time elapsed: 25 s\n",
      "\n",
      "\t20220408_5dpf_tbx2aF1xF3_xOG_s1C_L14_002\n",
      "\t\t R\n",
      "\t Time elapsed: 28 s\n",
      "\n",
      "\t\t U\n",
      "\t Time elapsed: 26 s\n",
      "\n",
      "\t20220408_5dpf_tbx2aF1xF3_xOG_s1C_L14_004\n",
      "\t\t R\n",
      "\t Time elapsed: 30 s\n",
      "\n",
      "\t\t U\n",
      "\t Time elapsed: 29 s\n",
      "\n",
      "\t20220408_5dpf_tbx2aF1xF3_xOG_s1C_L15_002\n",
      "\t\t R\n",
      "\t Time elapsed: 30 s\n",
      "\n",
      "\t\t U\n",
      "\t Time elapsed: 25 s\n",
      "\n",
      "\t20220408_5dpf_tbx2aF1xF3_xOG_s1C_L15_004\n",
      "\t\t R\n",
      "\t Time elapsed: 32 s\n",
      "\n",
      "\t\t U\n",
      "\t Time elapsed: 27 s\n",
      "\n",
      "\t20220408_5dpf_tbx2aF1xF3_xOG_s1C_L16_002\n",
      "\t\t R\n",
      "\t Time elapsed: 28 s\n",
      "\n",
      "\t\t U\n",
      "\t Time elapsed: 22 s\n",
      "\n",
      "\t20220408_5dpf_tbx2aF1xF3_xOG_s1C_L16_004\n",
      "\t\t R\n",
      "\t Time elapsed: 30 s\n",
      "\n",
      "\t\t U\n",
      "\t Time elapsed: 21 s\n",
      "\n",
      "Finished cellpose batch analysis for tbx2aF1xF3\n",
      "Starting analysis for tbx2aF3:\n"
     ]
    },
    {
     "data": {
      "application/vnd.jupyter.widget-view+json": {
       "model_id": "2aff691a540d44d3aa70663b682b6676",
       "version_major": 2,
       "version_minor": 0
      },
      "text/plain": [
       "  0%|          | 0/56 [00:00<?, ?it/s]"
      ]
     },
     "metadata": {},
     "output_type": "display_data"
    },
    {
     "name": "stdout",
     "output_type": "stream",
     "text": [
      "\t20220408_5dpf_tbx2aF3_xOG_s1C_L01_002\n",
      "\t\t R\n",
      "\t\t\t Time elapsed: 23 s\n",
      "\t\t U\n",
      "\t\t\t Time elapsed: 16 s\n",
      "\t20220408_5dpf_tbx2aF3_xOG_s1C_L01_004\n",
      "\t\t R\n",
      "\t\t\t Time elapsed: 23 s\n",
      "\t\t U\n",
      "\t\t\t Time elapsed: 15 s\n",
      "\t20220408_5dpf_tbx2aF3_xOG_s1C_L02_002\n",
      "\t\t R\n",
      "\t\t\t Time elapsed: 23 s\n",
      "\t\t U\n",
      "\t\t\t Time elapsed: 15 s\n",
      "\t20220408_5dpf_tbx2aF3_xOG_s1C_L02_004\n",
      "\t\t R\n",
      "\t\t\t Time elapsed: 25 s\n",
      "\t\t U\n",
      "\t\t\t Time elapsed: 15 s\n",
      "\t20220408_5dpf_tbx2aF3_xOG_s1C_L03_002\n",
      "\t\t R\n",
      "\t\t\t Time elapsed: 24 s\n",
      "\t\t U\n",
      "\t\t\t Time elapsed: 20 s\n",
      "\t20220408_5dpf_tbx2aF3_xOG_s1C_L03_004\n",
      "\t\t R\n",
      "\t\t\t Time elapsed: 174 s\n",
      "\t\t U\n",
      "\t\t\t Time elapsed: 24 s\n",
      "\t20220408_5dpf_tbx2aF3_xOG_s1C_L04_002\n",
      "\t\t R\n",
      "\t\t\t Time elapsed: 29 s\n",
      "\t\t U\n",
      "\t\t\t Time elapsed: 14 s\n",
      "\t20220408_5dpf_tbx2aF3_xOG_s1C_L04_004\n",
      "\t\t R\n",
      "\t\t\t Time elapsed: 23 s\n",
      "\t\t U\n",
      "\t\t\t Time elapsed: 15 s\n",
      "\t20220408_5dpf_tbx2aF3_xOG_s1C_L05_002\n",
      "\t\t R\n",
      "\t\t\t Time elapsed: 28 s\n",
      "\t\t U\n",
      "\t\t\t Time elapsed: 15 s\n",
      "\t20220408_5dpf_tbx2aF3_xOG_s1C_L06_002\n",
      "\t\t R\n",
      "\t\t\t Time elapsed: 21 s\n",
      "\t\t U\n",
      "\t\t\t Time elapsed: 14 s\n",
      "\t20220408_5dpf_tbx2aF3_xOG_s1C_L06_004\n",
      "\t\t R\n",
      "\t\t\t Time elapsed: 20 s\n",
      "\t\t U\n",
      "\t\t\t Time elapsed: 14 s\n",
      "\t20220408_5dpf_tbx2aF3_xOG_s1C_L07_002\n",
      "\t\t R\n",
      "\t\t\t Time elapsed: 19 s\n",
      "\t\t U\n",
      "\t\t\t Time elapsed: 13 s\n",
      "\t20220408_5dpf_tbx2aF3_xOG_s1C_L07_004\n",
      "\t\t R\n",
      "\t\t\t Time elapsed: 24 s\n",
      "\t\t U\n",
      "\t\t\t Time elapsed: 17 s\n",
      "\t20220408_5dpf_tbx2aF3_xOG_s1C_L08_002\n",
      "\t\t R\n",
      "\t\t\t Time elapsed: 22 s\n",
      "\t\t U\n",
      "\t\t\t Time elapsed: 16 s\n",
      "\t20220408_5dpf_tbx2aF3_xOG_s1C_L09_002\n",
      "\t\t R\n",
      "\t\t\t Time elapsed: 24 s\n",
      "\t\t U\n",
      "\t\t\t Time elapsed: 14 s\n",
      "\t20220408_5dpf_tbx2aF3_xOG_s1C_L09_004\n",
      "\t\t R\n",
      "\t\t\t Time elapsed: 23 s\n",
      "\t\t U\n",
      "\t\t\t Time elapsed: 16 s\n",
      "\t20220408_tbx2aF3_xOG_s1C_L11_002\n",
      "\t\t R\n",
      "\t\t\t Time elapsed: 23 s\n",
      "\t\t U\n",
      "\t\t\t Time elapsed: 18 s\n",
      "\t20220408_tbx2aF3_xOG_s1C_L11_004\n",
      "\t\t R\n",
      "\t\t\t Time elapsed: 23 s\n",
      "\t\t U\n",
      "\t\t\t Time elapsed: 17 s\n",
      "\t20220408_tbx2aF3_xOG_s1C_L12_002\n",
      "\t\t R\n",
      "\t\t\t Time elapsed: 24 s\n",
      "\t\t U\n",
      "\t\t\t Time elapsed: 19 s\n",
      "\t20220408_tbx2aF3_xOG_s1C_L12_004\n",
      "\t\t R\n",
      "\t\t\t Time elapsed: 27 s\n",
      "\t\t U\n",
      "\t\t\t Time elapsed: 26 s\n",
      "\t20220408_tbx2aF3_xOG_s1C_L13_002\n",
      "\t\t R\n",
      "\t\t\t Time elapsed: 31 s\n",
      "\t\t U\n",
      "\t\t\t Time elapsed: 14 s\n",
      "\t20220408_tbx2aF3_xOG_s1C_L13_004\n",
      "\t\t R\n",
      "\t\t\t Time elapsed: 24 s\n",
      "\t\t U\n",
      "\t\t\t Time elapsed: 15 s\n",
      "\t20220408_tbx2aF3_xOG_s1C_L14_002\n",
      "\t\t R\n",
      "\t\t\t Time elapsed: 22 s\n",
      "\t\t U\n",
      "\t\t\t Time elapsed: 17 s\n",
      "\t20220408_tbx2aF3_xOG_s1C_L14_004\n",
      "\t\t R\n",
      "\t\t\t Time elapsed: 23 s\n",
      "\t\t U\n",
      "\t\t\t Time elapsed: 17 s\n",
      "\t20220408_tbx2aF3_xOG_s1C_L15_002\n",
      "\t\t R\n",
      "\t\t\t Time elapsed: 21 s\n",
      "\t\t U\n",
      "\t\t\t Time elapsed: 17 s\n",
      "\t20220408_tbx2aF3_xOG_s1C_L15_004\n",
      "\t\t R\n",
      "\t\t\t Time elapsed: 21 s\n",
      "\t\t U\n",
      "\t\t\t Time elapsed: 18 s\n",
      "\t20220408_tbx2aF3_xOG_s1C_L16_002\n",
      "\t\t R\n",
      "\t\t\t Time elapsed: 21 s\n",
      "\t\t U\n",
      "\t\t\t Time elapsed: 17 s\n",
      "\t20220408_tbx2aF3_xOG_s1C_L16_004\n",
      "\t\t R\n",
      "\t\t\t Time elapsed: 21 s\n",
      "\t\t U\n",
      "\t\t\t Time elapsed: 16 s\n",
      "Finished cellpose batch analysis for tbx2aF3\n"
     ]
    }
   ],
   "source": [
    "print('Starting analysis for '+ gene_wt + ':')\n",
    "with tqdm(total=len(filePaths_wt)*len(layerNames), file=sys.stdout) as progBar:\n",
    "   for fp in filePaths_wt:\n",
    "      print('\\t' + fp)\n",
    "      for l in layerNames:\n",
    "         print('\\t\\t ' + l)\n",
    "         startTime = time.time()\n",
    "         imgPath = dirAnalysis + gene_wt + '/' + fp + '/' + l + '_mip.tiff'\n",
    "         img = cellpose.io.imread(imgPath)\n",
    "         if l=='R':\n",
    "            diameterCell = cpParams['diameterR']\n",
    "         else:\n",
    "            diameterCell = cpParams['diameterC']\n",
    "         masks, flows, styles, diams = model.eval(img, \n",
    "                                                diameter=diameterCell, channels=cpParams['channels'],\n",
    "                                                do_3D=False, net_avg = cpParams['net_avg'], interp = True,\n",
    "                                                flow_threshold = cpParams['flow_threshold'], cellprob_threshold = cpParams['cellprob_threshold'])\n",
    "         cellpose.io.masks_flows_to_seg(img, masks, flows, diams, imgPath, cpParams['channels']) # save results\n",
    "         endTime = time.time()\n",
    "         print ('\\t Time elapsed: {elapsedTime} s\\n'.format(elapsedTime = int(endTime - startTime)))\n",
    "         progBar.update(1)\n",
    "\n",
    "print('Finished cellpose batch analysis for '+ gene_wt)\n",
    "\n",
    "print('Starting analysis for '+ gene_F0 + ':')\n",
    "with tqdm(total=len(filePaths_F0)*len(layerNames), file=sys.stdout) as progBar:\n",
    "   for fp in filePaths_F0:\n",
    "      print('\\t' + fp)\n",
    "      for l in layerNames:\n",
    "         print('\\t\\t ' + l)\n",
    "         startTime = time.time()\n",
    "         imgPath = dirAnalysis + gene_F0 + '/' + fp + '/' + l + '_mip.tiff'\n",
    "         img = cellpose.io.imread(imgPath)\n",
    "         if l=='R':\n",
    "            diameterCell = cpParams['diameterR']\n",
    "         else:\n",
    "            diameterCell = cpParams['diameterC']\n",
    "         masks, flows, styles, diams = model.eval(img, \n",
    "                                                diameter=diameterCell, channels=cpParams['channels'],\n",
    "                                                do_3D=False, net_avg = cpParams['net_avg'], interp = True,\n",
    "                                                flow_threshold = cpParams['flow_threshold'], cellprob_threshold = cpParams['cellprob_threshold'])\n",
    "         cellpose.io.masks_flows_to_seg(img, masks, flows, diams, imgPath, cpParams['channels']) # save results\n",
    "         endTime = time.time()\n",
    "         print ('\\t\\t\\t Time elapsed: {elapsedTime} s'.format(elapsedTime = int(endTime - startTime)))\n",
    "         progBar.update(1)\n",
    "\n",
    "print('Finished cellpose batch analysis for '+ gene_F0)"
   ]
  },
  {
   "cell_type": "markdown",
   "metadata": {},
   "source": [
    "***\n",
    "## Manual correction of cellpose segmentation<a id='manualCuration'>∮</a>\n",
    "> Copy file list from \"Extract Layers\" &rarr; Open a single file and manually fix (\"_curate_\") cellpose segmentation\n",
    "\n",
    "WARNINGS:\n",
    "- In tg[_mws2_:GFP], a subset of S cones are GFP+. If available, use tg[_sws2_:mCherry] to delete those labels from the M-cone segmentation\n",
    "***\n",
    "[Back to Index](#Index)"
   ]
  },
  {
   "cell_type": "code",
   "execution_count": 6,
   "metadata": {
    "tags": []
   },
   "outputs": [
    {
     "name": "stdout",
     "output_type": "stream",
     "text": [
      "Viewer cleared...\n",
      "Loaded previously curated segmentation for R\n",
      "Loaded previously curated segmentation for U\n",
      "Loaded  20220408_tbx2aF3_xOG_s1C_L16_004 !\n",
      " Now fix it and save it!\n",
      "removeLabel on U_seg (\"Shift-X\")\n",
      "toggle U_seg preserve_labels (\"k\")\n",
      "toggle U_mip visibility (\"B\")\n",
      "toggle R_mip visibility (\"N\")\n",
      "Add new label in U_seg visibility (\"+\"|\"M\")\n"
     ]
    }
   ],
   "source": [
    "# clear viewer\n",
    "viewer.layers.select_all(); viewer.layers.remove_selected()\n",
    "\n",
    "#tbx2aF1xF3 files\n",
    "# filePath = '20220408_5dpf_tbx2aF1xF3_xOG_s1C_L01_002'; gene = 'tbx2aF1xF3'; zlims=[29,31]; #nalou, no rods\n",
    "# filePath = '20220408_5dpf_tbx2aF1xF3_xOG_s1C_L01_004'; gene = 'tbx2aF1xF3'; zlims = [21,23]; #nalou, no rods\n",
    "# filePath = '20220408_5dpf_tbx2aF1xF3_xOG_s1C_L02_002'; gene = 'tbx2aF1xF3'; zlims = [22,24]; #nalou, no rods\n",
    "# filePath = '20220408_5dpf_tbx2aF1xF3_xOG_s1C_L02_004'; gene = 'tbx2aF1xF3'; zlims = [19,21]; #no rods\n",
    "# filePath = '20220408_5dpf_tbx2aF1xF3_xOG_s1C_L03_002'; gene = 'tbx2aF1xF3'; zlims = [28,30]; #nalou, no rods\n",
    "# filePath = '20220408_5dpf_tbx2aF1xF3_xOG_s1C_L03_004'; gene = 'tbx2aF1xF3'; zlims = [27,29]; #no rods\n",
    "# filePath = '20220408_5dpf_tbx2aF1xF3_xOG_s1C_L04_002'; gene = 'tbx2aF1xF3'; zlims = [24,26]; #no rods\n",
    "# filePath = '20220408_5dpf_tbx2aF1xF3_xOG_s1C_L04_004'; gene = 'tbx2aF1xF3'; zlims = [25,27]; #no rods\n",
    "# filePath = '20220408_5dpf_tbx2aF1xF3_xOG_s1C_L05_002'; gene = 'tbx2aF1xF3'; zlims = [26,28]; #some rods looks wt to me\n",
    "# filePath = '20220408_5dpf_tbx2aF1xF3_xOG_s1C_L05_004'; gene = 'tbx2aF1xF3'; zlims = [39,41]; #some rods\n",
    "# filePath = '20220408_5dpf_tbx2aF1xF3_xOG_s1C_L06_002'; gene = 'tbx2aF1xF3'; zlims = [19,21]; #no rods\n",
    "# filePath = '20220408_5dpf_tbx2aF1xF3_xOG_s1C_L06_004'; gene = 'tbx2aF1xF3'; zlims = [21,23];\n",
    "# filePath = '20220408_5dpf_tbx2aF1xF3_xOG_s1C_L07_002'; gene = 'tbx2aF1xF3'; zlims = [31,33]; #some rods\n",
    "# filePath = '20220408_5dpf_tbx2aF1xF3_xOG_s1C_L07_004'; gene = 'tbx2aF1xF3'; zlims = [33,35]; #some rods\n",
    "# filePath = '20220408_5dpf_tbx2aF1xF3_xOG_s1C_L08_002'; gene = 'tbx2aF1xF3'; zlims = [19,21]; #no rods\n",
    "# filePath = '20220408_5dpf_tbx2aF1xF3_xOG_s1C_L09_002'; gene = 'tbx2aF1xF3'; zlims = [28,30]; #lots of UV, some rods. \n",
    "# filePath = '20220408_5dpf_tbx2aF1xF3_xOG_s1C_L10_002'; gene = 'tbx2aF1xF3'; zlims = [26,28]; #lots of UV, some rods. \n",
    "# filePath = '20220408_5dpf_tbx2aF1xF3_xOG_s1C_L10_004'; gene = 'tbx2aF1xF3'; zlims = [28,30]; #lots of UV, some rods.\n",
    "# filePath = '20220408_5dpf_tbx2aF1xF3_xOG_s1C_L12_002'; gene = 'tbx2aF1xF3'; zlims = [37,39]; #Less UV, some rods\n",
    "# filePath = '20220408_5dpf_tbx2aF1xF3_xOG_s1C_L13_002'; gene = 'tbx2aF1xF3'; zlims = [43,45]; #lots UV, some rods\n",
    "# filePath = '20220408_5dpf_tbx2aF1xF3_xOG_s1C_L13_004'; gene = 'tbx2aF1xF3'; zlims = [33,35]; #less rods, lots UV\n",
    "# filePath = '20220408_5dpf_tbx2aF1xF3_xOG_s1C_L14_002'; gene = 'tbx2aF1xF3'; zlims = [27,29];\n",
    "# filePath = '20220408_5dpf_tbx2aF1xF3_xOG_s1C_L14_004'; gene = 'tbx2aF1xF3'; zlims = [37,39];\n",
    "# filePath = '20220408_5dpf_tbx2aF1xF3_xOG_s1C_L15_002'; gene = 'tbx2aF1xF3'; zlims = [31,33];\n",
    "# filePath = '20220408_5dpf_tbx2aF1xF3_xOG_s1C_L15_004'; gene = 'tbx2aF1xF3'; zlims = [35,37];\n",
    "# filePath = '20220408_5dpf_tbx2aF1xF3_xOG_s1C_L16_002'; gene = 'tbx2aF1xF3'; zlims = [29,31];\n",
    "# filePath = '20220408_5dpf_tbx2aF1xF3_xOG_s1C_L16_004'; gene = 'tbx2aF1xF3'; zlims = [33,35];\n",
    "\n",
    "#tbx2aF3 files\n",
    "# filePath = '20220408_5dpf_tbx2aF3_xOG_s1C_L01_002'; gene = 'tbx2aF3'; zlims = [34,36];\n",
    "# filePath = '20220408_5dpf_tbx2aF3_xOG_s1C_L01_004'; gene = 'tbx2aF3'; zlims = [30,32];\n",
    "# filePath = '20220408_5dpf_tbx2aF3_xOG_s1C_L02_002'; gene = 'tbx2aF3'; zlims = [39,41];\n",
    "# filePath = '20220408_5dpf_tbx2aF3_xOG_s1C_L02_004'; gene = 'tbx2aF3'; zlims = [26,28];\n",
    "# filePath = '20220408_5dpf_tbx2aF3_xOG_s1C_L03_002'; gene = 'tbx2aF3'; zlims = [41,43];\n",
    "# filePath = '20220408_5dpf_tbx2aF3_xOG_s1C_L03_004'; gene = 'tbx2aF3'; zlims = [33,35];\n",
    "# filePath = '20220408_5dpf_tbx2aF3_xOG_s1C_L04_002'; gene = 'tbx2aF3'; zlims = [23,25];\n",
    "# filePath = '20220408_5dpf_tbx2aF3_xOG_s1C_L04_004'; gene = 'tbx2aF3'; zlims = [43,45];\n",
    "# filePath = '20220408_5dpf_tbx2aF3_xOG_s1C_L05_002'; gene = 'tbx2aF3'; zlims = [29,31];\n",
    "# filePath = '20220408_5dpf_tbx2aF3_xOG_s1C_L06_002'; gene = 'tbx2aF3'; zlims = [25,27];\n",
    "# filePath = '20220408_5dpf_tbx2aF3_xOG_s1C_L06_004'; gene = 'tbx2aF3'; zlims = [22,24];\n",
    "# filePath = '20220408_5dpf_tbx2aF3_xOG_s1C_L07_002'; gene = 'tbx2aF3'; zlims = [28,30];\n",
    "# filePath = '20220408_5dpf_tbx2aF3_xOG_s1C_L07_004'; gene = 'tbx2aF3'; zlims = [23,25];\n",
    "# filePath = '20220408_5dpf_tbx2aF3_xOG_s1C_L08_002'; gene = 'tbx2aF3'; zlims = [23,25];\n",
    "# filePath = '20220408_5dpf_tbx2aF3_xOG_s1C_L09_002'; gene = 'tbx2aF3'; zlims = [21,23];\n",
    "# filePath = '20220408_5dpf_tbx2aF3_xOG_s1C_L09_004'; gene = 'tbx2aF3'; zlims = [27,29];\n",
    "# filePath = '20220408_tbx2aF3_xOG_s1C_L11_002'; gene = 'tbx2aF3'; zlims = [30,32];\n",
    "# filePath = '20220408_tbx2aF3_xOG_s1C_L11_004'; gene = 'tbx2aF3'; zlims = [29,31];\n",
    "# filePath = '20220408_tbx2aF3_xOG_s1C_L12_002'; gene = 'tbx2aF3'; zlims = [29,31];\n",
    "# filePath = '20220408_tbx2aF3_xOG_s1C_L12_004'; gene = 'tbx2aF3'; zlims = [37,39];\n",
    "# filePath = '20220408_tbx2aF3_xOG_s1C_L13_002'; gene = 'tbx2aF3'; zlims = [23,25];\n",
    "# filePath = '20220408_tbx2aF3_xOG_s1C_L13_004'; gene = 'tbx2aF3'; zlims = [32,34];\n",
    "# filePath = '20220408_tbx2aF3_xOG_s1C_L14_002'; gene = 'tbx2aF3'; zlims = [38,40];\n",
    "# filePath = '20220408_tbx2aF3_xOG_s1C_L14_004'; gene = 'tbx2aF3'; zlims = [42,44];\n",
    "# filePath = '20220408_tbx2aF3_xOG_s1C_L15_002'; gene = 'tbx2aF3'; zlims = [41,43];\n",
    "# filePath = '20220408_tbx2aF3_xOG_s1C_L15_004'; gene = 'tbx2aF3'; zlims = [37,39];\n",
    "# filePath = '20220408_tbx2aF3_xOG_s1C_L16_002'; gene = 'tbx2aF3'; zlims = [41,43];\n",
    "filePath = '20220408_tbx2aF3_xOG_s1C_L16_004'; gene = 'tbx2aF3';zlims = [45,47];\n",
    "\n",
    "# define subdirectory for analysis\n",
    "dirOut = dirAnalysis + gene + '/' + filePath + '/'\n",
    "print('Viewer cleared...')\n",
    "\n",
    "# clear key binds\n",
    "@viewer.bind_key('k', overwrite=True)\n",
    "def toggle_sel(viewer):\n",
    "    ...\n",
    "@viewer.bind_key('b', overwrite=True)\n",
    "def toggle_sel(viewer):\n",
    "    ...\n",
    "@viewer.bind_key('Shift-x', overwrite=True)\n",
    "def removeLabel(viewer):\n",
    "    ...\n",
    "\n",
    "# load mips\n",
    "mipO = 0.65\n",
    "viewer.open(dirOut + layerNames[0] + \"_mip.tiff\", plugin='napari', colormap = 'green', blending='additive', opacity=mipO);\n",
    "viewer.open(dirOut + layerNames[1] + \"_mip.tiff\", plugin='napari', colormap = 'magenta', blending='additive', opacity=mipO);\n",
    "# viewer.open(dirOut + layerNames[3] + \"_mip.tiff\", plugin='napari', colormap = 'gray', blending='additive', opacity=mipO);\n",
    "\n",
    "# load segmentation\n",
    "if (os.path.isfile(dirOut + layerNames[0] + \"_seg_curated.tiff\")):\n",
    "    print('Loaded previously curated segmentation for {0}'.format(layerNames[0]))\n",
    "    viewer.open(dirOut + layerNames[0] + \"_seg_curated.tiff\", name=layerNames[0] + '_seg', plugin='napari',blending='additive');\n",
    "else:\n",
    "    segData = np.load(dirOut + layerNames[0] + \"_mip\" + \"_seg.npy\", allow_pickle=True).item()\n",
    "    viewer.add_labels(segData['masks'], name= layerNames[0] + '_seg',blending='additive');\n",
    "viewer.layers[layerNames[0] + '_seg'].preserve_labels = True;\n",
    "\n",
    "if (os.path.isfile(dirOut + layerNames[1] + \"_seg_curated.tiff\")):\n",
    "    print('Loaded previously curated segmentation for {0}'.format(layerNames[1]))\n",
    "    viewer.open(dirOut + layerNames[1] + \"_seg_curated.tiff\", name=layerNames[1] + '_seg', plugin='napari',blending='additive');\n",
    "else:\n",
    "    segData = np.load(dirOut + layerNames[1] + \"_mip\" + \"_seg.npy\", allow_pickle=True).item()\n",
    "    viewer.add_labels(segData['masks'], name= layerNames[1] + '_seg',blending='additive');\n",
    "viewer.layers[layerNames[1] + '_seg'].preserve_labels = True;\n",
    "\n",
    "\n",
    "viewer.layers[layerNames[0] + '_mip'].visible = False\n",
    "# viewer.layers[layerNames[3] + '_mip'].visible = False\n",
    "viewer.layers[layerNames[0] + '_seg'].visible = False\n",
    "\n",
    "print('Loaded  ' + filePath + ' !\\n Now fix it and save it!')\n",
    "\n",
    "#define useful keyboard shortcuts\n",
    "\n",
    "@viewer.bind_key('Shift-x', overwrite=True)\n",
    "def removeLabel(viewer):\n",
    "   lname = layerNames[1] + '_seg'\n",
    "   tempd = viewer.layers[lname].data\n",
    "   tempd[tempd == viewer.layers[lname].selected_label]=0\n",
    "   viewer.layers[lname].data = tempd\n",
    "   print('Cut!')\n",
    "print('removeLabel on {0}_seg (\"Shift-X\")'.format(layerNames[1]))\n",
    "\n",
    "@viewer.bind_key('k', overwrite=True)\n",
    "def toggle_sel(viewer):\n",
    "   lname = layerNames[1] + '_seg'\n",
    "   if (viewer.layers[lname].preserve_labels == True):\n",
    "      viewer.layers[lname].preserve_labels = False\n",
    "   elif (viewer.layers[lname].preserve_labels == False):\n",
    "      viewer.layers[lname].preserve_labels = True\n",
    "print('toggle {0}_seg preserve_labels (\"k\")'.format(layerNames[1]))\n",
    "        \n",
    "@viewer.bind_key('b', overwrite=True)\n",
    "def toggle_sel(viewer):\n",
    "   lname = layerNames[1] + '_mip'\n",
    "   if (viewer.layers[lname].visible == True):\n",
    "      viewer.layers[lname].visible = False\n",
    "   elif (viewer.layers[lname].visible == False):\n",
    "      viewer.layers[lname].visible = True\n",
    "print('toggle {0}_mip visibility (\"B\")'.format(layerNames[1]))\n",
    "\n",
    "@viewer.bind_key('n', overwrite=True)\n",
    "def toggle_sel(viewer):\n",
    "   lname = layerNames[0] + '_mip'\n",
    "   if (viewer.layers[lname].visible == True):\n",
    "      viewer.layers[lname].visible = False\n",
    "   elif (viewer.layers[lname].visible == False):\n",
    "      viewer.layers[lname].visible = True\n",
    "print('toggle {0}_mip visibility (\"N\")'.format(layerNames[0]))\n",
    "\n",
    "@viewer.bind_key('+', overwrite=True)\n",
    "def new_label(viewer):\n",
    "   \"\"\"Set the currently selected label to the largest used label plus one.\"\"\"\n",
    "   lname = layerNames[1] + '_seg'\n",
    "   viewer.layers[lname].selected_label = viewer.layers[lname].data.max() + 1\n",
    "print('Add new label in {0}_seg visibility (\"+\"|\"M\")'.format(layerNames[1]))"
   ]
  },
  {
   "cell_type": "code",
   "execution_count": 160,
   "metadata": {
    "collapsed": true,
    "jupyter": {
     "outputs_hidden": true
    },
    "tags": []
   },
   "outputs": [
    {
     "name": "stdout",
     "output_type": "stream",
     "text": [
      "Loading data...\n"
     ]
    },
    {
     "ename": "KeyboardInterrupt",
     "evalue": "",
     "output_type": "error",
     "traceback": [
      "\u001b[1;31m---------------------------------------------------------------------------\u001b[0m",
      "\u001b[1;31mKeyboardInterrupt\u001b[0m                         Traceback (most recent call last)",
      "Cell \u001b[1;32mIn[160], line 4\u001b[0m\n\u001b[0;32m      2\u001b[0m \u001b[38;5;28mprint\u001b[39m(\u001b[38;5;124m'\u001b[39m\u001b[38;5;124mLoading data...\u001b[39m\u001b[38;5;124m'\u001b[39m)\n\u001b[0;32m      3\u001b[0m nMIP \u001b[38;5;241m=\u001b[39m \u001b[38;5;28mlen\u001b[39m(viewer\u001b[38;5;241m.\u001b[39mlayers)\n\u001b[1;32m----> 4\u001b[0m \u001b[43mviewer\u001b[49m\u001b[38;5;241;43m.\u001b[39;49m\u001b[43mopen\u001b[49m\u001b[43m(\u001b[49m\u001b[43m(\u001b[49m\u001b[43mdirData\u001b[49m\u001b[38;5;241;43m+\u001b[39;49m\u001b[43mfilePath\u001b[49m\u001b[43m \u001b[49m\u001b[38;5;241;43m+\u001b[39;49m\u001b[43m \u001b[49m\u001b[38;5;124;43m'\u001b[39;49m\u001b[38;5;124;43m.nd2\u001b[39;49m\u001b[38;5;124;43m'\u001b[39;49m\u001b[43m)\u001b[49m\u001b[43m,\u001b[49m\u001b[43m \u001b[49m\u001b[43mplugin\u001b[49m\u001b[38;5;241;43m=\u001b[39;49m\u001b[38;5;124;43m'\u001b[39;49m\u001b[38;5;124;43mnapari-nikon-nd2\u001b[39;49m\u001b[38;5;124;43m'\u001b[39;49m\u001b[43m)\u001b[49m\n\u001b[0;32m      5\u001b[0m viewer\u001b[38;5;241m.\u001b[39mlayers\u001b[38;5;241m.\u001b[39mremove(viewer\u001b[38;5;241m.\u001b[39mlayers[\u001b[38;5;28mlen\u001b[39m(viewer\u001b[38;5;241m.\u001b[39mlayers)\u001b[38;5;241m-\u001b[39m\u001b[38;5;241m1\u001b[39m]) \u001b[38;5;66;03m# remove transmitted detector image\u001b[39;00m\n\u001b[0;32m      6\u001b[0m viewer\u001b[38;5;241m.\u001b[39mlayers\u001b[38;5;241m.\u001b[39mselect_next();\n",
      "File \u001b[1;32m~\\mambaforge\\envs\\cellCounting\\lib\\site-packages\\napari\\components\\viewer_model.py:1014\u001b[0m, in \u001b[0;36mViewerModel.open\u001b[1;34m(self, path, stack, plugin, layer_type, **kwargs)\u001b[0m\n\u001b[0;32m   1011\u001b[0m _path \u001b[38;5;241m=\u001b[39m [_path] \u001b[38;5;28;01mif\u001b[39;00m \u001b[38;5;129;01mnot\u001b[39;00m \u001b[38;5;28misinstance\u001b[39m(_path, \u001b[38;5;28mlist\u001b[39m) \u001b[38;5;28;01melse\u001b[39;00m _path\n\u001b[0;32m   1012\u001b[0m \u001b[38;5;28;01mif\u001b[39;00m plugin:\n\u001b[0;32m   1013\u001b[0m     added\u001b[38;5;241m.\u001b[39mextend(\n\u001b[1;32m-> 1014\u001b[0m         \u001b[38;5;28;43mself\u001b[39;49m\u001b[38;5;241;43m.\u001b[39;49m\u001b[43m_add_layers_with_plugins\u001b[49m\u001b[43m(\u001b[49m\n\u001b[0;32m   1015\u001b[0m \u001b[43m            \u001b[49m\u001b[43m_path\u001b[49m\u001b[43m,\u001b[49m\n\u001b[0;32m   1016\u001b[0m \u001b[43m            \u001b[49m\u001b[43mkwargs\u001b[49m\u001b[38;5;241;43m=\u001b[39;49m\u001b[43mkwargs\u001b[49m\u001b[43m,\u001b[49m\n\u001b[0;32m   1017\u001b[0m \u001b[43m            \u001b[49m\u001b[43mplugin\u001b[49m\u001b[38;5;241;43m=\u001b[39;49m\u001b[43mplugin\u001b[49m\u001b[43m,\u001b[49m\n\u001b[0;32m   1018\u001b[0m \u001b[43m            \u001b[49m\u001b[43mlayer_type\u001b[49m\u001b[38;5;241;43m=\u001b[39;49m\u001b[43mlayer_type\u001b[49m\u001b[43m,\u001b[49m\n\u001b[0;32m   1019\u001b[0m \u001b[43m            \u001b[49m\u001b[43mstack\u001b[49m\u001b[38;5;241;43m=\u001b[39;49m\u001b[43m_stack\u001b[49m\u001b[43m,\u001b[49m\n\u001b[0;32m   1020\u001b[0m \u001b[43m        \u001b[49m\u001b[43m)\u001b[49m\n\u001b[0;32m   1021\u001b[0m     )\n\u001b[0;32m   1022\u001b[0m \u001b[38;5;66;03m# no plugin choice was made\u001b[39;00m\n\u001b[0;32m   1023\u001b[0m \u001b[38;5;28;01melse\u001b[39;00m:\n\u001b[0;32m   1024\u001b[0m     layers \u001b[38;5;241m=\u001b[39m \u001b[38;5;28mself\u001b[39m\u001b[38;5;241m.\u001b[39m_open_or_raise_error(\n\u001b[0;32m   1025\u001b[0m         _path, kwargs, layer_type, _stack\n\u001b[0;32m   1026\u001b[0m     )\n",
      "File \u001b[1;32m~\\mambaforge\\envs\\cellCounting\\lib\\site-packages\\napari\\components\\viewer_model.py:1216\u001b[0m, in \u001b[0;36mViewerModel._add_layers_with_plugins\u001b[1;34m(self, paths, stack, kwargs, plugin, layer_type)\u001b[0m\n\u001b[0;32m   1214\u001b[0m \u001b[38;5;28;01melse\u001b[39;00m:\n\u001b[0;32m   1215\u001b[0m     \u001b[38;5;28;01massert\u001b[39;00m \u001b[38;5;28mlen\u001b[39m(paths) \u001b[38;5;241m==\u001b[39m \u001b[38;5;241m1\u001b[39m\n\u001b[1;32m-> 1216\u001b[0m     layer_data, hookimpl \u001b[38;5;241m=\u001b[39m \u001b[43mread_data_with_plugins\u001b[49m\u001b[43m(\u001b[49m\n\u001b[0;32m   1217\u001b[0m \u001b[43m        \u001b[49m\u001b[43mpaths\u001b[49m\u001b[43m,\u001b[49m\u001b[43m \u001b[49m\u001b[43mplugin\u001b[49m\u001b[38;5;241;43m=\u001b[39;49m\u001b[43mplugin\u001b[49m\u001b[43m,\u001b[49m\u001b[43m \u001b[49m\u001b[43mstack\u001b[49m\u001b[38;5;241;43m=\u001b[39;49m\u001b[43mstack\u001b[49m\n\u001b[0;32m   1218\u001b[0m \u001b[43m    \u001b[49m\u001b[43m)\u001b[49m\n\u001b[0;32m   1220\u001b[0m \u001b[38;5;66;03m# glean layer names from filename. These will be used as *fallback*\u001b[39;00m\n\u001b[0;32m   1221\u001b[0m \u001b[38;5;66;03m# names, if the plugin does not return a name kwarg in their meta dict.\u001b[39;00m\n\u001b[0;32m   1222\u001b[0m filenames \u001b[38;5;241m=\u001b[39m []\n",
      "File \u001b[1;32m~\\mambaforge\\envs\\cellCounting\\lib\\site-packages\\napari\\plugins\\io.py:77\u001b[0m, in \u001b[0;36mread_data_with_plugins\u001b[1;34m(paths, plugin, stack)\u001b[0m\n\u001b[0;32m     74\u001b[0m     \u001b[38;5;28;01massert\u001b[39;00m \u001b[38;5;28mlen\u001b[39m(paths) \u001b[38;5;241m==\u001b[39m \u001b[38;5;241m1\u001b[39m\n\u001b[0;32m     75\u001b[0m hookimpl: Optional[HookImplementation]\n\u001b[1;32m---> 77\u001b[0m res \u001b[38;5;241m=\u001b[39m \u001b[43m_npe2\u001b[49m\u001b[38;5;241;43m.\u001b[39;49m\u001b[43mread\u001b[49m\u001b[43m(\u001b[49m\u001b[43mpaths\u001b[49m\u001b[43m,\u001b[49m\u001b[43m \u001b[49m\u001b[43mplugin\u001b[49m\u001b[43m,\u001b[49m\u001b[43m \u001b[49m\u001b[43mstack\u001b[49m\u001b[38;5;241;43m=\u001b[39;49m\u001b[43mstack\u001b[49m\u001b[43m)\u001b[49m\n\u001b[0;32m     78\u001b[0m \u001b[38;5;28;01mif\u001b[39;00m res \u001b[38;5;129;01mis\u001b[39;00m \u001b[38;5;129;01mnot\u001b[39;00m \u001b[38;5;28;01mNone\u001b[39;00m:\n\u001b[0;32m     79\u001b[0m     _ld, hookimpl \u001b[38;5;241m=\u001b[39m res\n",
      "File \u001b[1;32m~\\mambaforge\\envs\\cellCounting\\lib\\site-packages\\napari\\plugins\\_npe2.py:55\u001b[0m, in \u001b[0;36mread\u001b[1;34m(paths, plugin, stack)\u001b[0m\n\u001b[0;32m     53\u001b[0m     npe1_path \u001b[38;5;241m=\u001b[39m paths[\u001b[38;5;241m0\u001b[39m]\n\u001b[0;32m     54\u001b[0m \u001b[38;5;28;01mtry\u001b[39;00m:\n\u001b[1;32m---> 55\u001b[0m     layer_data, reader \u001b[38;5;241m=\u001b[39m \u001b[43mio_utils\u001b[49m\u001b[38;5;241;43m.\u001b[39;49m\u001b[43mread_get_reader\u001b[49m\u001b[43m(\u001b[49m\n\u001b[0;32m     56\u001b[0m \u001b[43m        \u001b[49m\u001b[43mnpe1_path\u001b[49m\u001b[43m,\u001b[49m\u001b[43m \u001b[49m\u001b[43mplugin_name\u001b[49m\u001b[38;5;241;43m=\u001b[39;49m\u001b[43mplugin\u001b[49m\n\u001b[0;32m     57\u001b[0m \u001b[43m    \u001b[49m\u001b[43m)\u001b[49m\n\u001b[0;32m     58\u001b[0m     \u001b[38;5;28;01mreturn\u001b[39;00m layer_data, _FakeHookimpl(reader\u001b[38;5;241m.\u001b[39mplugin_name)\n\u001b[0;32m     59\u001b[0m \u001b[38;5;28;01mexcept\u001b[39;00m \u001b[38;5;167;01mValueError\u001b[39;00m \u001b[38;5;28;01mas\u001b[39;00m e:\n",
      "File \u001b[1;32m~\\mambaforge\\envs\\cellCounting\\lib\\site-packages\\npe2\\io_utils.py:66\u001b[0m, in \u001b[0;36mread_get_reader\u001b[1;34m(path, plugin_name, stack)\u001b[0m\n\u001b[0;32m     62\u001b[0m \u001b[38;5;28;01mif\u001b[39;00m stack \u001b[38;5;129;01mis\u001b[39;00m \u001b[38;5;28;01mNone\u001b[39;00m:\n\u001b[0;32m     63\u001b[0m     \u001b[38;5;66;03m# \"npe1\" old path\u001b[39;00m\n\u001b[0;32m     64\u001b[0m     \u001b[38;5;66;03m# Napari 0.4.15 and older, hopefully we can drop this and make stack mandatory\u001b[39;00m\n\u001b[0;32m     65\u001b[0m     new_path, new_stack \u001b[38;5;241m=\u001b[39m v1_to_v2(path)\n\u001b[1;32m---> 66\u001b[0m     \u001b[38;5;28;01mreturn\u001b[39;00m \u001b[43m_read\u001b[49m\u001b[43m(\u001b[49m\n\u001b[0;32m     67\u001b[0m \u001b[43m        \u001b[49m\u001b[43mnew_path\u001b[49m\u001b[43m,\u001b[49m\u001b[43m \u001b[49m\u001b[43mplugin_name\u001b[49m\u001b[38;5;241;43m=\u001b[39;49m\u001b[43mplugin_name\u001b[49m\u001b[43m,\u001b[49m\u001b[43m \u001b[49m\u001b[43mreturn_reader\u001b[49m\u001b[38;5;241;43m=\u001b[39;49m\u001b[38;5;28;43;01mTrue\u001b[39;49;00m\u001b[43m,\u001b[49m\u001b[43m \u001b[49m\u001b[43mstack\u001b[49m\u001b[38;5;241;43m=\u001b[39;49m\u001b[43mnew_stack\u001b[49m\n\u001b[0;32m     68\u001b[0m \u001b[43m    \u001b[49m\u001b[43m)\u001b[49m\n\u001b[0;32m     69\u001b[0m \u001b[38;5;28;01melse\u001b[39;00m:\n\u001b[0;32m     70\u001b[0m     \u001b[38;5;28;01massert\u001b[39;00m \u001b[38;5;28misinstance\u001b[39m(path, \u001b[38;5;28mlist\u001b[39m)\n",
      "File \u001b[1;32m~\\mambaforge\\envs\\cellCounting\\lib\\site-packages\\npe2\\io_utils.py:157\u001b[0m, in \u001b[0;36m_read\u001b[1;34m(paths, stack, plugin_name, return_reader, _pm)\u001b[0m\n\u001b[0;32m    154\u001b[0m \u001b[38;5;28;01mif\u001b[39;00m _pm \u001b[38;5;129;01mis\u001b[39;00m \u001b[38;5;28;01mNone\u001b[39;00m:\n\u001b[0;32m    155\u001b[0m     _pm \u001b[38;5;241m=\u001b[39m PluginManager\u001b[38;5;241m.\u001b[39minstance()\n\u001b[1;32m--> 157\u001b[0m \u001b[38;5;28;01mfor\u001b[39;00m rdr \u001b[38;5;129;01min\u001b[39;00m _pm\u001b[38;5;241m.\u001b[39miter_compatible_readers(paths):\n\u001b[0;32m    158\u001b[0m     \u001b[38;5;28;01mif\u001b[39;00m plugin_name \u001b[38;5;129;01mand\u001b[39;00m \u001b[38;5;129;01mnot\u001b[39;00m rdr\u001b[38;5;241m.\u001b[39mcommand\u001b[38;5;241m.\u001b[39mstartswith(plugin_name):\n\u001b[0;32m    159\u001b[0m         \u001b[38;5;28;01mcontinue\u001b[39;00m\n",
      "File \u001b[1;32m~\\mambaforge\\envs\\cellCounting\\lib\\site-packages\\npe2\\_plugin_manager.py:138\u001b[0m, in \u001b[0;36m_ContributionsIndex.iter_compatible_readers\u001b[1;34m(self, paths)\u001b[0m\n\u001b[0;32m    135\u001b[0m     \u001b[38;5;28;01mreturn\u001b[39;00m\n\u001b[0;32m    136\u001b[0m \u001b[38;5;28;01massert\u001b[39;00m \u001b[38;5;28misinstance\u001b[39m(path, \u001b[38;5;28mstr\u001b[39m)\n\u001b[1;32m--> 138\u001b[0m \u001b[38;5;28;01mif\u001b[39;00m \u001b[43mos\u001b[49m\u001b[38;5;241;43m.\u001b[39;49m\u001b[43mpath\u001b[49m\u001b[38;5;241;43m.\u001b[39;49m\u001b[43misdir\u001b[49m\u001b[43m(\u001b[49m\u001b[43mpath\u001b[49m\u001b[43m)\u001b[49m:\n\u001b[0;32m    139\u001b[0m     \u001b[38;5;28;01myield from\u001b[39;00m (r \u001b[38;5;28;01mfor\u001b[39;00m pattern, r \u001b[38;5;129;01min\u001b[39;00m \u001b[38;5;28mself\u001b[39m\u001b[38;5;241m.\u001b[39m_readers \u001b[38;5;28;01mif\u001b[39;00m pattern \u001b[38;5;241m==\u001b[39m \u001b[38;5;124m\"\u001b[39m\u001b[38;5;124m\"\u001b[39m)\n\u001b[0;32m    140\u001b[0m \u001b[38;5;28;01melse\u001b[39;00m:\n\u001b[0;32m    141\u001b[0m     \u001b[38;5;66;03m# not sure about the set logic as it won't be lazy anymore,\u001b[39;00m\n\u001b[0;32m    142\u001b[0m     \u001b[38;5;66;03m# but would we yield duplicate anymore.\u001b[39;00m\n\u001b[0;32m    143\u001b[0m     \u001b[38;5;66;03m# above does not have have the unseen check either.\u001b[39;00m\n\u001b[0;32m    144\u001b[0m     \u001b[38;5;66;03m# it's easy to make an iterable version if we wish, or use more-itertools.\u001b[39;00m\n",
      "File \u001b[1;32m~\\mambaforge\\envs\\cellCounting\\lib\\genericpath.py:42\u001b[0m, in \u001b[0;36misdir\u001b[1;34m(s)\u001b[0m\n\u001b[0;32m     40\u001b[0m \u001b[38;5;250m\u001b[39m\u001b[38;5;124;03m\"\"\"Return true if the pathname refers to an existing directory.\"\"\"\u001b[39;00m\n\u001b[0;32m     41\u001b[0m \u001b[38;5;28;01mtry\u001b[39;00m:\n\u001b[1;32m---> 42\u001b[0m     st \u001b[38;5;241m=\u001b[39m \u001b[43mos\u001b[49m\u001b[38;5;241;43m.\u001b[39;49m\u001b[43mstat\u001b[49m\u001b[43m(\u001b[49m\u001b[43ms\u001b[49m\u001b[43m)\u001b[49m\n\u001b[0;32m     43\u001b[0m \u001b[38;5;28;01mexcept\u001b[39;00m (\u001b[38;5;167;01mOSError\u001b[39;00m, \u001b[38;5;167;01mValueError\u001b[39;00m):\n\u001b[0;32m     44\u001b[0m     \u001b[38;5;28;01mreturn\u001b[39;00m \u001b[38;5;28;01mFalse\u001b[39;00m\n",
      "\u001b[1;31mKeyboardInterrupt\u001b[0m: "
     ]
    }
   ],
   "source": [
    "# if needed, run this cell to reload whole z-stack\n",
    "print('Loading data...')\n",
    "nMIP = len(viewer.layers)\n",
    "viewer.open((dirData+filePath + '.nd2'), plugin='napari-nikon-nd2')\n",
    "viewer.layers.remove(viewer.layers[len(viewer.layers)-1]) # remove transmitted detector image\n",
    "viewer.layers.select_next();\n",
    "if len(viewer.layers)==2+nMIP: #no DAPI\n",
    "   viewer.layers[nMIP+0].colormap = 'green'\n",
    "   viewer.layers[nMIP+0].name = layerNames[0]\n",
    "   viewer.layers[nMIP+1].colormap = 'magenta'\n",
    "   viewer.layers[nMIP+1].name = layerNames[1]\n",
    "elif len(viewer.layers)==3+nMIP: #DAPI\n",
    "   viewer.layers[nMIP+0].colormap = 'gray'\n",
    "   viewer.layers[nMIP+0].name = 'N'\n",
    "   viewer.layers[nMIP+0].opacity = 0.99\n",
    "   viewer.layers[nMIP+1].colormap = 'green'\n",
    "   viewer.layers[nMIP+1].name = layerNames[0]\n",
    "   viewer.layers[nMIP+2].colormap = 'magenta'\n",
    "   viewer.layers[nMIP+2].name = layerNames[1]\n",
    "elif len(viewer.layers)==4+nMIP: #DAPI\n",
    "   viewer.layers[nMIP+0].colormap = 'gray'\n",
    "   viewer.layers[nMIP+0].name = 'N'\n",
    "   viewer.layers[nMIP+0].opacity = 0.99\n",
    "   viewer.layers[nMIP+1].colormap = 'green'\n",
    "   viewer.layers[nMIP+1].name = layerNames[0]\n",
    "   viewer.layers[nMIP+2].colormap = 'magenta'\n",
    "   viewer.layers[nMIP+2].name = layerNames[1]\n",
    "   viewer.layers[nMIP+3].colormap = 'bop orange'\n",
    "   viewer.layers[nMIP+3].name = layerNames[2]\n",
    "\n",
    "print('Images loaded!')"
   ]
  },
  {
   "cell_type": "markdown",
   "metadata": {},
   "source": [
    "#### resave first curated segmentation after napari-ing around"
   ]
  },
  {
   "cell_type": "code",
   "execution_count": 238,
   "metadata": {
    "tags": []
   },
   "outputs": [
    {
     "name": "stdout",
     "output_type": "stream",
     "text": [
      "Done with U_seg for 20220408_tbx2aF3_xOG_s1C_L16_004\n",
      "removeLabel on R_seg (\"Shift-X\")\n",
      "toggle U_mip visibility (\"B\")\n",
      "toggle R_mip visibility (\"N\")\n",
      "toggle R_seg preserve_labels (\"k\")\n",
      "Add new label in R_seg visibility (\"+\"|\"M\")\n"
     ]
    }
   ],
   "source": [
    "lname = layerNames[1] + '_seg'\n",
    "l = viewer.layers[lname]; l.save(dirOut + l.name + '_curated.tiff')\n",
    "print('Done with ' + lname + ' for ' + filePath)\n",
    "\n",
    "viewer.layers[layerNames[0] + '_mip'].visible = True\n",
    "viewer.layers[layerNames[0] + '_seg'].visible = True\n",
    "# viewer.layers[layerNames[0] + '_seg'].contour = 0\n",
    "viewer.layers[layerNames[1] + '_mip'].visible = False\n",
    "viewer.layers[layerNames[1] + '_seg'].visible = False\n",
    "\n",
    "@viewer.bind_key('Shift-x', overwrite=True)\n",
    "def removeLabel(viewer):\n",
    "   lname = layerNames[0] + '_seg'\n",
    "   tempd = viewer.layers[lname].data\n",
    "   tempd[tempd == viewer.layers[lname].selected_label]=0\n",
    "   viewer.layers[lname].data = tempd\n",
    "   print('Cut!')\n",
    "print('removeLabel on {0}_seg (\"Shift-X\")'.format(layerNames[0]))\n",
    "\n",
    "@viewer.bind_key('b', overwrite=True)\n",
    "def toggle_sel(viewer):\n",
    "   lname = layerNames[1] + '_mip'\n",
    "   if (viewer.layers[lname].visible == True):\n",
    "      viewer.layers[lname].visible = False\n",
    "   elif (viewer.layers[lname].visible == False):\n",
    "      viewer.layers[lname].visible = True\n",
    "print('toggle {0}_mip visibility (\"B\")'.format(layerNames[1]))\n",
    "\n",
    "@viewer.bind_key('n', overwrite=True)\n",
    "def toggle_sel(viewer):\n",
    "   lname = layerNames[0] + '_mip'\n",
    "   if (viewer.layers[lname].visible == True):\n",
    "      viewer.layers[lname].visible = False\n",
    "   elif (viewer.layers[lname].visible == False):\n",
    "      viewer.layers[lname].visible = True\n",
    "print('toggle {0}_mip visibility (\"N\")'.format(layerNames[0]))\n",
    "\n",
    "\n",
    "@viewer.bind_key('k', overwrite=True)\n",
    "def toggle_sel(viewer):\n",
    "   lname = layerNames[0] + '_seg'\n",
    "   if (viewer.layers[lname].preserve_labels == True):\n",
    "      viewer.layers[lname].preserve_labels = False\n",
    "   elif (viewer.layers[lname].preserve_labels == False):\n",
    "      viewer.layers[lname].preserve_labels = True\n",
    "print('toggle {0}_seg preserve_labels (\"k\")'.format(layerNames[0]))\n",
    "\n",
    "@viewer.bind_key('+', overwrite=True)\n",
    "def new_label(viewer):\n",
    "   \"\"\"Set the currently selected label to the largest used label plus one.\"\"\"\n",
    "   lname = layerNames[0] + '_seg'\n",
    "   viewer.layers[lname].selected_label = viewer.layers[lname].data.max() + 1\n",
    "print('Add new label in {0}_seg visibility (\"+\"|\"M\")'.format(layerNames[0]))"
   ]
  },
  {
   "cell_type": "markdown",
   "metadata": {},
   "source": [
    "#### resave second curated segmentation after napari-ing around"
   ]
  },
  {
   "cell_type": "code",
   "execution_count": 239,
   "metadata": {
    "tags": []
   },
   "outputs": [
    {
     "name": "stdout",
     "output_type": "stream",
     "text": [
      "Done with R_seg for 20220408_tbx2aF3_xOG_s1C_L16_004\n"
     ]
    }
   ],
   "source": [
    "lname = layerNames[0] + '_seg'\n",
    "l = viewer.layers[lname]; l.save(dirOut + l.name + '_curated.tiff')\n",
    "print('Done with ' + lname + ' for ' + filePath)"
   ]
  },
  {
   "cell_type": "markdown",
   "metadata": {},
   "source": [
    "### Reload curated segmentations after saving for final review"
   ]
  },
  {
   "cell_type": "code",
   "execution_count": 240,
   "metadata": {
    "tags": []
   },
   "outputs": [
    {
     "name": "stdout",
     "output_type": "stream",
     "text": [
      "20220408_tbx2aF3_xOG_s1C_L16_004\n",
      "Image has 136 U\n",
      "Image has 14 R\n"
     ]
    }
   ],
   "source": [
    "# remove all except mips\n",
    "viewer.layers.remove(viewer.layers[layerNames[1] + '_seg'])\n",
    "viewer.layers.remove(viewer.layers[layerNames[0] + '_seg'])\n",
    "\n",
    "viewer.open(dirOut + layerNames[1] + \"_seg_curated.tiff\", name=layerNames[1] + '_seg', plugin='napari',blending='additive');\n",
    "# viewer.layers['U_seg'].contour = 5\n",
    "viewer.layers[layerNames[1] + '_mip'].visible = True\n",
    "viewer.open(dirOut + layerNames[0] + '_seg_curated.tiff', name=layerNames[0] + '_seg', plugin='napari',blending='additive');\n",
    "\n",
    "print(filePath)\n",
    "n0 = len(np.unique(viewer.layers[layerNames[1] + '_seg'].data))-1\n",
    "print(\"Image has {0} {1}\".format(n0, layerNames[1]))\n",
    "n1 = len(np.unique(viewer.layers[layerNames[0] + '_seg'].data))-1\n",
    "print(\"Image has {0} {1}\".format(n1,layerNames[0]))"
   ]
  },
  {
   "cell_type": "markdown",
   "metadata": {},
   "source": [
    "### [Go back and run next one &uarr;](#manualCuration)"
   ]
  },
  {
   "cell_type": "code",
   "execution_count": 55,
   "metadata": {
    "tags": []
   },
   "outputs": [
    {
     "data": {
      "text/plain": [
       "'U'"
      ]
     },
     "execution_count": 55,
     "metadata": {},
     "output_type": "execute_result"
    }
   ],
   "source": [
    "layerNames[1]"
   ]
  },
  {
   "cell_type": "code",
   "execution_count": 55,
   "metadata": {
    "tags": []
   },
   "outputs": [
    {
     "data": {
      "text/plain": [
       "'U'"
      ]
     },
     "execution_count": 55,
     "metadata": {},
     "output_type": "execute_result"
    }
   ],
   "source": [
    "layerNames[1]"
   ]
  }
 ],
 "metadata": {
  "kernelspec": {
   "display_name": "Python 3 (ipykernel)",
   "language": "python",
   "name": "python3"
  },
  "language_info": {
   "codemirror_mode": {
    "name": "ipython",
    "version": 3
   },
   "file_extension": ".py",
   "mimetype": "text/x-python",
   "name": "python",
   "nbconvert_exporter": "python",
   "pygments_lexer": "ipython3",
   "version": "3.9.16"
  },
  "toc-autonumbering": false,
  "toc-showcode": false,
  "toc-showmarkdowntxt": false
 },
 "nbformat": 4,
 "nbformat_minor": 4
}
