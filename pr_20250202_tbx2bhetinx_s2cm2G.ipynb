{
 "cells": [
  {
   "cell_type": "markdown",
   "metadata": {},
   "source": [
    "# Photoreceptor segmentation using [napari](https://napari.org/) and [cellpose](https://cellpose-napari.readthedocs.io/en/latest/index.html)"
   ]
  },
  {
   "cell_type": "markdown",
   "metadata": {},
   "source": [
    "### Basic usage:\n",
    "```python\n",
    "viewer = napari.Viewer()\n",
    "nbscreenshot(viewer)\n",
    "viewer.close()\n",
    "```\n",
    "\n",
    "example notebooks [here](https://github.com/sofroniewn/napari-training-course/blob/master/lessons/)"
   ]
  },
  {
   "cell_type": "code",
   "execution_count": 2,
   "metadata": {
    "tags": []
   },
   "outputs": [
    {
     "ename": "ModuleNotFoundError",
     "evalue": "No module named 'cellpose'",
     "output_type": "error",
     "traceback": [
      "\u001b[1;31m---------------------------------------------------------------------------\u001b[0m",
      "\u001b[1;31mModuleNotFoundError\u001b[0m                       Traceback (most recent call last)",
      "Cell \u001b[1;32mIn[2], line 4\u001b[0m\n\u001b[0;32m      1\u001b[0m \u001b[38;5;66;03m# !mamba install -c conda-forge devbio-napari --yes\u001b[39;00m\n\u001b[0;32m      2\u001b[0m \u001b[38;5;66;03m# !jupyter labextension list\u001b[39;00m\n\u001b[0;32m      3\u001b[0m \u001b[38;5;66;03m# !mamba install -c conda-forge cellpose-napari --yes\u001b[39;00m\n\u001b[1;32m----> 4\u001b[0m \u001b[38;5;28;01mfrom\u001b[39;00m \u001b[38;5;21;01mcellpose\u001b[39;00m \u001b[38;5;28;01mimport\u001b[39;00m models\n",
      "\u001b[1;31mModuleNotFoundError\u001b[0m: No module named 'cellpose'"
     ]
    }
   ],
   "source": [
    "# !mamba install -c conda-forge devbio-napari --yes\n",
    "# !jupyter labextension list\n",
    "# !mamba install -c conda-forge cellpose-napari --yes\n",
    "# from cellpose import models"
   ]
  },
  {
   "cell_type": "code",
   "execution_count": 1,
   "metadata": {
    "tags": []
   },
   "outputs": [
    {
     "data": {
      "application/vnd.jupyter.widget-view+json": {
       "model_id": "29ccefed0c3c4db8a0c9f2aab29b7753",
       "version_major": 2,
       "version_minor": 0
      },
      "text/plain": [
       "VBox(children=(Label(value='Select plotting style', layout=Layout(height='30px', width='20%')), Dropdown(index…"
      ]
     },
     "execution_count": 1,
     "metadata": {},
     "output_type": "execute_result"
    }
   ],
   "source": [
    "# image analysis\n",
    "import napari\n",
    "from magicgui import magicgui\n",
    "from enum import Enum\n",
    "import cellpose_napari\n",
    "import cellpose\n",
    "from cellpose import models\n",
    "from tifffile import imread\n",
    "import napari_nikon_nd2\n",
    "from skimage.io import imread\n",
    "from magicgui import magicgui\n",
    "# python basics and plotting\n",
    "import numpy as np\n",
    "import pandas as pd\n",
    "import math\n",
    "from scipy import ndimage\n",
    "from scipy.stats import kruskal\n",
    "from scipy.stats import zscore\n",
    "from scipy.stats import sem\n",
    "import scikit_posthocs\n",
    "import scipy.spatial\n",
    "import matplotlib\n",
    "import matplotlib.pyplot as plt\n",
    "import matplotlib.font_manager as font_manager\n",
    "import svgutils\n",
    "from svgutils.compose import *\n",
    "# system interaction\n",
    "import os.path\n",
    "import time, sys, warnings, re\n",
    "from tqdm.notebook import tqdm, trange\n",
    "import importlib\n",
    "import ipywidgets\n",
    "from IPython.display import display\n",
    "# lab brews\n",
    "from plotParams import *\n",
    "from lloyd import *\n",
    "\n",
    "\n",
    "def getFileList(dirData,gene,fileNameMatch,addDetails=''):\n",
    "   fileList = sorted([f for f in os.listdir(dirData) if not f.startswith('.')]) # get all the files in the data directory (excluding system files) and sort them alphabatically\n",
    "   fileList = ([f for f in fileList if gene in f]) # select files that match the gene of interest\n",
    "   fileList = ([f for f in fileList if any([s in f for s in fileNameMatch])]) # only keep relevant files\n",
    "   if (addDetails=='path'):\n",
    "      fileList = (['# filePath = \\'' + f for f in fileList]) # add text before each file\n",
    "      fileList = list(map(lambda st: str.replace(st, '.nd2', '\\'; gene = \\'' + gene + '\\'; '), fileList)) #remove file extension (.nd2) and add text after each file\n",
    "   elif (addDetails=='list'):\n",
    "      fileList = (['\\'' + f for f in fileList]) # add text before each file\n",
    "      fileList = list(map(lambda st: str.replace(st, '.nd2', '\\','), fileList)) #remove file extension (.nd2) and add text after each file\n",
    "   else:\n",
    "      fileList = list(map(lambda st: str.replace(st, '.nd2', ''), fileList)) #remove file extension (.nd2) and add text after each file\n",
    "   return fileList\n",
    "\n",
    "\n",
    "pBGMenu = ipywidgets.Dropdown(options=['Light', 'Dark'],value='Dark',disabled=False, layout=ipywidgets.Layout(width='20%', height='40px'))\n",
    "pBGLabel = ipywidgets.widgets.Label('Select plotting style', layout=ipywidgets.Layout(width='20%', height='30px'))\n",
    "pBG = ipywidgets.widgets.VBox([pBGLabel,pBGMenu])\n",
    "pBG"
   ]
  },
  {
   "cell_type": "code",
   "execution_count": 2,
   "metadata": {
    "tags": []
   },
   "outputs": [
    {
     "name": "stdout",
     "output_type": "stream",
     "text": [
      "Plotting style is Dark\n"
     ]
    }
   ],
   "source": [
    "applyPlotStyle(pBGMenu.value)\n",
    "viewer = napari.Viewer()"
   ]
  },
  {
   "cell_type": "code",
   "execution_count": 59,
   "metadata": {
    "tags": []
   },
   "outputs": [],
   "source": [
    "viewer = napari.Viewer()"
   ]
  },
  {
   "cell_type": "code",
   "execution_count": 131,
   "metadata": {
    "tags": []
   },
   "outputs": [],
   "source": [
    "        viewer.close()"
   ]
  },
  {
   "cell_type": "markdown",
   "metadata": {},
   "source": [
    "***\n",
    "# Index <a id='Index'></a>\n",
    "***\n",
    "- [define directories](#dirDef)\n",
    "- [Extraction of z planes for analysis](#zExtract)\n",
    "- [Segmentation with cellpose](#cellSeg)\n",
    "- [Manual correction of segmentation](#manualCuration)\n",
    "- [Create thumbnails _WIP_](#thumbnails)\n",
    "- [Quantification](#quantification)"
   ]
  },
  {
   "cell_type": "markdown",
   "metadata": {
    "tags": []
   },
   "source": [
    "***\n",
    "## Define directories<a id='dirDefdirDef'>∮</a>\n",
    "***\n",
    "[Back to Index](#Index)"
   ]
  },
  {
   "cell_type": "code",
   "execution_count": 4,
   "metadata": {
    "tags": []
   },
   "outputs": [],
   "source": [
    "# define where all the imaging data is stored\n",
    "dirData = 'D:/Imaging/20250202_2bhetinx_s2C_m2G/'\n",
    "# define where all the analysis files should be stored\n",
    "# subdirectories for each gene and transgenic lines need to be manually made first\n",
    "dirAnalysis = \"D:/Analysis/20250202_Tbx2bhetinx_m2Gs2C/m2Gs2C/\"\n",
    "\n",
    "# # define where all the imaging data is stored\n",
    "# dirData = 'D:/Imaging/0250202_2bhetinx_s2C_m2G/'\n",
    "# # define where all the analysis files should be stored\n",
    "# # subdirectories for each gene and transgenic lines need to be manually made first\n",
    "# dirAnalysis = 'D:/Analysis/20250202_Tbx2bhetinx_m2Gs2C/m2Gs2C/'"
   ]
  },
  {
   "cell_type": "code",
   "execution_count": 5,
   "metadata": {
    "tags": []
   },
   "outputs": [
    {
     "name": "stdout",
     "output_type": "stream",
     "text": [
      "# filePath = '20250123_5dpf_tbx2bhetinx_s2C_m2G_L01_002'; gene = ''; \n",
      "# filePath = '20250123_5dpf_tbx2bhetinx_s2C_m2G_L01_004'; gene = ''; \n",
      "# filePath = '20250123_5dpf_tbx2bhetinx_s2C_m2G_L02_002'; gene = ''; \n",
      "# filePath = '20250123_5dpf_tbx2bhetinx_s2C_m2G_L02_004'; gene = ''; \n",
      "# filePath = '20250123_5dpf_tbx2bhetinx_s2C_m2G_L03_002'; gene = ''; \n",
      "# filePath = '20250123_5dpf_tbx2bhetinx_s2C_m2G_L03_004'; gene = ''; \n",
      "# filePath = '20250123_5dpf_tbx2bhetinx_s2C_m2G_L04_002'; gene = ''; \n",
      "# filePath = '20250123_5dpf_tbx2bhetinx_s2C_m2G_L04_004'; gene = ''; \n",
      "# filePath = '20250123_5dpf_tbx2bhetinx_s2C_m2G_L05_002'; gene = ''; \n",
      "# filePath = '20250123_5dpf_tbx2bhetinx_s2C_m2G_L05_004'; gene = ''; \n",
      "# filePath = '20250123_5dpf_tbx2bhetinx_s2C_m2G_L06_002'; gene = ''; \n",
      "# filePath = '20250123_5dpf_tbx2bhetinx_s2C_m2G_L06_004'; gene = ''; \n",
      "# filePath = '20250123_5dpf_tbx2bhetinx_s2C_m2G_L07_002'; gene = ''; \n",
      "# filePath = '20250123_5dpf_tbx2bhetinx_s2C_m2G_L07_004'; gene = ''; \n",
      "# filePath = '20250123_5dpf_tbx2bhetinx_s2C_m2G_L08_002'; gene = ''; \n",
      "# filePath = '20250123_5dpf_tbx2bhetinx_s2C_m2G_L08_004'; gene = ''; \n",
      "# filePath = '20250123_5dpf_tbx2bhetinx_s2C_m2G_L09_004'; gene = ''; \n",
      "# filePath = '20250123_5dpf_tbx2bhetinx_s2C_m2G_L10_002'; gene = ''; \n",
      "# filePath = '20250123_5dpf_tbx2bhetinx_s2C_m2G_L10_004'; gene = ''; \n",
      "# filePath = '20250123_5dpf_tbx2bhetinx_s2C_m2G_L11_002'; gene = ''; \n",
      "# filePath = '20250123_5dpf_tbx2bhetinx_s2C_m2G_L11_004'; gene = ''; \n"
     ]
    }
   ],
   "source": [
    "gene = '' # usually 'wt' or gene of interest (e.g. 'tbx2a', 'lhx1a')\n",
    "# gene = 'lhx1a' # usually 'wt' or gene of interest (e.g. 'tbx2a', 'lhx1a')\n",
    "fileNameMatch = ['002','004'] # characters in filenames that define zoom-in files\n",
    "\n",
    "# get a list with all the relevant files\n",
    "print(*getFileList(dirData,gene,fileNameMatch,addDetails='path'), sep = \"\\n\") #display the file list for copy and paste below"
   ]
  },
  {
   "cell_type": "markdown",
   "metadata": {
    "tags": []
   },
   "source": [
    "***\n",
    "## Extract layers from z-stacks<a id='zExtract'>∮</a>\n",
    "> Open z-stack &rarr; Pick limits in z for Maximum-Intensity Projection (_MIP_) &rarr; save MIPs &rarr; Ensure image was located in central retina\n",
    "***\n",
    "[Back to Index](#Index)"
   ]
  },
  {
   "cell_type": "code",
   "execution_count": 27,
   "metadata": {
    "tags": []
   },
   "outputs": [],
   "source": [
    "# clear viewer if needed\n",
    "viewer.layers.select_all()\n",
    "viewer.layers.remove_selected()"
   ]
  },
  {
   "cell_type": "code",
   "execution_count": 6,
   "metadata": {
    "tags": []
   },
   "outputs": [
    {
     "name": "stdout",
     "output_type": "stream",
     "text": [
      "Canvas cleared. Loading data...\n",
      "\n",
      "\n",
      "Images loaded!\n"
     ]
    }
   ],
   "source": [
    "# clear viewer before any loading\n",
    "viewer.layers.select_all()\n",
    "viewer.layers.remove_selected()\n",
    "\n",
    "# open files one by one (by commenting and uncommenting each one)\n",
    "\n",
    "#uninj\n",
    "filePath = '20250123_5dpf_tbx2bhetinx_s2C_m2G_L01_002'; gene = ''; zlims = [23,25]; #beautifulexampleimage - WT\n",
    "# filePath = '20250123_5dpf_tbx2bhetinx_s2C_m2G_L01_004'; gene = ''; zlims = [19,21];#beautifulexampleimage - WT\n",
    "# filePath = '20250123_5dpf_tbx2bhetinx_s2C_m2G_L02_002'; gene = ''; zlims = [19,21];\n",
    "# filePath = '20250123_5dpf_tbx2bhetinx_s2C_m2G_L02_004'; gene = ''; zlims = [22,23];\n",
    "# filePath = '20250123_5dpf_tbx2bhetinx_s2C_m2G_L03_002'; gene = ''; zlims = [24,26]; #DEF LOOKS MUT\n",
    "# filePath = '20250123_5dpf_tbx2bhetinx_s2C_m2G_L03_004'; gene = ''; zlims = [21,23]; #LOOKS MUT - OMIT\n",
    "# filePath = '20250123_5dpf_tbx2bhetinx_s2C_m2G_L04_002'; gene = ''; zlims = [8,11]; #zoominnotflat\n",
    "# filePath = '20250123_5dpf_tbx2bhetinx_s2C_m2G_L04_004'; gene = ''; zlims = [16,18]; #Not very good\n",
    "# filePath = '20250123_5dpf_tbx2bhetinx_s2C_m2G_L05_002'; gene = ''; zlims = [17,19]; #beautiful\n",
    "# filePath = '20250123_5dpf_tbx2bhetinx_s2C_m2G_L05_004'; gene = ''; zlims = [4,21]; #looks good\n",
    "# filePath = '20250123_5dpf_tbx2bhetinx_s2C_m2G_L06_002'; gene = ''; zlims = [16,21]; #DAPI not representative\n",
    "# filePath = '20250123_5dpf_tbx2bhetinx_s2C_m2G_L06_004'; gene = ''; zlims = [19,21]; # very good - wt looking\n",
    "# filePath = '20250123_5dpf_tbx2bhetinx_s2C_m2G_L07_002'; gene = ''; zlims = [23,33]; #looks good \n",
    "# filePath = '20250123_5dpf_tbx2bhetinx_s2C_m2G_L07_004'; gene = ''; zlims = [13,18]; #looks good\n",
    "# filePath = '20250123_5dpf_tbx2bhetinx_s2C_m2G_L08_002'; gene = ''; zlims = [36,41]; #looks good \n",
    "# filePath = '20250123_5dpf_tbx2bhetinx_s2C_m2G_L08_004'; gene = ''; zlims = [16,25]; #super good dapi\n",
    "# filePath = '20250123_5dpf_tbx2bhetinx_s2C_m2G_L09_004'; gene = ''; zlims = [19,35]; #good\n",
    "# filePath = '20250123_5dpf_tbx2bhetinx_s2C_m2G_L10_002'; gene = ''; zlims = [31,36]; #good\n",
    "# filePath = '20250123_5dpf_tbx2bhetinx_s2C_m2G_L10_004'; gene = ''; zlims = [25,33]; #good \n",
    "# filePath = '20250123_5dpf_tbx2bhetinx_s2C_m2G_L11_002'; gene = ''; zlims = [20,33]; #good \n",
    "# filePath = '20250123_5dpf_tbx2bhetinx_s2C_m2G_L11_004'; gene = ''; zlims = [14,19]; #might be rods - reccheck and omit?\n",
    "\n",
    "layerNames = ['M', 'S', 'N']\n",
    "# layerNames = ['R', 'U', 'PNA', 'N']\n",
    "# layerNames = ['N', 'U']\n",
    "\n",
    "# create subdirectory for analysis output\n",
    "dirOut = dirAnalysis + gene + '/' + filePath + '/'\n",
    "if (os.path.isdir(dirOut)==False):\n",
    "   os.mkdir(dirOut)\n",
    "   print('Created output directory')\n",
    "\n",
    "print('Canvas cleared. Loading data...\\n\\n')\n",
    "\n",
    "# load whole stack to figure out best z-planes for cellpose\n",
    "viewer.open((dirData+filePath + '.nd2'), plugin='napari-nikon-nd2')\n",
    "viewer.layers.remove(viewer.layers[len(viewer.layers)-1]) # remove transmitted detector image\n",
    "viewer.layers.select_next();\n",
    "if len(viewer.layers)==2: #no DAPI\n",
    "   nChannels = 2\n",
    "   viewer.layers[0].colormap = 'cyan'\n",
    "   viewer.layers[0].name = layerNames[0]\n",
    "   viewer.layers[1].colormap = 'magenta'\n",
    "   viewer.layers[1].name = layerNames[1]\n",
    "elif len(viewer.layers)==3: #DAPI\n",
    "   nChannels = 3\n",
    "   viewer.layers[0].colormap = 'cyan'\n",
    "   viewer.layers[0].name = 'N'\n",
    "   viewer.layers[0].opacity = 0.99\n",
    "   viewer.layers[1].colormap = 'green'\n",
    "   viewer.layers[1].name = layerNames[0]\n",
    "   viewer.layers[2].colormap = 'magenta'\n",
    "   viewer.layers[2].name = layerNames[1]\n",
    "   layerNames.append('N')\n",
    "elif len(viewer.layers)==4: #DAPI\n",
    "   nChannels = 4\n",
    "   viewer.layers[0].colormap = 'gray'\n",
    "   viewer.layers[0].name = 'N'\n",
    "   viewer.layers[0].opacity = 0.99\n",
    "   viewer.layers[1].colormap = 'green'\n",
    "   viewer.layers[1].name = layerNames[0]\n",
    "   viewer.layers[2].colormap = 'magenta'\n",
    "   viewer.layers[2].name = layerNames[1]\n",
    "   viewer.layers[3].colormap = 'bop orange'\n",
    "   viewer.layers[3].name = layerNames[2]\n",
    "   layerNames.append('N')\n",
    "\n",
    "print('Images loaded!')"
   ]
  },
  {
   "cell_type": "code",
   "execution_count": 39,
   "metadata": {
    "tags": []
   },
   "outputs": [],
   "source": [
    "# make mips (and remove any previous ones) by defining the z-limits to use\n",
    "zlims = [14,19];\n",
    "if len(viewer.layers)>nChannels:\n",
    "    for l in viewer.layers[nChannels:]:\n",
    "      viewer.layers.remove(l)\n",
    "\n",
    "for l in viewer.layers[0:nChannels]:\n",
    "    l.visible = False\n",
    "#     viewer.layers.remove(l.name + '_mip')\n",
    "    viewer.add_image(l.data[zlims[0]:zlims[1]].max(axis=0), blending='additive', colormap = l.colormap, name = l.name + \"_mip\")"
   ]
  },
  {
   "cell_type": "code",
   "execution_count": 40,
   "metadata": {
    "tags": []
   },
   "outputs": [
    {
     "name": "stdout",
     "output_type": "stream",
     "text": [
      "MIP layers saved for 20250123_5dpf_tbx2bhetinx_s2C_m2G_L11_004\n"
     ]
    }
   ],
   "source": [
    "# SAVE in folder for batch cellpose analysis (when mips look good)\n",
    "for name in layerNames:\n",
    "   l = viewer.layers[name + '_mip']; l.save(dirOut + l.name + '.tiff')\n",
    "print('MIP layers saved for ' + filePath)"
   ]
  },
  {
   "cell_type": "markdown",
   "metadata": {
    "tags": []
   },
   "source": [
    "### Establish landmarks in whole-eye MIP\n",
    "- Use eyeMarks layer to mark:\n",
    "    - [ ] Landmark #1: Center of FOV (where zoom in is centered)\n",
    "    - [ ] Landmark #2: Center of Optic Nerve Head \n",
    "    - [ ] Landmark #3: Dorsal edge of eye\n",
    "    - [ ] Landmark #4: Ventral edge of eye\n",
    "    - [ ] Landmark #5: Temporal edge of eye (strike zone side)\n",
    "    - [ ] Landmark #6: Nasal edge of eye\n",
    "- Decide if stack should be excluded (and stop analysis here and make note in csv summary file)"
   ]
  },
  {
   "cell_type": "code",
   "execution_count": 41,
   "metadata": {
    "tags": []
   },
   "outputs": [
    {
     "name": "stdout",
     "output_type": "stream",
     "text": [
      "Loading eye mip...\n",
      "2\n",
      "Loaded: 20250123_5dpf_tbx2bhetinx_s2C_m2G_L11_004\n",
      "Make 6 landmark points then click button to save\n"
     ]
    },
    {
     "data": {
      "application/vnd.jupyter.widget-view+json": {
       "model_id": "21fdd5183a634f5e93f562dfd3cc338c",
       "version_major": 2,
       "version_minor": 0
      },
      "text/plain": [
       "VBox(children=(Button(description='Save eyeMarks', layout=Layout(height='100px', width='200px'), style=ButtonS…"
      ]
     },
     "execution_count": 41,
     "metadata": {},
     "output_type": "execute_result"
    }
   ],
   "source": [
    "nMIP = len(layerNames)\n",
    "for name in layerNames:\n",
    "   lName = name + \"_mip\"\n",
    "   viewer.layers[lName].scale = [1.5/8,1.5/8];\n",
    "   viewer.layers[lName].translate = [0,+(512-1024*1.5/(8*2))]\n",
    "\n",
    "# Load whole-eye MIP to establish landmarks\n",
    "print('Loading eye mip...')\n",
    "if str.endswith(filePath,'002'):\n",
    "    mipPath = filePath[:-1] + '1_mip';\n",
    "elif str.endswith(filePath,'004'):\n",
    "    mipPath = filePath[:-1] + '3_mip';\n",
    "elif str.endswith(filePath,'b'):\n",
    "    mipPath = filePath[:-1] + 'a_mip';\n",
    "elif str.endswith(filePath,'d'):\n",
    "    mipPath = filePath[:-1] + 'c_mip';\n",
    "viewer.open((dirData+mipPath + '.nd2'), plugin='napari-nikon-nd2', blending='additive')\n",
    "\n",
    "viewer.layers.remove(viewer.layers[len(viewer.layers)-1]) # remove transmitted detector image\n",
    "viewer.layers.select_next();\n",
    "eyeChannels = 0\n",
    "if len(viewer.layers)==2+nMIP+nChannels: # no DAPI, GFP and RFP\n",
    "   eyeChannels = 2\n",
    "   viewer.layers[nMIP+nChannels].colormap = 'green'\n",
    "   viewer.layers[nMIP+nChannels].name = 'eyeGreen'\n",
    "   viewer.layers[nMIP+nChannels+1].colormap = 'magenta'\n",
    "   viewer.layers[nMIP+nChannels+1].name = 'eyeRed'\n",
    "elif len(viewer.layers)==3+nMIP+nChannels: # leave DIC\n",
    "   eyeChannels = 3\n",
    "   viewer.layers[nMIP+nChannels+0].colormap = 'green'\n",
    "   viewer.layers[nMIP+nChannels+0].name = 'eyeGreen'\n",
    "   viewer.layers[nMIP+nChannels+1].colormap = 'magenta'\n",
    "   viewer.layers[nMIP+nChannels+1].name = 'eyeRed'\n",
    "   viewer.layers[nMIP+nChannels+2].colormap = 'gray'\n",
    "   viewer.layers[nMIP+nChannels+2].name = 'eyeBlue'\n",
    "   viewer.layers[nMIP+nChannels+2].opacity = 0.33\n",
    "elif len(viewer.layers)==4+nMIP+nChannels: #DIC + DAPI\n",
    "   eyeChannels = 4\n",
    "   viewer.layers[nMIP+nChannels+0].colormap = 'gray'\n",
    "   viewer.layers[nMIP+nChannels+0].name = 'eyeBlue'\n",
    "   viewer.layers[nMIP+nChannels+1].colormap = 'green'\n",
    "   viewer.layers[nMIP+nChannels+1].name = 'eyeGreen'\n",
    "   viewer.layers[nMIP+nChannels+2].colormap = 'magenta'\n",
    "   viewer.layers[nMIP+nChannels+2].name = 'eyeRed'\n",
    "   viewer.layers[nMIP+nChannels+3].colormap = 'bop orange'\n",
    "   viewer.layers[nMIP+nChannels+3].name = 'eyePNA'\n",
    "   viewer.layers[nMIP+nChannels+3].opacity = 0.33\n",
    "print(eyeChannels)\n",
    "print('Loaded: ' + filePath)\n",
    "eyeMarks = viewer.add_points(size=20, name = 'eyeMarks', symbol='cross', face_color='#ffffff80')\n",
    "viewer.layers.select_next();\n",
    "\n",
    "# Save eye landmarks\n",
    "eyeMarksButton = ipywidgets.Button(description='Save eyeMarks', layout=ipywidgets.Layout(width='200px', height='100px'))\n",
    "out = ipywidgets.Output()\n",
    "def eyeMClick(_):\n",
    "   with out:\n",
    "      l = viewer.layers['eyeMarks']; l.save(dirOut + l.name + '.csv');\n",
    "      print('eyeMarks layers saved for ' + filePath)\n",
    "   # clear viewer\n",
    "   viewer.layers.select_all()\n",
    "   viewer.layers.remove_selected()\n",
    "   eyeMarksButton.disabled = True # to prevent double clicking warnings. All sales are final!\n",
    "\n",
    "eyeMarksButton.on_click(eyeMClick)\n",
    "\n",
    "print('Make 6 landmark points then click button to save')\n",
    "\n",
    "ipywidgets.VBox([eyeMarksButton,out])"
   ]
  },
  {
   "cell_type": "markdown",
   "metadata": {},
   "source": [
    "### [Go back and run next one &uarr;](#zExtract)"
   ]
  },
  {
   "cell_type": "markdown",
   "metadata": {},
   "source": [
    "***\n",
    "## Segmentation using cellpose<a id='cellSeg'>∮</a>\n",
    "> Define list of files to segment &rarr; Define cellpose parameters &rarr; Run cellpose in each image\n",
    "***\n",
    "[Back to Index](#Index)"
   ]
  },
  {
   "cell_type": "markdown",
   "metadata": {},
   "source": [
    "### Running cellpose as batch analysis\n",
    "Usually for:\n",
    "- Rods: diameter = 20; flow_threshold = 0.5 and mask_threshold = 0.0\n",
    "- Cones: diameter = 40; flow_threshold = 0.5 and mask_threshold = 0.0\n",
    "- Horizontal cells: diameter = 100; flow_threshold = 0.6 and mask_threshold = 0.0\n",
    "\n",
    "> Using a higher _flow_threshold_ (i.e. 0.6 instead of 0.4) will provide more ROIs"
   ]
  },
  {
   "cell_type": "code",
   "execution_count": 44,
   "metadata": {
    "tags": []
   },
   "outputs": [
    {
     "name": "stdout",
     "output_type": "stream",
     "text": [
      "'20250123_5dpf_tbx2bhetinx_s2C_m2G_L01_002',\n",
      "'20250123_5dpf_tbx2bhetinx_s2C_m2G_L01_004',\n",
      "'20250123_5dpf_tbx2bhetinx_s2C_m2G_L02_002',\n",
      "'20250123_5dpf_tbx2bhetinx_s2C_m2G_L02_004',\n",
      "'20250123_5dpf_tbx2bhetinx_s2C_m2G_L03_002',\n",
      "'20250123_5dpf_tbx2bhetinx_s2C_m2G_L03_004',\n",
      "'20250123_5dpf_tbx2bhetinx_s2C_m2G_L04_002',\n",
      "'20250123_5dpf_tbx2bhetinx_s2C_m2G_L04_004',\n",
      "'20250123_5dpf_tbx2bhetinx_s2C_m2G_L05_002',\n",
      "'20250123_5dpf_tbx2bhetinx_s2C_m2G_L05_004',\n",
      "'20250123_5dpf_tbx2bhetinx_s2C_m2G_L06_002',\n",
      "'20250123_5dpf_tbx2bhetinx_s2C_m2G_L06_004',\n",
      "'20250123_5dpf_tbx2bhetinx_s2C_m2G_L07_002',\n",
      "'20250123_5dpf_tbx2bhetinx_s2C_m2G_L07_004',\n",
      "'20250123_5dpf_tbx2bhetinx_s2C_m2G_L08_002',\n",
      "'20250123_5dpf_tbx2bhetinx_s2C_m2G_L08_004',\n",
      "'20250123_5dpf_tbx2bhetinx_s2C_m2G_L09_004',\n",
      "'20250123_5dpf_tbx2bhetinx_s2C_m2G_L10_002',\n",
      "'20250123_5dpf_tbx2bhetinx_s2C_m2G_L10_004',\n",
      "'20250123_5dpf_tbx2bhetinx_s2C_m2G_L11_002',\n",
      "'20250123_5dpf_tbx2bhetinx_s2C_m2G_L11_004',\n"
     ]
    }
   ],
   "source": [
    "# get file list again\n",
    "gene = ''\n",
    "print(*getFileList(dirData,gene,fileNameMatch,addDetails='list'), sep = \"\\n\") #display the file list for copy and paste below"
   ]
  },
  {
   "cell_type": "code",
   "execution_count": 45,
   "metadata": {
    "tags": []
   },
   "outputs": [
    {
     "name": "stdout",
     "output_type": "stream",
     "text": [
      "I have now defined the new files to run\n"
     ]
    }
   ],
   "source": [
    "# clear viewer\n",
    "viewer.layers.select_all(); viewer.layers.remove_selected()\n",
    "\n",
    "# collect file paths for injected\n",
    "gene_wt = ''\n",
    "filePaths_wt = ['20250123_5dpf_tbx2bhetinx_s2C_m2G_L01_002',\n",
    "'20250123_5dpf_tbx2bhetinx_s2C_m2G_L01_004',\n",
    "'20250123_5dpf_tbx2bhetinx_s2C_m2G_L02_002',\n",
    "'20250123_5dpf_tbx2bhetinx_s2C_m2G_L02_004',\n",
    "'20250123_5dpf_tbx2bhetinx_s2C_m2G_L03_002',\n",
    "'20250123_5dpf_tbx2bhetinx_s2C_m2G_L03_004',\n",
    "'20250123_5dpf_tbx2bhetinx_s2C_m2G_L04_002',\n",
    "'20250123_5dpf_tbx2bhetinx_s2C_m2G_L04_004',\n",
    "'20250123_5dpf_tbx2bhetinx_s2C_m2G_L05_002',\n",
    "'20250123_5dpf_tbx2bhetinx_s2C_m2G_L05_004',\n",
    "'20250123_5dpf_tbx2bhetinx_s2C_m2G_L06_002',\n",
    "'20250123_5dpf_tbx2bhetinx_s2C_m2G_L06_004',\n",
    "'20250123_5dpf_tbx2bhetinx_s2C_m2G_L07_002',\n",
    "'20250123_5dpf_tbx2bhetinx_s2C_m2G_L07_004',\n",
    "'20250123_5dpf_tbx2bhetinx_s2C_m2G_L08_002',\n",
    "'20250123_5dpf_tbx2bhetinx_s2C_m2G_L08_004',\n",
    "'20250123_5dpf_tbx2bhetinx_s2C_m2G_L09_004',\n",
    "'20250123_5dpf_tbx2bhetinx_s2C_m2G_L10_002',\n",
    "'20250123_5dpf_tbx2bhetinx_s2C_m2G_L10_004',\n",
    "'20250123_5dpf_tbx2bhetinx_s2C_m2G_L11_002',\n",
    "'20250123_5dpf_tbx2bhetinx_s2C_m2G_L11_004',\n",
    "         ]\n",
    "\n",
    "# collect file paths for uninjected\n",
    "# gene_F0 = 'inj'\n",
    "# filePaths_F0 = [\n",
    "\n",
    "#          ]\n",
    "\n",
    "\n",
    "# define cellpose parameters\n",
    "cpParams = {\n",
    "    'model' : 'cyto2', # default is 'cyto' or 'cyto2'\n",
    "    'net_avg' : True,\n",
    "    'channels' : [0,0], #single channel without nucleus info\n",
    "    'diameterR' : 25,\n",
    "    'diameterC' : 40,\n",
    "    'diameterH' : 100,\n",
    "    'flow_threshold' : 0.5,\n",
    "    'cellprob_threshold' : 0.0\n",
    "}\n",
    "\n",
    "\n",
    "# define model to use (e.g. 'cyto2')\n",
    "model = models.Cellpose(gpu=False, model_type=cpParams['model'])\n",
    "\n",
    "print('I have now defined the new files to run')"
   ]
  },
  {
   "cell_type": "markdown",
   "metadata": {},
   "source": [
    "#### Run in loop to track progress and automatically save results\n",
    "> In Jan 2022: ~4 minutes per 1024 x 1024 image (4 nets). "
   ]
  },
  {
   "cell_type": "code",
   "execution_count": 8,
   "metadata": {
    "tags": []
   },
   "outputs": [],
   "source": [
    "layerNames = ['R', 'U', 'N']\n",
    "# layerNames = ['R', 'U', 'PNA', 'N']"
   ]
  },
  {
   "cell_type": "code",
   "execution_count": 46,
   "metadata": {
    "tags": []
   },
   "outputs": [
    {
     "name": "stdout",
     "output_type": "stream",
     "text": [
      "Starting analysis for :\n"
     ]
    },
    {
     "data": {
      "application/vnd.jupyter.widget-view+json": {
       "model_id": "8fabaa12a27e462ab3f73df8dcdb085e",
       "version_major": 2,
       "version_minor": 0
      },
      "text/plain": [
       "  0%|          | 0/84 [00:00<?, ?it/s]"
      ]
     },
     "metadata": {},
     "output_type": "display_data"
    },
    {
     "name": "stdout",
     "output_type": "stream",
     "text": [
      "\t20250123_5dpf_tbx2bhetinx_s2C_m2G_L01_002\n",
      "\t\t M\n",
      "\t Time elapsed: 50 s\n",
      "\n",
      "\t\t S\n",
      "\t Time elapsed: 47 s\n",
      "\n",
      "\t\t N\n",
      "\t Time elapsed: 37 s\n",
      "\n",
      "\t\t N\n",
      "\t Time elapsed: 36 s\n",
      "\n",
      "\t20250123_5dpf_tbx2bhetinx_s2C_m2G_L01_004\n",
      "\t\t M\n",
      "\t Time elapsed: 42 s\n",
      "\n",
      "\t\t S\n",
      "\t Time elapsed: 47 s\n",
      "\n",
      "\t\t N\n",
      "\t Time elapsed: 35 s\n",
      "\n",
      "\t\t N\n",
      "\t Time elapsed: 35 s\n",
      "\n",
      "\t20250123_5dpf_tbx2bhetinx_s2C_m2G_L02_002\n",
      "\t\t M\n",
      "\t Time elapsed: 48 s\n",
      "\n",
      "\t\t S\n",
      "\t Time elapsed: 40 s\n",
      "\n",
      "\t\t N\n",
      "\t Time elapsed: 38 s\n",
      "\n",
      "\t\t N\n",
      "\t Time elapsed: 40 s\n",
      "\n",
      "\t20250123_5dpf_tbx2bhetinx_s2C_m2G_L02_004\n",
      "\t\t M\n",
      "\t Time elapsed: 56 s\n",
      "\n",
      "\t\t S\n",
      "\t Time elapsed: 46 s\n",
      "\n",
      "\t\t N\n",
      "\t Time elapsed: 34 s\n",
      "\n",
      "\t\t N\n",
      "\t Time elapsed: 35 s\n",
      "\n",
      "\t20250123_5dpf_tbx2bhetinx_s2C_m2G_L03_002\n",
      "\t\t M\n",
      "\t Time elapsed: 35 s\n",
      "\n",
      "\t\t S\n",
      "\t Time elapsed: 41 s\n",
      "\n",
      "\t\t N\n",
      "\t Time elapsed: 35 s\n",
      "\n",
      "\t\t N\n",
      "\t Time elapsed: 37 s\n",
      "\n",
      "\t20250123_5dpf_tbx2bhetinx_s2C_m2G_L03_004\n",
      "\t\t M\n",
      "\t Time elapsed: 36 s\n",
      "\n",
      "\t\t S\n",
      "\t Time elapsed: 51 s\n",
      "\n",
      "\t\t N\n",
      "\t Time elapsed: 38 s\n",
      "\n",
      "\t\t N\n",
      "\t Time elapsed: 38 s\n",
      "\n",
      "\t20250123_5dpf_tbx2bhetinx_s2C_m2G_L04_002\n",
      "\t\t M\n",
      "\t Time elapsed: 35 s\n",
      "\n",
      "\t\t S\n",
      "\t Time elapsed: 36 s\n",
      "\n",
      "\t\t N\n",
      "\t Time elapsed: 37 s\n",
      "\n",
      "\t\t N\n",
      "\t Time elapsed: 37 s\n",
      "\n",
      "\t20250123_5dpf_tbx2bhetinx_s2C_m2G_L04_004\n",
      "\t\t M\n",
      "\t Time elapsed: 38 s\n",
      "\n",
      "\t\t S\n",
      "\t Time elapsed: 47 s\n",
      "\n",
      "\t\t N\n",
      "\t Time elapsed: 41 s\n",
      "\n",
      "\t\t N\n",
      "\t Time elapsed: 37 s\n",
      "\n",
      "\t20250123_5dpf_tbx2bhetinx_s2C_m2G_L05_002\n",
      "\t\t M\n",
      "\t Time elapsed: 52 s\n",
      "\n",
      "\t\t S\n",
      "\t Time elapsed: 46 s\n",
      "\n",
      "\t\t N\n",
      "\t Time elapsed: 37 s\n",
      "\n",
      "\t\t N\n",
      "\t Time elapsed: 37 s\n",
      "\n",
      "\t20250123_5dpf_tbx2bhetinx_s2C_m2G_L05_004\n",
      "\t\t M\n",
      "\t Time elapsed: 63 s\n",
      "\n",
      "\t\t S\n",
      "\t Time elapsed: 52 s\n",
      "\n",
      "\t\t N\n",
      "\t Time elapsed: 36 s\n",
      "\n",
      "\t\t N\n",
      "\t Time elapsed: 37 s\n",
      "\n",
      "\t20250123_5dpf_tbx2bhetinx_s2C_m2G_L06_002\n",
      "\t\t M\n",
      "\t Time elapsed: 36 s\n",
      "\n",
      "\t\t S\n",
      "\t Time elapsed: 53 s\n",
      "\n",
      "\t\t N\n",
      "\t Time elapsed: 34 s\n",
      "\n",
      "\t\t N\n",
      "\t Time elapsed: 35 s\n",
      "\n",
      "\t20250123_5dpf_tbx2bhetinx_s2C_m2G_L06_004\n",
      "\t\t M\n",
      "\t Time elapsed: 41 s\n",
      "\n",
      "\t\t S\n",
      "\t Time elapsed: 43 s\n",
      "\n",
      "\t\t N\n",
      "\t Time elapsed: 37 s\n",
      "\n",
      "\t\t N\n",
      "\t Time elapsed: 37 s\n",
      "\n",
      "\t20250123_5dpf_tbx2bhetinx_s2C_m2G_L07_002\n",
      "\t\t M\n",
      "\t Time elapsed: 53 s\n",
      "\n",
      "\t\t S\n",
      "\t Time elapsed: 44 s\n",
      "\n",
      "\t\t N\n",
      "\t Time elapsed: 37 s\n",
      "\n",
      "\t\t N\n",
      "\t Time elapsed: 37 s\n",
      "\n",
      "\t20250123_5dpf_tbx2bhetinx_s2C_m2G_L07_004\n",
      "\t\t M\n",
      "\t Time elapsed: 56 s\n",
      "\n",
      "\t\t S\n",
      "\t Time elapsed: 45 s\n",
      "\n",
      "\t\t N\n",
      "\t Time elapsed: 55 s\n",
      "\n",
      "\t\t N\n",
      "\t Time elapsed: 48 s\n",
      "\n",
      "\t20250123_5dpf_tbx2bhetinx_s2C_m2G_L08_002\n",
      "\t\t M\n",
      "\t Time elapsed: 62 s\n",
      "\n",
      "\t\t S\n",
      "\t Time elapsed: 51 s\n",
      "\n",
      "\t\t N\n",
      "\t Time elapsed: 48 s\n",
      "\n",
      "\t\t N\n",
      "\t Time elapsed: 43 s\n",
      "\n",
      "\t20250123_5dpf_tbx2bhetinx_s2C_m2G_L08_004\n",
      "\t\t M\n",
      "\t Time elapsed: 64 s\n",
      "\n",
      "\t\t S\n",
      "\t Time elapsed: 61 s\n",
      "\n",
      "\t\t N\n",
      "\t Time elapsed: 48 s\n",
      "\n",
      "\t\t N\n",
      "\t Time elapsed: 42 s\n",
      "\n",
      "\t20250123_5dpf_tbx2bhetinx_s2C_m2G_L09_004\n",
      "\t\t M\n",
      "\t Time elapsed: 63 s\n",
      "\n",
      "\t\t S\n",
      "\t Time elapsed: 51 s\n",
      "\n",
      "\t\t N\n",
      "\t Time elapsed: 43 s\n",
      "\n",
      "\t\t N\n",
      "\t Time elapsed: 42 s\n",
      "\n",
      "\t20250123_5dpf_tbx2bhetinx_s2C_m2G_L10_002\n",
      "\t\t M\n",
      "\t Time elapsed: 53 s\n",
      "\n",
      "\t\t S\n",
      "\t Time elapsed: 44 s\n",
      "\n",
      "\t\t N\n",
      "\t Time elapsed: 40 s\n",
      "\n",
      "\t\t N\n",
      "\t Time elapsed: 40 s\n",
      "\n",
      "\t20250123_5dpf_tbx2bhetinx_s2C_m2G_L10_004\n",
      "\t\t M\n",
      "\t Time elapsed: 55 s\n",
      "\n",
      "\t\t S\n",
      "\t Time elapsed: 49 s\n",
      "\n",
      "\t\t N\n",
      "\t Time elapsed: 45 s\n",
      "\n",
      "\t\t N\n",
      "\t Time elapsed: 43 s\n",
      "\n",
      "\t20250123_5dpf_tbx2bhetinx_s2C_m2G_L11_002\n",
      "\t\t M\n",
      "\t Time elapsed: 50 s\n",
      "\n",
      "\t\t S\n",
      "\t Time elapsed: 48 s\n",
      "\n",
      "\t\t N\n",
      "\t Time elapsed: 42 s\n",
      "\n",
      "\t\t N\n",
      "\t Time elapsed: 41 s\n",
      "\n",
      "\t20250123_5dpf_tbx2bhetinx_s2C_m2G_L11_004\n",
      "\t\t M\n",
      "\t Time elapsed: 51 s\n",
      "\n",
      "\t\t S\n",
      "\t Time elapsed: 47 s\n",
      "\n",
      "\t\t N\n",
      "\t Time elapsed: 46 s\n",
      "\n",
      "\t\t N\n",
      "\t Time elapsed: 44 s\n",
      "\n",
      "Finished cellpose batch analysis for \n"
     ]
    }
   ],
   "source": [
    "print('Starting analysis for '+ gene_wt + ':')\n",
    "with tqdm(total=len(filePaths_wt)*len(layerNames), file=sys.stdout) as progBar:\n",
    "   for fp in filePaths_wt:\n",
    "      print('\\t' + fp)\n",
    "      for l in layerNames:\n",
    "         print('\\t\\t ' + l)\n",
    "         startTime = time.time()\n",
    "         imgPath = dirAnalysis + gene_wt + '/' + fp + '/' + l + '_mip.tiff'\n",
    "         img = cellpose.io.imread(imgPath)\n",
    "         if l=='R':\n",
    "            diameterCell = cpParams['diameterR']\n",
    "         else:\n",
    "            diameterCell = cpParams['diameterC']\n",
    "         masks, flows, styles, diams = model.eval(img, \n",
    "                                                diameter=diameterCell, channels=cpParams['channels'],\n",
    "                                                do_3D=False, net_avg = cpParams['net_avg'], interp = True,\n",
    "                                                flow_threshold = cpParams['flow_threshold'], cellprob_threshold = cpParams['cellprob_threshold'])\n",
    "         cellpose.io.masks_flows_to_seg(img, masks, flows, diams, imgPath, cpParams['channels']) # save results\n",
    "         endTime = time.time()\n",
    "         print ('\\t Time elapsed: {elapsedTime} s\\n'.format(elapsedTime = int(endTime - startTime)))\n",
    "         progBar.update(1)\n",
    "\n",
    "print('Finished cellpose batch analysis for '+ gene_wt)\n",
    "\n",
    "# print('Starting analysis for '+ gene_F0 + ':')\n",
    "# with tqdm(total=len(filePaths_F0)*len(layerNames), file=sys.stdout) as progBar:\n",
    "#    for fp in filePaths_F0:\n",
    "#       print('\\t' + fp)\n",
    "#       for l in layerNames:\n",
    "#          print('\\t\\t ' + l)\n",
    "#          startTime = time.time()\n",
    "#          imgPath = dirAnalysis + gene_F0 + '/' + fp + '/' + l + '_mip.tiff'\n",
    "#          img = cellpose.io.imread(imgPath)\n",
    "#          if l=='R':\n",
    "#             diameterCell = cpParams['diameterR']\n",
    "#          else:\n",
    "#             diameterCell = cpParams['diameterC']\n",
    "#          masks, flows, styles, diams = model.eval(img, \n",
    "#                                                 diameter=diameterCell, channels=cpParams['channels'],\n",
    "#                                                 do_3D=False, net_avg = cpParams['net_avg'], interp = True,\n",
    "#                                                 flow_threshold = cpParams['flow_threshold'], cellprob_threshold = cpParams['cellprob_threshold'])\n",
    "#          cellpose.io.masks_flows_to_seg(img, masks, flows, diams, imgPath, cpParams['channels']) # save results\n",
    "#          endTime = time.time()\n",
    "#          print ('\\t\\t\\t Time elapsed: {elapsedTime} s'.format(elapsedTime = int(endTime - startTime)))\n",
    "#          progBar.update(1)\n",
    "\n",
    "# print('Finished cellpose batch analysis for '+ gene_F0)"
   ]
  },
  {
   "cell_type": "markdown",
   "metadata": {},
   "source": [
    "***\n",
    "## Manual correction of cellpose segmentation<a id='manualCuration'>∮</a>\n",
    "> Copy file list from \"Extract Layers\" &rarr; Open a single file and manually fix (\"_curate_\") cellpose segmentation\n",
    "\n",
    "WARNINGS:\n",
    "- In tg[_mws2_:GFP], a subset of S cones are GFP+. If available, use tg[_sws2_:mCherry] to delete those labels from the M-cone segmentation\n",
    "***\n",
    "[Back to Index](#Index)"
   ]
  },
  {
   "cell_type": "code",
   "execution_count": 74,
   "metadata": {
    "tags": []
   },
   "outputs": [
    {
     "name": "stdout",
     "output_type": "stream",
     "text": [
      "Viewer cleared...\n",
      "Loaded  20250123_5dpf_tbx2bhetinx_s2C_m2G_L11_004 !\n",
      " Now fix it and save it!\n",
      "removeLabel on S_seg (\"Shift-X\")\n",
      "toggle S_seg preserve_labels (\"k\")\n",
      "toggle S_mip visibility (\"B\")\n",
      "toggle M_mip visibility (\"N\")\n",
      "Add new label in S_seg visibility (\"+\"|\"M\")\n"
     ]
    }
   ],
   "source": [
    "# clear viewer\n",
    "viewer.layers.select_all(); viewer.layers.remove_selected()\n",
    "\n",
    "#uninj - Het INX Round #1\n",
    "# filePath = '20250123_5dpf_tbx2bhetinx_s2C_m2G_L01_002'; gene = ''; zlims = [23,25]; #beautifulexampleimage - WT\n",
    "# filePath = '20250123_5dpf_tbx2bhetinx_s2C_m2G_L01_004'; gene = ''; zlims = [19,21];#beautifulexampleimage - WT\n",
    "# filePath = '20250123_5dpf_tbx2bhetinx_s2C_m2G_L02_002'; gene = ''; zlims = [19,21];\n",
    "# filePath = '20250123_5dpf_tbx2bhetinx_s2C_m2G_L02_004'; gene = ''; zlims = [22,23];\n",
    "# filePath = '20250123_5dpf_tbx2bhetinx_s2C_m2G_L03_002'; gene = ''; zlims = [24,26]; #DEF LOOKS MUT\n",
    "# filePath = '20250123_5dpf_tbx2bhetinx_s2C_m2G_L03_004'; gene = ''; zlims = [21,23]; #LOOKS MUT - OMIT\n",
    "# filePath = '20250123_5dpf_tbx2bhetinx_s2C_m2G_L04_002'; gene = ''; zlims = [8,11]; #zoominnotflat\n",
    "# filePath = '20250123_5dpf_tbx2bhetinx_s2C_m2G_L04_004'; gene = ''; zlims = [16,18]; #Not very good\n",
    "# filePath = '20250123_5dpf_tbx2bhetinx_s2C_m2G_L05_002'; gene = ''; zlims = [17,19]; #beautiful\n",
    "# filePath = '20250123_5dpf_tbx2bhetinx_s2C_m2G_L05_004'; gene = ''; zlims = [4,21]; #looks good\n",
    "# filePath = '20250123_5dpf_tbx2bhetinx_s2C_m2G_L06_002'; gene = ''; zlims = [16,21]; #DAPI not representative - def some double positive \n",
    "# filePath = '20250123_5dpf_tbx2bhetinx_s2C_m2G_L06_004'; gene = ''; zlims = [19,21]; # very good - wt looking\n",
    "# filePath = '20250123_5dpf_tbx2bhetinx_s2C_m2G_L07_002'; gene = ''; zlims = [23,33]; #looks good \n",
    "# filePath = '20250123_5dpf_tbx2bhetinx_s2C_m2G_L07_004'; gene = ''; zlims = [13,18]; #looks good\n",
    "# filePath = '20250123_5dpf_tbx2bhetinx_s2C_m2G_L08_002'; gene = ''; zlims = [36,41]; #looks good \n",
    "# filePath = '20250123_5dpf_tbx2bhetinx_s2C_m2G_L08_004'; gene = ''; zlims = [16,25]; #super good dapi\n",
    "# filePath = '20250123_5dpf_tbx2bhetinx_s2C_m2G_L09_004'; gene = ''; zlims = [19,35]; #good\n",
    "# filePath = '20250123_5dpf_tbx2bhetinx_s2C_m2G_L10_002'; gene = ''; zlims = [31,36]; #good\n",
    "# filePath = '20250123_5dpf_tbx2bhetinx_s2C_m2G_L10_004'; gene = ''; zlims = [25,33]; #good \n",
    "# filePath = '20250123_5dpf_tbx2bhetinx_s2C_m2G_L11_002'; gene = ''; zlims = [20,33]; #good \n",
    "filePath = '20250123_5dpf_tbx2bhetinx_s2C_m2G_L11_004'; gene = ''; zlims = [14,19]; #might be rods - reccheck and omit?\n",
    "\n",
    "\n",
    "# define subdirectory for analysis\n",
    "dirOut = dirAnalysis + gene + '/' + filePath + '/'\n",
    "print('Viewer cleared...')\n",
    "\n",
    "# clear key binds\n",
    "@viewer.bind_key('k', overwrite=True)\n",
    "def toggle_sel(viewer):\n",
    "    ...\n",
    "@viewer.bind_key('b', overwrite=True)\n",
    "def toggle_sel(viewer):\n",
    "    ...\n",
    "@viewer.bind_key('Shift-x', overwrite=True)\n",
    "def removeLabel(viewer):\n",
    "    ...\n",
    "\n",
    "# load mips\n",
    "mipO = 0.65\n",
    "viewer.open(dirOut + layerNames[0] + \"_mip.tiff\", plugin='napari', colormap = 'green', blending='additive', opacity=mipO);\n",
    "viewer.open(dirOut + layerNames[1] + \"_mip.tiff\", plugin='napari', colormap = 'magenta', blending='additive', opacity=mipO);\n",
    "# viewer.open(dirOut + layerNames[2] + \"_mip.tiff\", plugin='napari', colormap = 'gray', blending='additive', opacity=mipO);\n",
    "\n",
    "# load segmentation\n",
    "if (os.path.isfile(dirOut + layerNames[0] + \"_seg_curated.tiff\")):\n",
    "    print('Loaded previously curated segmentation for {0}'.format(layerNames[0]))\n",
    "    viewer.open(dirOut + layerNames[0] + \"_seg_curated.tiff\", name=layerNames[0] + '_seg', plugin='napari',blending='additive');\n",
    "else:\n",
    "    segData = np.load(dirOut + layerNames[0] + \"_mip\" + \"_seg.npy\", allow_pickle=True).item()\n",
    "    viewer.add_labels(segData['masks'], name= layerNames[0] + '_seg',blending='additive');\n",
    "viewer.layers[layerNames[0] + '_seg'].preserve_labels = True;\n",
    "\n",
    "if (os.path.isfile(dirOut + layerNames[1] + \"_seg_curated.tiff\")):\n",
    "    print('Loaded previously curated segmentation for {0}'.format(layerNames[1]))\n",
    "    viewer.open(dirOut + layerNames[1] + \"_seg_curated.tiff\", name=layerNames[1] + '_seg', plugin='napari',blending='additive');\n",
    "else:\n",
    "    segData = np.load(dirOut + layerNames[1] + \"_mip\" + \"_seg.npy\", allow_pickle=True).item()\n",
    "    viewer.add_labels(segData['masks'], name= layerNames[1] + '_seg',blending='additive');\n",
    "viewer.layers[layerNames[1] + '_seg'].preserve_labels = True;\n",
    "\n",
    "\n",
    "viewer.layers[layerNames[0] + '_mip'].visible = False\n",
    "# viewer.layers[layerNames[3] + '_mip'].visible = False\n",
    "viewer.layers[layerNames[0] + '_seg'].visible = False\n",
    "\n",
    "print('Loaded  ' + filePath + ' !\\n Now fix it and save it!')\n",
    "\n",
    "#define useful keyboard shortcuts\n",
    "\n",
    "@viewer.bind_key('Shift-x', overwrite=True)\n",
    "def removeLabel(viewer):\n",
    "   lname = layerNames[1] + '_seg'\n",
    "   tempd = viewer.layers[lname].data\n",
    "   tempd[tempd == viewer.layers[lname].selected_label]=0\n",
    "   viewer.layers[lname].data = tempd\n",
    "   print('Cut!')\n",
    "print('removeLabel on {0}_seg (\"Shift-X\")'.format(layerNames[1]))\n",
    "\n",
    "@viewer.bind_key('k', overwrite=True)\n",
    "def toggle_sel(viewer):\n",
    "   lname = layerNames[1] + '_seg'\n",
    "   if (viewer.layers[lname].preserve_labels == True):\n",
    "      viewer.layers[lname].preserve_labels = False\n",
    "   elif (viewer.layers[lname].preserve_labels == False):\n",
    "      viewer.layers[lname].preserve_labels = True\n",
    "print('toggle {0}_seg preserve_labels (\"k\")'.format(layerNames[1]))\n",
    "        \n",
    "@viewer.bind_key('b', overwrite=True)\n",
    "def toggle_sel(viewer):\n",
    "   lname = layerNames[1] + '_mip'\n",
    "   if (viewer.layers[lname].visible == True):\n",
    "      viewer.layers[lname].visible = False\n",
    "   elif (viewer.layers[lname].visible == False):\n",
    "      viewer.layers[lname].visible = True\n",
    "print('toggle {0}_mip visibility (\"B\")'.format(layerNames[1]))\n",
    "\n",
    "@viewer.bind_key('n', overwrite=True)\n",
    "def toggle_sel(viewer):\n",
    "   lname = layerNames[0] + '_mip'\n",
    "   if (viewer.layers[lname].visible == True):\n",
    "      viewer.layers[lname].visible = False\n",
    "   elif (viewer.layers[lname].visible == False):\n",
    "      viewer.layers[lname].visible = True\n",
    "print('toggle {0}_mip visibility (\"N\")'.format(layerNames[0]))\n",
    "\n",
    "@viewer.bind_key('+', overwrite=True)\n",
    "def new_label(viewer):\n",
    "   \"\"\"Set the currently selected label to the largest used label plus one.\"\"\"\n",
    "   lname = layerNames[1] + '_seg'\n",
    "   viewer.layers[lname].selected_label = viewer.layers[lname].data.max() + 1\n",
    "print('Add new label in {0}_seg visibility (\"+\"|\"M\")'.format(layerNames[1]))"
   ]
  },
  {
   "cell_type": "code",
   "execution_count": 19,
   "metadata": {
    "jupyter": {
     "source_hidden": true
    },
    "tags": []
   },
   "outputs": [
    {
     "name": "stdout",
     "output_type": "stream",
     "text": [
      "Loading data...\n",
      "Images loaded!\n"
     ]
    }
   ],
   "source": [
    "# if needed, run this cell to reload whole z-stack\n",
    "print('Loading data...')\n",
    "nMIP = len(viewer.layers)\n",
    "viewer.open((dirData+filePath + '.nd2'), plugin='napari-nikon-nd2')\n",
    "viewer.layers.remove(viewer.layers[len(viewer.layers)-1]) # remove transmitted detector image\n",
    "viewer.layers.select_next();\n",
    "if len(viewer.layers)==2+nMIP: #no DAPI\n",
    "   viewer.layers[nMIP+0].colormap = 'green'\n",
    "   viewer.layers[nMIP+0].name = layerNames[0]\n",
    "   viewer.layers[nMIP+1].colormap = 'magenta'\n",
    "   viewer.layers[nMIP+1].name = layerNames[1]\n",
    "elif len(viewer.layers)==3+nMIP: #DAPI\n",
    "   viewer.layers[nMIP+0].colormap = 'gray'\n",
    "   viewer.layers[nMIP+0].name = 'N'\n",
    "   viewer.layers[nMIP+0].opacity = 0.99\n",
    "   viewer.layers[nMIP+1].colormap = 'green'\n",
    "   viewer.layers[nMIP+1].name = layerNames[0]\n",
    "   viewer.layers[nMIP+2].colormap = 'magenta'\n",
    "   viewer.layers[nMIP+2].name = layerNames[1]\n",
    "elif len(viewer.layers)==4+nMIP: #DAPI\n",
    "   viewer.layers[nMIP+0].colormap = 'gray'\n",
    "   viewer.layers[nMIP+0].name = 'N'\n",
    "   viewer.layers[nMIP+0].opacity = 0.99\n",
    "   viewer.layers[nMIP+1].colormap = 'green'\n",
    "   viewer.layers[nMIP+1].name = layerNames[0]\n",
    "   viewer.layers[nMIP+2].colormap = 'magenta'\n",
    "   viewer.layers[nMIP+2].name = layerNames[1]\n",
    "   viewer.layers[nMIP+3].colormap = 'bop orange'\n",
    "   viewer.layers[nMIP+3].name = layerNames[2]\n",
    "\n",
    "print('Images loaded!')"
   ]
  },
  {
   "cell_type": "markdown",
   "metadata": {},
   "source": [
    "#### resave first curated segmentation after napari-ing around"
   ]
  },
  {
   "cell_type": "code",
   "execution_count": 75,
   "metadata": {
    "tags": []
   },
   "outputs": [
    {
     "name": "stdout",
     "output_type": "stream",
     "text": [
      "Done with S_seg for 20250123_5dpf_tbx2bhetinx_s2C_m2G_L11_004\n",
      "removeLabel on M_seg (\"Shift-X\")\n",
      "toggle S_mip visibility (\"B\")\n",
      "toggle M_mip visibility (\"N\")\n",
      "toggle M_seg preserve_labels (\"k\")\n",
      "Add new label in M_seg visibility (\"+\"|\"M\")\n"
     ]
    }
   ],
   "source": [
    "lname = layerNames[1] + '_seg'\n",
    "l = viewer.layers[lname]; l.save(dirOut + l.name + '_curated.tiff')\n",
    "print('Done with ' + lname + ' for ' + filePath)\n",
    "\n",
    "viewer.layers[layerNames[0] + '_mip'].visible = True\n",
    "viewer.layers[layerNames[0] + '_seg'].visible = True\n",
    "# viewer.layers[layerNames[0] + '_seg'].contour = 0\n",
    "viewer.layers[layerNames[1] + '_mip'].visible = False\n",
    "viewer.layers[layerNames[1] + '_seg'].visible = False\n",
    "\n",
    "@viewer.bind_key('Shift-x', overwrite=True)\n",
    "def removeLabel(viewer):\n",
    "   lname = layerNames[0] + '_seg'\n",
    "   tempd = viewer.layers[lname].data\n",
    "   tempd[tempd == viewer.layers[lname].selected_label]=0\n",
    "   viewer.layers[lname].data = tempd\n",
    "   print('Cut!')\n",
    "print('removeLabel on {0}_seg (\"Shift-X\")'.format(layerNames[0]))\n",
    "\n",
    "@viewer.bind_key('b', overwrite=True)\n",
    "def toggle_sel(viewer):\n",
    "   lname = layerNames[1] + '_mip'\n",
    "   if (viewer.layers[lname].visible == True):\n",
    "      viewer.layers[lname].visible = False\n",
    "   elif (viewer.layers[lname].visible == False):\n",
    "      viewer.layers[lname].visible = True\n",
    "print('toggle {0}_mip visibility (\"B\")'.format(layerNames[1]))\n",
    "\n",
    "@viewer.bind_key('n', overwrite=True)\n",
    "def toggle_sel(viewer):\n",
    "   lname = layerNames[0] + '_mip'\n",
    "   if (viewer.layers[lname].visible == True):\n",
    "      viewer.layers[lname].visible = False\n",
    "   elif (viewer.layers[lname].visible == False):\n",
    "      viewer.layers[lname].visible = True\n",
    "print('toggle {0}_mip visibility (\"N\")'.format(layerNames[0]))\n",
    "\n",
    "\n",
    "@viewer.bind_key('k', overwrite=True)\n",
    "def toggle_sel(viewer):\n",
    "   lname = layerNames[0] + '_seg'\n",
    "   if (viewer.layers[lname].preserve_labels == True):\n",
    "      viewer.layers[lname].preserve_labels = False\n",
    "   elif (viewer.layers[lname].preserve_labels == False):\n",
    "      viewer.layers[lname].preserve_labels = True\n",
    "print('toggle {0}_seg preserve_labels (\"k\")'.format(layerNames[0]))\n",
    "\n",
    "@viewer.bind_key('+', overwrite=True)\n",
    "def new_label(viewer):\n",
    "   \"\"\"Set the currently selected label to the largest used label plus one.\"\"\"\n",
    "   lname = layerNames[0] + '_seg'\n",
    "   viewer.layers[lname].selected_label = viewer.layers[lname].data.max() + 1\n",
    "print('Add new label in {0}_seg visibility (\"+\"|\"M\")'.format(layerNames[0]))"
   ]
  },
  {
   "cell_type": "markdown",
   "metadata": {},
   "source": [
    "#### resave second curated segmentation after napari-ing around"
   ]
  },
  {
   "cell_type": "code",
   "execution_count": 76,
   "metadata": {
    "tags": []
   },
   "outputs": [
    {
     "name": "stdout",
     "output_type": "stream",
     "text": [
      "Done with M_seg for 20250123_5dpf_tbx2bhetinx_s2C_m2G_L11_004\n"
     ]
    }
   ],
   "source": [
    "lname = layerNames[0] + '_seg'\n",
    "l = viewer.layers[lname]; l.save(dirOut + l.name + '_curated.tiff')\n",
    "print('Done with ' + lname + ' for ' + filePath)"
   ]
  },
  {
   "cell_type": "markdown",
   "metadata": {},
   "source": [
    "### Reload curated segmentations after saving for final review"
   ]
  },
  {
   "cell_type": "code",
   "execution_count": 77,
   "metadata": {
    "tags": []
   },
   "outputs": [
    {
     "name": "stdout",
     "output_type": "stream",
     "text": [
      "20250123_5dpf_tbx2bhetinx_s2C_m2G_L11_004\n",
      "Image has 233 S\n",
      "Image has 291 M\n"
     ]
    }
   ],
   "source": [
    "# remove all except mips\n",
    "viewer.layers.remove(viewer.layers[layerNames[1] + '_seg'])\n",
    "viewer.layers.remove(viewer.layers[layerNames[0] + '_seg'])\n",
    "\n",
    "viewer.open(dirOut + layerNames[1] + \"_seg_curated.tiff\", name=layerNames[1] + '_seg', plugin='napari',blending='additive');\n",
    "# viewer.layers['U_seg'].contour = 5\n",
    "viewer.layers[layerNames[1] + '_mip'].visible = True\n",
    "viewer.open(dirOut + layerNames[0] + '_seg_curated.tiff', name=layerNames[0] + '_seg', plugin='napari',blending='additive');\n",
    "\n",
    "print(filePath)\n",
    "n0 = len(np.unique(viewer.layers[layerNames[1] + '_seg'].data))-1\n",
    "print(\"Image has {0} {1}\".format(n0, layerNames[1]))\n",
    "n1 = len(np.unique(viewer.layers[layerNames[0] + '_seg'].data))-1\n",
    "print(\"Image has {0} {1}\".format(n1,layerNames[0]))"
   ]
  },
  {
   "cell_type": "markdown",
   "metadata": {},
   "source": [
    "### [Go back and run next one &uarr;](#manualCuration)"
   ]
  },
  {
   "cell_type": "markdown",
   "metadata": {
    "tags": []
   },
   "source": [
    "***\n",
    "## Quantification: GFP inside S cones<a id='quantification'>∮</a>\n",
    "***\n",
    "[Back to Index](#Index)\n",
    "\n",
    "Plan (loosely based on Mander's coefficient):\n",
    "1. Erode S cone segmentation to focus on center of cells\n",
    "2. Divide GFP fluorescence into millies as a way to normalize data between images into 0 - 1000 range\n",
    "3. Calculate for each cone what normalized average fluorescence corresponds too.\n",
    "\n",
    "Questions:\n",
    "1. How much erosion?\n",
    "2. Do I have to exclude S cones to do GFP percentile calculation? &rarr; this would assume that GFP outside L cones is unchanged, which could be tested|plotted directly.\n",
    "3. Also check if RFP distributions are unchanged?"
   ]
  },
  {
   "cell_type": "code",
   "execution_count": 82,
   "metadata": {
    "tags": []
   },
   "outputs": [],
   "source": [
    "def calcMillie(viewer,lname):\n",
    "    outHist,outBins = np.histogram(viewer.layers[lname].data.flatten(), bins = 1000)\n",
    "    return outHist,outBins\n",
    "\n",
    "def GFPanalyzer(viewer,dAnalysis,gene,fPath, erosionValue=10):\n",
    "    # clear viewer\n",
    "    viewer.layers.select_all()\n",
    "    viewer.layers.remove_selected()\n",
    "    dOut = dAnalysis + gene + '/' + fPath + '/'\n",
    "    print('Quantifying GFP in S cones of ' + fPath + '(' + gene + ')\\n')\n",
    "    # load mips\n",
    "    viewer.open(dOut + 'M' + \"_mip.tiff\", plugin='builtins', colormap = 'green', blending='additive');\n",
    "    viewer.open(dOut + 'S' + \"_mip.tiff\", plugin='builtins', colormap = 'magenta', blending='additive');\n",
    "    # viewer.open(dOut + 'M' + \"_seg_curated_incomplete.tiff\", name='M_seg', plugin='builtins', blending='additive');\n",
    "    viewer.open(dOut + 'S' + \"_seg_curated.tiff\", name='S_seg', plugin='builtins', blending='additive');\n",
    "    # viewer.layers['M_seg'].preserve_labels = True;\n",
    "    viewer.layers['S_seg'].preserve_labels = True;\n",
    "    viewer.layers['S_seg'].contour = 5\n",
    "    # erode L cone segmentation\n",
    "    viewer.layers['S_seg'].data = ndimage.grey_erosion(viewer.layers['S_seg'].data, size=(erosionValue,erosionValue))\n",
    "    # divide images into 1000 bins\n",
    "    mH, mB = calcMillie(viewer,'M_mip')\n",
    "    sH, sB = calcMillie(viewer,'S_mip')\n",
    "\n",
    "    scones = np.unique(viewer.layers['S_seg'].data)\n",
    "    scones = scones[scones>0]\n",
    "    sRFP = np.empty(np.shape(scones))\n",
    "    sGFP = np.empty(np.shape(scones))\n",
    "    sRFPsd = np.empty(np.shape(scones))\n",
    "    sGFPsd = np.empty(np.shape(scones))\n",
    "    sRtile = np.empty(np.shape(scones))\n",
    "    sGtile = np.empty(np.shape(scones))\n",
    "    \n",
    "    i=0;\n",
    "    for s in scones:\n",
    "        sRFP[i] = np.mean(viewer.layers['S_mip'].data[viewer.layers['S_seg'].data==s])\n",
    "        sGFP[i] = np.mean(viewer.layers['M_mip'].data[viewer.layers['S_seg'].data==s])\n",
    "        sRFPsd[i] = np.std(viewer.layers['S_mip'].data[viewer.layers['S_seg'].data==s])\n",
    "        sGFPsd[i] = np.std(viewer.layers['M_mip'].data[viewer.layers['S_seg'].data==s])\n",
    "        sRtile[i] = len(sB[sB<sRFP[i]])\n",
    "        sGtile[i] = len(mB[mB<sGFP[i]])\n",
    "        i=i+1;\n",
    "        \n",
    "    np.savez(dOut + 'quantificationGFP.npz',\n",
    "             scones=scones,\n",
    "             sRFP=sRFP,\n",
    "             sGFP=sGFP,\n",
    "             sRFPsd=sRFPsd,\n",
    "             sGFPsd=sGFPsd,\n",
    "             sRtile=sRtile,\n",
    "             sGtile=sGtile)\n",
    "    results = zip(['scones','sRFP','sGFP','sRFPsd','sGFPsd','sRtile','sGtile'],\n",
    "                 [scones,sRFP,sGFP,sRFPsd,sGFPsd,sRtile,sGtile])\n",
    "    \n",
    "    return results"
   ]
  },
  {
   "cell_type": "markdown",
   "metadata": {},
   "source": [
    "## Erode M-Cone segmentation to center of points "
   ]
  },
  {
   "cell_type": "code",
   "execution_count": 84,
   "metadata": {
    "tags": []
   },
   "outputs": [
    {
     "name": "stdout",
     "output_type": "stream",
     "text": [
      "Quantifying GFP in S cones of 20250123_5dpf_tbx2bhetinx_s2C_m2G_L01_002()\n",
      "\n"
     ]
    },
    {
     "name": "stderr",
     "output_type": "stream",
     "text": [
      "C:\\Users\\Carin\\mambaforge\\envs\\cellCounting\\lib\\site-packages\\napari\\components\\viewer_model.py:977: UserWarning: The \"builtins\" plugin name is deprecated and will not work in a future version. Please use \"napari\" instead.\n",
      "  warnings.warn(\n",
      "C:\\Users\\Carin\\mambaforge\\envs\\cellCounting\\lib\\site-packages\\napari\\components\\viewer_model.py:977: UserWarning: The \"builtins\" plugin name is deprecated and will not work in a future version. Please use \"napari\" instead.\n",
      "  warnings.warn(\n",
      "C:\\Users\\Carin\\mambaforge\\envs\\cellCounting\\lib\\site-packages\\napari\\components\\viewer_model.py:977: UserWarning: The \"builtins\" plugin name is deprecated and will not work in a future version. Please use \"napari\" instead.\n",
      "  warnings.warn(\n"
     ]
    },
    {
     "name": "stdout",
     "output_type": "stream",
     "text": [
      "Quantifying GFP in S cones of 20250123_5dpf_tbx2bhetinx_s2C_m2G_L01_004()\n",
      "\n"
     ]
    },
    {
     "name": "stderr",
     "output_type": "stream",
     "text": [
      "C:\\Users\\Carin\\mambaforge\\envs\\cellCounting\\lib\\site-packages\\napari\\components\\viewer_model.py:977: UserWarning: The \"builtins\" plugin name is deprecated and will not work in a future version. Please use \"napari\" instead.\n",
      "  warnings.warn(\n",
      "C:\\Users\\Carin\\mambaforge\\envs\\cellCounting\\lib\\site-packages\\napari\\components\\viewer_model.py:977: UserWarning: The \"builtins\" plugin name is deprecated and will not work in a future version. Please use \"napari\" instead.\n",
      "  warnings.warn(\n",
      "C:\\Users\\Carin\\mambaforge\\envs\\cellCounting\\lib\\site-packages\\napari\\components\\viewer_model.py:977: UserWarning: The \"builtins\" plugin name is deprecated and will not work in a future version. Please use \"napari\" instead.\n",
      "  warnings.warn(\n"
     ]
    },
    {
     "name": "stdout",
     "output_type": "stream",
     "text": [
      "Quantifying GFP in S cones of 20250123_5dpf_tbx2bhetinx_s2C_m2G_L02_002()\n",
      "\n"
     ]
    },
    {
     "name": "stderr",
     "output_type": "stream",
     "text": [
      "C:\\Users\\Carin\\mambaforge\\envs\\cellCounting\\lib\\site-packages\\napari\\components\\viewer_model.py:977: UserWarning: The \"builtins\" plugin name is deprecated and will not work in a future version. Please use \"napari\" instead.\n",
      "  warnings.warn(\n",
      "C:\\Users\\Carin\\mambaforge\\envs\\cellCounting\\lib\\site-packages\\napari\\components\\viewer_model.py:977: UserWarning: The \"builtins\" plugin name is deprecated and will not work in a future version. Please use \"napari\" instead.\n",
      "  warnings.warn(\n",
      "C:\\Users\\Carin\\mambaforge\\envs\\cellCounting\\lib\\site-packages\\napari\\components\\viewer_model.py:977: UserWarning: The \"builtins\" plugin name is deprecated and will not work in a future version. Please use \"napari\" instead.\n",
      "  warnings.warn(\n"
     ]
    },
    {
     "name": "stdout",
     "output_type": "stream",
     "text": [
      "Quantifying GFP in S cones of 20250123_5dpf_tbx2bhetinx_s2C_m2G_L02_004()\n",
      "\n"
     ]
    },
    {
     "name": "stderr",
     "output_type": "stream",
     "text": [
      "C:\\Users\\Carin\\mambaforge\\envs\\cellCounting\\lib\\site-packages\\napari\\components\\viewer_model.py:977: UserWarning: The \"builtins\" plugin name is deprecated and will not work in a future version. Please use \"napari\" instead.\n",
      "  warnings.warn(\n",
      "C:\\Users\\Carin\\mambaforge\\envs\\cellCounting\\lib\\site-packages\\napari\\components\\viewer_model.py:977: UserWarning: The \"builtins\" plugin name is deprecated and will not work in a future version. Please use \"napari\" instead.\n",
      "  warnings.warn(\n",
      "C:\\Users\\Carin\\mambaforge\\envs\\cellCounting\\lib\\site-packages\\napari\\components\\viewer_model.py:977: UserWarning: The \"builtins\" plugin name is deprecated and will not work in a future version. Please use \"napari\" instead.\n",
      "  warnings.warn(\n"
     ]
    },
    {
     "name": "stdout",
     "output_type": "stream",
     "text": [
      "Quantifying GFP in S cones of 20250123_5dpf_tbx2bhetinx_s2C_m2G_L03_002()\n",
      "\n"
     ]
    },
    {
     "name": "stderr",
     "output_type": "stream",
     "text": [
      "C:\\Users\\Carin\\mambaforge\\envs\\cellCounting\\lib\\site-packages\\napari\\components\\viewer_model.py:977: UserWarning: The \"builtins\" plugin name is deprecated and will not work in a future version. Please use \"napari\" instead.\n",
      "  warnings.warn(\n",
      "C:\\Users\\Carin\\mambaforge\\envs\\cellCounting\\lib\\site-packages\\napari\\components\\viewer_model.py:977: UserWarning: The \"builtins\" plugin name is deprecated and will not work in a future version. Please use \"napari\" instead.\n",
      "  warnings.warn(\n",
      "C:\\Users\\Carin\\mambaforge\\envs\\cellCounting\\lib\\site-packages\\napari\\components\\viewer_model.py:977: UserWarning: The \"builtins\" plugin name is deprecated and will not work in a future version. Please use \"napari\" instead.\n",
      "  warnings.warn(\n"
     ]
    },
    {
     "name": "stdout",
     "output_type": "stream",
     "text": [
      "Quantifying GFP in S cones of 20250123_5dpf_tbx2bhetinx_s2C_m2G_L03_004()\n",
      "\n"
     ]
    },
    {
     "name": "stderr",
     "output_type": "stream",
     "text": [
      "C:\\Users\\Carin\\mambaforge\\envs\\cellCounting\\lib\\site-packages\\napari\\components\\viewer_model.py:977: UserWarning: The \"builtins\" plugin name is deprecated and will not work in a future version. Please use \"napari\" instead.\n",
      "  warnings.warn(\n",
      "C:\\Users\\Carin\\mambaforge\\envs\\cellCounting\\lib\\site-packages\\napari\\components\\viewer_model.py:977: UserWarning: The \"builtins\" plugin name is deprecated and will not work in a future version. Please use \"napari\" instead.\n",
      "  warnings.warn(\n",
      "C:\\Users\\Carin\\mambaforge\\envs\\cellCounting\\lib\\site-packages\\napari\\components\\viewer_model.py:977: UserWarning: The \"builtins\" plugin name is deprecated and will not work in a future version. Please use \"napari\" instead.\n",
      "  warnings.warn(\n"
     ]
    },
    {
     "name": "stdout",
     "output_type": "stream",
     "text": [
      "Quantifying GFP in S cones of 20250123_5dpf_tbx2bhetinx_s2C_m2G_L04_002()\n",
      "\n"
     ]
    },
    {
     "name": "stderr",
     "output_type": "stream",
     "text": [
      "C:\\Users\\Carin\\mambaforge\\envs\\cellCounting\\lib\\site-packages\\napari\\components\\viewer_model.py:977: UserWarning: The \"builtins\" plugin name is deprecated and will not work in a future version. Please use \"napari\" instead.\n",
      "  warnings.warn(\n",
      "C:\\Users\\Carin\\mambaforge\\envs\\cellCounting\\lib\\site-packages\\napari\\components\\viewer_model.py:977: UserWarning: The \"builtins\" plugin name is deprecated and will not work in a future version. Please use \"napari\" instead.\n",
      "  warnings.warn(\n",
      "C:\\Users\\Carin\\mambaforge\\envs\\cellCounting\\lib\\site-packages\\napari\\components\\viewer_model.py:977: UserWarning: The \"builtins\" plugin name is deprecated and will not work in a future version. Please use \"napari\" instead.\n",
      "  warnings.warn(\n"
     ]
    },
    {
     "name": "stdout",
     "output_type": "stream",
     "text": [
      "Quantifying GFP in S cones of 20250123_5dpf_tbx2bhetinx_s2C_m2G_L04_004()\n",
      "\n"
     ]
    },
    {
     "name": "stderr",
     "output_type": "stream",
     "text": [
      "C:\\Users\\Carin\\mambaforge\\envs\\cellCounting\\lib\\site-packages\\napari\\components\\viewer_model.py:977: UserWarning: The \"builtins\" plugin name is deprecated and will not work in a future version. Please use \"napari\" instead.\n",
      "  warnings.warn(\n",
      "C:\\Users\\Carin\\mambaforge\\envs\\cellCounting\\lib\\site-packages\\napari\\components\\viewer_model.py:977: UserWarning: The \"builtins\" plugin name is deprecated and will not work in a future version. Please use \"napari\" instead.\n",
      "  warnings.warn(\n",
      "C:\\Users\\Carin\\mambaforge\\envs\\cellCounting\\lib\\site-packages\\napari\\components\\viewer_model.py:977: UserWarning: The \"builtins\" plugin name is deprecated and will not work in a future version. Please use \"napari\" instead.\n",
      "  warnings.warn(\n"
     ]
    },
    {
     "name": "stdout",
     "output_type": "stream",
     "text": [
      "Quantifying GFP in S cones of 20250123_5dpf_tbx2bhetinx_s2C_m2G_L05_002()\n",
      "\n"
     ]
    },
    {
     "name": "stderr",
     "output_type": "stream",
     "text": [
      "C:\\Users\\Carin\\mambaforge\\envs\\cellCounting\\lib\\site-packages\\napari\\components\\viewer_model.py:977: UserWarning: The \"builtins\" plugin name is deprecated and will not work in a future version. Please use \"napari\" instead.\n",
      "  warnings.warn(\n",
      "C:\\Users\\Carin\\mambaforge\\envs\\cellCounting\\lib\\site-packages\\napari\\components\\viewer_model.py:977: UserWarning: The \"builtins\" plugin name is deprecated and will not work in a future version. Please use \"napari\" instead.\n",
      "  warnings.warn(\n",
      "C:\\Users\\Carin\\mambaforge\\envs\\cellCounting\\lib\\site-packages\\napari\\components\\viewer_model.py:977: UserWarning: The \"builtins\" plugin name is deprecated and will not work in a future version. Please use \"napari\" instead.\n",
      "  warnings.warn(\n"
     ]
    },
    {
     "name": "stdout",
     "output_type": "stream",
     "text": [
      "Quantifying GFP in S cones of 20250123_5dpf_tbx2bhetinx_s2C_m2G_L05_004()\n",
      "\n"
     ]
    },
    {
     "name": "stderr",
     "output_type": "stream",
     "text": [
      "C:\\Users\\Carin\\mambaforge\\envs\\cellCounting\\lib\\site-packages\\napari\\components\\viewer_model.py:977: UserWarning: The \"builtins\" plugin name is deprecated and will not work in a future version. Please use \"napari\" instead.\n",
      "  warnings.warn(\n",
      "C:\\Users\\Carin\\mambaforge\\envs\\cellCounting\\lib\\site-packages\\napari\\components\\viewer_model.py:977: UserWarning: The \"builtins\" plugin name is deprecated and will not work in a future version. Please use \"napari\" instead.\n",
      "  warnings.warn(\n",
      "C:\\Users\\Carin\\mambaforge\\envs\\cellCounting\\lib\\site-packages\\napari\\components\\viewer_model.py:977: UserWarning: The \"builtins\" plugin name is deprecated and will not work in a future version. Please use \"napari\" instead.\n",
      "  warnings.warn(\n"
     ]
    },
    {
     "name": "stdout",
     "output_type": "stream",
     "text": [
      "Quantifying GFP in S cones of 20250123_5dpf_tbx2bhetinx_s2C_m2G_L06_002()\n",
      "\n"
     ]
    },
    {
     "name": "stderr",
     "output_type": "stream",
     "text": [
      "C:\\Users\\Carin\\mambaforge\\envs\\cellCounting\\lib\\site-packages\\napari\\components\\viewer_model.py:977: UserWarning: The \"builtins\" plugin name is deprecated and will not work in a future version. Please use \"napari\" instead.\n",
      "  warnings.warn(\n",
      "C:\\Users\\Carin\\mambaforge\\envs\\cellCounting\\lib\\site-packages\\napari\\components\\viewer_model.py:977: UserWarning: The \"builtins\" plugin name is deprecated and will not work in a future version. Please use \"napari\" instead.\n",
      "  warnings.warn(\n",
      "C:\\Users\\Carin\\mambaforge\\envs\\cellCounting\\lib\\site-packages\\napari\\components\\viewer_model.py:977: UserWarning: The \"builtins\" plugin name is deprecated and will not work in a future version. Please use \"napari\" instead.\n",
      "  warnings.warn(\n"
     ]
    },
    {
     "name": "stdout",
     "output_type": "stream",
     "text": [
      "Quantifying GFP in S cones of 20250123_5dpf_tbx2bhetinx_s2C_m2G_L06_004()\n",
      "\n"
     ]
    },
    {
     "name": "stderr",
     "output_type": "stream",
     "text": [
      "C:\\Users\\Carin\\mambaforge\\envs\\cellCounting\\lib\\site-packages\\napari\\components\\viewer_model.py:977: UserWarning: The \"builtins\" plugin name is deprecated and will not work in a future version. Please use \"napari\" instead.\n",
      "  warnings.warn(\n",
      "C:\\Users\\Carin\\mambaforge\\envs\\cellCounting\\lib\\site-packages\\napari\\components\\viewer_model.py:977: UserWarning: The \"builtins\" plugin name is deprecated and will not work in a future version. Please use \"napari\" instead.\n",
      "  warnings.warn(\n",
      "C:\\Users\\Carin\\mambaforge\\envs\\cellCounting\\lib\\site-packages\\napari\\components\\viewer_model.py:977: UserWarning: The \"builtins\" plugin name is deprecated and will not work in a future version. Please use \"napari\" instead.\n",
      "  warnings.warn(\n"
     ]
    },
    {
     "name": "stdout",
     "output_type": "stream",
     "text": [
      "Quantifying GFP in S cones of 20250123_5dpf_tbx2bhetinx_s2C_m2G_L07_002()\n",
      "\n"
     ]
    },
    {
     "name": "stderr",
     "output_type": "stream",
     "text": [
      "C:\\Users\\Carin\\mambaforge\\envs\\cellCounting\\lib\\site-packages\\napari\\components\\viewer_model.py:977: UserWarning: The \"builtins\" plugin name is deprecated and will not work in a future version. Please use \"napari\" instead.\n",
      "  warnings.warn(\n",
      "C:\\Users\\Carin\\mambaforge\\envs\\cellCounting\\lib\\site-packages\\napari\\components\\viewer_model.py:977: UserWarning: The \"builtins\" plugin name is deprecated and will not work in a future version. Please use \"napari\" instead.\n",
      "  warnings.warn(\n",
      "C:\\Users\\Carin\\mambaforge\\envs\\cellCounting\\lib\\site-packages\\napari\\components\\viewer_model.py:977: UserWarning: The \"builtins\" plugin name is deprecated and will not work in a future version. Please use \"napari\" instead.\n",
      "  warnings.warn(\n"
     ]
    },
    {
     "name": "stdout",
     "output_type": "stream",
     "text": [
      "Quantifying GFP in S cones of 20250123_5dpf_tbx2bhetinx_s2C_m2G_L07_004()\n",
      "\n"
     ]
    },
    {
     "name": "stderr",
     "output_type": "stream",
     "text": [
      "C:\\Users\\Carin\\mambaforge\\envs\\cellCounting\\lib\\site-packages\\napari\\components\\viewer_model.py:977: UserWarning: The \"builtins\" plugin name is deprecated and will not work in a future version. Please use \"napari\" instead.\n",
      "  warnings.warn(\n",
      "C:\\Users\\Carin\\mambaforge\\envs\\cellCounting\\lib\\site-packages\\napari\\components\\viewer_model.py:977: UserWarning: The \"builtins\" plugin name is deprecated and will not work in a future version. Please use \"napari\" instead.\n",
      "  warnings.warn(\n",
      "C:\\Users\\Carin\\mambaforge\\envs\\cellCounting\\lib\\site-packages\\napari\\components\\viewer_model.py:977: UserWarning: The \"builtins\" plugin name is deprecated and will not work in a future version. Please use \"napari\" instead.\n",
      "  warnings.warn(\n"
     ]
    },
    {
     "name": "stdout",
     "output_type": "stream",
     "text": [
      "Quantifying GFP in S cones of 20250123_5dpf_tbx2bhetinx_s2C_m2G_L08_002()\n",
      "\n"
     ]
    },
    {
     "name": "stderr",
     "output_type": "stream",
     "text": [
      "C:\\Users\\Carin\\mambaforge\\envs\\cellCounting\\lib\\site-packages\\napari\\components\\viewer_model.py:977: UserWarning: The \"builtins\" plugin name is deprecated and will not work in a future version. Please use \"napari\" instead.\n",
      "  warnings.warn(\n",
      "C:\\Users\\Carin\\mambaforge\\envs\\cellCounting\\lib\\site-packages\\napari\\components\\viewer_model.py:977: UserWarning: The \"builtins\" plugin name is deprecated and will not work in a future version. Please use \"napari\" instead.\n",
      "  warnings.warn(\n",
      "C:\\Users\\Carin\\mambaforge\\envs\\cellCounting\\lib\\site-packages\\napari\\components\\viewer_model.py:977: UserWarning: The \"builtins\" plugin name is deprecated and will not work in a future version. Please use \"napari\" instead.\n",
      "  warnings.warn(\n"
     ]
    },
    {
     "name": "stdout",
     "output_type": "stream",
     "text": [
      "Quantifying GFP in S cones of 20250123_5dpf_tbx2bhetinx_s2C_m2G_L08_004()\n",
      "\n"
     ]
    },
    {
     "name": "stderr",
     "output_type": "stream",
     "text": [
      "C:\\Users\\Carin\\mambaforge\\envs\\cellCounting\\lib\\site-packages\\napari\\components\\viewer_model.py:977: UserWarning: The \"builtins\" plugin name is deprecated and will not work in a future version. Please use \"napari\" instead.\n",
      "  warnings.warn(\n",
      "C:\\Users\\Carin\\mambaforge\\envs\\cellCounting\\lib\\site-packages\\napari\\components\\viewer_model.py:977: UserWarning: The \"builtins\" plugin name is deprecated and will not work in a future version. Please use \"napari\" instead.\n",
      "  warnings.warn(\n",
      "C:\\Users\\Carin\\mambaforge\\envs\\cellCounting\\lib\\site-packages\\napari\\components\\viewer_model.py:977: UserWarning: The \"builtins\" plugin name is deprecated and will not work in a future version. Please use \"napari\" instead.\n",
      "  warnings.warn(\n"
     ]
    },
    {
     "name": "stdout",
     "output_type": "stream",
     "text": [
      "Quantifying GFP in S cones of 20250123_5dpf_tbx2bhetinx_s2C_m2G_L09_004()\n",
      "\n"
     ]
    },
    {
     "name": "stderr",
     "output_type": "stream",
     "text": [
      "C:\\Users\\Carin\\mambaforge\\envs\\cellCounting\\lib\\site-packages\\napari\\components\\viewer_model.py:977: UserWarning: The \"builtins\" plugin name is deprecated and will not work in a future version. Please use \"napari\" instead.\n",
      "  warnings.warn(\n",
      "C:\\Users\\Carin\\mambaforge\\envs\\cellCounting\\lib\\site-packages\\napari\\components\\viewer_model.py:977: UserWarning: The \"builtins\" plugin name is deprecated and will not work in a future version. Please use \"napari\" instead.\n",
      "  warnings.warn(\n",
      "C:\\Users\\Carin\\mambaforge\\envs\\cellCounting\\lib\\site-packages\\napari\\components\\viewer_model.py:977: UserWarning: The \"builtins\" plugin name is deprecated and will not work in a future version. Please use \"napari\" instead.\n",
      "  warnings.warn(\n"
     ]
    },
    {
     "name": "stdout",
     "output_type": "stream",
     "text": [
      "Quantifying GFP in S cones of 20250123_5dpf_tbx2bhetinx_s2C_m2G_L10_002()\n",
      "\n"
     ]
    },
    {
     "name": "stderr",
     "output_type": "stream",
     "text": [
      "C:\\Users\\Carin\\mambaforge\\envs\\cellCounting\\lib\\site-packages\\napari\\components\\viewer_model.py:977: UserWarning: The \"builtins\" plugin name is deprecated and will not work in a future version. Please use \"napari\" instead.\n",
      "  warnings.warn(\n",
      "C:\\Users\\Carin\\mambaforge\\envs\\cellCounting\\lib\\site-packages\\napari\\components\\viewer_model.py:977: UserWarning: The \"builtins\" plugin name is deprecated and will not work in a future version. Please use \"napari\" instead.\n",
      "  warnings.warn(\n",
      "C:\\Users\\Carin\\mambaforge\\envs\\cellCounting\\lib\\site-packages\\napari\\components\\viewer_model.py:977: UserWarning: The \"builtins\" plugin name is deprecated and will not work in a future version. Please use \"napari\" instead.\n",
      "  warnings.warn(\n"
     ]
    },
    {
     "name": "stdout",
     "output_type": "stream",
     "text": [
      "Quantifying GFP in S cones of 20250123_5dpf_tbx2bhetinx_s2C_m2G_L10_004()\n",
      "\n"
     ]
    },
    {
     "name": "stderr",
     "output_type": "stream",
     "text": [
      "C:\\Users\\Carin\\mambaforge\\envs\\cellCounting\\lib\\site-packages\\napari\\components\\viewer_model.py:977: UserWarning: The \"builtins\" plugin name is deprecated and will not work in a future version. Please use \"napari\" instead.\n",
      "  warnings.warn(\n",
      "C:\\Users\\Carin\\mambaforge\\envs\\cellCounting\\lib\\site-packages\\napari\\components\\viewer_model.py:977: UserWarning: The \"builtins\" plugin name is deprecated and will not work in a future version. Please use \"napari\" instead.\n",
      "  warnings.warn(\n",
      "C:\\Users\\Carin\\mambaforge\\envs\\cellCounting\\lib\\site-packages\\napari\\components\\viewer_model.py:977: UserWarning: The \"builtins\" plugin name is deprecated and will not work in a future version. Please use \"napari\" instead.\n",
      "  warnings.warn(\n"
     ]
    },
    {
     "name": "stdout",
     "output_type": "stream",
     "text": [
      "Quantifying GFP in S cones of 20250123_5dpf_tbx2bhetinx_s2C_m2G_L11_002()\n",
      "\n"
     ]
    },
    {
     "name": "stderr",
     "output_type": "stream",
     "text": [
      "C:\\Users\\Carin\\mambaforge\\envs\\cellCounting\\lib\\site-packages\\napari\\components\\viewer_model.py:977: UserWarning: The \"builtins\" plugin name is deprecated and will not work in a future version. Please use \"napari\" instead.\n",
      "  warnings.warn(\n",
      "C:\\Users\\Carin\\mambaforge\\envs\\cellCounting\\lib\\site-packages\\napari\\components\\viewer_model.py:977: UserWarning: The \"builtins\" plugin name is deprecated and will not work in a future version. Please use \"napari\" instead.\n",
      "  warnings.warn(\n",
      "C:\\Users\\Carin\\mambaforge\\envs\\cellCounting\\lib\\site-packages\\napari\\components\\viewer_model.py:977: UserWarning: The \"builtins\" plugin name is deprecated and will not work in a future version. Please use \"napari\" instead.\n",
      "  warnings.warn(\n"
     ]
    },
    {
     "name": "stdout",
     "output_type": "stream",
     "text": [
      "Quantifying GFP in S cones of 20250123_5dpf_tbx2bhetinx_s2C_m2G_L11_004()\n",
      "\n"
     ]
    },
    {
     "name": "stderr",
     "output_type": "stream",
     "text": [
      "C:\\Users\\Carin\\mambaforge\\envs\\cellCounting\\lib\\site-packages\\napari\\components\\viewer_model.py:977: UserWarning: The \"builtins\" plugin name is deprecated and will not work in a future version. Please use \"napari\" instead.\n",
      "  warnings.warn(\n",
      "C:\\Users\\Carin\\mambaforge\\envs\\cellCounting\\lib\\site-packages\\napari\\components\\viewer_model.py:977: UserWarning: The \"builtins\" plugin name is deprecated and will not work in a future version. Please use \"napari\" instead.\n",
      "  warnings.warn(\n"
     ]
    },
    {
     "name": "stdout",
     "output_type": "stream",
     "text": [
      "Finished analysis\n"
     ]
    }
   ],
   "source": [
    "erodeV = 12;\n",
    "\n",
    "# analysis directory\n",
    "dAnalysis = \"D:/Analysis/20250202_Tbx2bhetinx_m2Gs2C/m2Gs2C/\"\n",
    "# dAnalysis = \"/Users/angueyraaristjm/Library/CloudStorage/OneDrive-NationalInstitutesofHealth/zf/Analysis/CRtbx2F0s/m2Gs2C/\"\n",
    "\n",
    "# open file\n",
    "\n",
    "# uninjected\n",
    "### 20201009: imaged 3dpf and 5dpf larvae. Analyzing 5 dpf for paper\n",
    "gene = ''\n",
    "wt_fPaths = [\n",
    "        \"20250123_5dpf_tbx2bhetinx_s2C_m2G_L01_002\",\n",
    "   \"20250123_5dpf_tbx2bhetinx_s2C_m2G_L01_004\" ,\n",
    "    \"20250123_5dpf_tbx2bhetinx_s2C_m2G_L02_002\",\n",
    "    \"20250123_5dpf_tbx2bhetinx_s2C_m2G_L02_004\",\n",
    "    \"20250123_5dpf_tbx2bhetinx_s2C_m2G_L03_002\",\n",
    "    \"20250123_5dpf_tbx2bhetinx_s2C_m2G_L03_004\",\n",
    "    \"20250123_5dpf_tbx2bhetinx_s2C_m2G_L04_002\",\n",
    "    \"20250123_5dpf_tbx2bhetinx_s2C_m2G_L04_004\",\n",
    "    \"20250123_5dpf_tbx2bhetinx_s2C_m2G_L05_002\",\n",
    "    \"20250123_5dpf_tbx2bhetinx_s2C_m2G_L05_004\",\n",
    "    \"20250123_5dpf_tbx2bhetinx_s2C_m2G_L06_002\",\n",
    "    \"20250123_5dpf_tbx2bhetinx_s2C_m2G_L06_004\",\n",
    "    \"20250123_5dpf_tbx2bhetinx_s2C_m2G_L07_002\",\n",
    "    \"20250123_5dpf_tbx2bhetinx_s2C_m2G_L07_004\",\n",
    "    \"20250123_5dpf_tbx2bhetinx_s2C_m2G_L08_002\",\n",
    "    \"20250123_5dpf_tbx2bhetinx_s2C_m2G_L08_004\",\n",
    "    \"20250123_5dpf_tbx2bhetinx_s2C_m2G_L09_004\" ,\n",
    "    \"20250123_5dpf_tbx2bhetinx_s2C_m2G_L10_002\",\n",
    "    \"20250123_5dpf_tbx2bhetinx_s2C_m2G_L10_004\",\n",
    "    \"20250123_5dpf_tbx2bhetinx_s2C_m2G_L11_002\",\n",
    "    \"20250123_5dpf_tbx2bhetinx_s2C_m2G_L11_004\" \n",
    "         ]\n",
    "for fPath in wt_fPaths:\n",
    "    GFPanalyzer(viewer,dAnalysis,gene,fPath, erosionValue=erodeV)\n",
    "    \n",
    "# tbx2b\n",
    "gene = 'tbx2b';\n",
    "tbx2b_fPaths = [\n",
    "        \"20250123_5dpf_tbx2bhetinx_s2C_m2G_L03_002\",\n",
    "    \"20250123_5dpf_tbx2bhetinx_s2C_m2G_L03_004\",\n",
    "               ]\n",
    "for fPath in tbx2b_fPaths:\n",
    "    GFPanalyzer(viewer,dAnalysis,gene,fPath, erosionValue=erodeV)\n",
    "\n",
    "    \n",
    "# # tbx2a\n",
    "# gene = 'tbx2a';\n",
    "# tbx2a_fPaths = [\n",
    "   \n",
    "#                ]\n",
    "# for fPath in tbx2a_fPaths:\n",
    "#     GFPanalyzer(viewer,dAnalysis,gene,fPath, erosionValue=erodeV)\n",
    "\n",
    "    \n",
    "\n",
    "print('Finished analysis')"
   ]
  },
  {
   "cell_type": "code",
   "execution_count": 125,
   "metadata": {
    "tags": []
   },
   "outputs": [
    {
     "name": "stderr",
     "output_type": "stream",
     "text": [
      "C:\\Users\\Carin\\mambaforge\\envs\\cellCounting\\lib\\site-packages\\napari\\components\\viewer_model.py:977: UserWarning: The \"builtins\" plugin name is deprecated and will not work in a future version. Please use \"napari\" instead.\n",
      "  warnings.warn(\n"
     ]
    },
    {
     "name": "stdout",
     "output_type": "stream",
     "text": [
      "Quantifying GFP in S cones of 20250123_5dpf_tbx2bhetinx_s2C_m2G_L03_002()\n",
      "\n"
     ]
    },
    {
     "name": "stderr",
     "output_type": "stream",
     "text": [
      "C:\\Users\\Carin\\mambaforge\\envs\\cellCounting\\lib\\site-packages\\napari\\components\\viewer_model.py:977: UserWarning: The \"builtins\" plugin name is deprecated and will not work in a future version. Please use \"napari\" instead.\n",
      "  warnings.warn(\n",
      "C:\\Users\\Carin\\mambaforge\\envs\\cellCounting\\lib\\site-packages\\napari\\components\\viewer_model.py:977: UserWarning: The \"builtins\" plugin name is deprecated and will not work in a future version. Please use \"napari\" instead.\n",
      "  warnings.warn(\n",
      "C:\\Users\\Carin\\mambaforge\\envs\\cellCounting\\lib\\site-packages\\napari\\components\\viewer_model.py:977: UserWarning: The \"builtins\" plugin name is deprecated and will not work in a future version. Please use \"napari\" instead.\n",
      "  warnings.warn(\n"
     ]
    },
    {
     "name": "stdout",
     "output_type": "stream",
     "text": [
      "Quantifying GFP in S cones of 20250123_5dpf_tbx2bhetinx_s2C_m2G_L03_004()\n",
      "\n"
     ]
    },
    {
     "name": "stderr",
     "output_type": "stream",
     "text": [
      "C:\\Users\\Carin\\mambaforge\\envs\\cellCounting\\lib\\site-packages\\napari\\components\\viewer_model.py:977: UserWarning: The \"builtins\" plugin name is deprecated and will not work in a future version. Please use \"napari\" instead.\n",
      "  warnings.warn(\n",
      "C:\\Users\\Carin\\mambaforge\\envs\\cellCounting\\lib\\site-packages\\napari\\components\\viewer_model.py:977: UserWarning: The \"builtins\" plugin name is deprecated and will not work in a future version. Please use \"napari\" instead.\n",
      "  warnings.warn(\n",
      "C:\\Users\\Carin\\mambaforge\\envs\\cellCounting\\lib\\site-packages\\napari\\components\\viewer_model.py:977: UserWarning: The \"builtins\" plugin name is deprecated and will not work in a future version. Please use \"napari\" instead.\n",
      "  warnings.warn(\n"
     ]
    },
    {
     "name": "stdout",
     "output_type": "stream",
     "text": [
      "Quantifying GFP in S cones of 20250123_5dpf_tbx2bhetinx_s2C_m2G_L03_002()\n",
      "\n"
     ]
    },
    {
     "name": "stderr",
     "output_type": "stream",
     "text": [
      "C:\\Users\\Carin\\mambaforge\\envs\\cellCounting\\lib\\site-packages\\napari\\components\\viewer_model.py:977: UserWarning: The \"builtins\" plugin name is deprecated and will not work in a future version. Please use \"napari\" instead.\n",
      "  warnings.warn(\n",
      "C:\\Users\\Carin\\mambaforge\\envs\\cellCounting\\lib\\site-packages\\napari\\components\\viewer_model.py:977: UserWarning: The \"builtins\" plugin name is deprecated and will not work in a future version. Please use \"napari\" instead.\n",
      "  warnings.warn(\n",
      "C:\\Users\\Carin\\mambaforge\\envs\\cellCounting\\lib\\site-packages\\napari\\components\\viewer_model.py:977: UserWarning: The \"builtins\" plugin name is deprecated and will not work in a future version. Please use \"napari\" instead.\n",
      "  warnings.warn(\n"
     ]
    },
    {
     "name": "stdout",
     "output_type": "stream",
     "text": [
      "Quantifying GFP in S cones of 20250123_5dpf_tbx2bhetinx_s2C_m2G_L03_004()\n",
      "\n"
     ]
    },
    {
     "name": "stderr",
     "output_type": "stream",
     "text": [
      "C:\\Users\\Carin\\mambaforge\\envs\\cellCounting\\lib\\site-packages\\napari\\components\\viewer_model.py:977: UserWarning: The \"builtins\" plugin name is deprecated and will not work in a future version. Please use \"napari\" instead.\n",
      "  warnings.warn(\n",
      "C:\\Users\\Carin\\mambaforge\\envs\\cellCounting\\lib\\site-packages\\napari\\components\\viewer_model.py:977: UserWarning: The \"builtins\" plugin name is deprecated and will not work in a future version. Please use \"napari\" instead.\n",
      "  warnings.warn(\n"
     ]
    },
    {
     "name": "stdout",
     "output_type": "stream",
     "text": [
      "Finished analysis\n"
     ]
    }
   ],
   "source": [
    "erodeV = 12;\n",
    "\n",
    "# analysis directory\n",
    "dAnalysis = \"D:/Analysis/20250202_Tbx2bhetinx_m2Gs2C/m2Gs2C/\"\n",
    "# dAnalysis = \"/Users/angueyraaristjm/Library/CloudStorage/OneDrive-NationalInstitutesofHealth/zf/Analysis/CRtbx2F0s/m2Gs2C/\"\n",
    "\n",
    "# open file\n",
    "\n",
    "# tbx2b\n",
    "gene = '';\n",
    "tbx2b_fPaths = [\n",
    "        \"20250123_5dpf_tbx2bhetinx_s2C_m2G_L03_002\",\n",
    "    \"20250123_5dpf_tbx2bhetinx_s2C_m2G_L03_004\",\n",
    "               ]\n",
    "for fPath in tbx2b_fPaths:\n",
    "    GFPanalyzer(viewer,dAnalysis,gene,fPath, erosionValue=erodeV)\n",
    "\n",
    "    \n",
    "# tbx2a\n",
    "gene = '';\n",
    "tbx2a_fPaths = [\n",
    "   \"20250123_5dpf_tbx2bhetinx_s2C_m2G_L03_002\",\n",
    "    \"20250123_5dpf_tbx2bhetinx_s2C_m2G_L03_004\",\n",
    "               ]\n",
    "for fPath in tbx2a_fPaths:\n",
    "    GFPanalyzer(viewer,dAnalysis,gene,fPath, erosionValue=erodeV)\n",
    "\n",
    "    \n",
    "\n",
    "print('Finished analysis')"
   ]
  },
  {
   "cell_type": "markdown",
   "metadata": {},
   "source": []
  },
  {
   "cell_type": "code",
   "execution_count": 130,
   "metadata": {
    "tags": []
   },
   "outputs": [
    {
     "name": "stdout",
     "output_type": "stream",
     "text": [
      "# cells of bright GFP cells: wt=85146.18492987884\n"
     ]
    },
    {
     "data": {
      "image/png": "[encoded data removed]",
      "text/plain": [
       "<Figure size 3000x800 with 3 Axes>"
      ]
     },
     "metadata": {},
     "output_type": "display_data"
    }
   ],
   "source": [
    "# collect all results\n",
    "# analysis directory\n",
    "dAnalysis = \"D:/Analysis/20250202_Tbx2bhetinx_m2Gs2C/m2Gs2C/\"\n",
    "# dAnalysis = \"/Users/angueyraaristjm/Library/CloudStorage/OneDrive-NationalInstitutesofHealth/zf/Analysis/CRtbx2F0s/m2Gs2C/\"\n",
    "\n",
    "# wt_fPaths = [\n",
    "#     \"20250123_5dpf_tbx2bhetinx_s2C_m2G_L01_002\",\n",
    "#    \"20250123_5dpf_tbx2bhetinx_s2C_m2G_L01_004\" ,\n",
    "#     \"20250123_5dpf_tbx2bhetinx_s2C_m2G_L02_002\",\n",
    "#     \"20250123_5dpf_tbx2bhetinx_s2C_m2G_L02_004\",\n",
    "#     \"20250123_5dpf_tbx2bhetinx_s2C_m2G_L03_002\",\n",
    "#     \"20250123_5dpf_tbx2bhetinx_s2C_m2G_L03_004\",\n",
    "#     \"20250123_5dpf_tbx2bhetinx_s2C_m2G_L04_002\",\n",
    "#     \"20250123_5dpf_tbx2bhetinx_s2C_m2G_L04_004\",\n",
    "#     \"20250123_5dpf_tbx2bhetinx_s2C_m2G_L05_002\",\n",
    "#     \"20250123_5dpf_tbx2bhetinx_s2C_m2G_L05_004\",\n",
    "#     \"20250123_5dpf_tbx2bhetinx_s2C_m2G_L06_002\",\n",
    "#     \"20250123_5dpf_tbx2bhetinx_s2C_m2G_L06_004\",\n",
    "#     \"20250123_5dpf_tbx2bhetinx_s2C_m2G_L07_002\",\n",
    "#     \"20250123_5dpf_tbx2bhetinx_s2C_m2G_L07_004\",\n",
    "#     \"20250123_5dpf_tbx2bhetinx_s2C_m2G_L08_002\",\n",
    "#     \"20250123_5dpf_tbx2bhetinx_s2C_m2G_L08_004\",\n",
    "#     \"20250123_5dpf_tbx2bhetinx_s2C_m2G_L09_004\" ,\n",
    "#     \"20250123_5dpf_tbx2bhetinx_s2C_m2G_L10_002\",\n",
    "#     \"20250123_5dpf_tbx2bhetinx_s2C_m2G_L10_004\",\n",
    "#     \"20250123_5dpf_tbx2bhetinx_s2C_m2G_L11_002\",\n",
    "#     \"20250123_5dpf_tbx2bhetinx_s2C_m2G_L11_004\" \n",
    "#              ]\n",
    "\n",
    "\n",
    "# # tbx2b\n",
    "# gene = '';\n",
    "# tbx2b_fPaths = [\n",
    "#         \"20250123_5dpf_tbx2bhetinx_s2C_m2G_L03_002\",\n",
    "#     \"20250123_5dpf_tbx2bhetinx_s2C_m2G_L03_004\",\n",
    "#                ]\n",
    "# for fPath in tbx2b_fPaths:\n",
    "#     GFPanalyzer(viewer,dAnalysis,gene,fPath, erosionValue=erodeV)\n",
    "\n",
    "    \n",
    "# # tbx2a\n",
    "# gene = '';\n",
    "# tbx2a_fPaths = [\n",
    "#    \"20250123_5dpf_tbx2bhetinx_s2C_m2G_L03_002\",\n",
    "#     \"20250123_5dpf_tbx2bhetinx_s2C_m2G_L03_004\",\n",
    "#                ]\n",
    "\n",
    "\n",
    "rName = 'sGtile'\n",
    "\n",
    "wtResults = []\n",
    "i=1;\n",
    "for fPath in wt_fPaths:\n",
    "    gene = ''\n",
    "    dOut = dAnalysis + gene + '/' + fPath + '/'\n",
    "    results = np.load(dOut + 'quantificationGFP.npz')\n",
    "    wtResults.append(results[rName])\n",
    "    i=i+1;\n",
    "\n",
    "bResults = []\n",
    "i=1;\n",
    "for fPath in tbx2b_fPaths:\n",
    "    gene = ''\n",
    "    dOut = dAnalysis + gene + '/' + fPath + '/'\n",
    "    results = np.load(dOut + 'quantificationGFP.npz')\n",
    "    bResults.append(results[rName])\n",
    "    i=i+1;\n",
    "\n",
    "\n",
    "aResults = []\n",
    "i=1;\n",
    "for fPath in tbx2a_fPaths:\n",
    "    gene = ''\n",
    "    dOut = dAnalysis + gene + '/' + fPath + '/'\n",
    "    results = np.load(dOut + 'quantificationGFP.npz')\n",
    "    aResults.append(results[rName])\n",
    "    i=i+1;\n",
    "\n",
    "\n",
    "# combine across images\n",
    "wtResults = np.concatenate(wtResults).ravel()\n",
    "aResults = np.concatenate(aResults).ravel()\n",
    "bResults = np.concatenate(bResults).ravel()\n",
    "\n",
    "# plot histogram\n",
    "pdfV = True\n",
    "# wtH, wtB = np.histogram(wtResults, bins = 50, density=pdfV)\n",
    "# aH, aB = np.histogram(aResults, bins = 50, density=pdfV)\n",
    "# bH, bB = np.histogram(bResults, bins = 50, density=pdfV)\n",
    "\n",
    "# plot histogram but first calculate a fixed bin number for all genotypes\n",
    "# allBins = np.histogram_bin_edges(np.concatenate([wtResults,aResults,bResults]).ravel(),bins='fd');\n",
    "allBins = np.arange(0,1010,10);\n",
    "# allBins = np.histogram_bin_edges(np.concatenate([wtResults]).ravel(),bins='fd');\n",
    "allBinsC = (allBins[:-1] + allBins[1:]) / 2 # Centers\n",
    "wtH, wtB = np.histogram(wtResults, bins = allBins, density=pdfV)\n",
    "aH, aB = np.histogram(aResults, bins = allBins, density=pdfV)\n",
    "bH, bB = np.histogram(bResults, bins = allBins, density=pdfV)\n",
    "\n",
    "# # this can be used for cumulative distribution then normalized\n",
    "wtH = np.cumsum(wtH)/np.max(np.cumsum(wtH));\n",
    "aH = np.cumsum(aH)/np.max(np.cumsum(aH));\n",
    "bH = np.cumsum(bH)/np.max(np.cumsum(bH));\n",
    "\n",
    "wt95CI = np.min(allBinsC[(np.cumsum(wtH))>.095])/1000;\n",
    "wGBright = np.sum(wtH[allBinsC>wt95CI*1000]);\n",
    "aGBright = np.sum(aH[allBinsC>wt95CI*1000]);\n",
    "bGBright = np.sum(bH[allBinsC>wt95CI*1000]);\n",
    "\n",
    "baseColor='#000000'\n",
    "fH, (axH1,axH2,axH3) = plt.subplots(nrows=1, ncols=3, figsize=(30, 8))\n",
    "# fH = plt.figure(figsize=(30, 8))\n",
    "# axH1 = plt.axes()\n",
    "axH1.stairs(wtH,wtB/1000, fill=True, color = baseColor, alpha = 1.0)\n",
    "axH2.stairs(wtH,wtB/1000, fill=True, color = baseColor, alpha = 0.5)\n",
    "axH3.stairs(wtH,wtB/1000, fill=True, color = baseColor, alpha = 0.5)\n",
    "axH2.stairs(aH,aB/1000, fill=True, color = zfC['lws1'], alpha = 1)\n",
    "axH3.stairs(bH,bB/1000, fill=True, color = zfC['sws2'], alpha = 1)\n",
    "\n",
    "axH1.plot([wt95CI,wt95CI],[0,0.008],color=baseColor)\n",
    "axH2.plot([wt95CI,wt95CI],[0,0.008],color=baseColor)\n",
    "axH3.plot([wt95CI,wt95CI],[0,0.008],color=baseColor)\n",
    "\n",
    "formatFigureMain(fH, axH1, _)\n",
    "formatFigureMain(fH, axH2, _)\n",
    "formatFigureMain(fH, axH3, _)\n",
    "# axH.set_title('Distribution of GFP inside L cones')\n",
    "for axH in (axH1,axH2,axH3):\n",
    "    axH.set_xlabel('Normalized GFP values')\n",
    "    if pdfV:\n",
    "        axH.set_ylabel('Probability density')\n",
    "    else:\n",
    "        axH.set_ylabel('Counts')\n",
    "## normalized\n",
    "axH.stairs(wtH/np.max(wtH),wtB, fill=True, color = 'white', alpha = 0.5)\n",
    "axH.stairs(aH/np.max(aH),aB, fill=True, color = 'r', alpha = 0.5)\n",
    "axH.stairs(bH/np.max(bH),bB, fill=True, color = 'b', alpha = 0.5)\n",
    "\n",
    "# dPath = '/Users/angueyraaristjm/Documents/LiLab/Manuscripts/2021_zfConeRNAseq/resources/'\n",
    "dPath = 'D:/Imaging/20250202_2bhetinx_s2C_m2G/'\n",
    "# plt.savefig(dPath + \"CRtbx2F0_SM_hist.svg\", transparent=True, format=\"svg\")\n",
    "\n",
    "# print('# cells of bright GFP cells: wt={0}, tbx2a={1}, tbx2b={2}'.format(wGBright*1000,aGBright*1000,bGBright*1000))\n",
    "\n",
    "\n",
    "print('# cells of bright GFP cells: wt={0}'.format(wGBright*1000,aGBright*1000,bGBright*1000))\n"
   ]
  },
  {
   "cell_type": "code",
   "execution_count": 124,
   "metadata": {
    "tags": []
   },
   "outputs": [
    {
     "data": {
      "image/png": "[encoded data removed]",
      "text/plain": [
       "<Figure size 640x480 with 1 Axes>"
      ]
     },
     "metadata": {},
     "output_type": "display_data"
    }
   ],
   "source": [
    "plt.stairs(wtH,wtB, color = 'white')\n",
    "# plt.show()\n",
    "\n",
    "plt.plot([wt95CI,wt95CI],[0,0.008],color='green')\n",
    "plt.show()"
   ]
  },
  {
   "cell_type": "markdown",
   "metadata": {},
   "source": [
    "### After establishing threshold based on all data, count number of cells exceeding threshold for each eye"
   ]
  },
  {
   "cell_type": "code",
   "execution_count": null,
   "metadata": {},
   "outputs": [],
   "source": [
    "# collect all results\n",
    "# analysis directory\n",
    "dAnalysis = \"/Users/angueyraaristjm/Documents/LiImaging/Analysis/CRtbx2F0s/m2Gs2C/\"\n",
    "# dAnalysis = \"/Users/angueyraaristjm/Library/CloudStorage/OneDrive-NationalInstitutesofHealth/zf/Analysis/CRtbx2F0s/m2Gs2C/\"\n",
    "\n",
    "wt_fPaths = [\n",
    "       \"20250123_5dpf_tbx2bhetinx_s2C_m2G_L01_002\"\n",
    "   \"20250123_5dpf_tbx2bhetinx_s2C_m2G_L01_004\" \n",
    "    '20250123_5dpf_tbx2bhetinx_s2C_m2G_L02_002' \n",
    "    '20250123_5dpf_tbx2bhetinx_s2C_m2G_L02_004'\n",
    "    '20250123_5dpf_tbx2bhetinx_s2C_m2G_L03_002'\n",
    "    '20250123_5dpf_tbx2bhetinx_s2C_m2G_L03_004'\n",
    "    '20250123_5dpf_tbx2bhetinx_s2C_m2G_L04_002'\n",
    "    '20250123_5dpf_tbx2bhetinx_s2C_m2G_L04_004'\n",
    "    '20250123_5dpf_tbx2bhetinx_s2C_m2G_L05_002'\n",
    "    '20250123_5dpf_tbx2bhetinx_s2C_m2G_L05_004'\n",
    "    '20250123_5dpf_tbx2bhetinx_s2C_m2G_L06_002'\n",
    "    '20250123_5dpf_tbx2bhetinx_s2C_m2G_L06_004'\n",
    "    '20250123_5dpf_tbx2bhetinx_s2C_m2G_L07_002'\n",
    "    '20250123_5dpf_tbx2bhetinx_s2C_m2G_L07_004'\n",
    "    '20250123_5dpf_tbx2bhetinx_s2C_m2G_L08_002'\n",
    "    '20250123_5dpf_tbx2bhetinx_s2C_m2G_L08_004'\n",
    "    '20250123_5dpf_tbx2bhetinx_s2C_m2G_L09_004' \n",
    "    '20250123_5dpf_tbx2bhetinx_s2C_m2G_L10_002'\n",
    "    '20250123_5dpf_tbx2bhetinx_s2C_m2G_L10_004'\n",
    "    '20250123_5dpf_tbx2bhetinx_s2C_m2G_L11_002'\n",
    "    '20250123_5dpf_tbx2bhetinx_s2C_m2G_L11_004' \n",
    "         ]\n",
    "    \n",
    "# # tbx2b\n",
    "# gene = 'tbx2b';\n",
    "# tbx2b_fPaths = [\n",
    "        \n",
    "#                ]\n",
    "\n",
    "   \n",
    "# # tbx2a\n",
    "# gene = 'tbx2a';\n",
    "# tbx2a_fPaths = [\n",
    "        \n",
    "#                ]\n",
    "\n",
    "\n",
    "rName = 'sGtile'\n",
    "\n",
    "wtResults = []\n",
    "i=1;\n",
    "for fPath in wt_fPaths:\n",
    "    gene = 'wt'\n",
    "    dOut = dAnalysis + gene + '/' + fPath + '/'\n",
    "    results = np.load(dOut + 'quantificationGFP.npz')\n",
    "#     wtResults.append(np.count_nonzero(results['lGtile']>wt95CI*1000)) #this is for absolute counts\n",
    "    wtResults.append(np.divide(np.count_nonzero(results['sGtile']>wt95CI*1000),len(results['sGtile']))) #this is for fraction\n",
    "    i=i+1;\n",
    "\n",
    "    \n",
    "# aResults = []\n",
    "# i=1;\n",
    "# for fPath in tbx2a_fPaths:\n",
    "#     gene = 'tbx2a'\n",
    "#     dOut = dAnalysis + gene + '/' + fPath + '/'\n",
    "#     results = np.load(dOut + 'quantificationGFP.npz')\n",
    "# #     aResults.append(np.count_nonzero(results['lGtile']>wt95CI*1000)) #this is for absolute counts\n",
    "#     aResults.append(np.divide(np.count_nonzero(results['sGtile']>wt95CI*1000),len(results['sGtile']))) #this is for fraction\n",
    "#     i=i+1;\n",
    "\n",
    "# bResults = []\n",
    "# i=1;\n",
    "# for fPath in tbx2b_fPaths:\n",
    "#     gene = 'tbx2b'\n",
    "#     dOut = dAnalysis + gene + '/' + fPath + '/'\n",
    "#     results = np.load(dOut + 'quantificationGFP.npz')\n",
    "# #     bResults.append(np.count_nonzero(results['lGtile']>wt95CI*1000)) #this is for absolute counts\n",
    "#     bResults.append(np.divide(np.count_nonzero(results['sGtile']>wt95CI*1000),len(results['sGtile']))) #this is for fraction\n",
    "#     i=i+1;\n",
    "\n",
    "geneList = ['']\n",
    "\n",
    "\n",
    "plotname = ''\n",
    "fH, axH = plt.subplots(figsize= [6,8])\n",
    "\n",
    "barW = np.size(geneList)+2; # bar width\n",
    "barD = np.size(geneList)+1; # bar distance whitin 1 photoreceptor subtype\n",
    "barP = -np.size(geneList)+1; # position in x-axis\n",
    "barStep = 0.9; # distance between photoreceptor groups\n",
    "barPos = []; #array to save bar positions\n",
    "\n",
    "\n",
    "jitter = estimateJitter(wtResults)/400\n",
    "pH = plt.bar([barStep+1/barD], np.mean(wtResults), width=1/barW, color=zfC['sws2']);\n",
    "pH = plt.errorbar([barStep+1/barD], np.mean(wtResults), yerr = [[0.025],[np.std(wtResults)]], ecolor=lighten_color(zfC['sws2'],1), elinewidth=3, capsize=15, capthick=3, zorder=7)\n",
    "pH = plt.scatter(np.ones(len(wtResults))*[barStep+1/barD]+jitter, wtResults, color=lighten_color(zfC['sws2'],.75), zorder=8, marker = zfGm['wt'], s=100, edgecolor='#000000', linewidth=0.5, alpha = .6);\n",
    "barPos = np.append(barPos,(barStep+1/barD))\n",
    "\n",
    "\n",
    "\n",
    "jitter = estimateJitter(aResults)/400\n",
    "pH = plt.bar([barStep+2/barD], np.mean(aResults), width=1/barW, color=zfC['sws2']);\n",
    "pH = plt.errorbar([barStep+2/barD], np.mean(aResults), yerr = [[0.025],[np.std(aResults)]], ecolor=lighten_color(zfC['sws2'],1), elinewidth=3, capsize=15, capthick=3, zorder=7)\n",
    "pH = plt.scatter(np.ones(len(aResults))*[barStep+2/barD]+jitter, aResults, color=lighten_color(zfC['sws2'],.75), zorder=8, marker = zfGm['tbx2a'], s=100, edgecolor='#000000', linewidth=0.5, alpha = .6);\n",
    "barPos = np.append(barPos,(barStep+2/barD))\n",
    "\n",
    "jitter = estimateJitter(bResults)/400\n",
    "pH = plt.bar([barStep+3/barD], np.mean(bResults), width=1/barW, color=zfC['sws2']);\n",
    "pH = plt.errorbar([barStep+3/barD], np.mean(bResults), yerr = [[0.025],[np.std(bResults)]], ecolor=lighten_color(zfC['sws2'],1), elinewidth=3, capsize=15, capthick=3, zorder=7)\n",
    "pH = plt.scatter(np.ones(len(bResults))*[barStep+3/barD]+jitter, bResults, color=lighten_color(zfC['sws2'],.75), zorder=8, marker = zfGm['tbx2b'], s=100, edgecolor='#000000', linewidth=0.5, alpha = .6);\n",
    "barPos = np.append(barPos,(barStep+3/barD))\n",
    "\n",
    "fontProps = formatFigureMain(fH, axH, pH)\n",
    "\n",
    "# axH.set_ylabel('GFP+ L cones per 64 x 64 $\\mu$m$^2$', fontproperties=formatFigureMain(fH, axH, pH))\n",
    "# axH.set_ylim([0,180]);\n",
    "# stath = 170\n",
    "\n",
    "axH.set_ylabel('Fraction of GFP+ S cones', fontproperties=fontProps)\n",
    "axH.set_ylim([0,1]);\n",
    "stath = 0.98\n",
    "\n",
    "geneList = ['control','F$\\emptyset$[tbx2a]','F$\\emptyset$[tbx2b]']\n",
    "\n",
    "axH.xaxis.set_tick_params(rotation=45)\n",
    "axH.set_xticks(np.sort(barPos));\n",
    "axH.set_xticklabels(geneList);\n",
    "\n",
    "hH = plt.hlines(stath, barPos[0], barPos[2], colors='#000000',linewidth=4)\n",
    "plt.text((barPos[0]+barPos[2])/2, stath, '*', font_properties=fontProps, fontsize=36, ha='center')# plt.savefig(savePath + \"Counts_tbx2_RU.svg\", transparent=True, format=\"svg\")\n",
    "\n",
    "\n",
    "dPath = 'D:/Imaging/20250202_2bhetinx_s2C_m2G/'\n",
    "# dPath = '/Users/angueyraaristjm/Documents/LiLab/Presentations/revealjs/resources/20211008_UCLA/'\n",
    "# plt.savefig(dPath + \"CRtbx2F0_GFPScones.svg\", transparent=True, format=\"svg\")\n",
    "\n",
    "print('Threshold (5%) is {0}'.format(wt95CI))"
   ]
  }
 ],
 "metadata": {
  "kernelspec": {
   "display_name": "Python 3 (ipykernel)",
   "language": "python",
   "name": "python3"
  },
  "language_info": {
   "codemirror_mode": {
    "name": "ipython",
    "version": 3
   },
   "file_extension": ".py",
   "mimetype": "text/x-python",
   "name": "python",
   "nbconvert_exporter": "python",
   "pygments_lexer": "ipython3",
   "version": "3.9.16"
  },
  "toc-autonumbering": false,
  "toc-showcode": false,
  "toc-showmarkdowntxt": false
 },
 "nbformat": 4,
 "nbformat_minor": 4
}
