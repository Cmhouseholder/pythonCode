{
 "cells": [
  {
   "cell_type": "code",
   "execution_count": 2,
   "id": "cc7ac5d0-c81a-4f70-b672-241418361a01",
   "metadata": {
    "tags": []
   },
   "outputs": [],
   "source": [
    "import numpy as np \n",
    "import pandas as pd \n",
    "import matplotlib \n",
    "import matplotlib.pyplot as plt\n"
   ]
  },
  {
   "cell_type": "code",
   "execution_count": 15,
   "id": "4bb29568-227d-44fd-be1f-2f1d89fdbde9",
   "metadata": {
    "tags": []
   },
   "outputs": [
    {
     "data": {
      "text/html": [
       "<div>\n",
       "<style scoped>\n",
       "    .dataframe tbody tr th:only-of-type {\n",
       "        vertical-align: middle;\n",
       "    }\n",
       "\n",
       "    .dataframe tbody tr th {\n",
       "        vertical-align: top;\n",
       "    }\n",
       "\n",
       "    .dataframe thead th {\n",
       "        text-align: right;\n",
       "    }\n",
       "</style>\n",
       "<table border=\"1\" class=\"dataframe\">\n",
       "  <thead>\n",
       "    <tr style=\"text-align: right;\">\n",
       "      <th></th>\n",
       "      <th>filename</th>\n",
       "      <th>R</th>\n",
       "      <th>U</th>\n",
       "      <th>S</th>\n",
       "      <th>M</th>\n",
       "      <th>L</th>\n",
       "      <th>nU</th>\n",
       "      <th>nL</th>\n",
       "      <th>H1</th>\n",
       "      <th>H2/3</th>\n",
       "      <th>analysisFlags</th>\n",
       "      <th>genotypingFlag</th>\n",
       "      <th>exclusionFlag</th>\n",
       "      <th>tbx2</th>\n",
       "      <th>nr2e3</th>\n",
       "      <th>notes</th>\n",
       "    </tr>\n",
       "  </thead>\n",
       "  <tbody>\n",
       "    <tr>\n",
       "      <th>0</th>\n",
       "      <td>20220408_5dpf_tbx2aF1xF3_xOG_s1C_L01_002</td>\n",
       "      <td>NaN</td>\n",
       "      <td>106</td>\n",
       "      <td>NaN</td>\n",
       "      <td>NaN</td>\n",
       "      <td>NaN</td>\n",
       "      <td>NaN</td>\n",
       "      <td>NaN</td>\n",
       "      <td>NaN</td>\n",
       "      <td>NaN</td>\n",
       "      <td>111</td>\n",
       "      <td>0</td>\n",
       "      <td>0</td>\n",
       "      <td>tbx2a_KO</td>\n",
       "      <td>wt</td>\n",
       "      <td>4 mutations xOG-</td>\n",
       "    </tr>\n",
       "    <tr>\n",
       "      <th>1</th>\n",
       "      <td>20220408_5dpf_tbx2aF1xF3_xOG_s1C_L01_004</td>\n",
       "      <td>NaN</td>\n",
       "      <td>100</td>\n",
       "      <td>NaN</td>\n",
       "      <td>NaN</td>\n",
       "      <td>NaN</td>\n",
       "      <td>NaN</td>\n",
       "      <td>NaN</td>\n",
       "      <td>NaN</td>\n",
       "      <td>NaN</td>\n",
       "      <td>111</td>\n",
       "      <td>0</td>\n",
       "      <td>0</td>\n",
       "      <td>tbx2a_KO</td>\n",
       "      <td>wt</td>\n",
       "      <td>4 mutations xOG-</td>\n",
       "    </tr>\n",
       "    <tr>\n",
       "      <th>2</th>\n",
       "      <td>20220408_5dpf_tbx2aF1xF3_xOG_s1C_L02_002</td>\n",
       "      <td>NaN</td>\n",
       "      <td>80</td>\n",
       "      <td>NaN</td>\n",
       "      <td>NaN</td>\n",
       "      <td>NaN</td>\n",
       "      <td>NaN</td>\n",
       "      <td>NaN</td>\n",
       "      <td>NaN</td>\n",
       "      <td>NaN</td>\n",
       "      <td>111</td>\n",
       "      <td>0</td>\n",
       "      <td>0</td>\n",
       "      <td>tbx2a_KO</td>\n",
       "      <td>wt</td>\n",
       "      <td>4 mutations  xOG-</td>\n",
       "    </tr>\n",
       "    <tr>\n",
       "      <th>3</th>\n",
       "      <td>20220408_5dpf_tbx2aF1xF3_xOG_s1C_L02_004</td>\n",
       "      <td>NaN</td>\n",
       "      <td>74</td>\n",
       "      <td>NaN</td>\n",
       "      <td>NaN</td>\n",
       "      <td>NaN</td>\n",
       "      <td>NaN</td>\n",
       "      <td>NaN</td>\n",
       "      <td>NaN</td>\n",
       "      <td>NaN</td>\n",
       "      <td>111</td>\n",
       "      <td>0</td>\n",
       "      <td>0</td>\n",
       "      <td>tbx2a_KO</td>\n",
       "      <td>wt</td>\n",
       "      <td>4 mutations xOG-</td>\n",
       "    </tr>\n",
       "    <tr>\n",
       "      <th>4</th>\n",
       "      <td>20220408_5dpf_tbx2aF1xF3_xOG_s1C_L03_002</td>\n",
       "      <td>NaN</td>\n",
       "      <td>119</td>\n",
       "      <td>NaN</td>\n",
       "      <td>NaN</td>\n",
       "      <td>NaN</td>\n",
       "      <td>NaN</td>\n",
       "      <td>NaN</td>\n",
       "      <td>NaN</td>\n",
       "      <td>NaN</td>\n",
       "      <td>111</td>\n",
       "      <td>0</td>\n",
       "      <td>0</td>\n",
       "      <td>tbx2a_KO</td>\n",
       "      <td>wt</td>\n",
       "      <td>4 mutations xOG-</td>\n",
       "    </tr>\n",
       "  </tbody>\n",
       "</table>\n",
       "</div>"
      ],
      "text/plain": [
       "                                   filename   R    U   S   M   L  nU  nL  H1  \\\n",
       "0  20220408_5dpf_tbx2aF1xF3_xOG_s1C_L01_002 NaN  106 NaN NaN NaN NaN NaN NaN   \n",
       "1  20220408_5dpf_tbx2aF1xF3_xOG_s1C_L01_004 NaN  100 NaN NaN NaN NaN NaN NaN   \n",
       "2  20220408_5dpf_tbx2aF1xF3_xOG_s1C_L02_002 NaN   80 NaN NaN NaN NaN NaN NaN   \n",
       "3  20220408_5dpf_tbx2aF1xF3_xOG_s1C_L02_004 NaN   74 NaN NaN NaN NaN NaN NaN   \n",
       "4  20220408_5dpf_tbx2aF1xF3_xOG_s1C_L03_002 NaN  119 NaN NaN NaN NaN NaN NaN   \n",
       "\n",
       "   H2/3  analysisFlags  genotypingFlag  exclusionFlag      tbx2 nr2e3  \\\n",
       "0   NaN            111               0              0  tbx2a_KO    wt   \n",
       "1   NaN            111               0              0  tbx2a_KO    wt   \n",
       "2   NaN            111               0              0  tbx2a_KO    wt   \n",
       "3   NaN            111               0              0  tbx2a_KO    wt   \n",
       "4   NaN            111               0              0  tbx2a_KO    wt   \n",
       "\n",
       "               notes  \n",
       "0   4 mutations xOG-  \n",
       "1   4 mutations xOG-  \n",
       "2  4 mutations  xOG-  \n",
       "3   4 mutations xOG-  \n",
       "4   4 mutations xOG-  "
      ]
     },
     "execution_count": 15,
     "metadata": {},
     "output_type": "execute_result"
    }
   ],
   "source": [
    "#Loading Data into Python\n",
    "\n",
    "dirAnalysis = \"G:/Shared drives/vldImaging/Analysis/F3tbx2a/\" #load directory\n",
    "filepath = 'F3tbx2a_counts_20230601.csv' #Point to file you are working in \n",
    "\n",
    "df = pd.read_csv(dirAnalysis + filepath)\n",
    "df.head()"
   ]
  },
  {
   "cell_type": "code",
   "execution_count": 22,
   "id": "e87b4c89-e2e2-4152-b540-75c923b91105",
   "metadata": {
    "tags": []
   },
   "outputs": [
    {
     "data": {
      "text/plain": [
       "0    106\n",
       "1    100\n",
       "2     80\n",
       "3     74\n",
       "4    119\n",
       "Name: U, dtype: int64"
      ]
     },
     "execution_count": 22,
     "metadata": {},
     "output_type": "execute_result"
    }
   ],
   "source": [
    "# Numpy calculations and isolation of data\n",
    "\n",
    "UV = df['U'] #gives you the isolated column you want\n",
    "UV.iloc[0:5] #gives you the first 5 entries in that column\n",
    "\n",
    "np.mean(df['U']) #calculating the mean \n",
    "np.std(df['U']) #many other functions "
   ]
  },
  {
   "cell_type": "code",
   "execution_count": 33,
   "id": "f4f12ffe-9662-43b8-9eb7-c0a45429cd03",
   "metadata": {
    "tags": []
   },
   "outputs": [
    {
     "ename": "TypeError",
     "evalue": "'Axes' object is not subscriptable",
     "output_type": "error",
     "traceback": [
      "\u001b[1;31m---------------------------------------------------------------------------\u001b[0m",
      "\u001b[1;31mTypeError\u001b[0m                                 Traceback (most recent call last)",
      "Cell \u001b[1;32mIn[33], line 13\u001b[0m\n\u001b[0;32m     11\u001b[0m \u001b[38;5;66;03m# Creating labels for your plots\u001b[39;00m\n\u001b[0;32m     12\u001b[0m axH\u001b[38;5;241m.\u001b[39mset_title(plotname); \u001b[38;5;66;03m#Setting title of plot\u001b[39;00m\n\u001b[1;32m---> 13\u001b[0m \u001b[43maxH\u001b[49m\u001b[43m[\u001b[49m\u001b[38;5;241;43m0\u001b[39;49m\u001b[43m]\u001b[49m\u001b[38;5;241m.\u001b[39mset_xlabel(\u001b[38;5;124m'\u001b[39m\u001b[38;5;124mUV Cones\u001b[39m\u001b[38;5;124m'\u001b[39m)\n\u001b[0;32m     14\u001b[0m axH[\u001b[38;5;241m0\u001b[39m]\u001b[38;5;241m.\u001b[39mset_xlabel(\u001b[38;5;124m'\u001b[39m\u001b[38;5;124mRods\u001b[39m\u001b[38;5;124m'\u001b[39m)\n",
      "\u001b[1;31mTypeError\u001b[0m: 'Axes' object is not subscriptable"
     ]
    },
    {
     "data": {
      "image/png": "[encoded data removed]",
      "text/plain": [
       "<Figure size 400x400 with 1 Axes>"
      ]
     },
     "metadata": {},
     "output_type": "display_data"
    }
   ],
   "source": [
    "# Plotting data using pyplot (plt)\n",
    "\n",
    "plotname = 'TITLE'\n",
    "\n",
    "fH, axH = plt.subplots(1,1,figsize = [4,4]) #numbers dictate how many plots you create\n",
    "\n",
    "# pH = plt.scatter(df['R'], UV)\n",
    "pH = plt.bar(0,np.mean(UV))\n",
    "pH = plt.bar(1,np.mean(df['R']))\n",
    "\n",
    "# Creating labels for your plots\n",
    "axH.set_title(plotname); #Setting title of plot\n",
    "axH[0].set_xlabel('UV Cones')\n",
    "axH[0].set_xlabel('Rods')"
   ]
  }
 ],
 "metadata": {
  "kernelspec": {
   "display_name": "Python 3 (ipykernel)",
   "language": "python",
   "name": "python3"
  },
  "language_info": {
   "codemirror_mode": {
    "name": "ipython",
    "version": 3
   },
   "file_extension": ".py",
   "mimetype": "text/x-python",
   "name": "python",
   "nbconvert_exporter": "python",
   "pygments_lexer": "ipython3",
   "version": "3.9.16"
  }
 },
 "nbformat": 4,
 "nbformat_minor": 5
}
