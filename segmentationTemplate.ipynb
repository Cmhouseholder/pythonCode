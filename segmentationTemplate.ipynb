{
 "cells": [
  {
   "cell_type": "markdown",
   "metadata": {},
   "source": [
    "# Photoreceptor segmentation using [napari](https://napari.org/) and [cellpose](https://cellpose-napari.readthedocs.io/en/latest/index.html)"
   ]
  },
  {
   "cell_type": "markdown",
   "metadata": {},
   "source": [
    "### Basic usage:\n",
    "```python\n",
    "viewer = napari.Viewer()\n",
    "nbscreenshot(viewer)\n",
    "viewer.close()\n",
    "```\n",
    "\n",
    "example notebooks [here](https://github.com/sofroniewn/napari-training-course/blob/master/lessons/)"
   ]
  },
  {
   "cell_type": "code",
   "execution_count": null,
   "metadata": {
    "tags": []
   },
   "outputs": [],
   "source": [
    "# !mamba install -c conda-forge devbio-napari --yes\n",
    "# !jupyter labextension list"
   ]
  },
  {
   "cell_type": "code",
   "execution_count": 1,
   "metadata": {
    "tags": []
   },
   "outputs": [
    {
     "data": {
      "application/vnd.jupyter.widget-view+json": {
       "model_id": "f63349770f1c407cbb57562e856ab66b",
       "version_major": 2,
       "version_minor": 0
      },
      "text/plain": [
       "VBox(children=(Label(value='Select plotting style', layout=Layout(height='30px', width='20%')), Dropdown(index…"
      ]
     },
     "execution_count": 1,
     "metadata": {},
     "output_type": "execute_result"
    }
   ],
   "source": [
    "# image analysis\n",
    "import napari\n",
    "from magicgui import magicgui\n",
    "from enum import Enum\n",
    "import cellpose_napari\n",
    "import cellpose\n",
    "from cellpose import models\n",
    "from napari.utils import nbscreenshot\n",
    "from tifffile import imread\n",
    "import napari_nikon_nd2\n",
    "from skimage.io import imread\n",
    "from magicgui import magicgui\n",
    "# python basics and plotting\n",
    "import numpy as np\n",
    "import pandas as pd\n",
    "import math\n",
    "from scipy import ndimage\n",
    "from scipy.stats import kruskal\n",
    "from scipy.stats import zscore\n",
    "from scipy.stats import sem\n",
    "import scikit_posthocs\n",
    "import scipy.spatial\n",
    "import matplotlib\n",
    "import matplotlib.pyplot as plt\n",
    "import matplotlib.font_manager as font_manager\n",
    "import svgutils\n",
    "from svgutils.compose import *\n",
    "# system interaction\n",
    "import os.path\n",
    "import time, sys, warnings, re\n",
    "from tqdm.notebook import tqdm, trange\n",
    "import importlib\n",
    "import ipywidgets\n",
    "from IPython.display import display\n",
    "# lab brews\n",
    "from plotParams import *\n",
    "from lloyd import *\n",
    "\n",
    "\n",
    "def getFileList(dirData,gene,fileNameMatch,addDetails=''):\n",
    "   fileList = sorted([f for f in os.listdir(dirData) if not f.startswith('.')]) # get all the files in the data directory (excluding system files) and sort them alphabatically\n",
    "   fileList = ([f for f in fileList if gene in f]) # select files that match the gene of interest\n",
    "   fileList = ([f for f in fileList if any([s in f for s in fileNameMatch])]) # only keep relevant files\n",
    "   if (addDetails=='path'):\n",
    "      fileList = (['# filePath = \\'' + f for f in fileList]) # add text before each file\n",
    "      fileList = list(map(lambda st: str.replace(st, '.nd2', '\\'; gene = \\'' + gene + '\\'; '), fileList)) #remove file extension (.nd2) and add text after each file\n",
    "   elif (addDetails=='list'):\n",
    "      fileList = (['\\'' + f for f in fileList]) # add text before each file\n",
    "      fileList = list(map(lambda st: str.replace(st, '.nd2', '\\','), fileList)) #remove file extension (.nd2) and add text after each file\n",
    "   else:\n",
    "      fileList = list(map(lambda st: str.replace(st, '.nd2', ''), fileList)) #remove file extension (.nd2) and add text after each file\n",
    "   return fileList\n",
    "\n",
    "\n",
    "pBGMenu = ipywidgets.Dropdown(options=['Light', 'Dark'],value='Dark',disabled=False, layout=ipywidgets.Layout(width='20%', height='40px'))\n",
    "pBGLabel = ipywidgets.widgets.Label('Select plotting style', layout=ipywidgets.Layout(width='20%', height='30px'))\n",
    "pBG = ipywidgets.widgets.VBox([pBGLabel,pBGMenu])\n",
    "pBG"
   ]
  },
  {
   "cell_type": "code",
   "execution_count": 2,
   "metadata": {},
   "outputs": [
    {
     "name": "stdout",
     "output_type": "stream",
     "text": [
      "Plotting style is Dark\n"
     ]
    }
   ],
   "source": [
    "applyPlotStyle(pBGMenu.value)\n",
    "viewer = napari.Viewer()"
   ]
  },
  {
   "cell_type": "code",
   "execution_count": null,
   "metadata": {},
   "outputs": [],
   "source": [
    "# viewer = napari.Viewer()"
   ]
  },
  {
   "cell_type": "code",
   "execution_count": null,
   "metadata": {},
   "outputs": [],
   "source": [
    "viewer.close()"
   ]
  },
  {
   "cell_type": "markdown",
   "metadata": {},
   "source": [
    "***\n",
    "# Index <a id='Index'></a>\n",
    "***\n",
    "- [define directories](#dirDef)\n",
    "- [Extraction of z planes for analysis](#zExtract)\n",
    "- [Segmentation with cellpose](#cellSeg)\n",
    "- [Manual correction of segmentation](#manualCuration)\n",
    "- [Create thumbnails _WIP_](#thumbnails)\n",
    "- [Quantification](#quantification)"
   ]
  },
  {
   "cell_type": "markdown",
   "metadata": {
    "tags": []
   },
   "source": [
    "***\n",
    "## Define directories<a id='dirDefdirDef'>∮</a>\n",
    "***\n",
    "[Back to Index](#Index)"
   ]
  },
  {
   "cell_type": "code",
   "execution_count": 4,
   "metadata": {
    "tags": []
   },
   "outputs": [],
   "source": [
    "# define where all the imaging data is stored\n",
    "dirData = '/Users/juanangueyra/Library/CloudStorage/GoogleDrive-angueyra@umd.edu/Shared drives/vldImaging/Data/20230209_lhx1aF0_m2G_s2C/'\n",
    "# define where all the analysis files should be stored\n",
    "# subdirectories for each gene and transgenic lines need to be manually made first\n",
    "dirAnalysis = \"/Users/juanangueyra/Library/CloudStorage/GoogleDrive-angueyra@umd.edu/Shared drives/vldImaging/Analysis/F0lhx1a/m2Gs2C/\""
   ]
  },
  {
   "cell_type": "code",
   "execution_count": null,
   "metadata": {
    "tags": []
   },
   "outputs": [],
   "source": [
    "gene = 'wt' # usually 'wt' or gene of interest (e.g. 'tbx2a', 'lhx1a')\n",
    "gene = 'lhx1a' # usually 'wt' or gene of interest (e.g. 'tbx2a', 'lhx1a')\n",
    "fileNameMatch = ['002','004'] # characters in filenames that define zoom-in files\n",
    "\n",
    "# get a list with all the relevant files\n",
    "print(*getFileList(dirData,gene,fileNameMatch,addDetails='path'), sep = \"\\n\") #display the file list for copy and paste below"
   ]
  },
  {
   "cell_type": "markdown",
   "metadata": {
    "tags": []
   },
   "source": [
    "***\n",
    "## Extract layers from z-stacks<a id='zExtract'>∮</a>\n",
    "> Open z-stack &rarr; Pick limits in z for Maximum-Intensity Projection (_MIP_) &rarr; save MIPs &rarr; Ensure image was located in central retina\n",
    "***\n",
    "[Back to Index](#Index)"
   ]
  },
  {
   "cell_type": "code",
   "execution_count": null,
   "metadata": {},
   "outputs": [],
   "source": [
    "# clear viewer if needed\n",
    "viewer.layers.select_all()\n",
    "viewer.layers.remove_selected()"
   ]
  },
  {
   "cell_type": "code",
   "execution_count": null,
   "metadata": {},
   "outputs": [],
   "source": [
    "# clear viewer before any loading\n",
    "viewer.layers.select_all()\n",
    "viewer.layers.remove_selected()\n",
    "\n",
    "# open files one by one (by commenting and uncommenting each one)\n",
    "\n",
    "# wild-type files\n",
    "\n",
    "# mutant files\n",
    "# filePath = '20230209_5dpf_m2G_s2C_lhx1aF0_L01_002'; gene = 'lhx1a'; \n",
    "# filePath = '20230209_5dpf_m2G_s2C_lhx1aF0_L01_004'; gene = 'lhx1a'; \n",
    "# filePath = '20230209_5dpf_m2G_s2C_lhx1aF0_L02_002'; gene = 'lhx1a'; \n",
    "# filePath = '20230209_5dpf_m2G_s2C_lhx1aF0_L02_004'; gene = 'lhx1a'; \n",
    "# filePath = '20230209_5dpf_m2G_s2C_lhx1aF0_L03_002'; gene = 'lhx1a'; \n",
    "# filePath = '20230209_5dpf_m2G_s2C_lhx1aF0_L04_002'; gene = 'lhx1a'; \n",
    "# filePath = '20230209_5dpf_m2G_s2C_lhx1aF0_L04_004'; gene = 'lhx1a'; \n",
    "# filePath = '20230209_5dpf_m2G_s2C_lhx1aF0_L05_002'; gene = 'lhx1a'; \n",
    "# filePath = '20230209_5dpf_m2G_s2C_lhx1aF0_L05_004'; gene = 'lhx1a'; \n",
    "# filePath = '20230209_5dpf_m2G_s2C_lhx1aF0_L06_002'; gene = 'lhx1a'; \n",
    "# filePath = '20230209_5dpf_m2G_s2C_lhx1aF0_L06_004'; gene = 'lhx1a'; \n",
    "# filePath = '20230209_5dpf_m2G_s2C_lhx1aF0_L07_002'; gene = 'lhx1a'; \n",
    "# filePath = '20230209_5dpf_m2G_s2C_lhx1aF0_L07_004'; gene = 'lhx1a'; \n",
    "# filePath = '20230209_5dpf_m2G_s2C_lhx1aF0_L08_002'; gene = 'lhx1a'; \n",
    "# filePath = '20230209_5dpf_m2G_s2C_lhx1aF0_L08_004'; gene = 'lhx1a'; \n",
    "# filePath = '20230209_5dpf_m2G_s2C_lhx1aF0_L09_002'; gene = 'lhx1a'; \n",
    "# filePath = '20230209_5dpf_m2G_s2C_lhx1aF0_L09_004'; gene = 'lhx1a'; \n",
    "# filePath = '20230209_5dpf_m2G_s2C_lhx1aF0_L10_002'; gene = 'lhx1a'; \n",
    "# filePath = '20230209_5dpf_m2G_s2C_lhx1aF0_L10_004'; gene = 'lhx1a'; \n",
    "# filePath = '20230209_5dpf_m2G_s2C_lhx1aF0_L11_002'; gene = 'lhx1a'; \n",
    "# filePath = '20230209_5dpf_m2G_s2C_lhx1aF0_L11_004'; gene = 'lhx1a'; \n",
    "# filePath = '20230209_5dpf_m2G_s2C_lhx1aF0_L12_002'; gene = 'lhx1a'; \n",
    "# filePath = '20230209_5dpf_m2G_s2C_lhx1aF0_L12_004'; gene = 'lhx1a'; \n",
    "# filePath = '20230209_5dpf_m2G_s2C_lhx1aF0_L13_002'; gene = 'lhx1a'; \n",
    "filePath = '20230209_5dpf_m2G_s2C_lhx1aF0_L13_004'; gene = 'lhx1a'; \n",
    "\n",
    "\n",
    "layerNames = ['M','S']\n",
    "\n",
    "# create subdirectory for analysis output\n",
    "dirOut = dirAnalysis + gene + '/' + filePath + '/'\n",
    "if (os.path.isdir(dirOut)==False):\n",
    "   os.mkdir(dirOut)\n",
    "   print('Created output directory')\n",
    "\n",
    "print('Canvas cleared. Loading data...\\n\\n')\n",
    "\n",
    "# load whole stack to figure out best z-planes for cellpose\n",
    "viewer.open((dirData+filePath + '.nd2'), plugin='napari-nikon-nd2')\n",
    "viewer.layers.remove(viewer.layers[len(viewer.layers)-1]) # remove transmitted detector image\n",
    "viewer.layers.select_next();\n",
    "if len(viewer.layers)==2: #no DAPI\n",
    "   nChannels = 2\n",
    "   viewer.layers[0].colormap = 'green'\n",
    "   viewer.layers[0].name = layerNames[0]\n",
    "   viewer.layers[1].colormap = 'magenta'\n",
    "   viewer.layers[1].name = layerNames[1]\n",
    "elif len(viewer.layers)==3: #DAPI\n",
    "   nChannels = 3\n",
    "   viewer.layers[0].colormap = 'gray'\n",
    "   viewer.layers[0].name = 'N'\n",
    "   viewer.layers[0].opacity = 0.33\n",
    "   viewer.layers[1].colormap = 'green'\n",
    "   viewer.layers[1].name = layerNames[0]\n",
    "   viewer.layers[2].colormap = 'magenta'\n",
    "   viewer.layers[2].name = layerNames[1]\n",
    "   layerNames.append('N')\n",
    "\n",
    "print('Images loaded!')"
   ]
  },
  {
   "cell_type": "code",
   "execution_count": null,
   "metadata": {},
   "outputs": [],
   "source": [
    "# make mips (and remove any previous ones) by defining the z-limits to use\n",
    "zlims = [14,16];\n",
    "if len(viewer.layers)>nChannels:\n",
    "    for l in viewer.layers[nChannels:]:\n",
    "      viewer.layers.remove(l)\n",
    "\n",
    "for l in viewer.layers[0:nChannels]:\n",
    "    l.visible = False\n",
    "#     viewer.layers.remove(l.name + '_mip')\n",
    "    viewer.add_image(l.data[zlims[0]:zlims[1]].max(axis=0), blending='additive', colormap = l.colormap, name = l.name + \"_mip\")"
   ]
  },
  {
   "cell_type": "code",
   "execution_count": null,
   "metadata": {},
   "outputs": [],
   "source": [
    "# SAVE in folder for batch cellpose analysis (when mips look good)\n",
    "for name in layerNames:\n",
    "   l = viewer.layers[name + '_mip']; l.save(dirOut + l.name + '.tiff')\n",
    "print('MIP layers saved for ' + filePath)"
   ]
  },
  {
   "cell_type": "markdown",
   "metadata": {},
   "source": [
    "### Establish landmarks in whole-eye MIP\n",
    "- Use eyeMarks layer to mark:\n",
    "    - [ ] Landmark #1: Center of FOV (where zoom in is centered)\n",
    "    - [ ] Landmark #2: Center of Optic Nerve Head \n",
    "    - [ ] Landmark #3: Dorsal edge of eye\n",
    "    - [ ] Landmark #4: Ventral edge of eye\n",
    "    - [ ] Landmark #5: Temporal edge of eye (strike zone side)\n",
    "    - [ ] Landmark #6: Nasal edge of eye\n",
    "- Decide if stack should be excluded (and stop analysis here and make note in csv summary file)"
   ]
  },
  {
   "cell_type": "code",
   "execution_count": null,
   "metadata": {},
   "outputs": [],
   "source": [
    "nMIP = len(layerNames)\n",
    "for name in layerNames:\n",
    "   lName = name + \"_mip\"\n",
    "   viewer.layers[lName].scale = [1.5/8,1.5/8];\n",
    "   viewer.layers[lName].translate = [0,+(512-1024*1.5/(8*2))]\n",
    "\n",
    "# Load whole-eye MIP to establish landmarks\n",
    "print('Loading eye mip...')\n",
    "if str.endswith(filePath,'002'):\n",
    "    mipPath = filePath[:-1] + '1_mip';\n",
    "elif str.endswith(filePath,'004'):\n",
    "    mipPath = filePath[:-1] + '3_mip';\n",
    "elif str.endswith(filePath,'b'):\n",
    "    mipPath = filePath[:-1] + 'a_mip';\n",
    "elif str.endswith(filePath,'d'):\n",
    "    mipPath = filePath[:-1] + 'c_mip';\n",
    "viewer.open((dirData+mipPath + '.nd2'), plugin='napari-nikon-nd2', blending='additive')\n",
    "\n",
    "# viewer.layers.remove(viewer.layers[len(viewer.layers)-1]) # remove transmitted detector image\n",
    "viewer.layers.select_next();\n",
    "eyeChannels = 0\n",
    "if len(viewer.layers)==2+nMIP+nChannels: # no DAPI, GFP and RFP\n",
    "   eyeChannels = 2\n",
    "   viewer.layers[nMIP+nChannels].colormap = 'green'\n",
    "   viewer.layers[nMIP+nChannels].name = 'eyeGreen'\n",
    "   viewer.layers[nMIP+nChannels+1].colormap = 'magenta'\n",
    "   viewer.layers[nMIP+nChannels+1].name = 'eyeRed'\n",
    "elif len(viewer.layers)==3+nMIP+nChannels: # leave DIC\n",
    "   eyeChannels = 3\n",
    "   viewer.layers[nMIP+nChannels+0].colormap = 'green'\n",
    "   viewer.layers[nMIP+nChannels+0].name = 'eyeGreen'\n",
    "   viewer.layers[nMIP+nChannels+1].colormap = 'magenta'\n",
    "   viewer.layers[nMIP+nChannels+1].name = 'eyeRed'\n",
    "   viewer.layers[nMIP+nChannels+2].colormap = 'gray'\n",
    "   viewer.layers[nMIP+nChannels+2].name = 'eyeBlue'\n",
    "   viewer.layers[nMIP+nChannels+2].opacity = 0.33\n",
    "elif len(viewer.layers)==4+nMIP+nChannels: #DIC + DAPI\n",
    "   eyeChannels = 4\n",
    "   viewer.layers[nMIP+nChannels+0].colormap = 'bop blue'\n",
    "   viewer.layers[nMIP+nChannels+0].name = 'eyeBlue'\n",
    "   viewer.layers[nMIP+nChannels+1].colormap = 'green'\n",
    "   viewer.layers[nMIP+nChannels+1].name = 'eyeGreen'\n",
    "   viewer.layers[nMIP+nChannels+2].colormap = 'magenta'\n",
    "   viewer.layers[nMIP+nChannels+2].name = 'eyeRed'\n",
    "   viewer.layers[nMIP+nChannels+3].colormap = 'gray'\n",
    "   viewer.layers[nMIP+nChannels+3].name = 'eyeDIC'\n",
    "   viewer.layers[nMIP+nChannels+3].opacity = 0.33\n",
    "print(eyeChannels)\n",
    "print('Loaded: ' + filePath)\n",
    "eyeMarks = viewer.add_points(size=20, name = 'eyeMarks', symbol='cross', face_color='#ffffff80')\n",
    "viewer.layers.select_next();\n",
    "\n",
    "# Save eye landmarks\n",
    "eyeMarksButton = ipywidgets.Button(description='Save eyeMarks', layout=ipywidgets.Layout(width='200px', height='100px'))\n",
    "out = ipywidgets.Output()\n",
    "def eyeMClick(_):\n",
    "   with out:\n",
    "      l = viewer.layers['eyeMarks']; l.save(dirOut + l.name + '.csv');\n",
    "      print('eyeMarks layers saved for ' + filePath)\n",
    "   # clear viewer\n",
    "   viewer.layers.select_all()\n",
    "   viewer.layers.remove_selected()\n",
    "   eyeMarksButton.disabled = True # to prevent double clicking warnings. All sales are final!\n",
    "\n",
    "eyeMarksButton.on_click(eyeMClick)\n",
    "\n",
    "print('Make 6 landmark points then click button to save')\n",
    "\n",
    "ipywidgets.VBox([eyeMarksButton,out])"
   ]
  },
  {
   "cell_type": "markdown",
   "metadata": {},
   "source": [
    "### [Go back and run next one &uarr;](#zExtract)"
   ]
  },
  {
   "cell_type": "markdown",
   "metadata": {},
   "source": [
    "***\n",
    "## Segmentation using cellpose<a id='cellSeg'>∮</a>\n",
    "> Define list of files to segment &rarr; Define cellpose parameters &rarr; Run cellpose in each image\n",
    "***\n",
    "[Back to Index](#Index)"
   ]
  },
  {
   "cell_type": "markdown",
   "metadata": {},
   "source": [
    "### Running cellpose as batch analysis\n",
    "Usually for:\n",
    "- Rods: diameter = 20; flow_threshold = 0.5 and mask_threshold = 0.0\n",
    "- Cones: diameter = 40; flow_threshold = 0.5 and mask_threshold = 0.0\n",
    "- Horizontal cells: diameter = 100; flow_threshold = 0.6 and mask_threshold = 0.0\n",
    "\n",
    "> Using a higher _flow_threshold_ (i.e. 0.6 instead of 0.4) will provide more ROIs"
   ]
  },
  {
   "cell_type": "code",
   "execution_count": null,
   "metadata": {
    "tags": []
   },
   "outputs": [],
   "source": [
    "# get file list again\n",
    "gene = 'lhx1a'\n",
    "print(*getFileList(dirData,gene,fileNameMatch,addDetails='list'), sep = \"\\n\") #display the file list for copy and paste below"
   ]
  },
  {
   "cell_type": "code",
   "execution_count": null,
   "metadata": {},
   "outputs": [],
   "source": [
    "# clear viewer\n",
    "viewer.layers.select_all(); viewer.layers.remove_selected()\n",
    "\n",
    "# collect file paths for wild-type\n",
    "gene = 'wt'\n",
    "filePaths_wt = [\n",
    "\n",
    "         ]\n",
    "# collect file paths for mutants\n",
    "gene = 'lhx1a'\n",
    "filePaths_F0 = [\n",
    "   # '20230209_5dpf_m2G_s2C_lhx1aF0_L01_002',\n",
    "   # '20230209_5dpf_m2G_s2C_lhx1aF0_L01_004',\n",
    "   # '20230209_5dpf_m2G_s2C_lhx1aF0_L02_002',\n",
    "   # '20230209_5dpf_m2G_s2C_lhx1aF0_L02_004',\n",
    "   # '20230209_5dpf_m2G_s2C_lhx1aF0_L03_002',\n",
    "   # '20230209_5dpf_m2G_s2C_lhx1aF0_L04_002',\n",
    "   # '20230209_5dpf_m2G_s2C_lhx1aF0_L04_004',\n",
    "   # '20230209_5dpf_m2G_s2C_lhx1aF0_L05_002',\n",
    "   # '20230209_5dpf_m2G_s2C_lhx1aF0_L05_004',\n",
    "   # '20230209_5dpf_m2G_s2C_lhx1aF0_L06_002',\n",
    "   # '20230209_5dpf_m2G_s2C_lhx1aF0_L06_004',\n",
    "   # '20230209_5dpf_m2G_s2C_lhx1aF0_L07_002',\n",
    "   # '20230209_5dpf_m2G_s2C_lhx1aF0_L07_004',\n",
    "   # '20230209_5dpf_m2G_s2C_lhx1aF0_L08_002',\n",
    "   # '20230209_5dpf_m2G_s2C_lhx1aF0_L08_004',\n",
    "   # '20230209_5dpf_m2G_s2C_lhx1aF0_L09_002',\n",
    "   # '20230209_5dpf_m2G_s2C_lhx1aF0_L09_004',\n",
    "   # '20230209_5dpf_m2G_s2C_lhx1aF0_L10_002',\n",
    "   # '20230209_5dpf_m2G_s2C_lhx1aF0_L10_004',\n",
    "   # '20230209_5dpf_m2G_s2C_lhx1aF0_L11_002',\n",
    "   # '20230209_5dpf_m2G_s2C_lhx1aF0_L11_004',\n",
    "   # '20230209_5dpf_m2G_s2C_lhx1aF0_L12_002',\n",
    "   # '20230209_5dpf_m2G_s2C_lhx1aF0_L12_004',\n",
    "   # '20230209_5dpf_m2G_s2C_lhx1aF0_L13_002',\n",
    "   '20230209_5dpf_m2G_s2C_lhx1aF0_L13_004',\n",
    "         ]\n",
    "\n",
    "\n",
    "# define cellpose parameters\n",
    "cpParams = {\n",
    "    'model' : 'cyto2', # default is 'cyto' or 'cyto2'\n",
    "    'net_avg' : True,\n",
    "    'channels' : [0,0], #single channel without nucleus info\n",
    "    'diameterR' : 25,\n",
    "    'diameterC' : 40,\n",
    "    'diameterH' : 100,\n",
    "    'flow_threshold' : 0.5,\n",
    "    'cellprob_threshold' : 0.0\n",
    "}\n",
    "\n",
    "\n",
    "# define model to use (e.g. 'cyto2')\n",
    "model = models.Cellpose(gpu=False, model_type=cpParams['model'])"
   ]
  },
  {
   "cell_type": "markdown",
   "metadata": {},
   "source": [
    "#### Run in loop to track progress and automatically save results\n",
    "> In Jan 2022: ~4 minutes per 1024 x 1024 image (4 nets). "
   ]
  },
  {
   "cell_type": "code",
   "execution_count": null,
   "metadata": {},
   "outputs": [],
   "source": [
    "print('Starting analysis for wt:')\n",
    "with tqdm(total=len(filePaths_wt)*len(layerNames), file=sys.stdout) as progBar:\n",
    "   for fp in filePaths_wt:\n",
    "      print('\\t' + fp)\n",
    "      for l in layerNames:\n",
    "         print('\\t\\t ' + layerNames[l])\n",
    "         startTime = time.time()\n",
    "         imgPath = dirAnalysis + gene + '/' + fp + '/' + layerNames[l] + '_mip.tiff'\n",
    "         img = cellpose.io.imread(imgPath)\n",
    "         #     imgplot = plt.imshow(img)\n",
    "         masks, flows, styles, diams = model.eval(img, \n",
    "                                                diameter=cpParams['diameterC'], channels=cpParams['channels'],\n",
    "                                                do_3D=False, net_avg = cpParams['net_avg'], interp = True,\n",
    "                                                flow_threshold = cpParams['flow_threshold'], cellprob_threshold = cpParams['cellprob_threshold'])\n",
    "         cellpose.io.masks_flows_to_seg(img, masks, flows, diams, imgPath, cpParams['channels']) # save results\n",
    "         endTime = time.time()\n",
    "         print ('\\t Time elapsed: {elapsedTime} s\\n'.format(elapsedTime = int(endTime - startTime)))\n",
    "         progBar.update(1)\n",
    "\n",
    "print('Finished cellpose batch analysis for wt\\n\\n')\n",
    "\n",
    "print('Starting analysis for '+ gene + ':')\n",
    "with tqdm(total=len(filePaths_F0)*len(layerNames), file=sys.stdout) as progBar:\n",
    "   for fp in filePaths_F0:\n",
    "      print('\\t' + fp)\n",
    "      for l in layerNames:\n",
    "         print('\\t\\t ' + l)\n",
    "         startTime = time.time()\n",
    "         imgPath = dirAnalysis + gene + '/' + fp + '/' + l + '_mip.tiff'\n",
    "         img = cellpose.io.imread(imgPath)\n",
    "         #     imgplot = plt.imshow(img)\n",
    "         masks, flows, styles, diams = model.eval(img, \n",
    "                                                diameter=cpParams['diameterC'], channels=cpParams['channels'],\n",
    "                                                do_3D=False, net_avg = cpParams['net_avg'], interp = True,\n",
    "                                                flow_threshold = cpParams['flow_threshold'], cellprob_threshold = cpParams['cellprob_threshold'])\n",
    "         cellpose.io.masks_flows_to_seg(img, masks, flows, diams, imgPath, cpParams['channels']) # save results\n",
    "         endTime = time.time()\n",
    "         print ('\\t\\t\\t Time elapsed: {elapsedTime} s'.format(elapsedTime = int(endTime - startTime)))\n",
    "         progBar.update(1)\n",
    "\n",
    "print('Finished cellpose batch analysis for '+ gene)"
   ]
  },
  {
   "cell_type": "markdown",
   "metadata": {},
   "source": [
    "***\n",
    "## Manual correction of cellpose segmentation<a id='manualCuration'>∮</a>\n",
    "> Copy file list from \"Extract Layers\" &rarr; Open a single file and manually fix (\"_curate_\") cellpose segmentation\n",
    "\n",
    "WARNINGS:\n",
    "- In tg[_mws2_:GFP], a subset of S cones are GFP+. If available, use tg[_sws2_:mCherry] to delete those labels from the M-cone segmentation\n",
    "***\n",
    "[Back to Index](#Index)"
   ]
  },
  {
   "cell_type": "code",
   "execution_count": 6,
   "metadata": {},
   "outputs": [
    {
     "name": "stdout",
     "output_type": "stream",
     "text": [
      "Viewer cleared...\n",
      "Loaded  20230209_5dpf_m2G_s2C_lhx1aF0_L13_004 !\n",
      " Now fix it and save it!\n",
      "removeLabel on $0_seg (\"Shift-X\")\n",
      "toggle $0_seg preserve_labels (\"k\")\n",
      "toggle $0_mip visibility (\"B\")\n",
      "toggle $0_mip visibility (\"N\")\n",
      "Add new label in $0_seg visibility (\"+\"|\"M\")\n"
     ]
    },
    {
     "name": "stderr",
     "output_type": "stream",
     "text": [
      "WARNING: Back buffer dpr of 2 doesn't match <_NSViewBackingLayer: 0x6000016831b0> contents scale of 1 - updating layer to match.\n",
      "WARNING: Back buffer dpr of 1 doesn't match <_NSViewBackingLayer: 0x6000016831b0> contents scale of 2 - updating layer to match.\n"
     ]
    }
   ],
   "source": [
    "# Redefine layer names if necessary\n",
    "# layerNames = ['M','S']\n",
    "layerNames = ['M','S','N']\n",
    "\n",
    "# clear viewer\n",
    "viewer.layers.select_all(); viewer.layers.remove_selected()\n",
    "\n",
    "#mutant files\n",
    "filePath = '20230209_5dpf_m2G_s2C_lhx1aF0_L13_004'; gene = 'lhx1a';\n",
    "\n",
    "# define subdirectory for analysis\n",
    "dirOut = dirAnalysis + gene + '/' + filePath + '/'\n",
    "print('Viewer cleared...')\n",
    "\n",
    "# clear key binds\n",
    "@viewer.bind_key('k', overwrite=True)\n",
    "def toggle_sel(viewer):\n",
    "    ...\n",
    "@viewer.bind_key('b', overwrite=True)\n",
    "def toggle_sel(viewer):\n",
    "    ...\n",
    "@viewer.bind_key('Shift-x', overwrite=True)\n",
    "def removeLabel(viewer):\n",
    "    ...\n",
    "\n",
    "# load mips\n",
    "mipO = 0.65\n",
    "viewer.open(dirOut + layerNames[0] + \"_mip.tiff\", plugin='napari', colormap = 'green', blending='additive', opacity=mipO);\n",
    "viewer.open(dirOut + layerNames[1] + \"_mip.tiff\", plugin='napari', colormap = 'magenta', blending='additive', opacity=mipO);\n",
    "viewer.open(dirOut + layerNames[2] + \"_mip.tiff\", plugin='napari', colormap = 'gray', blending='additive', opacity=mipO);\n",
    "\n",
    "# load segmentation\n",
    "segData = np.load(dirOut + layerNames[0] + \"_mip\" + \"_seg.npy\", allow_pickle=True).item()\n",
    "viewer.add_labels(segData['masks'], name= layerNames[0] + '_seg',blending='additive');\n",
    "viewer.layers[layerNames[0] + '_seg'].preserve_labels = True;\n",
    "\n",
    "segData = np.load(dirOut + layerNames[1] + \"_mip\" + \"_seg.npy\", allow_pickle=True).item()\n",
    "viewer.add_labels(segData['masks'], name= layerNames[1] + '_seg',blending='additive');\n",
    "viewer.layers[layerNames[1] + '_seg'].preserve_labels = True;\n",
    "\n",
    "viewer.layers[layerNames[0] + '_mip'].visible = False\n",
    "viewer.layers[layerNames[2] + '_mip'].visible = False\n",
    "viewer.layers[layerNames[0] + '_seg'].visible = False\n",
    "\n",
    "print('Loaded  ' + filePath + ' !\\n Now fix it and save it!')\n",
    "\n",
    "#define useful keyboard shortcuts\n",
    "\n",
    "@viewer.bind_key('Shift-x', overwrite=True)\n",
    "def removeLabel(viewer):\n",
    "   lname = layerNames[1] + '_seg'\n",
    "   tempd = viewer.layers[lname].data\n",
    "   tempd[tempd == viewer.layers[lname].selected_label]=0\n",
    "   viewer.layers[lname].data = tempd\n",
    "   print('Cut!')\n",
    "print('removeLabel on $0_seg (\"Shift-X\")'.format(layerNames[1]))\n",
    "\n",
    "@viewer.bind_key('k', overwrite=True)\n",
    "def toggle_sel(viewer):\n",
    "   lname = layerNames[0] + '_seg'\n",
    "   if (viewer.layers[lname].preserve_labels == True):\n",
    "      viewer.layers[lname].preserve_labels = False\n",
    "   elif (viewer.layers[lname].preserve_labels == False):\n",
    "      viewer.layers[lname].preserve_labels = True\n",
    "print('toggle $0_seg preserve_labels (\"k\")'.format(layerNames[1]))\n",
    "        \n",
    "@viewer.bind_key('b', overwrite=True)\n",
    "def toggle_sel(viewer):\n",
    "   lname = layerNames[1] + '_mip'\n",
    "   if (viewer.layers[lname].visible == True):\n",
    "      viewer.layers[lname].visible = False\n",
    "   elif (viewer.layers[lname].visible == False):\n",
    "      viewer.layers[lname].visible = True\n",
    "print('toggle $0_mip visibility (\"B\")'.format(layerNames[0]))\n",
    "\n",
    "@viewer.bind_key('n', overwrite=True)\n",
    "def toggle_sel(viewer):\n",
    "   lname = layerNames[0] + '_mip'\n",
    "   if (viewer.layers[lname].visible == True):\n",
    "      viewer.layers[lname].visible = False\n",
    "   elif (viewer.layers[lname].visible == False):\n",
    "      viewer.layers[lname].visible = True\n",
    "print('toggle $0_mip visibility (\"N\")'.format(layerNames[2]))\n",
    "\n",
    "@viewer.bind_key('+', overwrite=True)\n",
    "def new_label(viewer):\n",
    "   \"\"\"Set the currently selected label to the largest used label plus one.\"\"\"\n",
    "   lname = layerNames[1] + '_seg'\n",
    "   viewer.layers[lname].selected_label = viewer.layers[lname].data.max() + 1\n",
    "print('Add new label in $0_seg visibility (\"+\"|\"M\")'.format(layerNames[1]))"
   ]
  },
  {
   "cell_type": "markdown",
   "metadata": {},
   "source": [
    "#### resave first curated segmentation after napari-ing around"
   ]
  },
  {
   "cell_type": "code",
   "execution_count": null,
   "metadata": {},
   "outputs": [],
   "source": [
    "baseName = 'R'\n",
    "lname = baseName + '_seg'\n",
    "l = viewer.layers[baseName + '_seg']; l.save(dOut + l.name + '_curated.tiff')\n",
    "print('Done with ' + lname + ' for ' + fPath)\n",
    "\n",
    "viewer.layers['U_mip'].visible = True\n",
    "viewer.layers['U_seg'].visible = True\n",
    "viewer.layers['U_seg'].contour = 0\n",
    "viewer.layers['R_mip'].visible = False\n",
    "viewer.layers['R_seg'].visible = False\n",
    "\n",
    "@viewer.bind_key('Shift-x', overwrite=True)\n",
    "def removeLabel(viewer):\n",
    "    lname = 'U_seg'\n",
    "    tempd = viewer.layers[lname].data\n",
    "    tempd[tempd == viewer.layers[lname].selected_label]=0\n",
    "    viewer.layers[lname].data = tempd\n",
    "    print('Cut!')\n",
    "\n",
    "print('removeLabel on U_seg (\"Shift-X\")')\n",
    "\n",
    "@viewer.bind_key('k', overwrite=True)\n",
    "def toggle_sel(viewer):\n",
    "    lname = 'U_seg'\n",
    "    if (viewer.layers[lname].preserve_labels == True):\n",
    "        viewer.layers[lname].preserve_labels = False\n",
    "    elif (viewer.layers[lname].preserve_labels == False):\n",
    "        viewer.layers[lname].preserve_labels = True\n",
    "print('toggle U_seg preserve_labels (\"k\")')\n",
    "\n",
    "@viewer.bind_key('b', overwrite=True)\n",
    "def toggle_sel(viewer):\n",
    "    lname = 'R_mip'\n",
    "    if (viewer.layers[lname].visible == True):\n",
    "        viewer.layers[lname].visible = False\n",
    "    elif (viewer.layers[lname].visible == False):\n",
    "        viewer.layers[lname].visible = True\n",
    "print('toggle R_mip visibility (\"B\")')\n",
    "\n",
    "        \n",
    "@viewer.bind_key('n', overwrite=True)\n",
    "def toggle_sel(viewer):\n",
    "    lname = 'U_mip'\n",
    "    if (viewer.layers[lname].visible == True):\n",
    "        viewer.layers[lname].visible = False\n",
    "    elif (viewer.layers[lname].visible == False):\n",
    "        viewer.layers[lname].visible = True\n",
    "print('toggle U_mip visibility (\"N\")')"
   ]
  },
  {
   "cell_type": "markdown",
   "metadata": {},
   "source": [
    "#### resave second curated segmentation after napari-ing around"
   ]
  },
  {
   "cell_type": "code",
   "execution_count": null,
   "metadata": {},
   "outputs": [],
   "source": [
    "baseName = 'U'\n",
    "lname = baseName + '_seg'\n",
    "l = viewer.layers[baseName + '_seg']; l.save(dOut + l.name + '_curated.tiff')\n",
    "print('Done with ' + lname + ' for ' + fPath)\n",
    "\n",
    "# # If NUCS mip revealed UV cones\n",
    "baseName = 'U'\n",
    "lname = baseName + '_missing'\n",
    "l = viewer.layers['Points']; l.save(dOut + baseName + '_missing');\n",
    "print(\"Image has {0} UV-cone nuclei\".format(len(viewer.layers['Points'].data)))"
   ]
  },
  {
   "cell_type": "markdown",
   "metadata": {},
   "source": [
    "### Reload curated segmentations after saving for final review"
   ]
  },
  {
   "cell_type": "code",
   "execution_count": null,
   "metadata": {},
   "outputs": [],
   "source": [
    "# remove all except mips\n",
    "# viewer.layers.remove(viewer.layers['Points'])\n",
    "n_mips = 3;\n",
    "if len(viewer.layers)>n_mips:\n",
    "    for l in viewer.layers[n_mips:]:\n",
    "        viewer.layers.remove(l)\n",
    "\n",
    "viewer.open(dOut + 'U' + \"_seg_curated.tiff\", name='U_seg', plugin='builtins',blending='additive');\n",
    "# viewer.layers['U_seg'].contour = 5\n",
    "viewer.layers['U_mip'].visible = True\n",
    "viewer.open(dOut + 'R' + \"_seg_curated.tiff\", name='R_seg', plugin='builtins',blending='additive');\n",
    "\n",
    "print(fPath)\n",
    "nR = len(np.unique(viewer.layers['R_seg'].data))-1\n",
    "print(\"Image has {0} Rods\".format(nR))\n",
    "nU = len(np.unique(viewer.layers['U_seg'].data))-1\n",
    "print(\"Image has {0} UV cones\".format(nU))"
   ]
  },
  {
   "cell_type": "markdown",
   "metadata": {},
   "source": [
    "### [Go back and run next one &uarr;](#manualCuration)"
   ]
  },
  {
   "cell_type": "markdown",
   "metadata": {},
   "source": [
    "***\n",
    "## Quantification<a id='quantification'></a>\n",
    "***\n",
    "[Back to Index](#Index)"
   ]
  },
  {
   "cell_type": "markdown",
   "metadata": {
    "tags": []
   },
   "source": [
    "### Read csv created during analysis and create bar plot"
   ]
  },
  {
   "cell_type": "code",
   "execution_count": null,
   "metadata": {},
   "outputs": [],
   "source": [
    "#gene Colors\n",
    "zfC = {\n",
    "    'R'  : '#7d7d7d',\n",
    "    'U' : '#B73AB9',\n",
    "    'S' : '#4364F6',\n",
    "    'M' : '#59CB3B',\n",
    "    'L' : '#CE2A22',\n",
    "}\n",
    "\n",
    "zfG = {\n",
    "    'wt' : '#000000',\n",
    "    'tbx2a' : '#ab266b',\n",
    "    'tbx2b' : '#421f8e',\n",
    "    'foxq2' : '#001dd6',\n",
    "    'nr2e3' : '#7d7d7d',\n",
    "}\n",
    "\n",
    "zfGm = {\n",
    "    'wt' : 'o',\n",
    "    'tbx2a' : 'P',\n",
    "    'tbx2b' : 'X',\n",
    "    'nr2e3' : '+',\n",
    "    \n",
    "}\n",
    "\n",
    "prLabel = {\n",
    "    'R'  : 'Rods',\n",
    "    'U' : 'UV',\n",
    "    'S' : 'S',\n",
    "    'M' : 'M',\n",
    "    'L' : 'L',\n",
    "}\n",
    "\n",
    "\n",
    "def formatFigureMain(figH, axH, plotH):\n",
    "#     font_path = 'C:/Users/pataklk/Documents/Frag_Analysis_Code/Avenir.ttc'\n",
    "    font_path = '/System/Library/Fonts/Avenir.ttc'\n",
    "    fontTicks = font_manager.FontProperties(fname=font_path, size=30) # was 18\n",
    "    fontLabels = font_manager.FontProperties(fname=font_path, size=36) # was 22\n",
    "    fontTitle = font_manager.FontProperties(fname=font_path, size=30) # was 28 \n",
    "    axH.set_xscale('linear')\n",
    "    axH.spines['top'].set_visible(False)\n",
    "    axH.spines['right'].set_visible(False)\n",
    "    \n",
    "    for label in (axH.get_xticklabels() + axH.get_yticklabels()):\n",
    "        label.set_fontproperties(fontTicks)\n",
    "    axH.set_xlabel(axH.get_xlabel(), fontproperties = fontTicks)\n",
    "    axH.set_ylabel(axH.get_ylabel(), fontproperties = fontTicks)\n",
    "    return fontLabels\n",
    "\n",
    "def formatFigure(figH, axH, plotH):\n",
    "    fontLabels = formatFigureMain(figH, axH, plotH)\n",
    "#     axH.set_xlabel('wt vs. cr', fontproperties=fontLabels)\n",
    "    axH.set_ylabel('cells per 64 x 64 $\\mu$m$^2$', fontproperties=fontLabels)\n",
    "    axH.xaxis.set_tick_params(rotation=45)\n",
    "\n",
    "def formatFigureRvU(figH, axH, plotH):\n",
    "    fontLabels = formatFigureMain(figH, axH, plotH)\n",
    "    axH.set_xlabel('Rods per 64 x 64 $\\mu$m$^2$', fontproperties=fontLabels)\n",
    "    axH.set_ylabel('UV cones per 64 x 64 $\\mu$m$^2$', fontproperties=fontLabels)\n",
    "    axH.xaxis.set_tick_params(rotation=45)\n",
    "    \n",
    "def formatFigureMvS(figH, axH, plotH):\n",
    "    fontLabels = formatFigureMain(figH, axH, plotH)\n",
    "    axH.set_xlabel('M cones per 64 x 64 $\\mu$m$^2$', fontproperties=fontLabels)\n",
    "    axH.set_ylabel('S cones per 64 x 64 $\\mu$m$^2$', fontproperties=fontLabels)\n",
    "    axH.xaxis.set_tick_params(rotation=45)\n",
    "\n",
    "    \n",
    "def lighten_color(color, amount=0.5):\n",
    "    \"\"\"\n",
    "    Lightens the given color by multiplying (1-luminosity) by the given amount.\n",
    "    Input can be matplotlib color string, hex string, or RGB tuple.\n",
    "\n",
    "    Examples:\n",
    "    >> lighten_color('g', 0.3)\n",
    "    >> lighten_color('#F034A3', 0.6)\n",
    "    >> lighten_color((.3,.55,.1), 0.5)\n",
    "    \"\"\"\n",
    "    import colorsys\n",
    "    try:\n",
    "        c = matplotlib.colors.cnames[color]\n",
    "    except:\n",
    "        c = color\n",
    "    c = colorsys.rgb_to_hls(*matplotlib.colors.to_rgb(c))\n",
    "    return matplotlib.colors.rgb2hex(colorsys.hls_to_rgb(c[0], 1 - amount * (1 - c[1]), c[2]))\n",
    "\n",
    "def estimateJitter(dataArray):\n",
    "    \"\"\" creates random jitter scaled by local density of points\"\"\"\n",
    "    from scipy.stats import gaussian_kde\n",
    "    kde = gaussian_kde(dataArray)\n",
    "    density = kde(dataArray)\n",
    "    jitter = np.random.randn(len(dataArray))*density\n",
    "    return jitter\n",
    "pBGMenu"
   ]
  },
  {
   "cell_type": "code",
   "execution_count": null,
   "metadata": {},
   "outputs": [],
   "source": [
    "#reapply plotting style\n",
    "applyPlotStyle(pBGMenu.value)"
   ]
  },
  {
   "cell_type": "code",
   "execution_count": null,
   "metadata": {},
   "outputs": [],
   "source": [
    "# Created csv manually during analysis\n",
    "dPath = \"/Users/angueyraaristjm/Documents/eelImaging/tempAnalysis/CRnr2e3F0s/xOGaCT/\"\n",
    "fName = \"CRnr2e3F0s_xOGaCT_Counts.csv\"\n",
    "\n",
    "dPath = \"/Users/angueyraaristjm/Library/CloudStorage/OneDrive-NationalInstitutesofHealth/zf/Analysis/CRnr2e3F0s/\"\n",
    "# dPath = \"/Users/angueyraaristjm/Documents/eelImaging/tempAnalysis/CRnr2e3F0s/m2Gs2C/\"\n",
    "fName = \"CRnr2e3F0s_combinedCounts.csv\"\n",
    "\n",
    "df = pd.read_csv(dPath + fName)\n",
    "df"
   ]
  },
  {
   "cell_type": "code",
   "execution_count": null,
   "metadata": {},
   "outputs": [],
   "source": [
    "geneList = ['wt','nr2e3']\n",
    "nGenes = np.size(geneList)\n",
    "photoreceptors = ['R','U','S','M','L']\n",
    "# photoreceptors = ['S','M']\n",
    "\n",
    "plotname = ''\n",
    "fH, axH = plt.subplots(figsize= [12,8])\n",
    "\n",
    "barW = nGenes+2; # bar width\n",
    "barD = nGenes+1; # bar distance whitin 1 photoreceptor subtype\n",
    "barP = -nGenes+1; # position in x-axis\n",
    "barStep = 0.9; # distance between photoreceptor groups\n",
    "barPos = []; #array to save bar positions\n",
    "\n",
    "\n",
    "j=barP;\n",
    "for gene in geneList:\n",
    "    i=0;\n",
    "    j=j+1;\n",
    "    for pr in photoreceptors:\n",
    "        i = i+barStep;\n",
    "        countData = df[(df['genotype']==gene) & (df['excludeFlag']==False)][pr]\n",
    "        jitter = np.random.randn(len(countData))*0.03\n",
    "#         textindent = 1/(2.5*barD);\n",
    "        textindent = 0.10;\n",
    "        pH = plt.bar([i+j/barD], np.mean(countData), width=1/barW, color=lighten_color(zfC[pr],1), linewidth = 2, edgecolor = lighten_color(zfC[pr],1)); #color=zfC[pr], \n",
    "#         pH = plt.bar([i+j/barD], np.mean(countData), yerr = sem(df[(df['CRgene']==gene) & (df['Genotype']==geno)][pr][~np.isnan(df[(df['CRgene']==gene) & (df['Genotype']==geno)][pr])], ddof = 0), align='center', ecolor='black', capsize=10, width=1/barW, color=zfC[pr], edgecolor = zfC[pr]);\n",
    "#         pH = plt.bar([i+j/barD], np.mean(countData), yerr = np.std(df[(df['CRgene']==gene) & (df['Genotype']==geno)][pr][~np.isnan(df[(df['CRgene']==gene) & (df['Genotype']==geno)][pr])], ddof = 0), align='center', ecolor='black', capsize=10, width=1/barW, color=zfC[pr], edgecolor = zfC[pr]);\n",
    "       # pH = plt.bar([i+j/barD], np.mean(df[(df['CRgene']==gene) & (df['Genotype']==geno)][pr]), yerr = np.std(df[(df['CRgene']==gene) & (df['Genotype']==geno)][pr]), ecolor=lighten_color(zfC[pr],1.2), capsize=10, width=1/barW, color=zfC[pr], edgecolor = zfC[pr]);\n",
    "        #pH = plt.errorbar([i+j/barD], np.mean(df[(df['CRgene']==gene) & (df['Genotype']==geno)][pr]), yerr = np.std(df[(df['CRgene']==gene) & (df['Genotype']==geno)][pr]), ecolor=lighten_color(zfC[pr],1.1), elinewidth=2, capsize=5, capthick=2, barsabove= True)\n",
    "#         pH = plt.scatter(np.ones(len(countData))*[i+j/barD]+jitter, countData, color=lighten_color(zfC[pr],2/3), zorder=2, marker = zfGm[gene], edgecolor='#ffffff', linewidth=0.5, alpha = 0.4);\n",
    "        pH = plt.errorbar(i+j/barD, np.mean(countData), yerr = [[0],[np.std(countData)]], ecolor=lighten_color(zfC[pr],1), elinewidth=3, capsize=8, capthick=3, zorder=9)\n",
    "        # plt.text((i+j/barD)-textindent, 3, prLabel[pr], font_properties=font_prop, fontsize=20, ha='left', alpha=0.6)\n",
    "        pH = plt.scatter(np.ones(len(countData))*[i+j/barD]+jitter, countData, color='#ffffff', zorder=8, marker = 'o', s=50, edgecolor='#ffffff', linewidth=0.5, alpha = .6);\n",
    "        barPos = np.append(barPos,(i+j/barD))\n",
    "\n",
    "formatFigure(fH, axH, pH)\n",
    "axH.set_xticks(np.sort(barPos));\n",
    "\n",
    "axH.set_xticklabels(geneList * len(photoreceptors));\n",
    "# axH.set_ylim([0,500]); # this was 400\n",
    "\n",
    "# savePath = 'C:/Users/pataklk/OneDrive - National Institutes of Health/zf/F0_Analysis/CRfoxq2F0/'\n",
    "# savePath = \"/Users/angueyraaristjm/OneDrive - National Institutes of Health/zf/F0_Analysis/CRfoxq2F0/\"\n",
    "# savePath = \"/Users/angueyraaristjm/Documents/LiLab/Presentations/revealjs/resources/20211008_UCLA/\"\n",
    "# plt.savefig(savePath + \"Counts_foxq2.png\", transparent=True, format=\"png\", bbox_inches = \"tight\")\n",
    "# plt.savefig(savePath + \"Counts_foxq2_B.svg\", transparent=True, format=\"svg\", bbox_inches = \"tight\")"
   ]
  },
  {
   "cell_type": "markdown",
   "metadata": {},
   "source": [
    "### Stats"
   ]
  },
  {
   "cell_type": "markdown",
   "metadata": {},
   "source": [
    "### Read csv created during analysis and create bar plot"
   ]
  },
  {
   "cell_type": "code",
   "execution_count": null,
   "metadata": {},
   "outputs": [],
   "source": [
    "geneList = ['wt','nr2e3']\n",
    "photoreceptors = ['R','U','S','M','L']\n",
    "\n",
    "print('{0} vs. {1}:'.format(geneList[0],geneList[1]))\n",
    "\n",
    "for pr in photoreceptors:\n",
    "    # get counts for each photoreceptor subtype and exclude NaNs\n",
    "    wtCount = df[(df['genotype']==(geneList[0]))&(df['excludeFlag']==False)][pr]\n",
    "    wtCount = wtCount[~np.isnan(wtCount)]\n",
    "    \n",
    "    crCount = df[(df['genotype']==(geneList[1]))&(df['excludeFlag']==False)][pr]\n",
    "    crCount = crCount[~np.isnan(crCount)]\n",
    "    \n",
    "    u, p = mannwhitneyu(wtCount, crCount)\n",
    "    print('\\t{0}:'.format(pr))\n",
    "    print('\\t\\tU = {0:.3f}, p = {1:.5f}, nEyes: wt = {2:.0f}; cr = {3:.0f}'.format(u,p,len(wtCount),len(crCount)))\n"
   ]
  },
  {
   "cell_type": "code",
   "execution_count": null,
   "metadata": {},
   "outputs": [],
   "source": []
  },
  {
   "cell_type": "code",
   "execution_count": null,
   "metadata": {},
   "outputs": [],
   "source": []
  },
  {
   "cell_type": "code",
   "execution_count": null,
   "metadata": {},
   "outputs": [],
   "source": []
  },
  {
   "cell_type": "code",
   "execution_count": null,
   "metadata": {},
   "outputs": [],
   "source": []
  },
  {
   "cell_type": "code",
   "execution_count": null,
   "metadata": {},
   "outputs": [],
   "source": []
  },
  {
   "cell_type": "code",
   "execution_count": null,
   "metadata": {},
   "outputs": [],
   "source": []
  },
  {
   "cell_type": "code",
   "execution_count": null,
   "metadata": {},
   "outputs": [],
   "source": []
  },
  {
   "cell_type": "markdown",
   "metadata": {},
   "source": [
    "### Compile counts by looping through all files"
   ]
  },
  {
   "cell_type": "code",
   "execution_count": null,
   "metadata": {},
   "outputs": [],
   "source": [
    "def cellCounter(viewer,dAnalysis,gene,fPath,photoLabel):\n",
    "    import os.path\n",
    "    # clear viewer\n",
    "    for l in viewer.layers:\n",
    "        viewer.layers.remove(l)\n",
    "    viewer.layers.select_all()\n",
    "    viewer.layers.remove_selected()\n",
    "    dOut = dAnalysis + gene + '/' + fPath + '/'\n",
    "    # load segmentation\n",
    "    segPath = dOut + photoLabel + \"_seg_curated.tiff\"\n",
    "    if os.path.isfile(segPath):\n",
    "        viewer.open(segPath, name='Seg', plugin='builtins', blending='additive');\n",
    "        nCells = np.unique(viewer.layers['Seg'].data).shape[0]\n",
    "    else:\n",
    "        nCells = float(\"nan\")\n",
    "    print(fPath + ': nR = ' + str(nCells)) \n",
    "#     np.savez(dOut + 'quantificationGFP.npz',\n",
    "#              lcones=lcones,\n",
    "#              lRFP=lRFP,\n",
    "#              lGFP=lGFP,\n",
    "#              lRFPsd=lRFPsd,\n",
    "#              lGFPsd=lGFPsd,\n",
    "#              lRtile=lRtile,\n",
    "#              lGtile=lGtile)\n",
    "#     results = zip(['lcones','lRFP','lGFP','lRFPsd','lGFPsd','lRtile','lGtile'],\n",
    "#                  [lcones,lRFP,lGFP,lRFPsd,lGFPsd,lRtile,lGtile])\n",
    "    \n",
    "    return nCells"
   ]
  },
  {
   "cell_type": "code",
   "execution_count": null,
   "metadata": {},
   "outputs": [],
   "source": []
  },
  {
   "cell_type": "code",
   "execution_count": null,
   "metadata": {},
   "outputs": [],
   "source": []
  },
  {
   "cell_type": "code",
   "execution_count": null,
   "metadata": {},
   "outputs": [],
   "source": []
  },
  {
   "cell_type": "code",
   "execution_count": null,
   "metadata": {},
   "outputs": [],
   "source": []
  },
  {
   "cell_type": "code",
   "execution_count": 2,
   "metadata": {
    "tags": []
   },
   "outputs": [],
   "source": [
    "import os.path\n",
    "import time, sys, warnings, re\n",
    "from tqdm.notebook import tqdm, trange\n",
    "import importlib\n",
    "import ipywidgets\n",
    "from IPython.display import display\n",
    "# lab brews\n",
    "from plotParams import *\n",
    "from lloyd import *"
   ]
  },
  {
   "cell_type": "code",
   "execution_count": 8,
   "metadata": {
    "tags": []
   },
   "outputs": [],
   "source": [
    "# define where all the imaging data is stor\\d\n",
    "dirData = 'D:/Genotyping/20220128_tbx2F3_nr2e3F0/tbx2a_inx_nr2e3/'\n",
    "# define where all the analysis files should be stored\n",
    "# subdirectories for each gene and transgenic lines need to be manually made first\n",
    "dirAnalysis = \"/Users/juanangueyra/Library/CloudStorage/GoogleDrive-angueyra@umd.edu/Shared drives/vldImaging/Analysis/F0lhx1a/m2Gs2C/\""
   ]
  },
  {
   "cell_type": "code",
   "execution_count": 9,
   "metadata": {
    "tags": []
   },
   "outputs": [
    {
     "name": "stdout",
     "output_type": "stream",
     "text": [
      "tbx2ainx_nr2e3inj_nr2e3_01_H08.fsa\n",
      "tbx2ainx_nr2e3inj_nr2e3_02_G08.fsa\n",
      "tbx2ainx_nr2e3inj_nr2e3_03_F08.fsa\n",
      "tbx2ainx_nr2e3inj_nr2e3_04_E08.fsa\n",
      "tbx2ainx_nr2e3inj_nr2e3_05_D08.fsa\n",
      "tbx2ainx_nr2e3inj_nr2e3_06_C08.fsa\n",
      "tbx2ainx_nr2e3inj_nr2e3_07_B08.fsa\n",
      "tbx2ainx_nr2e3inj_nr2e3_08_A08.fsa\n",
      "tbx2ainx_nr2e3inj_nr2e3_09_H09.fsa\n",
      "tbx2ainx_nr2e3inj_nr2e3_10_G09.fsa\n",
      "tbx2ainx_nr2e3inj_nr2e3_11_F09.fsa\n",
      "tbx2ainx_nr2e3inj_nr2e3_12_E09.fsa\n",
      "tbx2ainx_nr2e3inj_nr2e3_13_D09.fsa\n",
      "tbx2ainx_nr2e3inj_nr2e3_14_C09.fsa\n",
      "tbx2ainx_nr2e3inj_nr2e3_15_B09.fsa\n",
      "tbx2ainx_nr2e3inj_nr2e3_16_A09.fsa\n",
      "tbx2ainx_nr2e3inj_nr2e3_17_H10.fsa\n",
      "tbx2ainx_nr2e3inj_nr2e3_18_G10.fsa\n",
      "tbx2ainx_nr2e3inj_nr2e3_19_F10.fsa\n",
      "tbx2ainx_nr2e3inj_nr2e3_20_E10.fsa\n",
      "tbx2ainx_nr2e3inj_nr2e3_21_D10.fsa\n",
      "tbx2ainx_nr2e3inj_nr2e3_22_C10.fsa\n",
      "tbx2ainx_nr2e3inj_nr2e3_23_B10.fsa\n",
      "tbx2ainx_nr2e3inj_nr2e3_24_A10.fsa\n",
      "tbx2ainx_nr2e3inj_nr2e3_25_D07.fsa\n",
      "tbx2ainx_nr2e3inj_nr2e3_26_C07.fsa\n",
      "tbx2ainx_nr2e3inj_nr2e3_27_B07.fsa\n",
      "tbx2ainx_nr2e3inj_nr2e3_28_A07.fsa\n",
      "tbx2ainx_uninj_nr2e3_01_H06.fsa\n",
      "tbx2ainx_uninj_nr2e3_02_G06.fsa\n",
      "tbx2ainx_uninj_nr2e3_03_F06.fsa\n",
      "tbx2ainx_uninj_nr2e3_04_E06.fsa\n",
      "tbx2ainx_uninj_nr2e3_05_D06.fsa\n",
      "tbx2ainx_uninj_nr2e3_06_C06.fsa\n",
      "tbx2ainx_uninj_nr2e3_07_B06.fsa\n",
      "tbx2ainx_uninj_nr2e3_08_A06.fsa\n",
      "tbx2ainx_uninj_nr2e3_09_H07.fsa\n",
      "tbx2ainx_uninj_nr2e3_10_G07.fsa\n",
      "tbx2ainx_uninj_nr2e3_11_F07.fsa\n",
      "tbx2ainx_uninj_nr2e3_12_E07.fsa\n"
     ]
    }
   ],
   "source": [
    "gene = 'fsa' # usually 'wt' or gene of interest (e.g. 'tbx2a', 'lhx1a')\n",
    "fileNameMatch = [''] # characters in filenames that define zoom-in files\n",
    "\n",
    "# get a list with all the relevant files\n",
    "print(*getFileList(dirData,gene,fileNameMatch,addDetails=''), sep = \"\\n\") #display the file list for copy and paste below"
   ]
  },
  {
   "cell_type": "code",
   "execution_count": 6,
   "metadata": {
    "tags": []
   },
   "outputs": [
    {
     "data": {
      "text/plain": [
       "39"
      ]
     },
     "execution_count": 6,
     "metadata": {},
     "output_type": "execute_result"
    }
   ],
   "source": [
    "96-57"
   ]
  },
  {
   "cell_type": "code",
   "execution_count": 7,
   "metadata": {
    "tags": []
   },
   "outputs": [
    {
     "data": {
      "text/plain": [
       "39"
      ]
     },
     "execution_count": 7,
     "metadata": {},
     "output_type": "execute_result"
    }
   ],
   "source": [
    "55-16"
   ]
  },
  {
   "cell_type": "code",
   "execution_count": null,
   "metadata": {},
   "outputs": [],
   "source": []
  }
 ],
 "metadata": {
  "kernelspec": {
   "display_name": "Python 3 (ipykernel)",
   "language": "python",
   "name": "python3"
  },
  "language_info": {
   "codemirror_mode": {
    "name": "ipython",
    "version": 3
   },
   "file_extension": ".py",
   "mimetype": "text/x-python",
   "name": "python",
   "nbconvert_exporter": "python",
   "pygments_lexer": "ipython3",
   "version": "3.9.16"
  },
  "toc-autonumbering": false,
  "toc-showcode": false,
  "toc-showmarkdowntxt": false
 },
 "nbformat": 4,
 "nbformat_minor": 4
}
