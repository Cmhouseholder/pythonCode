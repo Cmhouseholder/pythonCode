{
 "cells": [
  {
   "cell_type": "markdown",
   "metadata": {},
   "source": [
    "# Photoreceptor segmentation using [napari](https://napari.org/) and [cellpose](https://cellpose-napari.readthedocs.io/en/latest/index.html)"
   ]
  },
  {
   "cell_type": "markdown",
   "metadata": {},
   "source": [
    "### Basic usage:\n",
    "```python\n",
    "viewer = napari.Viewer()\n",
    "nbscreenshot(viewer)\n",
    "viewer.close()\n",
    "```\n",
    "\n",
    "example notebooks [here](https://github.com/sofroniewn/napari-training-course/blob/master/lessons/)"
   ]
  },
  {
   "cell_type": "code",
   "execution_count": 2,
   "metadata": {
    "tags": []
   },
   "outputs": [
    {
     "ename": "ModuleNotFoundError",
     "evalue": "No module named 'cellpose'",
     "output_type": "error",
     "traceback": [
      "\u001b[1;31m---------------------------------------------------------------------------\u001b[0m",
      "\u001b[1;31mModuleNotFoundError\u001b[0m                       Traceback (most recent call last)",
      "Cell \u001b[1;32mIn[2], line 4\u001b[0m\n\u001b[0;32m      1\u001b[0m \u001b[38;5;66;03m# !mamba install -c conda-forge devbio-napari --yes\u001b[39;00m\n\u001b[0;32m      2\u001b[0m \u001b[38;5;66;03m# !jupyter labextension list\u001b[39;00m\n\u001b[0;32m      3\u001b[0m \u001b[38;5;66;03m# !mamba install -c conda-forge cellpose-napari --yes\u001b[39;00m\n\u001b[1;32m----> 4\u001b[0m \u001b[38;5;28;01mfrom\u001b[39;00m \u001b[38;5;21;01mcellpose\u001b[39;00m \u001b[38;5;28;01mimport\u001b[39;00m models\n",
      "\u001b[1;31mModuleNotFoundError\u001b[0m: No module named 'cellpose'"
     ]
    }
   ],
   "source": [
    "# !mamba install -c conda-forge devbio-napari --yes\n",
    "# !jupyter labextension list\n",
    "# !mamba install -c conda-forge cellpose-napari --yes\n",
    "# from cellpose import models"
   ]
  },
  {
   "cell_type": "code",
   "execution_count": 2,
   "metadata": {
    "tags": []
   },
   "outputs": [
    {
     "data": {
      "application/vnd.jupyter.widget-view+json": {
       "model_id": "bc8d4b396b9645b0a44e56a221ac484d",
       "version_major": 2,
       "version_minor": 0
      },
      "text/plain": [
       "VBox(children=(Label(value='Select plotting style', layout=Layout(height='30px', width='20%')), Dropdown(index…"
      ]
     },
     "execution_count": 2,
     "metadata": {},
     "output_type": "execute_result"
    }
   ],
   "source": [
    "# image analysis\n",
    "import napari\n",
    "from magicgui import magicgui\n",
    "from enum import Enum\n",
    "import cellpose_napari\n",
    "import cellpose\n",
    "from cellpose import models\n",
    "from tifffile import imread\n",
    "import napari_nikon_nd2\n",
    "from skimage.io import imread\n",
    "from magicgui import magicgui\n",
    "# python basics and plotting\n",
    "import numpy as np\n",
    "import pandas as pd\n",
    "import math\n",
    "from scipy import ndimage\n",
    "from scipy.stats import kruskal\n",
    "from scipy.stats import zscore\n",
    "from scipy.stats import sem\n",
    "import scikit_posthocs\n",
    "import scipy.spatial\n",
    "import matplotlib\n",
    "import matplotlib.pyplot as plt\n",
    "import matplotlib.font_manager as font_manager\n",
    "import svgutils\n",
    "from svgutils.compose import *\n",
    "# system interaction\n",
    "import os.path\n",
    "import time, sys, warnings, re\n",
    "from tqdm.notebook import tqdm, trange\n",
    "import importlib\n",
    "import ipywidgets\n",
    "from IPython.display import display\n",
    "# lab brews\n",
    "from plotParams import *\n",
    "from lloyd import *\n",
    "\n",
    "\n",
    "def getFileList(dirData,gene,fileNameMatch,addDetails=''):\n",
    "   fileList = sorted([f for f in os.listdir(dirData) if not f.startswith('.')]) # get all the files in the data directory (excluding system files) and sort them alphabatically\n",
    "   fileList = ([f for f in fileList if gene in f]) # select files that match the gene of interest\n",
    "   fileList = ([f for f in fileList if any([s in f for s in fileNameMatch])]) # only keep relevant files\n",
    "   if (addDetails=='path'):\n",
    "      fileList = (['# filePath = \\'' + f for f in fileList]) # add text before each file\n",
    "      fileList = list(map(lambda st: str.replace(st, '.nd2', '\\'; gene = \\'' + gene + '\\'; '), fileList)) #remove file extension (.nd2) and add text after each file\n",
    "   elif (addDetails=='list'):\n",
    "      fileList = (['\\'' + f for f in fileList]) # add text before each file\n",
    "      fileList = list(map(lambda st: str.replace(st, '.nd2', '\\','), fileList)) #remove file extension (.nd2) and add text after each file\n",
    "   else:\n",
    "      fileList = list(map(lambda st: str.replace(st, '.nd2', ''), fileList)) #remove file extension (.nd2) and add text after each file\n",
    "   return fileList\n",
    "\n",
    "\n",
    "pBGMenu = ipywidgets.Dropdown(options=['Light', 'Dark'],value='Dark',disabled=False, layout=ipywidgets.Layout(width='20%', height='40px'))\n",
    "pBGLabel = ipywidgets.widgets.Label('Select plotting style', layout=ipywidgets.Layout(width='20%', height='30px'))\n",
    "pBG = ipywidgets.widgets.VBox([pBGLabel,pBGMenu])\n",
    "pBG"
   ]
  },
  {
   "cell_type": "code",
   "execution_count": 3,
   "metadata": {
    "tags": []
   },
   "outputs": [
    {
     "name": "stdout",
     "output_type": "stream",
     "text": [
      "Plotting style is Dark\n"
     ]
    }
   ],
   "source": [
    "applyPlotStyle(pBGMenu.value)\n",
    "viewer = napari.Viewer()"
   ]
  },
  {
   "cell_type": "code",
   "execution_count": 64,
   "metadata": {
    "tags": []
   },
   "outputs": [
    {
     "name": "stderr",
     "output_type": "stream",
     "text": [
      "WARNING: QWindowsWindow::setGeometry: Unable to set geometry 1920x1108+0+34 (frame: 1942x1164-11-11) on QWidgetWindow/\"_QtMainWindowClassWindow\" on \"\\\\.\\DISPLAY1\". Resulting geometry: 1920x1102+0+34 (frame: 1942x1158-11-11) margins: 11, 45, 11, 11 minimum size: 374x551 MINMAXINFO maxSize=0,0 maxpos=0,0 mintrack=770,1158 maxtrack=0,0)\n"
     ]
    }
   ],
   "source": [
    "viewer = napari.Viewer()"
   ]
  },
  {
   "cell_type": "code",
   "execution_count": 63,
   "metadata": {
    "tags": []
   },
   "outputs": [],
   "source": [
    "viewer.close()"
   ]
  },
  {
   "cell_type": "markdown",
   "metadata": {},
   "source": [
    "***\n",
    "# Index <a id='Index'></a>\n",
    "***\n",
    "- [define directories](#dirDef)\n",
    "- [Extraction of z planes for analysis](#zExtract)\n",
    "- [Segmentation with cellpose](#cellSeg)\n",
    "- [Manual correction of segmentation](#manualCuration)\n",
    "- [Create thumbnails _WIP_](#thumbnails)\n",
    "- [Quantification](#quantification)"
   ]
  },
  {
   "cell_type": "markdown",
   "metadata": {
    "tags": []
   },
   "source": [
    "***\n",
    "## Define directories<a id='dirDefdirDef'>∮</a>\n",
    "***\n",
    "[Back to Index](#Index)"
   ]
  },
  {
   "cell_type": "code",
   "execution_count": 4,
   "metadata": {
    "tags": []
   },
   "outputs": [],
   "source": [
    "# define where all the imaging data is stored\n",
    "dirData = 'E:/Imaging/AXR/20241024_Tbx2ahetmutinx_2arescue_2aSWAP/'\n",
    "# define where all the analysis files should be stored\n",
    "# subdirectories for each gene and transgenic lines need to be manually made first\n",
    "dirAnalysis = 'E:/Analysis/20241024_Tbx2ahetmutinx_2arescue_2aSWAP/xOGs1C/'"
   ]
  },
  {
   "cell_type": "code",
   "execution_count": 5,
   "metadata": {
    "tags": []
   },
   "outputs": [
    {
     "name": "stdout",
     "output_type": "stream",
     "text": [
      "# filePath = '20241024_tbx2ahetmutinx_5dpf_s1c_xOG_FOU_SWAP_L01_004'; gene = 'SWAP'; \n",
      "# filePath = '20241024_tbx2ahetmutinx_5dpf_s1c_xOG_FOU_SWAP_L02_002'; gene = 'SWAP'; \n",
      "# filePath = '20241024_tbx2ahetmutinx_5dpf_s1c_xOG_FOU_SWAP_L02_002_mip'; gene = 'SWAP'; \n",
      "# filePath = '20241024_tbx2ahetmutinx_5dpf_s1c_xOG_FOU_SWAP_L02_004'; gene = 'SWAP'; \n",
      "# filePath = '20241024_tbx2ahetmutinx_5dpf_s1c_xOG_FOU_SWAP_L03_002'; gene = 'SWAP'; \n",
      "# filePath = '20241024_tbx2ahetmutinx_5dpf_s1c_xOG_FOU_SWAP_L03_004'; gene = 'SWAP'; \n",
      "# filePath = '20241024_tbx2ahetmutinx_5dpf_s1c_xOG_FOU_SWAP_L04_002'; gene = 'SWAP'; \n",
      "# filePath = '20241024_tbx2ahetmutinx_5dpf_s1c_xOG_FOU_SWAP_L04_004'; gene = 'SWAP'; \n",
      "# filePath = '20241024_tbx2ahetmutinx_5dpf_s1c_xOG_FOU_SWAP_L05_004'; gene = 'SWAP'; \n",
      "# filePath = '20241024_tbx2ahetmutinx_5dpf_s1c_xOG_FOU_SWAP_L06_004'; gene = 'SWAP'; \n",
      "# filePath = '20241024_tbx2ahetmutinx_5dpf_s1c_xOG_FOU_SWAP_L07_004'; gene = 'SWAP'; \n",
      "# filePath = '20241024_tbx2ahetmutinx_5dpf_s1c_xOG_NALOU_SWAP_L01_002'; gene = 'SWAP'; \n",
      "# filePath = '20241024_tbx2ahetmutinx_5dpf_s1c_xOG_NALOU_SWAP_L05_002'; gene = 'SWAP'; \n"
     ]
    }
   ],
   "source": [
    "gene = 'SWAP' # usually 'wt' or gene of interest (e.g. 'tbx2a', 'lhx1a')\n",
    "# gene = 'lhx1a' # usually 'wt' or gene of interest (e.g. 'tbx2a', 'lhx1a')\n",
    "fileNameMatch = ['002','004'] # characters in filenames that define zoom-in files\n",
    "\n",
    "# get a list with all the relevant files\n",
    "print(*getFileList(dirData,gene,fileNameMatch,addDetails='path'), sep = \"\\n\") #display the file list for copy and paste below"
   ]
  },
  {
   "cell_type": "markdown",
   "metadata": {
    "tags": []
   },
   "source": [
    "***\n",
    "## Extract layers from z-stacks<a id='zExtract'>∮</a>\n",
    "> Open z-stack &rarr; Pick limits in z for Maximum-Intensity Projection (_MIP_) &rarr; save MIPs &rarr; Ensure image was located in central retina\n",
    "***\n",
    "[Back to Index](#Index)"
   ]
  },
  {
   "cell_type": "code",
   "execution_count": 6,
   "metadata": {
    "tags": []
   },
   "outputs": [],
   "source": [
    "# clear viewer if needed\n",
    "viewer.layers.select_all()\n",
    "viewer.layers.remove_selected()"
   ]
  },
  {
   "cell_type": "code",
   "execution_count": 7,
   "metadata": {
    "tags": []
   },
   "outputs": [
    {
     "name": "stdout",
     "output_type": "stream",
     "text": [
      "Canvas cleared. Loading data...\n",
      "\n",
      "\n",
      "Images loaded!\n"
     ]
    },
    {
     "name": "stderr",
     "output_type": "stream",
     "text": [
      "WARNING: QWindowsWindow::setGeometry: Unable to set geometry 1920x1104+0+34 (frame: 1942x1160-11-11) on QWidgetWindow/\"_QtMainWindowClassWindow\" on \"\\\\.\\DISPLAY1\". Resulting geometry: 1920x1046+0+34 (frame: 1942x1102-11-11) margins: 11, 45, 11, 11 minimum size: 426x552 MINMAXINFO maxSize=0,0 maxpos=0,0 mintrack=874,1160 maxtrack=0,0)\n"
     ]
    }
   ],
   "source": [
    "# clear viewer before any loading\n",
    "viewer.layers.select_all()\n",
    "viewer.layers.remove_selected()\n",
    "\n",
    "# open files one by one (by commenting and uncommenting each one)\n",
    "\n",
    "#Uninjected\n",
    "filePath = '20241024_tbx2ahetmutinx_5dpf_s1c_xOG_FOU_Uninj_L01_002'; gene = 'Uninj'; zlims = [12,20];\n",
    "# filePath = '20241024_tbx2ahetmutinx_5dpf_s1c_xOG_FOU_Uninj_L01_004'; gene = 'Uninj'; zlims = [9,11]; #ripsinzoomin\n",
    "# filePath = '20241024_tbx2ahetmutinx_5dpf_s1c_xOG_FOU_Uninj_L02_002'; gene = 'Uninj'; zlims = [18,22];\n",
    "# filePath = '20241024_tbx2ahetmutinx_5dpf_s1c_xOG_FOU_Uninj_L02_004'; gene = 'Uninj'; zlims = [24,27];\n",
    "# filePath = '20241024_tbx2ahetmutinx_5dpf_s1c_xOG_FOU_Uninj_L03_002'; gene = 'Uninj'; zlims = [19,24];\n",
    "# filePath = '20241024_tbx2ahetmutinx_5dpf_s1c_xOG_FOU_Uninj_L03_004'; gene = 'Uninj'; zlims = [21,27];\n",
    "# filePath = '20241024_tbx2ahetmutinx_5dpf_s1c_xOG_FOU_Uninj_L04_002'; gene = 'Uninj'; zlims = [17,23];\n",
    "# filePath = '20241024_tbx2ahetmutinx_5dpf_s1c_xOG_FOU_Uninj_L04_004'; gene = 'Uninj'; zlims = [11,17]; #curved\n",
    "# filePath = '20241024_tbx2ahetmutinx_5dpf_s1c_xOG_FOU_Uninj_L05_002'; gene = 'Uninj'; zlims = [15,22]; #curved\n",
    "# filePath = '20241024_tbx2ahetmutinx_5dpf_s1c_xOG_FOU_Uninj_L05_004'; gene = 'Uninj'; zlims = [30,38];\n",
    "# filePath = '20241024_tbx2ahetmutinx_5dpf_s1c_xOG_NALOU_Uninj_L01_002'; gene = 'Uninj'; #whole eye\n",
    "# filePath = '20241024_tbx2ahetmutinx_5dpf_s1c_xOG_NALOU_Uninj_L02_002'; gene = 'Uninj'; zlims = [12,17];\n",
    "# filePath = '20241024_tbx2ahetmutinx_5dpf_s1c_xOG_NALOU_Uninj_L02_004'; gene = 'Uninj'; zlims = [10,16];\n",
    "# filePath = '20241024_tbx2ahetmutinx_5dpf_s1c_xOG_NALOU_Uninj_L03_002'; gene = 'Uninj'; zlims = [18,34]; #might need to exclude - curved\n",
    "# filePath = '20241024_tbx2ahetmutinx_5dpf_s1c_xOG_NALOU_Uninj_L04_002'; gene = 'Uninj';zlims = [18,25];#notwholeye  \n",
    "# filePath = '20241024_tbx2ahetmutinx_5dpf_s1c_xOG_NALOU_Uninj_L06_002'; gene = 'Uninj'; zlims = [19,23]; #omit - same here\n",
    "# filePath = '20241024_tbx2ahetmutinx_5dpf_s1c_xOG_NALOU_Uninj_L06_004'; gene = 'Uninj'; #no good don't analyze\n",
    "\n",
    "#Injected RESCUE\n",
    "# filePath = '20241024_tbx2ahetmutinx_5dpf_s1c_xOG_NALOU_injres_L01_004'; gene = 'injres'; zlims = [17,31];\n",
    "# filePath = '20241024_tbx2ahetmutinx_5dpf_s1c_xOG_NALOU_injres_L02_002'; gene = 'injres'; zlims = [13,17];\n",
    "# filePath = '20241024_tbx2ahetmutinx_5dpf_s1c_xOG_NALOU_injres_L02_004'; gene = 'injres'; zlims = [7,15];\n",
    "# filePath = '20241024_tbx2ahetmutinx_5dpf_s1c_xOG_NALOU_injres_L03_002'; gene = 'injres'; zlims = [13,16];\n",
    "# filePath = '20241024_tbx2ahetmutinx_5dpf_s1c_xOG_NALOU_injres_L03_004'; gene = 'injres'; zlims = [21,29];\n",
    "# filePath = '20241024_tbx2ahetmutinx_5dpf_s1c_xOG_NALOU_injres_L04_002'; gene = 'injres'; zlims = [16,22];\n",
    "# filePath = '20241024_tbx2ahetmutinx_5dpf_s1c_xOG_NALOU_injres_L04_004'; gene = 'injres'; zlims = [17,22];\n",
    "# filePath = '20241024_tbx2ahetmutinx_5dpf_s1c_xOG_NALOU_injres_L05_002'; gene = 'injres'; zlims = [15,20];\n",
    "# filePath = '20241024_tbx2ahetmutinx_5dpf_s1c_xOG_NALOU_injres_L06_002'; gene = 'injres'; zlims = [15,20];\n",
    "# filePath = '20241024_tbx2ahetmutinx_5dpf_s1c_xOG_NALOU_injres_L06_004'; gene = 'injres'; zlims = [26,33];\n",
    "# filePath = '20241024_tbx2ahetmutinx_5dpf_s1c_xOG_NALOU_injres_L07_002'; gene = 'injres'; zlims = [16,18];\n",
    "# filePath = '20241024_tbx2ahetmutinx_5dpf_s1c_xOG_NALOU_injres_L07_004'; gene = 'injres'; zlims = [18,20];\n",
    "\n",
    "\n",
    "#Injected SWAP\n",
    "# filePath = '20241024_tbx2ahetmutinx_5dpf_s1c_xOG_FOU_SWAP_L01_004'; gene = 'SWAP'; zlims = [20,23];\n",
    "# filePath = '20241024_tbx2ahetmutinx_5dpf_s1c_xOG_FOU_SWAP_L02_002'; gene = 'SWAP'; #sideshot of PR\n",
    "# filePath = '20241024_tbx2ahetmutinx_5dpf_s1c_xOG_FOU_SWAP_L02_002_mip'; gene = 'SWAP'; #omit\n",
    "# filePath = '20241024_tbx2ahetmutinx_5dpf_s1c_xOG_FOU_SWAP_L02_004'; gene = 'SWAP'; zlims = [16,18];\n",
    "# filePath = '20241024_tbx2ahetmutinx_5dpf_s1c_xOG_FOU_SWAP_L03_002'; gene = 'SWAP'; zlims = [32,39];\n",
    "# filePath = '20241024_tbx2ahetmutinx_5dpf_s1c_xOG_FOU_SWAP_L03_004'; gene = 'SWAP';zlims = [23, 81]; #curved \n",
    "# filePath = '20241024_tbx2ahetmutinx_5dpf_s1c_xOG_FOU_SWAP_L04_002'; gene = 'SWAP'; zlims = [15,18];\n",
    "# filePath = '20241024_tbx2ahetmutinx_5dpf_s1c_xOG_FOU_SWAP_L04_004'; gene = 'SWAP'; zlims = [12,18];\n",
    "# filePath = '20241024_tbx2ahetmutinx_5dpf_s1c_xOG_FOU_SWAP_L05_004'; gene = 'SWAP'; zlims = [15,19];\n",
    "# filePath = '20241024_tbx2ahetmutinx_5dpf_s1c_xOG_FOU_SWAP_L06_004'; gene = 'SWAP'; zlims = [19,21];\n",
    "# filePath = '20241024_tbx2ahetmutinx_5dpf_s1c_xOG_FOU_SWAP_L07_004'; gene = 'SWAP'; zlims = [19,60];\n",
    "# filePath = '20241024_tbx2ahetmutinx_5dpf_s1c_xOG_NALOU_SWAP_L01_002'; gene = 'SWAP'; zlims = [18,21];\n",
    "# filePath = '20241024_tbx2ahetmutinx_5dpf_s1c_xOG_NALOU_SWAP_L05_002'; gene = 'SWAP';zlims = [9,12];\n",
    "\n",
    "layerNames = ['R','U', 'N']\n",
    "\n",
    "# create subdirectory for analysis output\n",
    "dirOut = dirAnalysis + gene + '/' + filePath + '/'\n",
    "if (os.path.isdir(dirOut)==False):\n",
    "   os.mkdir(dirOut)\n",
    "   print('Created output directory')\n",
    "\n",
    "print('Canvas cleared. Loading data...\\n\\n')\n",
    "\n",
    "# load whole stack to figure out best z-planes for cellpose\n",
    "viewer.open((dirData+filePath + '.nd2'), plugin='napari-nikon-nd2')\n",
    "viewer.layers.remove(viewer.layers[len(viewer.layers)-1]) # remove transmitted detector image\n",
    "viewer.layers.select_next();\n",
    "if len(viewer.layers)==2: #no DAPI\n",
    "   nChannels = 2\n",
    "   viewer.layers[0].colormap = 'green'\n",
    "   viewer.layers[0].name = layerNames[0]\n",
    "   viewer.layers[1].colormap = 'magenta'\n",
    "   viewer.layers[1].name = layerNames[1]\n",
    "elif len(viewer.layers)==3: #DAPI\n",
    "   nChannels = 3\n",
    "   viewer.layers[0].colormap = 'gray'\n",
    "   viewer.layers[0].name = 'N'\n",
    "   viewer.layers[0].opacity = 0.99\n",
    "   viewer.layers[1].colormap = 'green'\n",
    "   viewer.layers[1].name = layerNames[0]\n",
    "   viewer.layers[2].colormap = 'magenta'\n",
    "   viewer.layers[2].name = layerNames[1]\n",
    "   layerNames.append('N')\n",
    "elif len(viewer.layers)==4: #DAPI\n",
    "   nChannels = 4\n",
    "   viewer.layers[0].colormap = 'gray'\n",
    "   viewer.layers[0].name = 'N'\n",
    "   viewer.layers[0].opacity = 0.99\n",
    "   viewer.layers[1].colormap = 'green'\n",
    "   viewer.layers[1].name = layerNames[0]\n",
    "   viewer.layers[2].colormap = 'magenta'\n",
    "   viewer.layers[2].name = layerNames[1]\n",
    "   viewer.layers[3].colormap = 'bop orange'\n",
    "   viewer.layers[3].name = layerNames[2]\n",
    "   layerNames.append('N')\n",
    "\n",
    "print('Images loaded!')"
   ]
  },
  {
   "cell_type": "code",
   "execution_count": 6,
   "metadata": {
    "tags": []
   },
   "outputs": [],
   "source": [
    "# make mips (and remove any previous ones) by defining the z-limits to use\n",
    "zlims = [9,12];\n",
    "if len(viewer.layers)>nChannels:\n",
    "    for l in viewer.layers[nChannels:]:\n",
    "      viewer.layers.remove(l)\n",
    "\n",
    "for l in viewer.layers[0:nChannels]:\n",
    "    l.visible = False\n",
    "#     viewer.layers.remove(l.name + '_mip')\n",
    "    viewer.add_image(l.data[zlims[0]:zlims[1]].max(axis=0), blending='additive', colormap = l.colormap, name = l.name + \"_mip\")"
   ]
  },
  {
   "cell_type": "code",
   "execution_count": 7,
   "metadata": {
    "tags": []
   },
   "outputs": [
    {
     "name": "stdout",
     "output_type": "stream",
     "text": [
      "MIP layers saved for 20241024_tbx2ahetmutinx_5dpf_s1c_xOG_NALOU_SWAP_L05_002\n"
     ]
    }
   ],
   "source": [
    "# SAVE in folder for batch cellpose analysis (when mips look good)\n",
    "for name in layerNames:\n",
    "   l = viewer.layers[name + '_mip']; l.save(dirOut + l.name + '.tiff')\n",
    "print('MIP layers saved for ' + filePath)"
   ]
  },
  {
   "cell_type": "markdown",
   "metadata": {},
   "source": [
    "### Establish landmarks in whole-eye MIP\n",
    "- Use eyeMarks layer to mark:\n",
    "    - [ ] Landmark #1: Center of FOV (where zoom in is centered)\n",
    "    - [ ] Landmark #2: Center of Optic Nerve Head \n",
    "    - [ ] Landmark #3: Dorsal edge of eye\n",
    "    - [ ] Landmark #4: Ventral edge of eye\n",
    "    - [ ] Landmark #5: Temporal edge of eye (strike zone side)\n",
    "    - [ ] Landmark #6: Nasal edge of eye\n",
    "- Decide if stack should be excluded (and stop analysis here and make note in csv summary file)"
   ]
  },
  {
   "cell_type": "code",
   "execution_count": 8,
   "metadata": {
    "tags": []
   },
   "outputs": [
    {
     "name": "stdout",
     "output_type": "stream",
     "text": [
      "Loading eye mip...\n",
      "2\n",
      "Loaded: 20241024_tbx2ahetmutinx_5dpf_s1c_xOG_NALOU_SWAP_L05_002\n",
      "Make 6 landmark points then click button to save\n"
     ]
    },
    {
     "data": {
      "application/vnd.jupyter.widget-view+json": {
       "model_id": "c837a6f4ad2540b991f2aea9ccb5e051",
       "version_major": 2,
       "version_minor": 0
      },
      "text/plain": [
       "VBox(children=(Button(description='Save eyeMarks', layout=Layout(height='100px', width='200px'), style=ButtonS…"
      ]
     },
     "execution_count": 8,
     "metadata": {},
     "output_type": "execute_result"
    }
   ],
   "source": [
    "nMIP = len(layerNames)\n",
    "for name in layerNames:\n",
    "   lName = name + \"_mip\"\n",
    "   viewer.layers[lName].scale = [1.5/8,1.5/8];\n",
    "   viewer.layers[lName].translate = [0,+(512-1024*1.5/(8*2))]\n",
    "\n",
    "# Load whole-eye MIP to establish landmarks\n",
    "print('Loading eye mip...')\n",
    "if str.endswith(filePath,'002'):\n",
    "    mipPath = filePath[:-1] + '1_mip';\n",
    "elif str.endswith(filePath,'004'):\n",
    "    mipPath = filePath[:-1] + '3_mip';\n",
    "elif str.endswith(filePath,'b'):\n",
    "    mipPath = filePath[:-1] + 'a_mip';\n",
    "elif str.endswith(filePath,'d'):\n",
    "    mipPath = filePath[:-1] + 'c_mip';\n",
    "viewer.open((dirData+mipPath + '.nd2'), plugin='napari-nikon-nd2', blending='additive')\n",
    "\n",
    "viewer.layers.remove(viewer.layers[len(viewer.layers)-1]) # remove transmitted detector image\n",
    "viewer.layers.select_next();\n",
    "eyeChannels = 0\n",
    "if len(viewer.layers)==2+nMIP+nChannels: # no DAPI, GFP and RFP\n",
    "   eyeChannels = 2\n",
    "   viewer.layers[nMIP+nChannels].colormap = 'green'\n",
    "   viewer.layers[nMIP+nChannels].name = 'eyeGreen'\n",
    "   viewer.layers[nMIP+nChannels+1].colormap = 'magenta'\n",
    "   viewer.layers[nMIP+nChannels+1].name = 'eyeRed'\n",
    "elif len(viewer.layers)==3+nMIP+nChannels: # leave DIC\n",
    "   eyeChannels = 3\n",
    "   viewer.layers[nMIP+nChannels+0].colormap = 'green'\n",
    "   viewer.layers[nMIP+nChannels+0].name = 'eyeGreen'\n",
    "   viewer.layers[nMIP+nChannels+1].colormap = 'magenta'\n",
    "   viewer.layers[nMIP+nChannels+1].name = 'eyeRed'\n",
    "   viewer.layers[nMIP+nChannels+2].colormap = 'gray'\n",
    "   viewer.layers[nMIP+nChannels+2].name = 'eyeBlue'\n",
    "   viewer.layers[nMIP+nChannels+2].opacity = 0.33\n",
    "elif len(viewer.layers)==4+nMIP+nChannels: #DIC + DAPI\n",
    "   eyeChannels = 4\n",
    "   viewer.layers[nMIP+nChannels+0].colormap = 'gray'\n",
    "   viewer.layers[nMIP+nChannels+0].name = 'eyeBlue'\n",
    "   viewer.layers[nMIP+nChannels+1].colormap = 'green'\n",
    "   viewer.layers[nMIP+nChannels+1].name = 'eyeGreen'\n",
    "   viewer.layers[nMIP+nChannels+2].colormap = 'magenta'\n",
    "   viewer.layers[nMIP+nChannels+2].name = 'eyeRed'\n",
    "   viewer.layers[nMIP+nChannels+3].colormap = 'bop orange'\n",
    "   viewer.layers[nMIP+nChannels+3].name = 'eyePNA'\n",
    "   viewer.layers[nMIP+nChannels+3].opacity = 0.33\n",
    "print(eyeChannels)\n",
    "print('Loaded: ' + filePath)\n",
    "eyeMarks = viewer.add_points(size=20, name = 'eyeMarks', symbol='cross', face_color='#ffffff80')\n",
    "viewer.layers.select_next();\n",
    "\n",
    "# Save eye landmarks\n",
    "eyeMarksButton = ipywidgets.Button(description='Save eyeMarks', layout=ipywidgets.Layout(width='200px', height='100px'))\n",
    "out = ipywidgets.Output()\n",
    "def eyeMClick(_):\n",
    "   with out:\n",
    "      l = viewer.layers['eyeMarks']; l.save(dirOut + l.name + '.csv');\n",
    "      print('eyeMarks layers saved for ' + filePath)\n",
    "   # clear viewer\n",
    "   viewer.layers.select_all()\n",
    "   viewer.layers.remove_selected()\n",
    "   eyeMarksButton.disabled = True # to prevent double clicking warnings. All sales are final!\n",
    "\n",
    "eyeMarksButton.on_click(eyeMClick)\n",
    "\n",
    "print('Make 6 landmark points then click button to save')\n",
    "\n",
    "ipywidgets.VBox([eyeMarksButton,out])"
   ]
  },
  {
   "cell_type": "markdown",
   "metadata": {},
   "source": [
    "### [Go back and run next one &uarr;](#zExtract)"
   ]
  },
  {
   "cell_type": "markdown",
   "metadata": {},
   "source": [
    "***\n",
    "## Segmentation using cellpose<a id='cellSeg'>∮</a>\n",
    "> Define list of files to segment &rarr; Define cellpose parameters &rarr; Run cellpose in each image\n",
    "***\n",
    "[Back to Index](#Index)"
   ]
  },
  {
   "cell_type": "markdown",
   "metadata": {},
   "source": [
    "### Running cellpose as batch analysis\n",
    "Usually for:\n",
    "- Rods: diameter = 20; flow_threshold = 0.5 and mask_threshold = 0.0\n",
    "- Cones: diameter = 40; flow_threshold = 0.5 and mask_threshold = 0.0\n",
    "- Horizontal cells: diameter = 100; flow_threshold = 0.6 and mask_threshold = 0.0\n",
    "\n",
    "> Using a higher _flow_threshold_ (i.e. 0.6 instead of 0.4) will provide more ROIs"
   ]
  },
  {
   "cell_type": "code",
   "execution_count": 12,
   "metadata": {
    "tags": []
   },
   "outputs": [
    {
     "name": "stdout",
     "output_type": "stream",
     "text": [
      "'20241024_tbx2ahetmutinx_5dpf_s1c_xOG_NALOU_injres_L01_004',\n",
      "'20241024_tbx2ahetmutinx_5dpf_s1c_xOG_NALOU_injres_L02_002',\n",
      "'20241024_tbx2ahetmutinx_5dpf_s1c_xOG_NALOU_injres_L02_004',\n",
      "'20241024_tbx2ahetmutinx_5dpf_s1c_xOG_NALOU_injres_L03_002',\n",
      "'20241024_tbx2ahetmutinx_5dpf_s1c_xOG_NALOU_injres_L03_004',\n",
      "'20241024_tbx2ahetmutinx_5dpf_s1c_xOG_NALOU_injres_L04_002',\n",
      "'20241024_tbx2ahetmutinx_5dpf_s1c_xOG_NALOU_injres_L04_004',\n",
      "'20241024_tbx2ahetmutinx_5dpf_s1c_xOG_NALOU_injres_L05_002',\n",
      "'20241024_tbx2ahetmutinx_5dpf_s1c_xOG_NALOU_injres_L06_002',\n",
      "'20241024_tbx2ahetmutinx_5dpf_s1c_xOG_NALOU_injres_L06_004',\n",
      "'20241024_tbx2ahetmutinx_5dpf_s1c_xOG_NALOU_injres_L07_002',\n",
      "'20241024_tbx2ahetmutinx_5dpf_s1c_xOG_NALOU_injres_L07_004',\n"
     ]
    }
   ],
   "source": [
    "# get file list again\n",
    "gene = 'injres'\n",
    "print(*getFileList(dirData,gene,fileNameMatch,addDetails='list'), sep = \"\\n\") #display the file list for copy and paste below"
   ]
  },
  {
   "cell_type": "code",
   "execution_count": 25,
   "metadata": {
    "tags": []
   },
   "outputs": [],
   "source": [
    "# clear viewer\n",
    "viewer.layers.select_all(); viewer.layers.remove_selected()\n",
    "\n",
    "# collect file paths for wild-type\n",
    "# gene_wt = 'uninj'\n",
    "# filePaths_wt = [\n",
    "# '20241024_tbx2ahetmutinx_5dpf_s1c_xOG_FOU_Uninj_L01_002',\n",
    "# '20241024_tbx2ahetmutinx_5dpf_s1c_xOG_FOU_Uninj_L01_004',\n",
    "# '20241024_tbx2ahetmutinx_5dpf_s1c_xOG_FOU_Uninj_L02_002',\n",
    "# '20241024_tbx2ahetmutinx_5dpf_s1c_xOG_FOU_Uninj_L02_004',\n",
    "# '20241024_tbx2ahetmutinx_5dpf_s1c_xOG_FOU_Uninj_L03_002',\n",
    "# '20241024_tbx2ahetmutinx_5dpf_s1c_xOG_FOU_Uninj_L03_004',\n",
    "# '20241024_tbx2ahetmutinx_5dpf_s1c_xOG_FOU_Uninj_L04_002',\n",
    "# '20241024_tbx2ahetmutinx_5dpf_s1c_xOG_FOU_Uninj_L04_004',\n",
    "# '20241024_tbx2ahetmutinx_5dpf_s1c_xOG_FOU_Uninj_L05_002',\n",
    "# '20241024_tbx2ahetmutinx_5dpf_s1c_xOG_FOU_Uninj_L05_004',\n",
    "# '20241024_tbx2ahetmutinx_5dpf_s1c_xOG_NALOU_Uninj_L01_002', #did not save properly\n",
    "# '20241024_tbx2ahetmutinx_5dpf_s1c_xOG_NALOU_Uninj_L02_002',\n",
    "# '20241024_tbx2ahetmutinx_5dpf_s1c_xOG_NALOU_Uninj_L02_004',\n",
    "# '20241024_tbx2ahetmutinx_5dpf_s1c_xOG_NALOU_Uninj_L03_002',\n",
    "# '20241024_tbx2ahetmutinx_5dpf_s1c_xOG_NALOU_Uninj_L04_002',\n",
    "#'20241024_tbx2ahetmutinx_5dpf_s1c_xOG_NALOU_Uninj_L06_002', #omit\n",
    "#'20241024_tbx2ahetmutinx_5dpf_s1c_xOG_NALOU_Uninj_L06_004', #omit\n",
    "# ]\n",
    "\n",
    "\n",
    "# collect file paths for mutants\n",
    "gene_F0res = 'injres'\n",
    "filePaths_F0res = [\n",
    "#'20241024_tbx2ahetmutinx_5dpf_s1c_xOG_NALOU_injres_L02_002', #omit\n",
    "#'20241024_tbx2ahetmutinx_5dpf_s1c_xOG_NALOU_injres_L02_004', #omit\n",
    "'20241024_tbx2ahetmutinx_5dpf_s1c_xOG_NALOU_injres_L03_002',\n",
    "'20241024_tbx2ahetmutinx_5dpf_s1c_xOG_NALOU_injres_L03_004',\n",
    "'20241024_tbx2ahetmutinx_5dpf_s1c_xOG_NALOU_injres_L04_002',\n",
    "'20241024_tbx2ahetmutinx_5dpf_s1c_xOG_NALOU_injres_L04_004',\n",
    "'20241024_tbx2ahetmutinx_5dpf_s1c_xOG_NALOU_injres_L05_002',\n",
    "'20241024_tbx2ahetmutinx_5dpf_s1c_xOG_NALOU_injres_L06_002',\n",
    "'20241024_tbx2ahetmutinx_5dpf_s1c_xOG_NALOU_injres_L06_004',\n",
    "'20241024_tbx2ahetmutinx_5dpf_s1c_xOG_NALOU_injres_L07_002',\n",
    "'20241024_tbx2ahetmutinx_5dpf_s1c_xOG_NALOU_injres_L07_004',]\n",
    "\n",
    "\n",
    "\n",
    "# collect file paths for mutants\n",
    "gene_F0SWAP = 'SWAP'\n",
    "filePaths_F0SWAP = [\n",
    "# '20241024_tbx2ahetmutinx_5dpf_s1c_xOG_FOU_SWAP_L01_004',\n",
    "# '20241024_tbx2ahetmutinx_5dpf_s1c_xOG_FOU_SWAP_L02_002',\n",
    "#'20241024_tbx2ahetmutinx_5dpf_s1c_xOG_FOU_SWAP_L02_002_mip', #omit\n",
    "'20241024_tbx2ahetmutinx_5dpf_s1c_xOG_FOU_SWAP_L02_004',\n",
    "'20241024_tbx2ahetmutinx_5dpf_s1c_xOG_FOU_SWAP_L03_002',\n",
    "'20241024_tbx2ahetmutinx_5dpf_s1c_xOG_FOU_SWAP_L03_004',\n",
    "'20241024_tbx2ahetmutinx_5dpf_s1c_xOG_FOU_SWAP_L04_002',\n",
    "'20241024_tbx2ahetmutinx_5dpf_s1c_xOG_FOU_SWAP_L04_004',\n",
    "'20241024_tbx2ahetmutinx_5dpf_s1c_xOG_FOU_SWAP_L05_004',\n",
    "'20241024_tbx2ahetmutinx_5dpf_s1c_xOG_FOU_SWAP_L06_004',\n",
    "'20241024_tbx2ahetmutinx_5dpf_s1c_xOG_FOU_SWAP_L07_004',\n",
    "'20241024_tbx2ahetmutinx_5dpf_s1c_xOG_NALOU_SWAP_L01_002',\n",
    "'20241024_tbx2ahetmutinx_5dpf_s1c_xOG_NALOU_SWAP_L05_002',\n",
    "'20241024_tbx2ahetmutinx_5dpf_s1c_xOG_NALOU_injres_L01_004',\n",
    "]\n",
    "\n",
    "\n",
    "# define cellpose parameters\n",
    "cpParams = {\n",
    "    'model' : 'cyto2', # default is 'cyto' or 'cyto2'\n",
    "    'net_avg' : True,\n",
    "    'channels' : [0,0], #single channel without nucleus info\n",
    "    'diameterR' : 25,\n",
    "    'diameterC' : 40,\n",
    "    'diameterH' : 100,\n",
    "    'flow_threshold' : 0.5,\n",
    "    'cellprob_threshold' : 0.0\n",
    "}\n",
    "\n",
    "\n",
    "# define model to use (e.g. 'cyto2')\n",
    "model = models.Cellpose(gpu=False, model_type=cpParams['model'])"
   ]
  },
  {
   "cell_type": "markdown",
   "metadata": {},
   "source": [
    "#### Run in loop to track progress and automatically save results\n",
    "> In Jan 2022: ~4 minutes per 1024 x 1024 image (4 nets). "
   ]
  },
  {
   "cell_type": "code",
   "execution_count": 27,
   "metadata": {
    "tags": []
   },
   "outputs": [
    {
     "name": "stdout",
     "output_type": "stream",
     "text": [
      "Finished cellpose batch analysis for injres\n",
      "Starting analysis for SWAP:\n"
     ]
    },
    {
     "data": {
      "application/vnd.jupyter.widget-view+json": {
       "model_id": "94629230887b4e888b5442e5cddcc6d5",
       "version_major": 2,
       "version_minor": 0
      },
      "text/plain": [
       "  0%|          | 0/44 [00:00<?, ?it/s]"
      ]
     },
     "metadata": {},
     "output_type": "display_data"
    },
    {
     "name": "stdout",
     "output_type": "stream",
     "text": [
      "\t20241024_tbx2ahetmutinx_5dpf_s1c_xOG_FOU_SWAP_L02_004\n",
      "\t\t R\n",
      "\t\t\t Time elapsed: 58 s\n",
      "\t\t U\n",
      "\t\t\t Time elapsed: 31 s\n",
      "\t\t N\n",
      "\t\t\t Time elapsed: 28 s\n",
      "\t\t N\n",
      "\t\t\t Time elapsed: 28 s\n",
      "\t20241024_tbx2ahetmutinx_5dpf_s1c_xOG_FOU_SWAP_L03_002\n",
      "\t\t R\n",
      "\t\t\t Time elapsed: 62 s\n",
      "\t\t U\n",
      "\t\t\t Time elapsed: 28 s\n",
      "\t\t N\n",
      "\t\t\t Time elapsed: 29 s\n",
      "\t\t N\n",
      "\t\t\t Time elapsed: 29 s\n",
      "\t20241024_tbx2ahetmutinx_5dpf_s1c_xOG_FOU_SWAP_L03_004\n",
      "\t\t R\n",
      "\t\t\t Time elapsed: 67 s\n",
      "\t\t U\n",
      "\t\t\t Time elapsed: 33 s\n",
      "\t\t N\n",
      "\t\t\t Time elapsed: 35 s\n",
      "\t\t N\n",
      "\t\t\t Time elapsed: 33 s\n",
      "\t20241024_tbx2ahetmutinx_5dpf_s1c_xOG_FOU_SWAP_L04_002\n",
      "\t\t R\n",
      "\t\t\t Time elapsed: 76 s\n",
      "\t\t U\n",
      "\t\t\t Time elapsed: 36 s\n",
      "\t\t N\n",
      "\t\t\t Time elapsed: 40 s\n",
      "\t\t N\n",
      "\t\t\t Time elapsed: 48 s\n",
      "\t20241024_tbx2ahetmutinx_5dpf_s1c_xOG_FOU_SWAP_L04_004\n",
      "\t\t R\n",
      "\t\t\t Time elapsed: 77 s\n",
      "\t\t U\n",
      "\t\t\t Time elapsed: 36 s\n",
      "\t\t N\n",
      "\t\t\t Time elapsed: 36 s\n",
      "\t\t N\n",
      "\t\t\t Time elapsed: 36 s\n",
      "\t20241024_tbx2ahetmutinx_5dpf_s1c_xOG_FOU_SWAP_L05_004\n",
      "\t\t R\n",
      "\t\t\t Time elapsed: 81 s\n",
      "\t\t U\n",
      "\t\t\t Time elapsed: 38 s\n",
      "\t\t N\n",
      "\t\t\t Time elapsed: 37 s\n",
      "\t\t N\n",
      "\t\t\t Time elapsed: 35 s\n",
      "\t20241024_tbx2ahetmutinx_5dpf_s1c_xOG_FOU_SWAP_L06_004\n",
      "\t\t R\n",
      "\t\t\t Time elapsed: 78 s\n",
      "\t\t U\n",
      "\t\t\t Time elapsed: 33 s\n",
      "\t\t N\n",
      "\t\t\t Time elapsed: 32 s\n",
      "\t\t N\n",
      "\t\t\t Time elapsed: 32 s\n",
      "\t20241024_tbx2ahetmutinx_5dpf_s1c_xOG_FOU_SWAP_L07_004\n",
      "\t\t R\n",
      "\t\t\t Time elapsed: 74 s\n",
      "\t\t U\n",
      "\t\t\t Time elapsed: 42 s\n",
      "\t\t N\n",
      "\t\t\t Time elapsed: 37 s\n",
      "\t\t N\n",
      "\t\t\t Time elapsed: 39 s\n",
      "\t20241024_tbx2ahetmutinx_5dpf_s1c_xOG_NALOU_SWAP_L01_002\n",
      "\t\t R\n",
      "\t\t\t Time elapsed: 74 s\n",
      "\t\t U\n",
      "\t\t\t Time elapsed: 38 s\n",
      "\t\t N\n",
      "\t\t\t Time elapsed: 49 s\n",
      "\t\t N\n",
      "\t\t\t Time elapsed: 49 s\n",
      "\t20241024_tbx2ahetmutinx_5dpf_s1c_xOG_NALOU_SWAP_L05_002\n",
      "\t\t R\n",
      "\t\t\t Time elapsed: 84 s\n",
      "\t\t U\n",
      "\t\t\t Time elapsed: 40 s\n",
      "\t\t N\n",
      "\t\t\t Time elapsed: 39 s\n",
      "\t\t N\n",
      "\t\t\t Time elapsed: 37 s\n",
      "\t20241024_tbx2ahetmutinx_5dpf_s1c_xOG_NALOU_injres_L01_004\n",
      "\t\t R\n"
     ]
    },
    {
     "ename": "FileNotFoundError",
     "evalue": "[Errno 2] No such file or directory: 'G:\\\\Shared drives\\\\vldImaging\\\\Analysis\\\\20241024_Tbx2ahetmutinx_2arescue_2aSWAP\\\\xOGs1C\\\\SWAP\\\\20241024_tbx2ahetmutinx_5dpf_s1c_xOG_NALOU_injres_L01_004\\\\R_mip.tiff'",
     "output_type": "error",
     "traceback": [
      "\u001b[1;31m---------------------------------------------------------------------------\u001b[0m",
      "\u001b[1;31mFileNotFoundError\u001b[0m                         Traceback (most recent call last)",
      "Cell \u001b[1;32mIn[27], line 59\u001b[0m\n\u001b[0;32m     57\u001b[0m startTime \u001b[38;5;241m=\u001b[39m time\u001b[38;5;241m.\u001b[39mtime()\n\u001b[0;32m     58\u001b[0m imgPath \u001b[38;5;241m=\u001b[39m dirAnalysis \u001b[38;5;241m+\u001b[39m gene_F0SWAP \u001b[38;5;241m+\u001b[39m \u001b[38;5;124m'\u001b[39m\u001b[38;5;124m/\u001b[39m\u001b[38;5;124m'\u001b[39m \u001b[38;5;241m+\u001b[39m fp \u001b[38;5;241m+\u001b[39m \u001b[38;5;124m'\u001b[39m\u001b[38;5;124m/\u001b[39m\u001b[38;5;124m'\u001b[39m \u001b[38;5;241m+\u001b[39m l \u001b[38;5;241m+\u001b[39m \u001b[38;5;124m'\u001b[39m\u001b[38;5;124m_mip.tiff\u001b[39m\u001b[38;5;124m'\u001b[39m\n\u001b[1;32m---> 59\u001b[0m img \u001b[38;5;241m=\u001b[39m \u001b[43mcellpose\u001b[49m\u001b[38;5;241;43m.\u001b[39;49m\u001b[43mio\u001b[49m\u001b[38;5;241;43m.\u001b[39;49m\u001b[43mimread\u001b[49m\u001b[43m(\u001b[49m\u001b[43mimgPath\u001b[49m\u001b[43m)\u001b[49m\n\u001b[0;32m     60\u001b[0m \u001b[38;5;28;01mif\u001b[39;00m l\u001b[38;5;241m==\u001b[39m\u001b[38;5;124m'\u001b[39m\u001b[38;5;124mR\u001b[39m\u001b[38;5;124m'\u001b[39m:\n\u001b[0;32m     61\u001b[0m    diameterCell \u001b[38;5;241m=\u001b[39m cpParams[\u001b[38;5;124m'\u001b[39m\u001b[38;5;124mdiameterR\u001b[39m\u001b[38;5;124m'\u001b[39m]\n",
      "File \u001b[1;32m~\\mambaforge\\envs\\cellCounting\\lib\\site-packages\\cellpose\\io.py:71\u001b[0m, in \u001b[0;36mimread\u001b[1;34m(filename)\u001b[0m\n\u001b[0;32m     69\u001b[0m ext \u001b[38;5;241m=\u001b[39m os\u001b[38;5;241m.\u001b[39mpath\u001b[38;5;241m.\u001b[39msplitext(filename)[\u001b[38;5;241m-\u001b[39m\u001b[38;5;241m1\u001b[39m]\n\u001b[0;32m     70\u001b[0m \u001b[38;5;28;01mif\u001b[39;00m ext\u001b[38;5;241m==\u001b[39m \u001b[38;5;124m'\u001b[39m\u001b[38;5;124m.tif\u001b[39m\u001b[38;5;124m'\u001b[39m \u001b[38;5;129;01mor\u001b[39;00m ext\u001b[38;5;241m==\u001b[39m\u001b[38;5;124m'\u001b[39m\u001b[38;5;124m.tiff\u001b[39m\u001b[38;5;124m'\u001b[39m:\n\u001b[1;32m---> 71\u001b[0m     \u001b[38;5;28;01mwith\u001b[39;00m \u001b[43mtifffile\u001b[49m\u001b[38;5;241;43m.\u001b[39;49m\u001b[43mTiffFile\u001b[49m\u001b[43m(\u001b[49m\u001b[43mfilename\u001b[49m\u001b[43m)\u001b[49m \u001b[38;5;28;01mas\u001b[39;00m tif:\n\u001b[0;32m     72\u001b[0m         ltif \u001b[38;5;241m=\u001b[39m \u001b[38;5;28mlen\u001b[39m(tif\u001b[38;5;241m.\u001b[39mpages)\n\u001b[0;32m     73\u001b[0m         \u001b[38;5;28;01mtry\u001b[39;00m:\n",
      "File \u001b[1;32m~\\mambaforge\\envs\\cellCounting\\lib\\site-packages\\tifffile\\tifffile.py:3832\u001b[0m, in \u001b[0;36mTiffFile.__init__\u001b[1;34m(self, file, mode, name, offset, size, omexml, _multifile, _useframes, _parent, **is_flags)\u001b[0m\n\u001b[0;32m   3829\u001b[0m \u001b[38;5;28;01mif\u001b[39;00m mode \u001b[38;5;129;01mnot\u001b[39;00m \u001b[38;5;129;01min\u001b[39;00m (\u001b[38;5;28;01mNone\u001b[39;00m, \u001b[38;5;124m'\u001b[39m\u001b[38;5;124mr\u001b[39m\u001b[38;5;124m'\u001b[39m, \u001b[38;5;124m'\u001b[39m\u001b[38;5;124mr+\u001b[39m\u001b[38;5;124m'\u001b[39m, \u001b[38;5;124m'\u001b[39m\u001b[38;5;124mrb\u001b[39m\u001b[38;5;124m'\u001b[39m, \u001b[38;5;124m'\u001b[39m\u001b[38;5;124mr+b\u001b[39m\u001b[38;5;124m'\u001b[39m):\n\u001b[0;32m   3830\u001b[0m     \u001b[38;5;28;01mraise\u001b[39;00m \u001b[38;5;167;01mValueError\u001b[39;00m(\u001b[38;5;124mf\u001b[39m\u001b[38;5;124m'\u001b[39m\u001b[38;5;124minvalid mode \u001b[39m\u001b[38;5;132;01m{\u001b[39;00mmode\u001b[38;5;132;01m!r}\u001b[39;00m\u001b[38;5;124m'\u001b[39m)\n\u001b[1;32m-> 3832\u001b[0m fh \u001b[38;5;241m=\u001b[39m \u001b[43mFileHandle\u001b[49m\u001b[43m(\u001b[49m\u001b[43mfile\u001b[49m\u001b[43m,\u001b[49m\u001b[43m \u001b[49m\u001b[43mmode\u001b[49m\u001b[38;5;241;43m=\u001b[39;49m\u001b[43mmode\u001b[49m\u001b[43m,\u001b[49m\u001b[43m \u001b[49m\u001b[43mname\u001b[49m\u001b[38;5;241;43m=\u001b[39;49m\u001b[43mname\u001b[49m\u001b[43m,\u001b[49m\u001b[43m \u001b[49m\u001b[43moffset\u001b[49m\u001b[38;5;241;43m=\u001b[39;49m\u001b[43moffset\u001b[49m\u001b[43m,\u001b[49m\u001b[43m \u001b[49m\u001b[43msize\u001b[49m\u001b[38;5;241;43m=\u001b[39;49m\u001b[43msize\u001b[49m\u001b[43m)\u001b[49m\n\u001b[0;32m   3833\u001b[0m \u001b[38;5;28mself\u001b[39m\u001b[38;5;241m.\u001b[39m_fh \u001b[38;5;241m=\u001b[39m fh\n\u001b[0;32m   3834\u001b[0m \u001b[38;5;28mself\u001b[39m\u001b[38;5;241m.\u001b[39m_multifile \u001b[38;5;241m=\u001b[39m \u001b[38;5;28;01mTrue\u001b[39;00m \u001b[38;5;28;01mif\u001b[39;00m _multifile \u001b[38;5;129;01mis\u001b[39;00m \u001b[38;5;28;01mNone\u001b[39;00m \u001b[38;5;28;01melse\u001b[39;00m \u001b[38;5;28mbool\u001b[39m(_multifile)\n",
      "File \u001b[1;32m~\\mambaforge\\envs\\cellCounting\\lib\\site-packages\\tifffile\\tifffile.py:13088\u001b[0m, in \u001b[0;36mFileHandle.__init__\u001b[1;34m(self, file, mode, name, offset, size)\u001b[0m\n\u001b[0;32m  13086\u001b[0m \u001b[38;5;28mself\u001b[39m\u001b[38;5;241m.\u001b[39m_close \u001b[38;5;241m=\u001b[39m \u001b[38;5;28;01mTrue\u001b[39;00m\n\u001b[0;32m  13087\u001b[0m \u001b[38;5;28mself\u001b[39m\u001b[38;5;241m.\u001b[39m_lock \u001b[38;5;241m=\u001b[39m NullContext()\n\u001b[1;32m> 13088\u001b[0m \u001b[38;5;28;43mself\u001b[39;49m\u001b[38;5;241;43m.\u001b[39;49m\u001b[43mopen\u001b[49m\u001b[43m(\u001b[49m\u001b[43m)\u001b[49m\n\u001b[0;32m  13089\u001b[0m \u001b[38;5;28;01massert\u001b[39;00m \u001b[38;5;28mself\u001b[39m\u001b[38;5;241m.\u001b[39m_fh \u001b[38;5;129;01mis\u001b[39;00m \u001b[38;5;129;01mnot\u001b[39;00m \u001b[38;5;28;01mNone\u001b[39;00m\n",
      "File \u001b[1;32m~\\mambaforge\\envs\\cellCounting\\lib\\site-packages\\tifffile\\tifffile.py:13103\u001b[0m, in \u001b[0;36mFileHandle.open\u001b[1;34m(self)\u001b[0m\n\u001b[0;32m  13101\u001b[0m \u001b[38;5;28mself\u001b[39m\u001b[38;5;241m.\u001b[39m_file \u001b[38;5;241m=\u001b[39m os\u001b[38;5;241m.\u001b[39mpath\u001b[38;5;241m.\u001b[39mrealpath(\u001b[38;5;28mself\u001b[39m\u001b[38;5;241m.\u001b[39m_file)\n\u001b[0;32m  13102\u001b[0m \u001b[38;5;28mself\u001b[39m\u001b[38;5;241m.\u001b[39m_dir, \u001b[38;5;28mself\u001b[39m\u001b[38;5;241m.\u001b[39m_name \u001b[38;5;241m=\u001b[39m os\u001b[38;5;241m.\u001b[39mpath\u001b[38;5;241m.\u001b[39msplit(\u001b[38;5;28mself\u001b[39m\u001b[38;5;241m.\u001b[39m_file)\n\u001b[1;32m> 13103\u001b[0m \u001b[38;5;28mself\u001b[39m\u001b[38;5;241m.\u001b[39m_fh \u001b[38;5;241m=\u001b[39m \u001b[38;5;28;43mopen\u001b[39;49m\u001b[43m(\u001b[49m\u001b[38;5;28;43mself\u001b[39;49m\u001b[38;5;241;43m.\u001b[39;49m\u001b[43m_file\u001b[49m\u001b[43m,\u001b[49m\u001b[43m \u001b[49m\u001b[38;5;28;43mself\u001b[39;49m\u001b[38;5;241;43m.\u001b[39;49m\u001b[43m_mode\u001b[49m\u001b[43m)\u001b[49m  \u001b[38;5;66;03m# type: ignore\u001b[39;00m\n\u001b[0;32m  13104\u001b[0m \u001b[38;5;28mself\u001b[39m\u001b[38;5;241m.\u001b[39m_close \u001b[38;5;241m=\u001b[39m \u001b[38;5;28;01mTrue\u001b[39;00m\n\u001b[0;32m  13105\u001b[0m \u001b[38;5;28;01mif\u001b[39;00m \u001b[38;5;28mself\u001b[39m\u001b[38;5;241m.\u001b[39m_offset \u001b[38;5;241m<\u001b[39m \u001b[38;5;241m0\u001b[39m:\n",
      "\u001b[1;31mFileNotFoundError\u001b[0m: [Errno 2] No such file or directory: 'G:\\\\Shared drives\\\\vldImaging\\\\Analysis\\\\20241024_Tbx2ahetmutinx_2arescue_2aSWAP\\\\xOGs1C\\\\SWAP\\\\20241024_tbx2ahetmutinx_5dpf_s1c_xOG_NALOU_injres_L01_004\\\\R_mip.tiff'"
     ]
    }
   ],
   "source": [
    "# print('Starting analysis for '+ gene_wt + ':')\n",
    "# with tqdm(total=len(filePaths_wt)*len(layerNames), file=sys.stdout) as progBar:\n",
    "#    for fp in filePaths_wt:\n",
    "#       print('\\t' + fp)\n",
    "#       for l in layerNames:\n",
    "#          print('\\t\\t ' + l)\n",
    "#          startTime = time.time()\n",
    "#          imgPath = dirAnalysis + gene_wt + '/' + fp + '/' + l + '_mip.tiff'\n",
    "#          img = cellpose.io.imread(imgPath)\n",
    "#          if l=='R':\n",
    "#             diameterCell = cpParams['diameterR']\n",
    "#          else:\n",
    "#             diameterCell = cpParams['diameterC']\n",
    "#          masks, flows, styles, diams = model.eval(img, \n",
    "#                                                 diameter=diameterCell, channels=cpParams['channels'],\n",
    "#                                                 do_3D=False, net_avg = cpParams['net_avg'], interp = True,\n",
    "#                                                 flow_threshold = cpParams['flow_threshold'], cellprob_threshold = cpParams['cellprob_threshold'])\n",
    "#          cellpose.io.masks_flows_to_seg(img, masks, flows, diams, imgPath, cpParams['channels']) # save results\n",
    "#          endTime = time.time()\n",
    "#          print ('\\t Time elapsed: {elapsedTime} s\\n'.format(elapsedTime = int(endTime - startTime)))\n",
    "#          progBar.update(1)\n",
    "\n",
    "# print('Finished cellpose batch analysis for '+ gene_wt)\n",
    "\n",
    "# #RESCUE\n",
    "# print('Starting analysis for '+ gene_F0res + ':')\n",
    "# with tqdm(total=len(filePaths_F0res)*len(layerNames), file=sys.stdout) as progBar:\n",
    "#    for fp in filePaths_F0res:\n",
    "#       print('\\t' + fp)\n",
    "#       for l in layerNames:\n",
    "#          print('\\t\\t ' + l)\n",
    "#          startTime = time.time()\n",
    "#          imgPath = dirAnalysis + gene_F0res + '/' + fp + '/' + l + '_mip.tiff'\n",
    "#          img = cellpose.io.imread(imgPath)\n",
    "#          if l=='R':\n",
    "#             diameterCell = cpParams['diameterR']\n",
    "#          else:\n",
    "#             diameterCell = cpParams['diameterC']\n",
    "#          masks, flows, styles, diams = model.eval(img, \n",
    "#                                                 diameter=diameterCell, channels=cpParams['channels'],\n",
    "#                                                 do_3D=False, net_avg = cpParams['net_avg'], interp = True,\n",
    "#                                                 flow_threshold = cpParams['flow_threshold'], cellprob_threshold = cpParams['cellprob_threshold'])\n",
    "#          cellpose.io.masks_flows_to_seg(img, masks, flows, diams, imgPath, cpParams['channels']) # save results\n",
    "#          endTime = time.time()\n",
    "#          print ('\\t\\t\\t Time elapsed: {elapsedTime} s'.format(elapsedTime = int(endTime - startTime)))\n",
    "#          progBar.update(1)\n",
    "\n",
    "print('Finished cellpose batch analysis for '+ gene_F0res)\n",
    "\n",
    "#SWAP\n",
    "print('Starting analysis for '+ gene_F0SWAP + ':')\n",
    "with tqdm(total=len(filePaths_F0SWAP)*len(layerNames), file=sys.stdout) as progBar:\n",
    "   for fp in filePaths_F0SWAP:\n",
    "      print('\\t' + fp)\n",
    "      for l in layerNames:\n",
    "         print('\\t\\t ' + l)\n",
    "         startTime = time.time()\n",
    "         imgPath = dirAnalysis + gene_F0SWAP + '/' + fp + '/' + l + '_mip.tiff'\n",
    "         img = cellpose.io.imread(imgPath)\n",
    "         if l=='R':\n",
    "            diameterCell = cpParams['diameterR']\n",
    "         else:\n",
    "            diameterCell = cpParams['diameterC']\n",
    "         masks, flows, styles, diams = model.eval(img, \n",
    "                                                diameter=diameterCell, channels=cpParams['channels'],\n",
    "                                                do_3D=False, net_avg = cpParams['net_avg'], interp = True,\n",
    "                                                flow_threshold = cpParams['flow_threshold'], cellprob_threshold = cpParams['cellprob_threshold'])\n",
    "         cellpose.io.masks_flows_to_seg(img, masks, flows, diams, imgPath, cpParams['channels']) # save results\n",
    "         endTime = time.time()\n",
    "         print ('\\t\\t\\t Time elapsed: {elapsedTime} s'.format(elapsedTime = int(endTime - startTime)))\n",
    "         progBar.update(1)\n",
    "\n",
    "print('Finished cellpose batch analysis for '+ gene_F0SWAP)"
   ]
  },
  {
   "cell_type": "markdown",
   "metadata": {},
   "source": [
    "***\n",
    "## Manual correction of cellpose segmentation<a id='manualCuration'>∮</a>\n",
    "> Copy file list from \"Extract Layers\" &rarr; Open a single file and manually fix (\"_curate_\") cellpose segmentation\n",
    "\n",
    "WARNINGS:\n",
    "- In tg[_mws2_:GFP], a subset of S cones are GFP+. If available, use tg[_sws2_:mCherry] to delete those labels from the M-cone segmentation\n",
    "***\n",
    "[Back to Index](#Index)"
   ]
  },
  {
   "cell_type": "code",
   "execution_count": 24,
   "metadata": {
    "tags": []
   },
   "outputs": [
    {
     "name": "stdout",
     "output_type": "stream",
     "text": [
      "Viewer cleared...\n",
      "Loaded  20241024_tbx2ahetmutinx_5dpf_s1c_xOG_NALOU_SWAP_L05_002 !\n",
      " Now fix it and save it!\n",
      "removeLabel on U_seg (\"Shift-X\")\n",
      "toggle U_seg preserve_labels (\"k\")\n",
      "toggle U_mip visibility (\"B\")\n",
      "toggle R_mip visibility (\"N\")\n",
      "Add new label in U_seg visibility (\"+\"|\"M\")\n"
     ]
    }
   ],
   "source": [
    "# clear viewer\n",
    "viewer.layers.select_all(); viewer.layers.remove_selected()\n",
    "\n",
    "\n",
    "\n",
    "#Uninjected\n",
    "# filePath = '20241024_tbx2ahetmutinx_5dpf_s1c_xOG_FOU_Uninj_L01_002'; gene = 'Uninj'; zlims = [12,20];\n",
    "# filePath = '20241024_tbx2ahetmutinx_5dpf_s1c_xOG_FOU_Uninj_L01_004'; gene = 'Uninj'; zlims = [9,11]; #ripsinzoomin\n",
    "# filePath = '20241024_tbx2ahetmutinx_5dpf_s1c_xOG_FOU_Uninj_L02_002'; gene = 'Uninj'; zlims = [18,22];\n",
    "# filePath = '20241024_tbx2ahetmutinx_5dpf_s1c_xOG_FOU_Uninj_L02_004'; gene = 'Uninj'; zlims = [24,27];\n",
    "# filePath = '20241024_tbx2ahetmutinx_5dpf_s1c_xOG_FOU_Uninj_L03_002'; gene = 'Uninj'; zlims = [19,24];\n",
    "# filePath = '20241024_tbx2ahetmutinx_5dpf_s1c_xOG_FOU_Uninj_L03_004'; gene = 'Uninj'; zlims = [21,27];\n",
    "# filePath = '20241024_tbx2ahetmutinx_5dpf_s1c_xOG_FOU_Uninj_L04_002'; gene = 'Uninj'; zlims = [17,23];\n",
    "# filePath = '20241024_tbx2ahetmutinx_5dpf_s1c_xOG_FOU_Uninj_L04_004'; gene = 'Uninj'; zlims = [11,17]; #curved - EXCLUDE\n",
    "# filePath = '20241024_tbx2ahetmutinx_5dpf_s1c_xOG_FOU_Uninj_L05_002'; gene = 'Uninj'; zlims = [15,22]; #curved\n",
    "# filePath = '20241024_tbx2ahetmutinx_5dpf_s1c_xOG_FOU_Uninj_L05_004'; gene = 'Uninj'; zlims = [30,38];\n",
    "# filePath = '20241024_tbx2ahetmutinx_5dpf_s1c_xOG_NALOU_Uninj_L01_002'; gene = 'Uninj'; #whole eye - omit\n",
    "# filePath = '20241024_tbx2ahetmutinx_5dpf_s1c_xOG_NALOU_Uninj_L02_002'; gene = 'Uninj'; zlims = [12,17]; #MIGHT EXCLUDE - CURVED\n",
    "# filePath = '20241024_tbx2ahetmutinx_5dpf_s1c_xOG_NALOU_Uninj_L02_004'; gene = 'Uninj'; zlims = [10,16];\n",
    "# filePath = '20241024_tbx2ahetmutinx_5dpf_s1c_xOG_NALOU_Uninj_L03_002'; gene = 'Uninj'; zlims = [18,34]; #might need to exclude - curved\n",
    "# filePath = '20241024_tbx2ahetmutinx_5dpf_s1c_xOG_NALOU_Uninj_L04_002'; gene = 'Uninj';zlims = [18,25];#notwholeye  \n",
    "# filePath = '20241024_tbx2ahetmutinx_5dpf_s1c_xOG_NALOU_Uninj_L06_002'; gene = 'Uninj'; zlims = [19,23]; #omit - same here\n",
    "# filePath = '20241024_tbx2ahetmutinx_5dpf_s1c_xOG_NALOU_Uninj_L06_004'; gene = 'Uninj'; #no good don't analyze\n",
    "\n",
    "#Injected RESCUE\n",
    "# filePath = '20241024_tbx2ahetmutinx_5dpf_s1c_xOG_NALOU_injres_L01_004'; gene = 'injres'; zlims = [17,31]; #segemntation and mips did not save properly go back!\n",
    "# filePath = '20241024_tbx2ahetmutinx_5dpf_s1c_xOG_NALOU_injres_L02_002'; gene = 'injres'; zlims = [13,17]; #segemntation and mips did not save properly go back!\n",
    "# filePath = '20241024_tbx2ahetmutinx_5dpf_s1c_xOG_NALOU_injres_L02_004'; gene = 'injres'; zlims = [7,15]; #omit\n",
    "# filePath = '20241024_tbx2ahetmutinx_5dpf_s1c_xOG_NALOU_injres_L03_002'; gene = 'injres'; zlims = [13,16];\n",
    "# filePath = '20241024_tbx2ahetmutinx_5dpf_s1c_xOG_NALOU_injres_L03_004'; gene = 'injres'; zlims = [21,29];\n",
    "# filePath = '20241024_tbx2ahetmutinx_5dpf_s1c_xOG_NALOU_injres_L04_002'; gene = 'injres'; zlims = [16,22];\n",
    "# filePath = '20241024_tbx2ahetmutinx_5dpf_s1c_xOG_NALOU_injres_L04_004'; gene = 'injres'; zlims = [17,22];\n",
    "# filePath = '20241024_tbx2ahetmutinx_5dpf_s1c_xOG_NALOU_injres_L05_002'; gene = 'injres'; zlims = [15,20];\n",
    "# filePath = '20241024_tbx2ahetmutinx_5dpf_s1c_xOG_NALOU_injres_L06_002'; gene = 'injres'; zlims = [15,20]; \n",
    "# filePath = '20241024_tbx2ahetmutinx_5dpf_s1c_xOG_NALOU_injres_L06_004'; gene = 'injres'; zlims = [26,33];\n",
    "# filePath = '20241024_tbx2ahetmutinx_5dpf_s1c_xOG_NALOU_injres_L07_002'; gene = 'injres'; zlims = [16,18];\n",
    "# filePath = '20241024_tbx2ahetmutinx_5dpf_s1c_xOG_NALOU_injres_L07_004'; gene = 'injres'; zlims = [18,20];\n",
    "\n",
    "\n",
    "#Injected SWAP\n",
    "# filePath = '20241024_tbx2ahetmutinx_5dpf_s1c_xOG_FOU_SWAP_L01_004'; gene = 'SWAP'; zlims = [20,23];\n",
    "# filePath = '20241024_tbx2ahetmutinx_5dpf_s1c_xOG_FOU_SWAP_L02_002'; gene = 'SWAP'; #sideshot of PR\n",
    "# filePath = '20241024_tbx2ahetmutinx_5dpf_s1c_xOG_FOU_SWAP_L02_002_mip'; gene = 'SWAP'; #omit\n",
    "# filePath = '20241024_tbx2ahetmutinx_5dpf_s1c_xOG_FOU_SWAP_L02_004'; gene = 'SWAP'; zlims = [16,18];\n",
    "# filePath = '20241024_tbx2ahetmutinx_5dpf_s1c_xOG_FOU_SWAP_L03_002'; gene = 'SWAP'; zlims = [32,39];\n",
    "# filePath = '20241024_tbx2ahetmutinx_5dpf_s1c_xOG_FOU_SWAP_L03_004'; gene = 'SWAP';zlims = [23, 81]; #curved \n",
    "# filePath = '20241024_tbx2ahetmutinx_5dpf_s1c_xOG_FOU_SWAP_L04_002'; gene = 'SWAP'; zlims = [15,18];\n",
    "# filePath = '20241024_tbx2ahetmutinx_5dpf_s1c_xOG_FOU_SWAP_L04_004'; gene = 'SWAP'; zlims = [12,18];\n",
    "# filePath = '20241024_tbx2ahetmutinx_5dpf_s1c_xOG_FOU_SWAP_L05_004'; gene = 'SWAP'; zlims = [15,19];\n",
    "# filePath = '20241024_tbx2ahetmutinx_5dpf_s1c_xOG_FOU_SWAP_L06_004'; gene = 'SWAP'; zlims = [19,21];\n",
    "# filePath = '20241024_tbx2ahetmutinx_5dpf_s1c_xOG_FOU_SWAP_L07_004'; gene = 'SWAP'; zlims = [19,60];\n",
    "# filePath = '20241024_tbx2ahetmutinx_5dpf_s1c_xOG_NALOU_SWAP_L01_002'; gene = 'SWAP'; zlims = [18,21];\n",
    "# filePath = '20241024_tbx2ahetmutinx_5dpf_s1c_xOG_NALOU_SWAP_L05_002'; gene = 'SWAP';zlims = [9,12];\n",
    "\n",
    "# define subdirectory for analysis\n",
    "dirOut = dirAnalysis + gene + '/' + filePath + '/'\n",
    "print('Viewer cleared...')\n",
    "\n",
    "# clear key binds\n",
    "@viewer.bind_key('k', overwrite=True)\n",
    "def toggle_sel(viewer):\n",
    "    ...\n",
    "@viewer.bind_key('b', overwrite=True)\n",
    "def toggle_sel(viewer):\n",
    "    ...\n",
    "@viewer.bind_key('Shift-x', overwrite=True)\n",
    "def removeLabel(viewer):\n",
    "    ...\n",
    "\n",
    "# load mips\n",
    "mipO = 0.65\n",
    "viewer.open(dirOut + layerNames[0] + \"_mip.tiff\", plugin='napari', colormap = 'green', blending='additive', opacity=mipO);\n",
    "viewer.open(dirOut + layerNames[1] + \"_mip.tiff\", plugin='napari', colormap = 'magenta', blending='additive', opacity=mipO);\n",
    "# viewer.open(dirOut + layerNames[3] + \"_mip.tiff\", plugin='napari', colormap = 'gray', blending='additive', opacity=mipO);\n",
    "\n",
    "# load segmentation\n",
    "if (os.path.isfile(dirOut + layerNames[0] + \"_seg_curated.tiff\")):\n",
    "    print('Loaded previously curated segmentation for {0}'.format(layerNames[0]))\n",
    "    viewer.open(dirOut + layerNames[0] + \"_seg_curated.tiff\", name=layerNames[0] + '_seg', plugin='napari',blending='additive');\n",
    "else:\n",
    "    segData = np.load(dirOut + layerNames[0] + \"_mip\" + \"_seg.npy\", allow_pickle=True).item()\n",
    "    viewer.add_labels(segData['masks'], name= layerNames[0] + '_seg',blending='additive');\n",
    "viewer.layers[layerNames[0] + '_seg'].preserve_labels = True;\n",
    "\n",
    "if (os.path.isfile(dirOut + layerNames[1] + \"_seg_curated.tiff\")):\n",
    "    print('Loaded previously curated segmentation for {0}'.format(layerNames[1]))\n",
    "    viewer.open(dirOut + layerNames[1] + \"_seg_curated.tiff\", name=layerNames[1] + '_seg', plugin='napari',blending='additive');\n",
    "else:\n",
    "    segData = np.load(dirOut + layerNames[1] + \"_mip\" + \"_seg.npy\", allow_pickle=True).item()\n",
    "    viewer.add_labels(segData['masks'], name= layerNames[1] + '_seg',blending='additive');\n",
    "viewer.layers[layerNames[1] + '_seg'].preserve_labels = True;\n",
    "\n",
    "\n",
    "viewer.layers[layerNames[0] + '_mip'].visible = False\n",
    "# viewer.layers[layerNames[3] + '_mip'].visible = False\n",
    "viewer.layers[layerNames[0] + '_seg'].visible = False\n",
    "\n",
    "print('Loaded  ' + filePath + ' !\\n Now fix it and save it!')\n",
    "\n",
    "#define useful keyboard shortcuts\n",
    "\n",
    "@viewer.bind_key('Shift-x', overwrite=True)\n",
    "def removeLabel(viewer):\n",
    "   lname = layerNames[1] + '_seg'\n",
    "   tempd = viewer.layers[lname].data\n",
    "   tempd[tempd == viewer.layers[lname].selected_label]=0\n",
    "   viewer.layers[lname].data = tempd\n",
    "   print('Cut!')\n",
    "print('removeLabel on {0}_seg (\"Shift-X\")'.format(layerNames[1]))\n",
    "\n",
    "@viewer.bind_key('k', overwrite=True)\n",
    "def toggle_sel(viewer):\n",
    "   lname = layerNames[1] + '_seg'\n",
    "   if (viewer.layers[lname].preserve_labels == True):\n",
    "      viewer.layers[lname].preserve_labels = False\n",
    "   elif (viewer.layers[lname].preserve_labels == False):\n",
    "      viewer.layers[lname].preserve_labels = True\n",
    "print('toggle {0}_seg preserve_labels (\"k\")'.format(layerNames[1]))\n",
    "        \n",
    "@viewer.bind_key('b', overwrite=True)\n",
    "def toggle_sel(viewer):\n",
    "   lname = layerNames[1] + '_mip'\n",
    "   if (viewer.layers[lname].visible == True):\n",
    "      viewer.layers[lname].visible = False\n",
    "   elif (viewer.layers[lname].visible == False):\n",
    "      viewer.layers[lname].visible = True\n",
    "print('toggle {0}_mip visibility (\"B\")'.format(layerNames[1]))\n",
    "\n",
    "@viewer.bind_key('n', overwrite=True)\n",
    "def toggle_sel(viewer):\n",
    "   lname = layerNames[0] + '_mip'\n",
    "   if (viewer.layers[lname].visible == True):\n",
    "      viewer.layers[lname].visible = False\n",
    "   elif (viewer.layers[lname].visible == False):\n",
    "      viewer.layers[lname].visible = True\n",
    "print('toggle {0}_mip visibility (\"N\")'.format(layerNames[0]))\n",
    "\n",
    "@viewer.bind_key('+', overwrite=True)\n",
    "def new_label(viewer):\n",
    "   \"\"\"Set the currently selected label to the largest used label plus one.\"\"\"\n",
    "   lname = layerNames[1] + '_seg'\n",
    "   viewer.layers[lname].selected_label = viewer.layers[lname].data.max() + 1\n",
    "print('Add new label in {0}_seg visibility (\"+\"|\"M\")'.format(layerNames[1]))"
   ]
  },
  {
   "cell_type": "code",
   "execution_count": 7,
   "metadata": {
    "collapsed": true,
    "jupyter": {
     "outputs_hidden": true,
     "source_hidden": true
    },
    "tags": []
   },
   "outputs": [
    {
     "name": "stdout",
     "output_type": "stream",
     "text": [
      "Loading data...\n"
     ]
    },
    {
     "name": "stderr",
     "output_type": "stream",
     "text": [
      "Exception ignored in: <generator object tqdm.__iter__ at 0x00000239C54B97B0>\n",
      "Traceback (most recent call last):\n",
      "  File \"C:\\Users\\Carin\\mambaforge\\envs\\cellCounting\\lib\\site-packages\\tqdm\\std.py\", line 1192, in __iter__\n",
      "    self.n = n\n",
      "KeyboardInterrupt: \n"
     ]
    },
    {
     "ename": "KeyboardInterrupt",
     "evalue": "",
     "output_type": "error",
     "traceback": [
      "\u001b[1;31m---------------------------------------------------------------------------\u001b[0m",
      "\u001b[1;31mKeyboardInterrupt\u001b[0m                         Traceback (most recent call last)",
      "Cell \u001b[1;32mIn[7], line 4\u001b[0m\n\u001b[0;32m      2\u001b[0m \u001b[38;5;28mprint\u001b[39m(\u001b[38;5;124m'\u001b[39m\u001b[38;5;124mLoading data...\u001b[39m\u001b[38;5;124m'\u001b[39m)\n\u001b[0;32m      3\u001b[0m nMIP \u001b[38;5;241m=\u001b[39m \u001b[38;5;28mlen\u001b[39m(viewer\u001b[38;5;241m.\u001b[39mlayers)\n\u001b[1;32m----> 4\u001b[0m \u001b[43mviewer\u001b[49m\u001b[38;5;241;43m.\u001b[39;49m\u001b[43mopen\u001b[49m\u001b[43m(\u001b[49m\u001b[43m(\u001b[49m\u001b[43mdirData\u001b[49m\u001b[38;5;241;43m+\u001b[39;49m\u001b[43mfilePath\u001b[49m\u001b[43m \u001b[49m\u001b[38;5;241;43m+\u001b[39;49m\u001b[43m \u001b[49m\u001b[38;5;124;43m'\u001b[39;49m\u001b[38;5;124;43m.nd2\u001b[39;49m\u001b[38;5;124;43m'\u001b[39;49m\u001b[43m)\u001b[49m\u001b[43m,\u001b[49m\u001b[43m \u001b[49m\u001b[43mplugin\u001b[49m\u001b[38;5;241;43m=\u001b[39;49m\u001b[38;5;124;43m'\u001b[39;49m\u001b[38;5;124;43mnapari-nikon-nd2\u001b[39;49m\u001b[38;5;124;43m'\u001b[39;49m\u001b[43m)\u001b[49m\n\u001b[0;32m      5\u001b[0m viewer\u001b[38;5;241m.\u001b[39mlayers\u001b[38;5;241m.\u001b[39mremove(viewer\u001b[38;5;241m.\u001b[39mlayers[\u001b[38;5;28mlen\u001b[39m(viewer\u001b[38;5;241m.\u001b[39mlayers)\u001b[38;5;241m-\u001b[39m\u001b[38;5;241m1\u001b[39m]) \u001b[38;5;66;03m# remove transmitted detector image\u001b[39;00m\n\u001b[0;32m      6\u001b[0m viewer\u001b[38;5;241m.\u001b[39mlayers\u001b[38;5;241m.\u001b[39mselect_next();\n",
      "File \u001b[1;32m~\\mambaforge\\envs\\cellCounting\\lib\\site-packages\\napari\\components\\viewer_model.py:1014\u001b[0m, in \u001b[0;36mViewerModel.open\u001b[1;34m(self, path, stack, plugin, layer_type, **kwargs)\u001b[0m\n\u001b[0;32m   1011\u001b[0m _path \u001b[38;5;241m=\u001b[39m [_path] \u001b[38;5;28;01mif\u001b[39;00m \u001b[38;5;129;01mnot\u001b[39;00m \u001b[38;5;28misinstance\u001b[39m(_path, \u001b[38;5;28mlist\u001b[39m) \u001b[38;5;28;01melse\u001b[39;00m _path\n\u001b[0;32m   1012\u001b[0m \u001b[38;5;28;01mif\u001b[39;00m plugin:\n\u001b[0;32m   1013\u001b[0m     added\u001b[38;5;241m.\u001b[39mextend(\n\u001b[1;32m-> 1014\u001b[0m         \u001b[38;5;28;43mself\u001b[39;49m\u001b[38;5;241;43m.\u001b[39;49m\u001b[43m_add_layers_with_plugins\u001b[49m\u001b[43m(\u001b[49m\n\u001b[0;32m   1015\u001b[0m \u001b[43m            \u001b[49m\u001b[43m_path\u001b[49m\u001b[43m,\u001b[49m\n\u001b[0;32m   1016\u001b[0m \u001b[43m            \u001b[49m\u001b[43mkwargs\u001b[49m\u001b[38;5;241;43m=\u001b[39;49m\u001b[43mkwargs\u001b[49m\u001b[43m,\u001b[49m\n\u001b[0;32m   1017\u001b[0m \u001b[43m            \u001b[49m\u001b[43mplugin\u001b[49m\u001b[38;5;241;43m=\u001b[39;49m\u001b[43mplugin\u001b[49m\u001b[43m,\u001b[49m\n\u001b[0;32m   1018\u001b[0m \u001b[43m            \u001b[49m\u001b[43mlayer_type\u001b[49m\u001b[38;5;241;43m=\u001b[39;49m\u001b[43mlayer_type\u001b[49m\u001b[43m,\u001b[49m\n\u001b[0;32m   1019\u001b[0m \u001b[43m            \u001b[49m\u001b[43mstack\u001b[49m\u001b[38;5;241;43m=\u001b[39;49m\u001b[43m_stack\u001b[49m\u001b[43m,\u001b[49m\n\u001b[0;32m   1020\u001b[0m \u001b[43m        \u001b[49m\u001b[43m)\u001b[49m\n\u001b[0;32m   1021\u001b[0m     )\n\u001b[0;32m   1022\u001b[0m \u001b[38;5;66;03m# no plugin choice was made\u001b[39;00m\n\u001b[0;32m   1023\u001b[0m \u001b[38;5;28;01melse\u001b[39;00m:\n\u001b[0;32m   1024\u001b[0m     layers \u001b[38;5;241m=\u001b[39m \u001b[38;5;28mself\u001b[39m\u001b[38;5;241m.\u001b[39m_open_or_raise_error(\n\u001b[0;32m   1025\u001b[0m         _path, kwargs, layer_type, _stack\n\u001b[0;32m   1026\u001b[0m     )\n",
      "File \u001b[1;32m~\\mambaforge\\envs\\cellCounting\\lib\\site-packages\\napari\\components\\viewer_model.py:1216\u001b[0m, in \u001b[0;36mViewerModel._add_layers_with_plugins\u001b[1;34m(self, paths, stack, kwargs, plugin, layer_type)\u001b[0m\n\u001b[0;32m   1214\u001b[0m \u001b[38;5;28;01melse\u001b[39;00m:\n\u001b[0;32m   1215\u001b[0m     \u001b[38;5;28;01massert\u001b[39;00m \u001b[38;5;28mlen\u001b[39m(paths) \u001b[38;5;241m==\u001b[39m \u001b[38;5;241m1\u001b[39m\n\u001b[1;32m-> 1216\u001b[0m     layer_data, hookimpl \u001b[38;5;241m=\u001b[39m \u001b[43mread_data_with_plugins\u001b[49m\u001b[43m(\u001b[49m\n\u001b[0;32m   1217\u001b[0m \u001b[43m        \u001b[49m\u001b[43mpaths\u001b[49m\u001b[43m,\u001b[49m\u001b[43m \u001b[49m\u001b[43mplugin\u001b[49m\u001b[38;5;241;43m=\u001b[39;49m\u001b[43mplugin\u001b[49m\u001b[43m,\u001b[49m\u001b[43m \u001b[49m\u001b[43mstack\u001b[49m\u001b[38;5;241;43m=\u001b[39;49m\u001b[43mstack\u001b[49m\n\u001b[0;32m   1218\u001b[0m \u001b[43m    \u001b[49m\u001b[43m)\u001b[49m\n\u001b[0;32m   1220\u001b[0m \u001b[38;5;66;03m# glean layer names from filename. These will be used as *fallback*\u001b[39;00m\n\u001b[0;32m   1221\u001b[0m \u001b[38;5;66;03m# names, if the plugin does not return a name kwarg in their meta dict.\u001b[39;00m\n\u001b[0;32m   1222\u001b[0m filenames \u001b[38;5;241m=\u001b[39m []\n",
      "File \u001b[1;32m~\\mambaforge\\envs\\cellCounting\\lib\\site-packages\\napari\\plugins\\io.py:124\u001b[0m, in \u001b[0;36mread_data_with_plugins\u001b[1;34m(paths, plugin, stack)\u001b[0m\n\u001b[0;32m    114\u001b[0m     \u001b[38;5;28;01mraise\u001b[39;00m \u001b[38;5;167;01mValueError\u001b[39;00m(\n\u001b[0;32m    115\u001b[0m         trans\u001b[38;5;241m.\u001b[39m_(\n\u001b[0;32m    116\u001b[0m             \u001b[38;5;124m'\u001b[39m\u001b[38;5;124mPlugin \u001b[39m\u001b[38;5;132;01m{plugin!r}\u001b[39;00m\u001b[38;5;124m does not support file(s) \u001b[39m\u001b[38;5;132;01m{paths}\u001b[39;00m\u001b[38;5;124m'\u001b[39m,\n\u001b[1;32m   (...)\u001b[0m\n\u001b[0;32m    120\u001b[0m         )\n\u001b[0;32m    121\u001b[0m     )\n\u001b[0;32m    123\u001b[0m hookimpl \u001b[38;5;241m=\u001b[39m hook_caller\u001b[38;5;241m.\u001b[39mget_plugin_implementation(plugin)\n\u001b[1;32m--> 124\u001b[0m layer_data \u001b[38;5;241m=\u001b[39m \u001b[43mreader\u001b[49m\u001b[43m(\u001b[49m\u001b[43mnpe1_path\u001b[49m\u001b[43m)\u001b[49m\n\u001b[0;32m    125\u001b[0m \u001b[38;5;66;03m# if the reader returns a \"null layer\" sentinel indicating an empty\u001b[39;00m\n\u001b[0;32m    126\u001b[0m \u001b[38;5;66;03m# file, return an empty list, otherwise return the result or None\u001b[39;00m\n\u001b[0;32m    127\u001b[0m \u001b[38;5;28;01mif\u001b[39;00m _is_null_layer_sentinel(layer_data):\n",
      "File \u001b[1;32m~\\mambaforge\\envs\\cellCounting\\lib\\site-packages\\napari_nikon_nd2\\_reader.py:82\u001b[0m, in \u001b[0;36mreader_function\u001b[1;34m(path)\u001b[0m\n\u001b[0;32m     79\u001b[0m image  \u001b[38;5;241m=\u001b[39m np\u001b[38;5;241m.\u001b[39mzeros(shape, dtype\u001b[38;5;241m=\u001b[39mnp\u001b[38;5;241m.\u001b[39mfloat32)\n\u001b[0;32m     81\u001b[0m \u001b[38;5;28;01mfor\u001b[39;00m i \u001b[38;5;129;01min\u001b[39;00m \u001b[38;5;28mrange\u001b[39m(n):\n\u001b[1;32m---> 82\u001b[0m     \u001b[43mimage\u001b[49m\u001b[43m[\u001b[49m\u001b[43mi\u001b[49m\u001b[43m]\u001b[49m \u001b[38;5;241m=\u001b[39m ndx\u001b[38;5;241m.\u001b[39mget_frame(i)\n\u001b[0;32m     84\u001b[0m image \u001b[38;5;241m=\u001b[39m np\u001b[38;5;241m.\u001b[39msqueeze(image)\n\u001b[0;32m     86\u001b[0m \u001b[38;5;28;01mif\u001b[39;00m sizes[\u001b[38;5;124m'\u001b[39m\u001b[38;5;124mc\u001b[39m\u001b[38;5;124m'\u001b[39m] \u001b[38;5;241m>\u001b[39m \u001b[38;5;241m1\u001b[39m:\n",
      "\u001b[1;31mKeyboardInterrupt\u001b[0m: "
     ]
    }
   ],
   "source": [
    "# if needed, run this cell to reload whole z-stack\n",
    "print('Loading data...')\n",
    "nMIP = len(viewer.layers)\n",
    "viewer.open((dirData+filePath + '.nd2'), plugin='napari-nikon-nd2')\n",
    "viewer.layers.remove(viewer.layers[len(viewer.layers)-1]) # remove transmitted detector image\n",
    "viewer.layers.select_next();\n",
    "if len(viewer.layers)==2+nMIP: #no DAPI\n",
    "   viewer.layers[nMIP+0].colormap = 'green'\n",
    "   viewer.layers[nMIP+0].name = layerNames[0]\n",
    "   viewer.layers[nMIP+1].colormap = 'magenta'\n",
    "   viewer.layers[nMIP+1].name = layerNames[1]\n",
    "elif len(viewer.layers)==3+nMIP: #DAPI\n",
    "   viewer.layers[nMIP+0].colormap = 'gray'\n",
    "   viewer.layers[nMIP+0].name = 'N'\n",
    "   viewer.layers[nMIP+0].opacity = 0.99\n",
    "   viewer.layers[nMIP+1].colormap = 'green'\n",
    "   viewer.layers[nMIP+1].name = layerNames[0]\n",
    "   viewer.layers[nMIP+2].colormap = 'magenta'\n",
    "   viewer.layers[nMIP+2].name = layerNames[1]\n",
    "elif len(viewer.layers)==4+nMIP: #DAPI\n",
    "   viewer.layers[nMIP+0].colormap = 'gray'\n",
    "   viewer.layers[nMIP+0].name = 'N'\n",
    "   viewer.layers[nMIP+0].opacity = 0.99\n",
    "   viewer.layers[nMIP+1].colormap = 'green'\n",
    "   viewer.layers[nMIP+1].name = layerNames[0]\n",
    "   viewer.layers[nMIP+2].colormap = 'magenta'\n",
    "   viewer.layers[nMIP+2].name = layerNames[1]\n",
    "   viewer.layers[nMIP+3].colormap = 'bop orange'\n",
    "   viewer.layers[nMIP+3].name = layerNames[2]\n",
    "\n",
    "print('Images loaded!')"
   ]
  },
  {
   "cell_type": "markdown",
   "metadata": {},
   "source": [
    "#### resave first curated segmentation after napari-ing around"
   ]
  },
  {
   "cell_type": "code",
   "execution_count": 25,
   "metadata": {
    "tags": []
   },
   "outputs": [
    {
     "name": "stdout",
     "output_type": "stream",
     "text": [
      "Done with U_seg for 20241024_tbx2ahetmutinx_5dpf_s1c_xOG_NALOU_SWAP_L05_002\n",
      "removeLabel on R_seg (\"Shift-X\")\n",
      "toggle U_mip visibility (\"B\")\n",
      "toggle R_mip visibility (\"N\")\n",
      "toggle R_seg preserve_labels (\"k\")\n",
      "Add new label in R_seg visibility (\"+\"|\"M\")\n"
     ]
    }
   ],
   "source": [
    "lname = layerNames[1] + '_seg'\n",
    "l = viewer.layers[lname]; l.save(dirOut + l.name + '_curated.tiff')\n",
    "print('Done with ' + lname + ' for ' + filePath)\n",
    "\n",
    "viewer.layers[layerNames[0] + '_mip'].visible = True\n",
    "viewer.layers[layerNames[0] + '_seg'].visible = True\n",
    "# viewer.layers[layerNames[0] + '_seg'].contour = 0\n",
    "viewer.layers[layerNames[1] + '_mip'].visible = False\n",
    "viewer.layers[layerNames[1] + '_seg'].visible = False\n",
    "\n",
    "@viewer.bind_key('Shift-x', overwrite=True)\n",
    "def removeLabel(viewer):\n",
    "   lname = layerNames[0] + '_seg'\n",
    "   tempd = viewer.layers[lname].data\n",
    "   tempd[tempd == viewer.layers[lname].selected_label]=0\n",
    "   viewer.layers[lname].data = tempd\n",
    "   print('Cut!')\n",
    "print('removeLabel on {0}_seg (\"Shift-X\")'.format(layerNames[0]))\n",
    "\n",
    "@viewer.bind_key('b', overwrite=True)\n",
    "def toggle_sel(viewer):\n",
    "   lname = layerNames[1] + '_mip'\n",
    "   if (viewer.layers[lname].visible == True):\n",
    "      viewer.layers[lname].visible = False\n",
    "   elif (viewer.layers[lname].visible == False):\n",
    "      viewer.layers[lname].visible = True\n",
    "print('toggle {0}_mip visibility (\"B\")'.format(layerNames[1]))\n",
    "\n",
    "@viewer.bind_key('n', overwrite=True)\n",
    "def toggle_sel(viewer):\n",
    "   lname = layerNames[0] + '_mip'\n",
    "   if (viewer.layers[lname].visible == True):\n",
    "      viewer.layers[lname].visible = False\n",
    "   elif (viewer.layers[lname].visible == False):\n",
    "      viewer.layers[lname].visible = True\n",
    "print('toggle {0}_mip visibility (\"N\")'.format(layerNames[0]))\n",
    "\n",
    "\n",
    "@viewer.bind_key('k', overwrite=True)\n",
    "def toggle_sel(viewer):\n",
    "   lname = layerNames[0] + '_seg'\n",
    "   if (viewer.layers[lname].preserve_labels == True):\n",
    "      viewer.layers[lname].preserve_labels = False\n",
    "   elif (viewer.layers[lname].preserve_labels == False):\n",
    "      viewer.layers[lname].preserve_labels = True\n",
    "print('toggle {0}_seg preserve_labels (\"k\")'.format(layerNames[0]))\n",
    "\n",
    "@viewer.bind_key('+', overwrite=True)\n",
    "def new_label(viewer):\n",
    "   \"\"\"Set the currently selected label to the largest used label plus one.\"\"\"\n",
    "   lname = layerNames[0] + '_seg'\n",
    "   viewer.layers[lname].selected_label = viewer.layers[lname].data.max() + 1\n",
    "print('Add new label in {0}_seg visibility (\"+\"|\"M\")'.format(layerNames[0]))"
   ]
  },
  {
   "cell_type": "markdown",
   "metadata": {},
   "source": [
    "#### resave second curated segmentation after napari-ing around"
   ]
  },
  {
   "cell_type": "code",
   "execution_count": 26,
   "metadata": {
    "tags": []
   },
   "outputs": [
    {
     "name": "stdout",
     "output_type": "stream",
     "text": [
      "Done with R_seg for 20241024_tbx2ahetmutinx_5dpf_s1c_xOG_NALOU_SWAP_L05_002\n"
     ]
    }
   ],
   "source": [
    "lname = layerNames[0] + '_seg'\n",
    "l = viewer.layers[lname]; l.save(dirOut + l.name + '_curated.tiff')\n",
    "print('Done with ' + lname + ' for ' + filePath)"
   ]
  },
  {
   "cell_type": "markdown",
   "metadata": {},
   "source": [
    "### Reload curated segmentations after saving for final review"
   ]
  },
  {
   "cell_type": "code",
   "execution_count": 27,
   "metadata": {
    "tags": []
   },
   "outputs": [
    {
     "name": "stdout",
     "output_type": "stream",
     "text": [
      "20241024_tbx2ahetmutinx_5dpf_s1c_xOG_NALOU_SWAP_L05_002\n",
      "Image has 114 U\n",
      "Image has 59 R\n"
     ]
    }
   ],
   "source": [
    "# remove all except mips\n",
    "viewer.layers.remove(viewer.layers[layerNames[1] + '_seg'])\n",
    "viewer.layers.remove(viewer.layers[layerNames[0] + '_seg'])\n",
    "\n",
    "viewer.open(dirOut + layerNames[1] + \"_seg_curated.tiff\", name=layerNames[1] + '_seg', plugin='napari',blending='additive');\n",
    "# viewer.layers['U_seg'].contour = 5\n",
    "viewer.layers[layerNames[1] + '_mip'].visible = True\n",
    "viewer.open(dirOut + layerNames[0] + '_seg_curated.tiff', name=layerNames[0] + '_seg', plugin='napari',blending='additive');\n",
    "\n",
    "print(filePath)\n",
    "n0 = len(np.unique(viewer.layers[layerNames[1] + '_seg'].data))-1\n",
    "print(\"Image has {0} {1}\".format(n0, layerNames[1]))\n",
    "n1 = len(np.unique(viewer.layers[layerNames[0] + '_seg'].data))-1\n",
    "print(\"Image has {0} {1}\".format(n1,layerNames[0]))"
   ]
  },
  {
   "cell_type": "markdown",
   "metadata": {},
   "source": [
    "### [Go back and run next one &uarr;](#manualCuration)\n"
   ]
  },
  {
   "cell_type": "code",
   "execution_count": 55,
   "metadata": {
    "tags": []
   },
   "outputs": [
    {
     "data": {
      "text/plain": [
       "'U'"
      ]
     },
     "execution_count": 55,
     "metadata": {},
     "output_type": "execute_result"
    }
   ],
   "source": [
    "layerNames[1]"
   ]
  },
  {
   "cell_type": "code",
   "execution_count": 55,
   "metadata": {
    "tags": []
   },
   "outputs": [
    {
     "data": {
      "text/plain": [
       "'U'"
      ]
     },
     "execution_count": 55,
     "metadata": {},
     "output_type": "execute_result"
    }
   ],
   "source": [
    "layerNames[1]"
   ]
  }
 ],
 "metadata": {
  "kernelspec": {
   "display_name": "Python 3 (ipykernel)",
   "language": "python",
   "name": "python3"
  },
  "language_info": {
   "codemirror_mode": {
    "name": "ipython",
    "version": 3
   },
   "file_extension": ".py",
   "mimetype": "text/x-python",
   "name": "python",
   "nbconvert_exporter": "python",
   "pygments_lexer": "ipython3",
   "version": "3.9.16"
  },
  "toc-autonumbering": false,
  "toc-showcode": false,
  "toc-showmarkdowntxt": false
 },
 "nbformat": 4,
 "nbformat_minor": 4
}
